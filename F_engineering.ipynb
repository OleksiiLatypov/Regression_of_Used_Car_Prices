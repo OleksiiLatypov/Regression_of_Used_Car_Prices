{
  "metadata": {
    "kernelspec": {
      "language": "python",
      "display_name": "Python 3",
      "name": "python3"
    },
    "language_info": {
      "name": "python",
      "version": "3.10.14",
      "mimetype": "text/x-python",
      "codemirror_mode": {
        "name": "ipython",
        "version": 3
      },
      "pygments_lexer": "ipython3",
      "nbconvert_exporter": "python",
      "file_extension": ".py"
    },
    "kaggle": {
      "accelerator": "none",
      "dataSources": [
        {
          "sourceId": 76728,
          "databundleVersionId": 9057646,
          "sourceType": "competition"
        },
        {
          "sourceId": 9434069,
          "sourceType": "datasetVersion",
          "datasetId": 5731961
        }
      ],
      "dockerImageVersionId": 30761,
      "isInternetEnabled": true,
      "language": "python",
      "sourceType": "notebook",
      "isGpuEnabled": false
    },
    "colab": {
      "name": "F_engineering",
      "provenance": [],
      "include_colab_link": true
    }
  },
  "nbformat_minor": 0,
  "nbformat": 4,
  "cells": [
    {
      "cell_type": "markdown",
      "metadata": {
        "id": "view-in-github",
        "colab_type": "text"
      },
      "source": [
        "<a href=\"https://colab.research.google.com/github/OleksiiLatypov/Regression_of_Used_Car_Prices/blob/main/F_engineering.ipynb\" target=\"_parent\"><img src=\"https://colab.research.google.com/assets/colab-badge.svg\" alt=\"Open In Colab\"/></a>"
      ]
    },
    {
      "source": [
        "\n",
        "# IMPORTANT: RUN THIS CELL IN ORDER TO IMPORT YOUR KAGGLE DATA SOURCES\n",
        "# TO THE CORRECT LOCATION (/kaggle/input) IN YOUR NOTEBOOK,\n",
        "# THEN FEEL FREE TO DELETE THIS CELL.\n",
        "# NOTE: THIS NOTEBOOK ENVIRONMENT DIFFERS FROM KAGGLE'S PYTHON\n",
        "# ENVIRONMENT SO THERE MAY BE MISSING LIBRARIES USED BY YOUR\n",
        "# NOTEBOOK.\n",
        "\n",
        "import os\n",
        "import sys\n",
        "from tempfile import NamedTemporaryFile\n",
        "from urllib.request import urlopen\n",
        "from urllib.parse import unquote, urlparse\n",
        "from urllib.error import HTTPError\n",
        "from zipfile import ZipFile\n",
        "import tarfile\n",
        "import shutil\n",
        "\n",
        "CHUNK_SIZE = 40960\n",
        "DATA_SOURCE_MAPPING = 'playground-series-s4e9:https%3A%2F%2Fstorage.googleapis.com%2Fkaggle-competitions-data%2Fkaggle-v2%2F76728%2F9057646%2Fbundle%2Farchive.zip%3FX-Goog-Algorithm%3DGOOG4-RSA-SHA256%26X-Goog-Credential%3Dgcp-kaggle-com%2540kaggle-161607.iam.gserviceaccount.com%252F20240919%252Fauto%252Fstorage%252Fgoog4_request%26X-Goog-Date%3D20240919T183846Z%26X-Goog-Expires%3D259200%26X-Goog-SignedHeaders%3Dhost%26X-Goog-Signature%3D36363a35badce25abf565b37d9367e4ffbb15b5c1ef6dfff9b52891eaafb0eb86897f7b0afa4b3f06c849c54579d3d5475134721083418bdaaf2593caf83a63bb6feb55ffaf5303feeef979833f6470fb07d5471eed4a3d1d2e88b2a62263c7d1eeb1edd81f35bbfb4bc5abe9fdf2bb2c3889749a39b6e4af09bfdf2bd1b97a315acfabd0ecce5a5c2cf22ee6ea4358051edfd8d1049f295259441003b037db9e7d8fb4d6594bf9ecda0b7d63fa4eae9505f83e743c2d7ae1037318e5eefd72012fe2bf43fd3738a9da3be38ddd9416270aabe8093c67fc4387c4b0ac9dff66e097156b3bf1200be08ab8ab63dfb16d1326631c4c6929a808f26efe828661efb,used-cars-dataset:https%3A%2F%2Fstorage.googleapis.com%2Fkaggle-data-sets%2F5731961%2F9434069%2Fbundle%2Farchive.zip%3FX-Goog-Algorithm%3DGOOG4-RSA-SHA256%26X-Goog-Credential%3Dgcp-kaggle-com%2540kaggle-161607.iam.gserviceaccount.com%252F20240919%252Fauto%252Fstorage%252Fgoog4_request%26X-Goog-Date%3D20240919T183846Z%26X-Goog-Expires%3D259200%26X-Goog-SignedHeaders%3Dhost%26X-Goog-Signature%3Da71cf93ed33d372d4689be6e178dab15499d72cd343d09294c92b368899a45d63014b899b4ac060eff7e73b3064e0d52a2df51b7ae500fc166bc0c607ce06cde51e2dbcb3a2c2b817473948fd346175c64c0caecf4f91ae3d28014cd8f3db89b13e0d78eefdebe01211334d721846288a526fc8def71f12f648f007193132d4729fd17e9ee5c0c3350f024bf6dca7d026fe314511ae829fe73eaed8d75125165a4e04c7528ea2c61a953e02ae645a02ed71b5a319842e5cfb1f9c4238a922dafa580a2727a06e90e137a81c39b39d01324eed256570d11fc289d05d7ea558daca03911c1d9a82a22a06d39bea229e312fb9ad236d772d9377b491868f5d61f9d'\n",
        "\n",
        "KAGGLE_INPUT_PATH='/kaggle/input'\n",
        "KAGGLE_WORKING_PATH='/kaggle/working'\n",
        "KAGGLE_SYMLINK='kaggle'\n",
        "\n",
        "!umount /kaggle/input/ 2> /dev/null\n",
        "shutil.rmtree('/kaggle/input', ignore_errors=True)\n",
        "os.makedirs(KAGGLE_INPUT_PATH, 0o777, exist_ok=True)\n",
        "os.makedirs(KAGGLE_WORKING_PATH, 0o777, exist_ok=True)\n",
        "\n",
        "try:\n",
        "  os.symlink(KAGGLE_INPUT_PATH, os.path.join(\"..\", 'input'), target_is_directory=True)\n",
        "except FileExistsError:\n",
        "  pass\n",
        "try:\n",
        "  os.symlink(KAGGLE_WORKING_PATH, os.path.join(\"..\", 'working'), target_is_directory=True)\n",
        "except FileExistsError:\n",
        "  pass\n",
        "\n",
        "for data_source_mapping in DATA_SOURCE_MAPPING.split(','):\n",
        "    directory, download_url_encoded = data_source_mapping.split(':')\n",
        "    download_url = unquote(download_url_encoded)\n",
        "    filename = urlparse(download_url).path\n",
        "    destination_path = os.path.join(KAGGLE_INPUT_PATH, directory)\n",
        "    try:\n",
        "        with urlopen(download_url) as fileres, NamedTemporaryFile() as tfile:\n",
        "            total_length = fileres.headers['content-length']\n",
        "            print(f'Downloading {directory}, {total_length} bytes compressed')\n",
        "            dl = 0\n",
        "            data = fileres.read(CHUNK_SIZE)\n",
        "            while len(data) > 0:\n",
        "                dl += len(data)\n",
        "                tfile.write(data)\n",
        "                done = int(50 * dl / int(total_length))\n",
        "                sys.stdout.write(f\"\\r[{'=' * done}{' ' * (50-done)}] {dl} bytes downloaded\")\n",
        "                sys.stdout.flush()\n",
        "                data = fileres.read(CHUNK_SIZE)\n",
        "            if filename.endswith('.zip'):\n",
        "              with ZipFile(tfile) as zfile:\n",
        "                zfile.extractall(destination_path)\n",
        "            else:\n",
        "              with tarfile.open(tfile.name) as tarfile:\n",
        "                tarfile.extractall(destination_path)\n",
        "            print(f'\\nDownloaded and uncompressed: {directory}')\n",
        "    except HTTPError as e:\n",
        "        print(f'Failed to load (likely expired) {download_url} to path {destination_path}')\n",
        "        continue\n",
        "    except OSError as e:\n",
        "        print(f'Failed to load {download_url} to path {destination_path}')\n",
        "        continue\n",
        "\n",
        "print('Data source import complete.')\n"
      ],
      "metadata": {
        "id": "BKmIdqMhlGiq"
      },
      "cell_type": "code",
      "outputs": [],
      "execution_count": null
    },
    {
      "cell_type": "code",
      "source": [
        "# This Python 3 environment comes with many helpful analytics libraries installed\n",
        "# It is defined by the kaggle/python Docker image: https://github.com/kaggle/docker-python\n",
        "# For example, here's several helpful packages to load\n",
        "\n",
        "import numpy as np # linear algebra\n",
        "import pandas as pd # data processing, CSV file I/O (e.g. pd.read_csv)\n",
        "import re\n",
        "# Input data files are available in the read-only \"../input/\" directory\n",
        "# For example, running this (by clicking run or pressing Shift+Enter) will list all files under the input directory\n",
        "\n",
        "import os\n",
        "for dirname, _, filenames in os.walk('/kaggle/input'):\n",
        "    for filename in filenames:\n",
        "        print(os.path.join(dirname, filename))\n",
        "\n",
        "# You can write up to 20GB to the current directory (/kaggle/working/) that gets preserved as output when you create a version using \"Save & Run All\"\n",
        "# You can also write temporary files to /kaggle/temp/, but they won't be saved outside of the current session"
      ],
      "metadata": {
        "_uuid": "8f2839f25d086af736a60e9eeb907d3b93b6e0e5",
        "_cell_guid": "b1076dfc-b9ad-4769-8c92-a6c4dae69d19",
        "trusted": true,
        "id": "Bmi2lQ-NlGis"
      },
      "execution_count": null,
      "outputs": []
    },
    {
      "cell_type": "code",
      "source": [
        "train = pd.read_csv('/kaggle/input/playground-series-s4e9/train.csv')\n",
        "test = pd.read_csv('/kaggle/input/playground-series-s4e9/test.csv')\n",
        "submission = pd.read_csv('/kaggle/input/playground-series-s4e9/sample_submission.csv')\n",
        "original = pd.read_csv('/kaggle/input/used-cars-dataset/used_cars.csv')"
      ],
      "metadata": {
        "execution": {
          "iopub.status.busy": "2024-09-19T11:39:25.640137Z",
          "iopub.execute_input": "2024-09-19T11:39:25.641353Z",
          "iopub.status.idle": "2024-09-19T11:39:26.957426Z",
          "shell.execute_reply.started": "2024-09-19T11:39:25.641272Z",
          "shell.execute_reply": "2024-09-19T11:39:26.956009Z"
        },
        "trusted": true,
        "id": "E-oVb0r6lGis"
      },
      "execution_count": null,
      "outputs": []
    },
    {
      "cell_type": "code",
      "source": [
        "limit = train.shape[0] + original.shape[0]\n",
        "limit"
      ],
      "metadata": {
        "execution": {
          "iopub.status.busy": "2024-09-19T11:39:28.366788Z",
          "iopub.execute_input": "2024-09-19T11:39:28.367244Z",
          "iopub.status.idle": "2024-09-19T11:39:28.375254Z",
          "shell.execute_reply.started": "2024-09-19T11:39:28.367201Z",
          "shell.execute_reply": "2024-09-19T11:39:28.374174Z"
        },
        "trusted": true,
        "id": "kB4ixMLflGis"
      },
      "execution_count": null,
      "outputs": []
    },
    {
      "cell_type": "code",
      "source": [
        "train = train.drop('id', axis=1)\n",
        "test = test.drop('id', axis=1)"
      ],
      "metadata": {
        "execution": {
          "iopub.status.busy": "2024-09-19T11:39:30.167085Z",
          "iopub.execute_input": "2024-09-19T11:39:30.167557Z",
          "iopub.status.idle": "2024-09-19T11:39:30.21921Z",
          "shell.execute_reply.started": "2024-09-19T11:39:30.167513Z",
          "shell.execute_reply": "2024-09-19T11:39:30.217722Z"
        },
        "trusted": true,
        "id": "CLamOMzIlGit"
      },
      "execution_count": null,
      "outputs": []
    },
    {
      "cell_type": "code",
      "source": [
        "original[['milage', 'price']] = original[['milage', 'price']].map(\n",
        "    lambda x: int(''.join(re.findall(r'\\d+', x))))"
      ],
      "metadata": {
        "execution": {
          "iopub.status.busy": "2024-09-19T11:39:31.503931Z",
          "iopub.execute_input": "2024-09-19T11:39:31.504405Z",
          "iopub.status.idle": "2024-09-19T11:39:31.541516Z",
          "shell.execute_reply.started": "2024-09-19T11:39:31.504352Z",
          "shell.execute_reply": "2024-09-19T11:39:31.540156Z"
        },
        "trusted": true,
        "id": "Dg35zDpFlGit"
      },
      "execution_count": null,
      "outputs": []
    },
    {
      "cell_type": "code",
      "source": [
        "original.head()"
      ],
      "metadata": {
        "execution": {
          "iopub.status.busy": "2024-09-19T11:39:33.189818Z",
          "iopub.execute_input": "2024-09-19T11:39:33.190269Z",
          "iopub.status.idle": "2024-09-19T11:39:33.20966Z",
          "shell.execute_reply.started": "2024-09-19T11:39:33.190219Z",
          "shell.execute_reply": "2024-09-19T11:39:33.208364Z"
        },
        "trusted": true,
        "id": "lbV-igzylGit"
      },
      "execution_count": null,
      "outputs": []
    },
    {
      "cell_type": "code",
      "source": [
        "set_3 = set_2-set_1\n",
        "set_3"
      ],
      "metadata": {
        "execution": {
          "iopub.status.busy": "2024-09-19T10:52:40.004931Z",
          "iopub.execute_input": "2024-09-19T10:52:40.005407Z",
          "iopub.status.idle": "2024-09-19T10:52:40.012856Z",
          "shell.execute_reply.started": "2024-09-19T10:52:40.005355Z",
          "shell.execute_reply": "2024-09-19T10:52:40.011726Z"
        },
        "trusted": true,
        "id": "jqCaJDfklGit"
      },
      "execution_count": null,
      "outputs": []
    },
    {
      "cell_type": "code",
      "source": [
        "train_original = pd.concat([train, original], axis=0, ignore_index=True)\n",
        "avarage_price_by_brand = train_original.groupby('brand')['price'].agg(['mean', 'median'])\n",
        "avarage_price_by_brand.sort_values(by='median', ascending=False).astype('int')"
      ],
      "metadata": {
        "execution": {
          "iopub.status.busy": "2024-09-19T11:39:35.590071Z",
          "iopub.execute_input": "2024-09-19T11:39:35.591047Z",
          "iopub.status.idle": "2024-09-19T11:39:35.661118Z",
          "shell.execute_reply.started": "2024-09-19T11:39:35.590982Z",
          "shell.execute_reply": "2024-09-19T11:39:35.659604Z"
        },
        "trusted": true,
        "id": "vnEgyp3ulGit"
      },
      "execution_count": null,
      "outputs": []
    },
    {
      "cell_type": "code",
      "source": [
        "lux_brands = [\n",
        "    \"Aston\",\n",
        "    \"BMW\",\n",
        "    \"McLaren\",\n",
        "    \"Bugatti\",\n",
        "    \"Bentley\",\n",
        "    \"Rolls-Royce\",\n",
        "    \"Mercedes-Benz\",\n",
        "    \"Jaguar\",\n",
        "    \"Land Rover\",\n",
        "    \"Lucid\",\n",
        "    \"Ferrari\",\n",
        "    \"Cadillac\",\n",
        "    \"Volvo\",\n",
        "    \"Genesis\",\n",
        "    \"INFINITI\",\n",
        "    \"Maserati\",\n",
        "    \"Lexus\",\n",
        "    \"Acura\",\n",
        "    \"Audi\",\n",
        "    \"Porsche\",\n",
        "    \"Lamborghini\"\n",
        "]\n"
      ],
      "metadata": {
        "execution": {
          "iopub.status.busy": "2024-09-19T11:39:38.912968Z",
          "iopub.execute_input": "2024-09-19T11:39:38.913437Z",
          "iopub.status.idle": "2024-09-19T11:39:38.919786Z",
          "shell.execute_reply.started": "2024-09-19T11:39:38.913392Z",
          "shell.execute_reply": "2024-09-19T11:39:38.918659Z"
        },
        "trusted": true,
        "id": "veeM2TFTlGiu"
      },
      "execution_count": null,
      "outputs": []
    },
    {
      "cell_type": "code",
      "source": [
        "df = pd.concat([train_original, test], axis=0, ignore_index=True)"
      ],
      "metadata": {
        "execution": {
          "iopub.status.busy": "2024-09-19T11:39:41.088309Z",
          "iopub.execute_input": "2024-09-19T11:39:41.088778Z",
          "iopub.status.idle": "2024-09-19T11:39:41.139267Z",
          "shell.execute_reply.started": "2024-09-19T11:39:41.088735Z",
          "shell.execute_reply": "2024-09-19T11:39:41.13815Z"
        },
        "trusted": true,
        "id": "ThIqoVWOlGiu"
      },
      "execution_count": null,
      "outputs": []
    },
    {
      "cell_type": "code",
      "source": [
        "df['premium_auto'] = df['brand'].apply(lambda x: 1 if x in lux_brands else 0)\n",
        "df.head()"
      ],
      "metadata": {
        "execution": {
          "iopub.status.busy": "2024-09-19T11:39:43.277884Z",
          "iopub.execute_input": "2024-09-19T11:39:43.278355Z",
          "iopub.status.idle": "2024-09-19T11:39:43.631177Z",
          "shell.execute_reply.started": "2024-09-19T11:39:43.278288Z",
          "shell.execute_reply": "2024-09-19T11:39:43.62994Z"
        },
        "trusted": true,
        "id": "WH86F6lWlGiu"
      },
      "execution_count": null,
      "outputs": []
    },
    {
      "cell_type": "code",
      "source": [
        "horsepower = []\n",
        "engine_volume = []\n",
        "num_of_cylinders = []\n",
        "for col in df['engine']:\n",
        "    hp = re.search(r'(\\d+\\.?\\d*)HP', col, re.IGNORECASE)\n",
        "    #print(hp)\n",
        "    if hp:\n",
        "        horsepower.append(float(hp.group(1)))\n",
        "    else:\n",
        "        horsepower.append(0)\n",
        "\n",
        "    volume = re.search(r'(\\d+\\.?\\d*)L|(\\d+\\.?\\d*\\s*)Liter', col, re.IGNORECASE)\n",
        "    if volume:\n",
        "        if volume.group(1):\n",
        "            engine_volume.append(float(volume.group(1)))\n",
        "        elif volume.group(2):\n",
        "            engine_volume.append(float(volume.group(2)))\n",
        "    else:\n",
        "        engine_volume.append(0)\n",
        "\n",
        "    cylinder = re.search(r'(\\d+)\\s*Cylinder|V(\\d+)|I(\\d+)', col, re.IGNORECASE)\n",
        "\n",
        "    if cylinder:\n",
        "        # If we find a numeric cylinder, use that\n",
        "        if cylinder.group(1):\n",
        "            num_of_cylinders.append(float(cylinder.group(1)))\n",
        "        # If we find a V-style code, use the number after 'V'\n",
        "        elif cylinder.group(2):\n",
        "            num_of_cylinders.append(float(cylinder.group(2)))\n",
        "        elif cylinder.group(3):\n",
        "            num_of_cylinders.append(float(cylinder.group(3)))\n",
        "    else:\n",
        "        # If no match is found, default to 0\n",
        "        num_of_cylinders.append(0)\n",
        "\n",
        "print(len(horsepower))\n",
        "print(len(engine_volume))\n",
        "print(len(num_of_cylinders))\n",
        "df['horsepower'] = horsepower\n",
        "df['engine_volume'] = engine_volume\n",
        "df['num_of_cylinders'] = num_of_cylinders"
      ],
      "metadata": {
        "execution": {
          "iopub.status.busy": "2024-09-19T11:39:47.217439Z",
          "iopub.execute_input": "2024-09-19T11:39:47.217877Z",
          "iopub.status.idle": "2024-09-19T11:39:53.628302Z",
          "shell.execute_reply.started": "2024-09-19T11:39:47.217834Z",
          "shell.execute_reply": "2024-09-19T11:39:53.626826Z"
        },
        "trusted": true,
        "id": "RZgLrs3KlGiu"
      },
      "execution_count": null,
      "outputs": []
    },
    {
      "cell_type": "code",
      "source": [
        "df[df['fuel_type'] == 'not supported']"
      ],
      "metadata": {
        "execution": {
          "iopub.status.busy": "2024-09-19T11:39:58.318282Z",
          "iopub.execute_input": "2024-09-19T11:39:58.318825Z",
          "iopub.status.idle": "2024-09-19T11:39:58.461153Z",
          "shell.execute_reply.started": "2024-09-19T11:39:58.31877Z",
          "shell.execute_reply": "2024-09-19T11:39:58.460103Z"
        },
        "trusted": true,
        "id": "wSuh7V1WlGiu"
      },
      "execution_count": null,
      "outputs": []
    },
    {
      "cell_type": "code",
      "source": [
        "to_replace = []\n",
        "for row in df.loc[df['fuel_type'] == 'not supported', 'engine']:\n",
        "    fuel = re.search(r'(Gasoline|Diesel|Hybrid|Flex Fuel|Electric|Plug-In Hybrid)', row)\n",
        "    if fuel.group(1) == 'Flex Fuel':\n",
        "        to_replace.append('E85 Flex Fuel')\n",
        "    else:\n",
        "        to_replace.append(fuel.group(1))\n",
        "print(to_replace)"
      ],
      "metadata": {
        "execution": {
          "iopub.status.busy": "2024-09-19T11:40:02.34623Z",
          "iopub.execute_input": "2024-09-19T11:40:02.346688Z",
          "iopub.status.idle": "2024-09-19T11:40:02.415974Z",
          "shell.execute_reply.started": "2024-09-19T11:40:02.346645Z",
          "shell.execute_reply": "2024-09-19T11:40:02.414791Z"
        },
        "trusted": true,
        "id": "wBW86g8ulGiu"
      },
      "execution_count": null,
      "outputs": []
    },
    {
      "cell_type": "code",
      "source": [
        "df.loc[df['fuel_type'] == 'not supported', 'fuel_type'] = to_replace"
      ],
      "metadata": {
        "execution": {
          "iopub.status.busy": "2024-09-19T11:40:04.088642Z",
          "iopub.execute_input": "2024-09-19T11:40:04.089088Z",
          "iopub.status.idle": "2024-09-19T11:40:04.158167Z",
          "shell.execute_reply.started": "2024-09-19T11:40:04.089037Z",
          "shell.execute_reply": "2024-09-19T11:40:04.156899Z"
        },
        "trusted": true,
        "id": "mSU6RMNqlGiu"
      },
      "execution_count": null,
      "outputs": []
    },
    {
      "cell_type": "code",
      "source": [
        "df[pd.isna(df['fuel_type'])].shape"
      ],
      "metadata": {
        "execution": {
          "iopub.status.busy": "2024-09-19T11:40:05.391454Z",
          "iopub.execute_input": "2024-09-19T11:40:05.391894Z",
          "iopub.status.idle": "2024-09-19T11:40:05.446314Z",
          "shell.execute_reply.started": "2024-09-19T11:40:05.391854Z",
          "shell.execute_reply": "2024-09-19T11:40:05.445111Z"
        },
        "trusted": true,
        "id": "aGMhWoFvlGiu"
      },
      "execution_count": null,
      "outputs": []
    },
    {
      "cell_type": "code",
      "source": [
        "fuel = df[pd.isna(df['fuel_type'])]\n",
        "type_of_fuel = []\n",
        "for col in fuel['engine']:\n",
        "    #print(col)\n",
        "    if 'Hybrid' in col:\n",
        "        type_of_fuel.append('Hybrid')\n",
        "        #print('hybrid')\n",
        "    elif 'Gasoline' in col:\n",
        "        type_of_fuel.append('Gasoline')\n",
        "        #print('gas')\n",
        "    elif 'Flex Fuel' in col:\n",
        "        type_of_fuel.append('E85 Flex Fuel')\n",
        "        #print('flex')\n",
        "    elif 'Diesel' in col:\n",
        "        type_of_fuel.append('Diesel')\n",
        "        #print('diesel')\n",
        "    else:\n",
        "        type_of_fuel.append('Electric')\n",
        "\n",
        "print(len(type_of_fuel))\n",
        "\n",
        "nan_indices = df[pd.isna(df['fuel_type'])].index\n",
        "df.loc[nan_indices, 'fuel_type'] = type_of_fuel"
      ],
      "metadata": {
        "execution": {
          "iopub.status.busy": "2024-09-19T11:40:06.705597Z",
          "iopub.execute_input": "2024-09-19T11:40:06.706054Z",
          "iopub.status.idle": "2024-09-19T11:40:06.817631Z",
          "shell.execute_reply.started": "2024-09-19T11:40:06.70601Z",
          "shell.execute_reply": "2024-09-19T11:40:06.816444Z"
        },
        "trusted": true,
        "id": "hkLfadYClGiu"
      },
      "execution_count": null,
      "outputs": []
    },
    {
      "cell_type": "code",
      "source": [
        "num_of_speed = []\n",
        "type_trans = []\n",
        "for row in df['transmission']:\n",
        "#     speed = re.search(r'(\\d+)\\s*[-/]*\\s*Speed', row, re.IGNORECASE)\n",
        "#     if speed:\n",
        "#         num_of_speed.append(float(speed.group(1)))\n",
        "#     else:\n",
        "#         num_of_speed.append(0)\n",
        "    if ('Automatic' in row) or ('A/T' in row) or ('AT' in row)\\\n",
        "    or ('A/t' in row) or ('Transmission Overdrive Switch' in row):\n",
        "        type_trans.append('A')\n",
        "    elif 'DCT' in row:\n",
        "        type_trans.append('DCT')\n",
        "    elif 'Transmission w/Dual Shift Mode' in row:\n",
        "        type_trans.append('Transmission w/Dual Shift Mode')\n",
        "    elif 'CVT' in row or 'CVT-F' in row:\n",
        "        type_trans.append('CVT')\n",
        "    elif 'Variable' in row:\n",
        "        type_trans.append('Variable')\n",
        "    elif 'Single-Speed Fixed Gear' in row:\n",
        "        type_trans.append('Single-Speed Fixed Gear')\n",
        "    elif 'F' in row:\n",
        "        type_trans.append('F')\n",
        "    elif 'At/Mt' in row:\n",
        "        type_trans.append('At/Mt')\n",
        "    elif '–' in row:\n",
        "        type_trans.append('Unknown')\n",
        "    else:\n",
        "        type_trans.append('M')\n",
        "\n",
        "\n",
        "print(len(num_of_speed))\n",
        "print(len(type_trans))\n"
      ],
      "metadata": {
        "execution": {
          "iopub.status.busy": "2024-09-19T11:40:08.93818Z",
          "iopub.execute_input": "2024-09-19T11:40:08.939264Z",
          "iopub.status.idle": "2024-09-19T11:40:09.112932Z",
          "shell.execute_reply.started": "2024-09-19T11:40:08.939198Z",
          "shell.execute_reply": "2024-09-19T11:40:09.11169Z"
        },
        "trusted": true,
        "id": "AUnwv5DFlGiu"
      },
      "execution_count": null,
      "outputs": []
    },
    {
      "cell_type": "code",
      "source": [
        "df['transmission'] = type_trans"
      ],
      "metadata": {
        "execution": {
          "iopub.status.busy": "2024-09-19T11:40:11.209406Z",
          "iopub.execute_input": "2024-09-19T11:40:11.209817Z",
          "iopub.status.idle": "2024-09-19T11:40:11.229865Z",
          "shell.execute_reply.started": "2024-09-19T11:40:11.209776Z",
          "shell.execute_reply": "2024-09-19T11:40:11.228606Z"
        },
        "trusted": true,
        "id": "imKW77VxlGiv"
      },
      "execution_count": null,
      "outputs": []
    },
    {
      "cell_type": "code",
      "source": [
        "df['transmission'].value_counts()"
      ],
      "metadata": {
        "execution": {
          "iopub.status.busy": "2024-09-19T11:40:12.833116Z",
          "iopub.execute_input": "2024-09-19T11:40:12.833621Z",
          "iopub.status.idle": "2024-09-19T11:40:12.888691Z",
          "shell.execute_reply.started": "2024-09-19T11:40:12.833561Z",
          "shell.execute_reply": "2024-09-19T11:40:12.887187Z"
        },
        "trusted": true,
        "id": "IS37PkhTlGiv"
      },
      "execution_count": null,
      "outputs": []
    },
    {
      "cell_type": "code",
      "source": [
        "df['accident'] = df['accident'].fillna(df['accident'].mode()[0])"
      ],
      "metadata": {
        "execution": {
          "iopub.status.busy": "2024-09-19T11:40:15.113511Z",
          "iopub.execute_input": "2024-09-19T11:40:15.114668Z",
          "iopub.status.idle": "2024-09-19T11:40:15.222601Z",
          "shell.execute_reply.started": "2024-09-19T11:40:15.11461Z",
          "shell.execute_reply": "2024-09-19T11:40:15.221405Z"
        },
        "trusted": true,
        "id": "cxpPop-6lGiv"
      },
      "execution_count": null,
      "outputs": []
    },
    {
      "cell_type": "code",
      "source": [
        "df = df.drop(['clean_title'], axis=1)"
      ],
      "metadata": {
        "execution": {
          "iopub.status.busy": "2024-09-19T11:40:16.288805Z",
          "iopub.execute_input": "2024-09-19T11:40:16.289387Z",
          "iopub.status.idle": "2024-09-19T11:40:16.356501Z",
          "shell.execute_reply.started": "2024-09-19T11:40:16.2893Z",
          "shell.execute_reply": "2024-09-19T11:40:16.355195Z"
        },
        "trusted": true,
        "id": "wohCvIWblGiv"
      },
      "execution_count": null,
      "outputs": []
    },
    {
      "cell_type": "code",
      "source": [
        "df.head()"
      ],
      "metadata": {
        "execution": {
          "iopub.status.busy": "2024-09-19T11:40:18.030726Z",
          "iopub.execute_input": "2024-09-19T11:40:18.031159Z",
          "iopub.status.idle": "2024-09-19T11:40:18.057797Z",
          "shell.execute_reply.started": "2024-09-19T11:40:18.031117Z",
          "shell.execute_reply": "2024-09-19T11:40:18.056417Z"
        },
        "trusted": true,
        "id": "DZ00Dfl-lGiv"
      },
      "execution_count": null,
      "outputs": []
    },
    {
      "cell_type": "code",
      "source": [
        "df.head()"
      ],
      "metadata": {
        "execution": {
          "iopub.status.busy": "2024-09-19T11:24:26.846355Z",
          "iopub.execute_input": "2024-09-19T11:24:26.846806Z",
          "iopub.status.idle": "2024-09-19T11:24:26.868819Z",
          "shell.execute_reply.started": "2024-09-19T11:24:26.846764Z",
          "shell.execute_reply": "2024-09-19T11:24:26.867754Z"
        },
        "trusted": true,
        "id": "FropsjgElGiv"
      },
      "execution_count": null,
      "outputs": []
    },
    {
      "cell_type": "code",
      "source": [
        "original.iloc[:limit, :].select_dtypes(include=['category'])"
      ],
      "metadata": {
        "execution": {
          "iopub.status.busy": "2024-09-19T11:40:21.981935Z",
          "iopub.execute_input": "2024-09-19T11:40:21.982849Z",
          "iopub.status.idle": "2024-09-19T11:40:21.993887Z",
          "shell.execute_reply.started": "2024-09-19T11:40:21.982802Z",
          "shell.execute_reply": "2024-09-19T11:40:21.992759Z"
        },
        "trusted": true,
        "id": "CuwIAYkrlGiv"
      },
      "execution_count": null,
      "outputs": []
    },
    {
      "cell_type": "code",
      "source": [
        "category_columns = df.iloc[:limit, :].select_dtypes(include=['category']).columns\n",
        "\n",
        "# Convert selected columns to object type\n",
        "df[category_columns] = df[category_columns].astype('object')\n"
      ],
      "metadata": {
        "execution": {
          "iopub.status.busy": "2024-09-19T11:40:26.453805Z",
          "iopub.execute_input": "2024-09-19T11:40:26.454833Z",
          "iopub.status.idle": "2024-09-19T11:40:26.461815Z",
          "shell.execute_reply.started": "2024-09-19T11:40:26.454783Z",
          "shell.execute_reply": "2024-09-19T11:40:26.460498Z"
        },
        "trusted": true,
        "id": "XFQUQcWulGiv"
      },
      "execution_count": null,
      "outputs": []
    },
    {
      "cell_type": "code",
      "source": [
        "df.select_dtypes(include=['object'])"
      ],
      "metadata": {
        "execution": {
          "iopub.status.busy": "2024-09-19T11:40:28.941814Z",
          "iopub.execute_input": "2024-09-19T11:40:28.942401Z",
          "iopub.status.idle": "2024-09-19T11:40:29.103614Z",
          "shell.execute_reply.started": "2024-09-19T11:40:28.942314Z",
          "shell.execute_reply": "2024-09-19T11:40:29.102425Z"
        },
        "trusted": true,
        "id": "FBn7Hv5BlGiv"
      },
      "execution_count": null,
      "outputs": []
    },
    {
      "cell_type": "code",
      "source": [
        "def update(df):\n",
        "    t = 100\n",
        "\n",
        "    cat_c = ['brand', 'model', 'fuel_type', 'engine', 'transmission',\n",
        "             'ext_col', 'int_col', 'accident']\n",
        "\n",
        "    re_ = ['model', 'engine', 'transmission', 'ext_col', 'int_col']\n",
        "\n",
        "    for col in re_:\n",
        "        # Replace low-frequency values with 'noise'\n",
        "        value_counts = df[col].value_counts(dropna=False)\n",
        "        low_freq_mask = df[col].map(value_counts) < t\n",
        "        df.loc[low_freq_mask, col] = \"noise\"\n",
        "\n",
        "    for col in cat_c:\n",
        "        # Fill missing values and convert to category\n",
        "        df[col] = df[col].astype(str)  # Convert to string first to avoid category issues\n",
        "        df[col] = df[col].fillna('missing')\n",
        "        df[col] = df[col].astype('category')  # Convert back to category\n",
        "\n",
        "    return df\n",
        "\n",
        "# Apply the cleaning function to your datasets\n",
        "train_ds = update(df.iloc[:limit, :])\n",
        "test_ds = update(df.iloc[limit:, :])\n"
      ],
      "metadata": {
        "trusted": true,
        "id": "VlczKpJllGiv"
      },
      "execution_count": null,
      "outputs": []
    },
    {
      "cell_type": "code",
      "source": [
        "train_ds.head()"
      ],
      "metadata": {
        "execution": {
          "iopub.status.busy": "2024-09-19T11:41:15.882044Z",
          "iopub.execute_input": "2024-09-19T11:41:15.882499Z",
          "iopub.status.idle": "2024-09-19T11:41:15.907408Z",
          "shell.execute_reply.started": "2024-09-19T11:41:15.882456Z",
          "shell.execute_reply": "2024-09-19T11:41:15.906164Z"
        },
        "trusted": true,
        "id": "YVHk6DtelGiv"
      },
      "execution_count": null,
      "outputs": []
    },
    {
      "cell_type": "code",
      "source": [
        "X = train_ds.drop('price', axis=1)\n",
        "y = train_ds['price']"
      ],
      "metadata": {
        "execution": {
          "iopub.status.busy": "2024-09-19T11:42:09.970348Z",
          "iopub.execute_input": "2024-09-19T11:42:09.970804Z",
          "iopub.status.idle": "2024-09-19T11:42:09.981987Z",
          "shell.execute_reply.started": "2024-09-19T11:42:09.970758Z",
          "shell.execute_reply": "2024-09-19T11:42:09.980809Z"
        },
        "trusted": true,
        "id": "a3Bv5OBYlGiv"
      },
      "execution_count": null,
      "outputs": []
    },
    {
      "cell_type": "code",
      "source": [
        "from sklearn.model_selection import train_test_split, KFold, cross_val_score\n",
        "from lightgbm import LGBMRegressor\n",
        "import numpy as np\n",
        "\n",
        "# Initialize the LGBMRegressor model\n",
        "clf_lightgbm = LGBMRegressor(n_estimators=500,\n",
        "                             learning_rate=0.01,\n",
        "#                              max_depth=6,\n",
        "#                              reg_alpha= 2.9940615297340547,\n",
        "#                              num_leaves=64,\n",
        "#                              reg_lambda=1.970393309231038,\n",
        "                             verbose=-1)  # verbose=-1 to suppress output during cross-validation\n",
        "\n",
        "# Define k-fold cross-validation\n",
        "n_splits = 5  # number of folds\n",
        "kf = KFold(n_splits=n_splits, shuffle=True, random_state=42)\n",
        "\n",
        "# Perform cross-validation and evaluate RMSE\n",
        "rmse_scores = -cross_val_score(clf_lightgbm, X, y, scoring='neg_root_mean_squared_error', cv=kf)\n",
        "\n",
        "# Calculate mean and standard deviation of RMSE\n",
        "mean_rmse = np.mean(rmse_scores)\n",
        "std_rmse = np.std(rmse_scores)\n",
        "\n",
        "print(f\"Mean RMSE (LightGBM): {mean_rmse:.4f}\")\n",
        "print(f\"Standard Deviation of RMSE (LightGBM): {std_rmse:.4f}\")\n",
        "\n",
        "# Fit the LightGBM model to the training data\n",
        "clf_lightgbm.fit(X, y)\n"
      ],
      "metadata": {
        "execution": {
          "iopub.status.busy": "2024-09-19T11:42:52.174101Z",
          "iopub.execute_input": "2024-09-19T11:42:52.174571Z",
          "iopub.status.idle": "2024-09-19T11:44:19.974176Z",
          "shell.execute_reply.started": "2024-09-19T11:42:52.174525Z",
          "shell.execute_reply": "2024-09-19T11:44:19.97277Z"
        },
        "trusted": true,
        "id": "cEVU5CSMlGiv"
      },
      "execution_count": null,
      "outputs": []
    },
    {
      "cell_type": "code",
      "source": [
        "from catboost import CatBoostRegressor, Pool\n",
        "from sklearn.model_selection import KFold\n",
        "import numpy as np\n",
        "\n",
        "# Ensure your categorical columns are converted to 'category' dtype\n",
        "categorical_columns = X.select_dtypes(include=['category', 'object'])  # List all categorical columns\n",
        "for col in categorical_columns:\n",
        "    X[col] = X[col].astype('category')\n",
        "\n",
        "# Extract column names\n",
        "categorical_column_names = categorical_columns.columns.tolist()\n",
        "\n",
        "# Check the categorical columns\n",
        "print(\"Categorical columns:\", categorical_column_names)\n",
        "\n",
        "\n",
        "#{'iterations': 461, 'learning_rate': 0.05881579251705919, 'depth': 10, 'l2_leaf_reg': 2, 'border_count': 251}\n",
        "# Initialize the CatBoostRegressor model\n",
        "clf_catboost = CatBoostRegressor(\n",
        "    iterations=300,\n",
        "    learning_rate=0.09097546968709382,\n",
        "#     depth=10,\n",
        "#     l2_leaf_reg=2,\n",
        "#     border_count=251,\n",
        "    verbose=0  # verbose=0 to suppress output during cross-validation\n",
        ")\n",
        "\n",
        "# Define k-fold cross-validation\n",
        "n_splits = 5  # number of folds\n",
        "kf = KFold(n_splits=n_splits, shuffle=True, random_state=42)\n",
        "\n",
        "# Store RMSE scores\n",
        "rmse_scores = []\n",
        "\n",
        "# Perform manual cross-validation\n",
        "for train_index, val_index in kf.split(X):\n",
        "    X_train, X_val = X.iloc[train_index], X.iloc[val_index]\n",
        "    y_train, y_val = y.iloc[train_index], y.iloc[val_index]\n",
        "\n",
        "    # Convert the training and validation datasets to a CatBoost Pool\n",
        "    train_pool = Pool(data=X_train, label=y_train, cat_features=categorical_column_names)\n",
        "    val_pool = Pool(data=X_val, label=y_val, cat_features=categorical_column_names)\n",
        "\n",
        "    # Fit the model on the training set\n",
        "    clf_catboost.fit(train_pool)\n",
        "\n",
        "    # Predict on the validation set\n",
        "    y_pred = clf_catboost.predict(val_pool)\n",
        "\n",
        "    # Calculate RMSE\n",
        "    rmse = np.sqrt(np.mean((y_val - y_pred) ** 2))\n",
        "    rmse_scores.append(rmse)\n",
        "\n",
        "# Calculate mean and standard deviation of RMSE\n",
        "mean_rmse = np.mean(rmse_scores)\n",
        "std_rmse = np.std(rmse_scores)\n",
        "\n",
        "print(f\"Mean RMSE: {mean_rmse:.4f}\")\n",
        "print(f\"Standard Deviation of RMSE: {std_rmse:.4f}\")\n",
        "\n",
        "# Optionally fit the model on the full dataset\n",
        "train_pool = Pool(data=X, label=y, cat_features=categorical_column_names)\n",
        "clf_catboost.fit(train_pool)\n",
        "#72913\n",
        "#72555=461\n",
        "#72545.2258=700\n",
        "#72536.6792=650"
      ],
      "metadata": {
        "execution": {
          "iopub.status.busy": "2024-09-19T15:50:39.518269Z",
          "iopub.execute_input": "2024-09-19T15:50:39.519249Z",
          "iopub.status.idle": "2024-09-19T15:54:53.839787Z",
          "shell.execute_reply.started": "2024-09-19T15:50:39.519192Z",
          "shell.execute_reply": "2024-09-19T15:54:53.838282Z"
        },
        "trusted": true,
        "id": "rOp_3F9XlGiv"
      },
      "execution_count": null,
      "outputs": []
    },
    {
      "cell_type": "code",
      "source": [
        "test_ds.head()"
      ],
      "metadata": {
        "execution": {
          "iopub.status.busy": "2024-09-19T16:04:19.746978Z",
          "iopub.execute_input": "2024-09-19T16:04:19.747638Z",
          "iopub.status.idle": "2024-09-19T16:04:19.793528Z",
          "shell.execute_reply.started": "2024-09-19T16:04:19.747575Z",
          "shell.execute_reply": "2024-09-19T16:04:19.792049Z"
        },
        "trusted": true,
        "id": "0PxFJvC_lGiv"
      },
      "execution_count": null,
      "outputs": []
    },
    {
      "cell_type": "code",
      "source": [
        "test_ds = test_ds.drop('price', axis=1)"
      ],
      "metadata": {
        "trusted": true,
        "id": "czKdFaNLlGiv"
      },
      "execution_count": null,
      "outputs": []
    },
    {
      "cell_type": "code",
      "source": [
        "pred = clf_catboost.predict(test_ds)\n",
        "\n",
        "Sub = pd.DataFrame({\n",
        "    'id': submission.id,\n",
        "    'price': pred\n",
        "})\n",
        "\n",
        "Sub.to_csv('submission_little_tunning_optuna.csv', index=False)"
      ],
      "metadata": {
        "execution": {
          "iopub.status.busy": "2024-09-19T16:05:36.125245Z",
          "iopub.execute_input": "2024-09-19T16:05:36.126469Z",
          "iopub.status.idle": "2024-09-19T16:05:37.096062Z",
          "shell.execute_reply.started": "2024-09-19T16:05:36.126411Z",
          "shell.execute_reply": "2024-09-19T16:05:37.094742Z"
        },
        "trusted": true,
        "id": "dGcUMMO6lGiv"
      },
      "execution_count": null,
      "outputs": []
    },
    {
      "cell_type": "code",
      "source": [
        "Sub.head()"
      ],
      "metadata": {
        "execution": {
          "iopub.status.busy": "2024-09-19T16:05:38.499481Z",
          "iopub.execute_input": "2024-09-19T16:05:38.500601Z",
          "iopub.status.idle": "2024-09-19T16:05:38.512296Z",
          "shell.execute_reply.started": "2024-09-19T16:05:38.500547Z",
          "shell.execute_reply": "2024-09-19T16:05:38.511092Z"
        },
        "trusted": true,
        "id": "eHRlPjiElGiv"
      },
      "execution_count": null,
      "outputs": []
    },
    {
      "cell_type": "code",
      "source": [],
      "metadata": {
        "id": "7VG7kzdSlGiw"
      },
      "execution_count": null,
      "outputs": []
    },
    {
      "cell_type": "code",
      "source": [
        "import optuna\n",
        "from catboost import CatBoostRegressor, Pool\n",
        "import numpy as np\n",
        "\n",
        "def objective(trial):\n",
        "    # Suggest hyperparameters\n",
        "    iterations = 300  # Fixed iterations\n",
        "    learning_rate = trial.suggest_loguniform('learning_rate', 0.01, 0.1)\n",
        "\n",
        "    # Initialize the CatBoostRegressor model with suggested hyperparameters\n",
        "    catboost_regressor = CatBoostRegressor(\n",
        "        iterations=iterations,\n",
        "        learning_rate=learning_rate,\n",
        "        verbose=0  # Suppress output\n",
        "    )\n",
        "\n",
        "    # Store RMSE scores\n",
        "    rmse_scores = []\n",
        "\n",
        "    # KFold Cross-validation\n",
        "    for train_index, val_index in kf.split(X):\n",
        "        X_train, X_val = X.iloc[train_index], X.iloc[val_index]\n",
        "        y_train, y_val = y.iloc[train_index], y.iloc[val_index]\n",
        "\n",
        "        # Convert the training and validation datasets to a CatBoost Pool\n",
        "        train_pool = Pool(data=X_train, label=y_train, cat_features=categorical_column_names)\n",
        "        val_pool = Pool(data=X_val, label=y_val, cat_features=categorical_column_names)\n",
        "\n",
        "        # Fit the model on the training set\n",
        "        catboost_regressor.fit(train_pool)\n",
        "\n",
        "        # Predict on the validation set\n",
        "        y_pred = catboost_regressor.predict(val_pool)\n",
        "\n",
        "        # Calculate RMSE\n",
        "        rmse = np.sqrt(np.mean((y_val - y_pred) ** 2))\n",
        "        rmse_scores.append(rmse)\n",
        "\n",
        "    # Return the mean RMSE as the objective\n",
        "    return np.mean(rmse_scores)\n",
        "\n",
        "# Create a study object\n",
        "study = optuna.create_study(direction='minimize')\n",
        "\n",
        "# Optimize the objective function\n",
        "study.optimize(objective, n_trials=50)  # You can adjust the number of trials\n",
        "\n",
        "# Print the best hyperparameters and their corresponding RMSE\n",
        "print(\"Best hyperparameters: \", study.best_params)\n",
        "print(\"Best RMSE: \", study.best_value)\n"
      ],
      "metadata": {
        "execution": {
          "iopub.status.busy": "2024-09-19T14:14:04.110251Z",
          "iopub.execute_input": "2024-09-19T14:14:04.110759Z",
          "iopub.status.idle": "2024-09-19T15:27:30.544665Z",
          "shell.execute_reply.started": "2024-09-19T14:14:04.110715Z",
          "shell.execute_reply": "2024-09-19T15:27:30.54243Z"
        },
        "trusted": true,
        "id": "h230PGZtlGiw"
      },
      "execution_count": null,
      "outputs": []
    },
    {
      "cell_type": "code",
      "source": [],
      "metadata": {
        "id": "AkFMmcoSlGiz"
      },
      "execution_count": null,
      "outputs": []
    }
  ]
}