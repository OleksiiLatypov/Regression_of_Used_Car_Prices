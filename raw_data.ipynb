{
  "metadata": {
    "kernelspec": {
      "language": "python",
      "display_name": "Python 3",
      "name": "python3"
    },
    "language_info": {
      "name": "python",
      "version": "3.10.14",
      "mimetype": "text/x-python",
      "codemirror_mode": {
        "name": "ipython",
        "version": 3
      },
      "pygments_lexer": "ipython3",
      "nbconvert_exporter": "python",
      "file_extension": ".py"
    },
    "kaggle": {
      "accelerator": "none",
      "dataSources": [
        {
          "sourceId": 76728,
          "databundleVersionId": 9057646,
          "sourceType": "competition"
        }
      ],
      "dockerImageVersionId": 30761,
      "isInternetEnabled": true,
      "language": "python",
      "sourceType": "notebook",
      "isGpuEnabled": false
    },
    "colab": {
      "name": "notebook88dbfb4597",
      "provenance": [],
      "include_colab_link": true
    }
  },
  "nbformat_minor": 0,
  "nbformat": 4,
  "cells": [
    {
      "cell_type": "markdown",
      "metadata": {
        "id": "view-in-github",
        "colab_type": "text"
      },
      "source": [
        "<a href=\"https://colab.research.google.com/github/OleksiiLatypov/Regression_of_Used_Car_Prices/blob/main/raw_data.ipynb\" target=\"_parent\"><img src=\"https://colab.research.google.com/assets/colab-badge.svg\" alt=\"Open In Colab\"/></a>"
      ]
    },
    {
      "source": [
        "\n",
        "# IMPORTANT: RUN THIS CELL IN ORDER TO IMPORT YOUR KAGGLE DATA SOURCES\n",
        "# TO THE CORRECT LOCATION (/kaggle/input) IN YOUR NOTEBOOK,\n",
        "# THEN FEEL FREE TO DELETE THIS CELL.\n",
        "# NOTE: THIS NOTEBOOK ENVIRONMENT DIFFERS FROM KAGGLE'S PYTHON\n",
        "# ENVIRONMENT SO THERE MAY BE MISSING LIBRARIES USED BY YOUR\n",
        "# NOTEBOOK.\n",
        "\n",
        "import os\n",
        "import sys\n",
        "from tempfile import NamedTemporaryFile\n",
        "from urllib.request import urlopen\n",
        "from urllib.parse import unquote, urlparse\n",
        "from urllib.error import HTTPError\n",
        "from zipfile import ZipFile\n",
        "import tarfile\n",
        "import shutil\n",
        "\n",
        "CHUNK_SIZE = 40960\n",
        "DATA_SOURCE_MAPPING = 'playground-series-s4e9:https%3A%2F%2Fstorage.googleapis.com%2Fkaggle-competitions-data%2Fkaggle-v2%2F76728%2F9057646%2Fbundle%2Farchive.zip%3FX-Goog-Algorithm%3DGOOG4-RSA-SHA256%26X-Goog-Credential%3Dgcp-kaggle-com%2540kaggle-161607.iam.gserviceaccount.com%252F20240914%252Fauto%252Fstorage%252Fgoog4_request%26X-Goog-Date%3D20240914T183327Z%26X-Goog-Expires%3D259200%26X-Goog-SignedHeaders%3Dhost%26X-Goog-Signature%3D166a40885b24016e46b7a3b3f80093cee320d3018e4f19513746601d57353b7154b7d8308371d950ff9ddfa288d0ef63832f60b1de2e2482a58aac7c50ef6a9bc700386621c95904cd3b6fd8b5f79b5e68402bd78a7cc8a858b0d1ab646a6815c46833c741776cbfd9486b8cfdd896e978a261bc2c74a14ec5fa3afbd8ccf11b4dc9a113024fdb3da683b7d7f4949e9fe76b422f137996099730af4d0a8e97963515a996d9a7b483c0a614cb7a5e2ab4a172b9e7f3d103a45bb483e2fb5fe58fb5ff774aa1b8ed2bf41b3514c09e2d69bbc76cc24e82de809c3bb13420d05e8d02f6e974b0ab4962f9c3c505e9dbb30b60077f7c84b1bb021269a06bdc71f1a5'\n",
        "\n",
        "KAGGLE_INPUT_PATH='/kaggle/input'\n",
        "KAGGLE_WORKING_PATH='/kaggle/working'\n",
        "KAGGLE_SYMLINK='kaggle'\n",
        "\n",
        "!umount /kaggle/input/ 2> /dev/null\n",
        "shutil.rmtree('/kaggle/input', ignore_errors=True)\n",
        "os.makedirs(KAGGLE_INPUT_PATH, 0o777, exist_ok=True)\n",
        "os.makedirs(KAGGLE_WORKING_PATH, 0o777, exist_ok=True)\n",
        "\n",
        "try:\n",
        "  os.symlink(KAGGLE_INPUT_PATH, os.path.join(\"..\", 'input'), target_is_directory=True)\n",
        "except FileExistsError:\n",
        "  pass\n",
        "try:\n",
        "  os.symlink(KAGGLE_WORKING_PATH, os.path.join(\"..\", 'working'), target_is_directory=True)\n",
        "except FileExistsError:\n",
        "  pass\n",
        "\n",
        "for data_source_mapping in DATA_SOURCE_MAPPING.split(','):\n",
        "    directory, download_url_encoded = data_source_mapping.split(':')\n",
        "    download_url = unquote(download_url_encoded)\n",
        "    filename = urlparse(download_url).path\n",
        "    destination_path = os.path.join(KAGGLE_INPUT_PATH, directory)\n",
        "    try:\n",
        "        with urlopen(download_url) as fileres, NamedTemporaryFile() as tfile:\n",
        "            total_length = fileres.headers['content-length']\n",
        "            print(f'Downloading {directory}, {total_length} bytes compressed')\n",
        "            dl = 0\n",
        "            data = fileres.read(CHUNK_SIZE)\n",
        "            while len(data) > 0:\n",
        "                dl += len(data)\n",
        "                tfile.write(data)\n",
        "                done = int(50 * dl / int(total_length))\n",
        "                sys.stdout.write(f\"\\r[{'=' * done}{' ' * (50-done)}] {dl} bytes downloaded\")\n",
        "                sys.stdout.flush()\n",
        "                data = fileres.read(CHUNK_SIZE)\n",
        "            if filename.endswith('.zip'):\n",
        "              with ZipFile(tfile) as zfile:\n",
        "                zfile.extractall(destination_path)\n",
        "            else:\n",
        "              with tarfile.open(tfile.name) as tarfile:\n",
        "                tarfile.extractall(destination_path)\n",
        "            print(f'\\nDownloaded and uncompressed: {directory}')\n",
        "    except HTTPError as e:\n",
        "        print(f'Failed to load (likely expired) {download_url} to path {destination_path}')\n",
        "        continue\n",
        "    except OSError as e:\n",
        "        print(f'Failed to load {download_url} to path {destination_path}')\n",
        "        continue\n",
        "\n",
        "print('Data source import complete.')\n"
      ],
      "metadata": {
        "id": "AuHAau5Yz71q"
      },
      "cell_type": "code",
      "outputs": [],
      "execution_count": null
    },
    {
      "cell_type": "code",
      "source": [],
      "metadata": {
        "id": "rtsH69Ax0Pvi"
      },
      "execution_count": null,
      "outputs": []
    },
    {
      "cell_type": "code",
      "source": [
        "# This Python 3 environment comes with many helpful analytics libraries installed\n",
        "# It is defined by the kaggle/python Docker image: https://github.com/kaggle/docker-python\n",
        "# For example, here's several helpful packages to load\n",
        "\n",
        "import numpy as np # linear algebra\n",
        "import pandas as pd # data processing, CSV file I/O (e.g. pd.read_csv)\n",
        "\n",
        "import seaborn as sns\n",
        "from sklearn.model_selection import train_test_split, KFold, cross_val_score\n",
        "import matplotlib.pyplot as plt\n",
        "import re\n",
        "from datetime import datetime\n",
        "# Input data files are available in the read-only \"../input/\" directory\n",
        "# For example, running this (by clicking run or pressing Shift+Enter) will list all files under the input directory\n",
        "from sklearn.preprocessing import MinMaxScaler, LabelEncoder, StandardScaler\n",
        "from sklearn.linear_model import Lasso, Ridge, SGDRegressor, LinearRegression\n",
        "import category_encoders as ce\n",
        "\n",
        "\n",
        "# Input data files are available in the read-only \"../input/\" directory\n",
        "# For example, running this (by clicking run or pressing Shift+Enter) will list all files under the input directory\n",
        "\n",
        "import os\n",
        "for dirname, _, filenames in os.walk('/kaggle/input'):\n",
        "    for filename in filenames:\n",
        "        print(os.path.join(dirname, filename))\n",
        "\n",
        "# You can write up to 20GB to the current directory (/kaggle/working/) that gets preserved as output when you create a version using \"Save & Run All\"\n",
        "# You can also write temporary files to /kaggle/temp/, but they won't be saved outside of the current session"
      ],
      "metadata": {
        "_uuid": "8f2839f25d086af736a60e9eeb907d3b93b6e0e5",
        "_cell_guid": "b1076dfc-b9ad-4769-8c92-a6c4dae69d19",
        "execution": {
          "iopub.status.busy": "2024-09-14T17:34:38.306458Z",
          "iopub.execute_input": "2024-09-14T17:34:38.306878Z",
          "iopub.status.idle": "2024-09-14T17:34:40.225097Z",
          "shell.execute_reply.started": "2024-09-14T17:34:38.306825Z",
          "shell.execute_reply": "2024-09-14T17:34:40.223902Z"
        },
        "trusted": true,
        "id": "gNBp7O2oz71s",
        "outputId": "8fddae48-cb21-4cdd-c5bd-21a0962cfb55"
      },
      "execution_count": null,
      "outputs": [
        {
          "name": "stdout",
          "text": "/kaggle/input/playground-series-s4e9/sample_submission.csv\n/kaggle/input/playground-series-s4e9/train.csv\n/kaggle/input/playground-series-s4e9/test.csv\n",
          "output_type": "stream"
        }
      ]
    },
    {
      "cell_type": "code",
      "source": [
        "train = pd.read_csv('/kaggle/input/playground-series-s4e9/train.csv')\n",
        "test = pd.read_csv('/kaggle/input/playground-series-s4e9/test.csv')"
      ],
      "metadata": {
        "execution": {
          "iopub.status.busy": "2024-09-14T17:48:26.507123Z",
          "iopub.execute_input": "2024-09-14T17:48:26.507553Z",
          "iopub.status.idle": "2024-09-14T17:48:27.392134Z",
          "shell.execute_reply.started": "2024-09-14T17:48:26.507512Z",
          "shell.execute_reply": "2024-09-14T17:48:27.390839Z"
        },
        "trusted": true,
        "id": "xbHNAfijz71s"
      },
      "execution_count": null,
      "outputs": []
    },
    {
      "cell_type": "code",
      "source": [
        "train = train.drop('id', axis=1)\n",
        "test = test.drop('id', axis=1)"
      ],
      "metadata": {
        "execution": {
          "iopub.status.busy": "2024-09-14T17:48:29.031055Z",
          "iopub.execute_input": "2024-09-14T17:48:29.031507Z",
          "iopub.status.idle": "2024-09-14T17:48:29.086369Z",
          "shell.execute_reply.started": "2024-09-14T17:48:29.031463Z",
          "shell.execute_reply": "2024-09-14T17:48:29.085074Z"
        },
        "trusted": true,
        "id": "q5A4m8pEz71s"
      },
      "execution_count": null,
      "outputs": []
    },
    {
      "cell_type": "code",
      "source": [
        "train.info()"
      ],
      "metadata": {
        "execution": {
          "iopub.status.busy": "2024-09-14T17:48:31.014161Z",
          "iopub.execute_input": "2024-09-14T17:48:31.014593Z",
          "iopub.status.idle": "2024-09-14T17:48:31.125178Z",
          "shell.execute_reply.started": "2024-09-14T17:48:31.014554Z",
          "shell.execute_reply": "2024-09-14T17:48:31.123875Z"
        },
        "trusted": true,
        "id": "6CWjNI9uz71t",
        "outputId": "894227c2-32ff-4fce-da3d-68b2df3cba34"
      },
      "execution_count": null,
      "outputs": [
        {
          "name": "stdout",
          "text": "<class 'pandas.core.frame.DataFrame'>\nRangeIndex: 188533 entries, 0 to 188532\nData columns (total 12 columns):\n #   Column        Non-Null Count   Dtype \n---  ------        --------------   ----- \n 0   brand         188533 non-null  object\n 1   model         188533 non-null  object\n 2   model_year    188533 non-null  int64 \n 3   milage        188533 non-null  int64 \n 4   fuel_type     183450 non-null  object\n 5   engine        188533 non-null  object\n 6   transmission  188533 non-null  object\n 7   ext_col       188533 non-null  object\n 8   int_col       188533 non-null  object\n 9   accident      186081 non-null  object\n 10  clean_title   167114 non-null  object\n 11  price         188533 non-null  int64 \ndtypes: int64(3), object(9)\nmemory usage: 17.3+ MB\n",
          "output_type": "stream"
        }
      ]
    },
    {
      "cell_type": "code",
      "source": [
        "df = pd.concat([train, test], axis=0, ignore_index=True)"
      ],
      "metadata": {
        "execution": {
          "iopub.status.busy": "2024-09-14T17:48:33.766156Z",
          "iopub.execute_input": "2024-09-14T17:48:33.766581Z",
          "iopub.status.idle": "2024-09-14T17:48:33.78916Z",
          "shell.execute_reply.started": "2024-09-14T17:48:33.766541Z",
          "shell.execute_reply": "2024-09-14T17:48:33.787896Z"
        },
        "trusted": true,
        "id": "20-nn2jmz71t"
      },
      "execution_count": null,
      "outputs": []
    },
    {
      "cell_type": "code",
      "source": [
        "to_replace = []\n",
        "for row in df.loc[df['fuel_type'] == 'not supported', 'engine']:\n",
        "    fuel = re.search(r'(Gasoline|Diesel|Hybrid|Flex Fuel|Electric|Plug-In Hybrid)', row)\n",
        "    if fuel.group(1) == 'Flex Fuel':\n",
        "        to_replace.append('E85 Flex Fuel')\n",
        "    else:\n",
        "        to_replace.append(fuel.group(1))\n",
        "print(to_replace)"
      ],
      "metadata": {
        "execution": {
          "iopub.status.busy": "2024-09-14T17:48:36.015437Z",
          "iopub.execute_input": "2024-09-14T17:48:36.016367Z",
          "iopub.status.idle": "2024-09-14T17:48:36.049847Z",
          "shell.execute_reply.started": "2024-09-14T17:48:36.016316Z",
          "shell.execute_reply": "2024-09-14T17:48:36.048509Z"
        },
        "trusted": true,
        "id": "Am5yxahlz71t",
        "outputId": "03e00b22-f311-48f2-c9a0-6b34c60d017b"
      },
      "execution_count": null,
      "outputs": [
        {
          "name": "stdout",
          "text": "['E85 Flex Fuel', 'Gasoline', 'Electric', 'Gasoline', 'Electric', 'Gasoline', 'Electric', 'Gasoline', 'Gasoline', 'Electric', 'Gasoline', 'Electric', 'Gasoline', 'Gasoline', 'Electric', 'Electric', 'Gasoline', 'Gasoline', 'Electric', 'Electric', 'Electric', 'Gasoline', 'E85 Flex Fuel', 'Gasoline', 'Electric', 'Electric', 'Gasoline', 'Gasoline', 'Electric']\n",
          "output_type": "stream"
        }
      ]
    },
    {
      "cell_type": "code",
      "source": [
        "df.loc[df['fuel_type'] == 'not supported', 'fuel_type'] = to_replace"
      ],
      "metadata": {
        "execution": {
          "iopub.status.busy": "2024-09-14T17:48:38.546179Z",
          "iopub.execute_input": "2024-09-14T17:48:38.546586Z",
          "iopub.status.idle": "2024-09-14T17:48:38.579749Z",
          "shell.execute_reply.started": "2024-09-14T17:48:38.546547Z",
          "shell.execute_reply": "2024-09-14T17:48:38.57832Z"
        },
        "trusted": true,
        "id": "AofG833wz71t"
      },
      "execution_count": null,
      "outputs": []
    },
    {
      "cell_type": "code",
      "source": [
        "df.loc[df['fuel_type'] == 'not supported', 'fuel_type']"
      ],
      "metadata": {
        "execution": {
          "iopub.status.busy": "2024-09-14T17:48:40.750029Z",
          "iopub.execute_input": "2024-09-14T17:48:40.750461Z",
          "iopub.status.idle": "2024-09-14T17:48:40.784221Z",
          "shell.execute_reply.started": "2024-09-14T17:48:40.750421Z",
          "shell.execute_reply": "2024-09-14T17:48:40.783182Z"
        },
        "trusted": true,
        "id": "-RKoVw-uz71t",
        "outputId": "43a4cbbf-f0f6-4b49-f409-99d9724c5510"
      },
      "execution_count": null,
      "outputs": [
        {
          "execution_count": 11,
          "output_type": "execute_result",
          "data": {
            "text/plain": "Series([], Name: fuel_type, dtype: object)"
          },
          "metadata": {}
        }
      ]
    },
    {
      "cell_type": "code",
      "source": [
        "fuel = df[pd.isna(df['fuel_type'])]\n",
        "type_of_fuel = []\n",
        "for col in fuel['engine']:\n",
        "    #print(col)\n",
        "    if 'Hybrid' in col:\n",
        "        type_of_fuel.append('Hybrid')\n",
        "        #print('hybrid')\n",
        "    elif 'Gasoline' in col:\n",
        "        type_of_fuel.append('Gasoline')\n",
        "        #print('gas')\n",
        "    elif 'Flex Fuel' in col:\n",
        "        type_of_fuel.append('E85 Flex Fuel')\n",
        "        #print('flex')\n",
        "    elif 'Diesel' in col:\n",
        "        type_of_fuel.append('Diesel')\n",
        "        #print('diesel')\n",
        "    else:\n",
        "        type_of_fuel.append('Electric')\n",
        "\n",
        "print(len(type_of_fuel))\n",
        "\n",
        "nan_indices = df[pd.isna(df['fuel_type'])].index\n",
        "df.loc[nan_indices, 'fuel_type'] = type_of_fuel"
      ],
      "metadata": {
        "execution": {
          "iopub.status.busy": "2024-09-14T17:48:43.538557Z",
          "iopub.execute_input": "2024-09-14T17:48:43.538974Z",
          "iopub.status.idle": "2024-09-14T17:48:43.606529Z",
          "shell.execute_reply.started": "2024-09-14T17:48:43.538935Z",
          "shell.execute_reply": "2024-09-14T17:48:43.605304Z"
        },
        "trusted": true,
        "id": "sdBLazEMz71t",
        "outputId": "552c7293-6bc3-45b9-b758-c04533bb294c"
      },
      "execution_count": null,
      "outputs": [
        {
          "name": "stdout",
          "text": "8466\n",
          "output_type": "stream"
        }
      ]
    },
    {
      "cell_type": "code",
      "source": [
        "df['accident'] = df['accident'].fillna(df['accident'].mode()[0])"
      ],
      "metadata": {
        "execution": {
          "iopub.status.busy": "2024-09-14T17:48:45.993627Z",
          "iopub.execute_input": "2024-09-14T17:48:45.994075Z",
          "iopub.status.idle": "2024-09-14T17:48:46.049563Z",
          "shell.execute_reply.started": "2024-09-14T17:48:45.994033Z",
          "shell.execute_reply": "2024-09-14T17:48:46.048119Z"
        },
        "trusted": true,
        "id": "JrM6R_FRz71u"
      },
      "execution_count": null,
      "outputs": []
    },
    {
      "cell_type": "code",
      "source": [
        "df = df.drop('clean_title', axis=1)"
      ],
      "metadata": {
        "execution": {
          "iopub.status.busy": "2024-09-14T17:48:47.927893Z",
          "iopub.execute_input": "2024-09-14T17:48:47.928343Z",
          "iopub.status.idle": "2024-09-14T17:48:47.973503Z",
          "shell.execute_reply.started": "2024-09-14T17:48:47.928298Z",
          "shell.execute_reply": "2024-09-14T17:48:47.972234Z"
        },
        "trusted": true,
        "id": "hvK9czxsz71u"
      },
      "execution_count": null,
      "outputs": []
    },
    {
      "cell_type": "code",
      "source": [
        "train_df = df.iloc[:188533, :]\n",
        "test_df = df.iloc[188533:, :]"
      ],
      "metadata": {
        "execution": {
          "iopub.status.busy": "2024-09-14T17:48:50.65654Z",
          "iopub.execute_input": "2024-09-14T17:48:50.657089Z",
          "iopub.status.idle": "2024-09-14T17:48:50.663401Z",
          "shell.execute_reply.started": "2024-09-14T17:48:50.657037Z",
          "shell.execute_reply": "2024-09-14T17:48:50.66203Z"
        },
        "trusted": true,
        "id": "7-jl6bpBz71u"
      },
      "execution_count": null,
      "outputs": []
    },
    {
      "cell_type": "code",
      "source": [
        "X = train_df.copy()\n",
        "y = X['price']\n",
        "X = X.drop('price', axis=1)"
      ],
      "metadata": {
        "execution": {
          "iopub.status.busy": "2024-09-14T17:48:53.042679Z",
          "iopub.execute_input": "2024-09-14T17:48:53.043151Z",
          "iopub.status.idle": "2024-09-14T17:48:53.102786Z",
          "shell.execute_reply.started": "2024-09-14T17:48:53.043107Z",
          "shell.execute_reply": "2024-09-14T17:48:53.101588Z"
        },
        "trusted": true,
        "id": "FdP7PcAQz71u"
      },
      "execution_count": null,
      "outputs": []
    },
    {
      "cell_type": "code",
      "source": [
        "X.head()"
      ],
      "metadata": {
        "execution": {
          "iopub.status.busy": "2024-09-14T17:48:55.274385Z",
          "iopub.execute_input": "2024-09-14T17:48:55.274831Z",
          "iopub.status.idle": "2024-09-14T17:48:55.294783Z",
          "shell.execute_reply.started": "2024-09-14T17:48:55.274766Z",
          "shell.execute_reply": "2024-09-14T17:48:55.29368Z"
        },
        "trusted": true,
        "id": "o95A__UXz71u",
        "outputId": "2e38a014-1466-401f-e18e-894085a46e10"
      },
      "execution_count": null,
      "outputs": [
        {
          "execution_count": 17,
          "output_type": "execute_result",
          "data": {
            "text/plain": "           brand              model  model_year  milage      fuel_type  \\\n0           MINI      Cooper S Base        2007  213000       Gasoline   \n1        Lincoln              LS V8        2002  143250       Gasoline   \n2      Chevrolet  Silverado 2500 LT        2002  136731  E85 Flex Fuel   \n3        Genesis   G90 5.0 Ultimate        2017   19500       Gasoline   \n4  Mercedes-Benz        Metris Base        2021    7388       Gasoline   \n\n                                              engine  \\\n0       172.0HP 1.6L 4 Cylinder Engine Gasoline Fuel   \n1       252.0HP 3.9L 8 Cylinder Engine Gasoline Fuel   \n2  320.0HP 5.3L 8 Cylinder Engine Flex Fuel Capab...   \n3       420.0HP 5.0L 8 Cylinder Engine Gasoline Fuel   \n4       208.0HP 2.0L 4 Cylinder Engine Gasoline Fuel   \n\n                     transmission ext_col int_col  \\\n0                             A/T  Yellow    Gray   \n1                             A/T  Silver   Beige   \n2                             A/T    Blue    Gray   \n3  Transmission w/Dual Shift Mode   Black   Black   \n4                     7-Speed A/T   Black   Beige   \n\n                                 accident  \n0                           None reported  \n1  At least 1 accident or damage reported  \n2                           None reported  \n3                           None reported  \n4                           None reported  ",
            "text/html": "<div>\n<style scoped>\n    .dataframe tbody tr th:only-of-type {\n        vertical-align: middle;\n    }\n\n    .dataframe tbody tr th {\n        vertical-align: top;\n    }\n\n    .dataframe thead th {\n        text-align: right;\n    }\n</style>\n<table border=\"1\" class=\"dataframe\">\n  <thead>\n    <tr style=\"text-align: right;\">\n      <th></th>\n      <th>brand</th>\n      <th>model</th>\n      <th>model_year</th>\n      <th>milage</th>\n      <th>fuel_type</th>\n      <th>engine</th>\n      <th>transmission</th>\n      <th>ext_col</th>\n      <th>int_col</th>\n      <th>accident</th>\n    </tr>\n  </thead>\n  <tbody>\n    <tr>\n      <th>0</th>\n      <td>MINI</td>\n      <td>Cooper S Base</td>\n      <td>2007</td>\n      <td>213000</td>\n      <td>Gasoline</td>\n      <td>172.0HP 1.6L 4 Cylinder Engine Gasoline Fuel</td>\n      <td>A/T</td>\n      <td>Yellow</td>\n      <td>Gray</td>\n      <td>None reported</td>\n    </tr>\n    <tr>\n      <th>1</th>\n      <td>Lincoln</td>\n      <td>LS V8</td>\n      <td>2002</td>\n      <td>143250</td>\n      <td>Gasoline</td>\n      <td>252.0HP 3.9L 8 Cylinder Engine Gasoline Fuel</td>\n      <td>A/T</td>\n      <td>Silver</td>\n      <td>Beige</td>\n      <td>At least 1 accident or damage reported</td>\n    </tr>\n    <tr>\n      <th>2</th>\n      <td>Chevrolet</td>\n      <td>Silverado 2500 LT</td>\n      <td>2002</td>\n      <td>136731</td>\n      <td>E85 Flex Fuel</td>\n      <td>320.0HP 5.3L 8 Cylinder Engine Flex Fuel Capab...</td>\n      <td>A/T</td>\n      <td>Blue</td>\n      <td>Gray</td>\n      <td>None reported</td>\n    </tr>\n    <tr>\n      <th>3</th>\n      <td>Genesis</td>\n      <td>G90 5.0 Ultimate</td>\n      <td>2017</td>\n      <td>19500</td>\n      <td>Gasoline</td>\n      <td>420.0HP 5.0L 8 Cylinder Engine Gasoline Fuel</td>\n      <td>Transmission w/Dual Shift Mode</td>\n      <td>Black</td>\n      <td>Black</td>\n      <td>None reported</td>\n    </tr>\n    <tr>\n      <th>4</th>\n      <td>Mercedes-Benz</td>\n      <td>Metris Base</td>\n      <td>2021</td>\n      <td>7388</td>\n      <td>Gasoline</td>\n      <td>208.0HP 2.0L 4 Cylinder Engine Gasoline Fuel</td>\n      <td>7-Speed A/T</td>\n      <td>Black</td>\n      <td>Beige</td>\n      <td>None reported</td>\n    </tr>\n  </tbody>\n</table>\n</div>"
          },
          "metadata": {}
        }
      ]
    },
    {
      "cell_type": "code",
      "source": [
        "cbe_encoder = ce.cat_boost.CatBoostEncoder(a=1)\n",
        "X_encoded = cbe_encoder.fit_transform(X, y)"
      ],
      "metadata": {
        "execution": {
          "iopub.status.busy": "2024-09-14T17:49:01.535686Z",
          "iopub.execute_input": "2024-09-14T17:49:01.536142Z",
          "iopub.status.idle": "2024-09-14T17:49:02.658074Z",
          "shell.execute_reply.started": "2024-09-14T17:49:01.536099Z",
          "shell.execute_reply": "2024-09-14T17:49:02.656017Z"
        },
        "trusted": true,
        "id": "6EpUQw-cz71u"
      },
      "execution_count": null,
      "outputs": []
    },
    {
      "cell_type": "code",
      "source": [
        "import category_encoders as ce\n",
        "encoder = ce.GLMMEncoder(cols=['brand', 'model', 'fuel_type', 'engine',\n",
        "                               'transmission', 'int_col', 'ext_col', 'accident'])\n",
        "X_glmm_encoded = encoder.fit_transform(X, y)\n"
      ],
      "metadata": {
        "execution": {
          "iopub.status.busy": "2024-09-14T14:15:09.030114Z",
          "iopub.execute_input": "2024-09-14T14:15:09.030607Z",
          "iopub.status.idle": "2024-09-14T14:15:55.625618Z",
          "shell.execute_reply.started": "2024-09-14T14:15:09.030556Z",
          "shell.execute_reply": "2024-09-14T14:15:55.624281Z"
        },
        "trusted": true,
        "id": "gWwzTnSez71u"
      },
      "execution_count": null,
      "outputs": []
    },
    {
      "cell_type": "code",
      "source": [
        "X_glmm_encoded.head()"
      ],
      "metadata": {
        "execution": {
          "iopub.status.busy": "2024-09-14T14:16:04.5093Z",
          "iopub.execute_input": "2024-09-14T14:16:04.509794Z",
          "iopub.status.idle": "2024-09-14T14:16:04.528464Z",
          "shell.execute_reply.started": "2024-09-14T14:16:04.509752Z",
          "shell.execute_reply": "2024-09-14T14:16:04.527295Z"
        },
        "trusted": true,
        "id": "trzww0Prz71u",
        "outputId": "0d9d1bbc-04ec-4574-9708-4a7c67872f86"
      },
      "execution_count": null,
      "outputs": [
        {
          "execution_count": 51,
          "output_type": "execute_result",
          "data": {
            "text/plain": "          brand         model  model_year  milage     fuel_type        engine  \\\n0 -31244.785164 -29205.079333        2007  213000  -1809.404331 -31657.554628   \n1 -17807.856371 -24151.031641        2002  143250  -1809.404331 -29497.859697   \n2  -6719.512470 -16787.529710        2002  136731 -18283.176231 -25001.535779   \n3   4971.451407   6111.128240        2017   19500  -1809.404331  -1249.491877   \n4   2685.285407  22236.092514        2021    7388  -1809.404331  -5760.451770   \n\n   transmission       ext_col       int_col      accident  \n0 -34167.721835 -24246.095719 -44959.020791  11894.218182  \n1 -34167.721835 -35800.114683 -43188.553600 -11894.219815  \n2 -34167.721835 -27020.589667 -44959.020791  11894.218182  \n3 -15677.382584 -25265.632669 -27623.124415  11894.218182  \n4 -18752.307564 -25265.632669 -43188.553600  11894.218182  ",
            "text/html": "<div>\n<style scoped>\n    .dataframe tbody tr th:only-of-type {\n        vertical-align: middle;\n    }\n\n    .dataframe tbody tr th {\n        vertical-align: top;\n    }\n\n    .dataframe thead th {\n        text-align: right;\n    }\n</style>\n<table border=\"1\" class=\"dataframe\">\n  <thead>\n    <tr style=\"text-align: right;\">\n      <th></th>\n      <th>brand</th>\n      <th>model</th>\n      <th>model_year</th>\n      <th>milage</th>\n      <th>fuel_type</th>\n      <th>engine</th>\n      <th>transmission</th>\n      <th>ext_col</th>\n      <th>int_col</th>\n      <th>accident</th>\n    </tr>\n  </thead>\n  <tbody>\n    <tr>\n      <th>0</th>\n      <td>-31244.785164</td>\n      <td>-29205.079333</td>\n      <td>2007</td>\n      <td>213000</td>\n      <td>-1809.404331</td>\n      <td>-31657.554628</td>\n      <td>-34167.721835</td>\n      <td>-24246.095719</td>\n      <td>-44959.020791</td>\n      <td>11894.218182</td>\n    </tr>\n    <tr>\n      <th>1</th>\n      <td>-17807.856371</td>\n      <td>-24151.031641</td>\n      <td>2002</td>\n      <td>143250</td>\n      <td>-1809.404331</td>\n      <td>-29497.859697</td>\n      <td>-34167.721835</td>\n      <td>-35800.114683</td>\n      <td>-43188.553600</td>\n      <td>-11894.219815</td>\n    </tr>\n    <tr>\n      <th>2</th>\n      <td>-6719.512470</td>\n      <td>-16787.529710</td>\n      <td>2002</td>\n      <td>136731</td>\n      <td>-18283.176231</td>\n      <td>-25001.535779</td>\n      <td>-34167.721835</td>\n      <td>-27020.589667</td>\n      <td>-44959.020791</td>\n      <td>11894.218182</td>\n    </tr>\n    <tr>\n      <th>3</th>\n      <td>4971.451407</td>\n      <td>6111.128240</td>\n      <td>2017</td>\n      <td>19500</td>\n      <td>-1809.404331</td>\n      <td>-1249.491877</td>\n      <td>-15677.382584</td>\n      <td>-25265.632669</td>\n      <td>-27623.124415</td>\n      <td>11894.218182</td>\n    </tr>\n    <tr>\n      <th>4</th>\n      <td>2685.285407</td>\n      <td>22236.092514</td>\n      <td>2021</td>\n      <td>7388</td>\n      <td>-1809.404331</td>\n      <td>-5760.451770</td>\n      <td>-18752.307564</td>\n      <td>-25265.632669</td>\n      <td>-43188.553600</td>\n      <td>11894.218182</td>\n    </tr>\n  </tbody>\n</table>\n</div>"
          },
          "metadata": {}
        }
      ]
    },
    {
      "cell_type": "code",
      "source": [
        "X_encoded"
      ],
      "metadata": {
        "execution": {
          "iopub.status.busy": "2024-09-14T17:49:08.290946Z",
          "iopub.execute_input": "2024-09-14T17:49:08.291375Z",
          "iopub.status.idle": "2024-09-14T17:49:08.314537Z",
          "shell.execute_reply.started": "2024-09-14T17:49:08.291334Z",
          "shell.execute_reply": "2024-09-14T17:49:08.313177Z"
        },
        "trusted": true,
        "id": "EmvAjunJz71v",
        "outputId": "c605c056-2f04-4cc1-9275-9f5d7e8f1772"
      },
      "execution_count": null,
      "outputs": [
        {
          "execution_count": 19,
          "output_type": "execute_result",
          "data": {
            "text/plain": "               brand         model  model_year  milage     fuel_type  \\\n0       43878.016178  43878.016178        2007  213000  43878.016178   \n1       43878.016178  43878.016178        2002  143250  24039.008089   \n2       43878.016178  43878.016178        2002  136731  43878.016178   \n3       43878.016178  43878.016178        2017   19500  17692.338726   \n4       43878.016178  43878.016178        2021    7388  24519.254044   \n...              ...           ...         ...     ...           ...   \n188528  45662.598848  51082.622331        2017   49000  43362.201639   \n188529  51243.263576  56311.490891        2018   28600  43362.106075   \n188530  51242.155540  63688.241658        2021   13650  43362.025574   \n188531  41001.089007  37351.315850        2022   13895  43362.287870   \n188532  70901.350265  42057.371217        2016   59500  43362.538114   \n\n              engine  transmission       ext_col       int_col      accident  \n0       43878.016178  43878.016178  43878.016178  43878.016178  43878.016178  \n1       43878.016178  24039.008089  43878.016178  43878.016178  43878.016178  \n2       43878.016178  17692.338726  43878.016178  24039.008089  24039.008089  \n3       43878.016178  43878.016178  43878.016178  43878.016178  20659.338726  \n4       43878.016178  43878.016178  44439.008089  24438.508089  26744.504044  \n...              ...           ...           ...           ...           ...  \n188528  54490.416408  50203.767634  40803.380421  29954.666055  49122.624457  \n188529  55916.222764  56443.420878  40803.076781  45523.650380  25334.405346  \n188530  73399.047757  47119.639879  40802.830214  45523.506204  49122.477328  \n188531  63050.155915  69484.369907  99767.809378  45523.890483  49122.734379  \n188532  30610.516086  50202.588523  40803.882301  45524.256181  49122.977818  \n\n[188533 rows x 10 columns]",
            "text/html": "<div>\n<style scoped>\n    .dataframe tbody tr th:only-of-type {\n        vertical-align: middle;\n    }\n\n    .dataframe tbody tr th {\n        vertical-align: top;\n    }\n\n    .dataframe thead th {\n        text-align: right;\n    }\n</style>\n<table border=\"1\" class=\"dataframe\">\n  <thead>\n    <tr style=\"text-align: right;\">\n      <th></th>\n      <th>brand</th>\n      <th>model</th>\n      <th>model_year</th>\n      <th>milage</th>\n      <th>fuel_type</th>\n      <th>engine</th>\n      <th>transmission</th>\n      <th>ext_col</th>\n      <th>int_col</th>\n      <th>accident</th>\n    </tr>\n  </thead>\n  <tbody>\n    <tr>\n      <th>0</th>\n      <td>43878.016178</td>\n      <td>43878.016178</td>\n      <td>2007</td>\n      <td>213000</td>\n      <td>43878.016178</td>\n      <td>43878.016178</td>\n      <td>43878.016178</td>\n      <td>43878.016178</td>\n      <td>43878.016178</td>\n      <td>43878.016178</td>\n    </tr>\n    <tr>\n      <th>1</th>\n      <td>43878.016178</td>\n      <td>43878.016178</td>\n      <td>2002</td>\n      <td>143250</td>\n      <td>24039.008089</td>\n      <td>43878.016178</td>\n      <td>24039.008089</td>\n      <td>43878.016178</td>\n      <td>43878.016178</td>\n      <td>43878.016178</td>\n    </tr>\n    <tr>\n      <th>2</th>\n      <td>43878.016178</td>\n      <td>43878.016178</td>\n      <td>2002</td>\n      <td>136731</td>\n      <td>43878.016178</td>\n      <td>43878.016178</td>\n      <td>17692.338726</td>\n      <td>43878.016178</td>\n      <td>24039.008089</td>\n      <td>24039.008089</td>\n    </tr>\n    <tr>\n      <th>3</th>\n      <td>43878.016178</td>\n      <td>43878.016178</td>\n      <td>2017</td>\n      <td>19500</td>\n      <td>17692.338726</td>\n      <td>43878.016178</td>\n      <td>43878.016178</td>\n      <td>43878.016178</td>\n      <td>43878.016178</td>\n      <td>20659.338726</td>\n    </tr>\n    <tr>\n      <th>4</th>\n      <td>43878.016178</td>\n      <td>43878.016178</td>\n      <td>2021</td>\n      <td>7388</td>\n      <td>24519.254044</td>\n      <td>43878.016178</td>\n      <td>43878.016178</td>\n      <td>44439.008089</td>\n      <td>24438.508089</td>\n      <td>26744.504044</td>\n    </tr>\n    <tr>\n      <th>...</th>\n      <td>...</td>\n      <td>...</td>\n      <td>...</td>\n      <td>...</td>\n      <td>...</td>\n      <td>...</td>\n      <td>...</td>\n      <td>...</td>\n      <td>...</td>\n      <td>...</td>\n    </tr>\n    <tr>\n      <th>188528</th>\n      <td>45662.598848</td>\n      <td>51082.622331</td>\n      <td>2017</td>\n      <td>49000</td>\n      <td>43362.201639</td>\n      <td>54490.416408</td>\n      <td>50203.767634</td>\n      <td>40803.380421</td>\n      <td>29954.666055</td>\n      <td>49122.624457</td>\n    </tr>\n    <tr>\n      <th>188529</th>\n      <td>51243.263576</td>\n      <td>56311.490891</td>\n      <td>2018</td>\n      <td>28600</td>\n      <td>43362.106075</td>\n      <td>55916.222764</td>\n      <td>56443.420878</td>\n      <td>40803.076781</td>\n      <td>45523.650380</td>\n      <td>25334.405346</td>\n    </tr>\n    <tr>\n      <th>188530</th>\n      <td>51242.155540</td>\n      <td>63688.241658</td>\n      <td>2021</td>\n      <td>13650</td>\n      <td>43362.025574</td>\n      <td>73399.047757</td>\n      <td>47119.639879</td>\n      <td>40802.830214</td>\n      <td>45523.506204</td>\n      <td>49122.477328</td>\n    </tr>\n    <tr>\n      <th>188531</th>\n      <td>41001.089007</td>\n      <td>37351.315850</td>\n      <td>2022</td>\n      <td>13895</td>\n      <td>43362.287870</td>\n      <td>63050.155915</td>\n      <td>69484.369907</td>\n      <td>99767.809378</td>\n      <td>45523.890483</td>\n      <td>49122.734379</td>\n    </tr>\n    <tr>\n      <th>188532</th>\n      <td>70901.350265</td>\n      <td>42057.371217</td>\n      <td>2016</td>\n      <td>59500</td>\n      <td>43362.538114</td>\n      <td>30610.516086</td>\n      <td>50202.588523</td>\n      <td>40803.882301</td>\n      <td>45524.256181</td>\n      <td>49122.977818</td>\n    </tr>\n  </tbody>\n</table>\n<p>188533 rows × 10 columns</p>\n</div>"
          },
          "metadata": {}
        }
      ]
    },
    {
      "cell_type": "code",
      "source": [
        "from sklearn.model_selection import train_test_split\n",
        "from sklearn.preprocessing import QuantileTransformer\n",
        "from sklearn.preprocessing import Normalizer\n",
        "from catboost import CatBoostRegressor\n",
        "\n",
        "\n",
        "clf_catboost = CatBoostRegressor(iterations=300,\n",
        "                                  learning_rate=0.02,\n",
        "                                  depth=7,\n",
        "                                 l2_leaf_reg=2,\n",
        "                                # border_count=100,\n",
        "                                 verbose=0)  # verbose=0 to suppress output during cross-validation\n",
        "\n",
        "\n",
        "# Define k-fold cross-validation\n",
        "n_splits = 5  # number of folds\n",
        "kf = KFold(n_splits=n_splits, shuffle=True, random_state=42)\n",
        "\n",
        "# Perform cross-validation and evaluate RMSE\n",
        "rmse_scores = -cross_val_score(clf_catboost, X_glmm_encoded, y, scoring='neg_root_mean_squared_error', cv=kf)\n",
        "\n",
        "# Calculate mean and standard deviation of RMSE\n",
        "mean_rmse = np.mean(rmse_scores)\n",
        "std_rmse = np.std(rmse_scores)\n",
        "\n",
        "print(f\"Mean RMSE: {mean_rmse:.4f}\")\n",
        "print(f\"Standard Deviation of RMSE: {std_rmse:.4f}\")\n",
        "\n",
        "clf_catboost.fit(X_glmm_encoded, y)"
      ],
      "metadata": {
        "execution": {
          "iopub.status.busy": "2024-09-14T14:22:40.67379Z",
          "iopub.execute_input": "2024-09-14T14:22:40.674279Z",
          "iopub.status.idle": "2024-09-14T14:23:12.158334Z",
          "shell.execute_reply.started": "2024-09-14T14:22:40.674188Z",
          "shell.execute_reply": "2024-09-14T14:23:12.156908Z"
        },
        "trusted": true,
        "id": "aQQKNycoz71v",
        "outputId": "f9f0f415-6e78-4a1a-b2ef-6aed669e5b48"
      },
      "execution_count": null,
      "outputs": [
        {
          "name": "stdout",
          "text": "Mean RMSE: 72029.9675\nStandard Deviation of RMSE: 3661.5313\n",
          "output_type": "stream"
        },
        {
          "execution_count": 60,
          "output_type": "execute_result",
          "data": {
            "text/plain": "<catboost.core.CatBoostRegressor at 0x79eaa264a0e0>"
          },
          "metadata": {}
        }
      ]
    },
    {
      "cell_type": "code",
      "source": [
        "from sklearn.model_selection import train_test_split\n",
        "from sklearn.preprocessing import QuantileTransformer\n",
        "from sklearn.preprocessing import Normalizer\n",
        "from catboost import CatBoostRegressor\n",
        "\n",
        "\n",
        "clf_catboost = CatBoostRegressor(iterations=275,\n",
        "                                 learning_rate=0.03,\n",
        "                                 depth=7,\n",
        "                                 l2_leaf_reg=3,\n",
        "                                # border_count=100,\n",
        "                                 verbose=0)  # verbose=0 to suppress output during cross-validation\n",
        "\n",
        "\n",
        "# Define k-fold cross-validation\n",
        "n_splits = 5  # number of folds\n",
        "kf = KFold(n_splits=n_splits, shuffle=True, random_state=42)\n",
        "\n",
        "# Perform cross-validation and evaluate RMSE\n",
        "rmse_scores = -cross_val_score(clf_catboost, X_encoded, y, scoring='neg_root_mean_squared_error', cv=kf)\n",
        "\n",
        "# Calculate mean and standard deviation of RMSE\n",
        "mean_rmse = np.mean(rmse_scores)\n",
        "std_rmse = np.std(rmse_scores)\n",
        "\n",
        "print(f\"Mean RMSE: {mean_rmse:.4f}\")\n",
        "print(f\"Standard Deviation of RMSE: {std_rmse:.4f}\")\n",
        "\n",
        "clf_catboost.fit(X_encoded, y)"
      ],
      "metadata": {
        "execution": {
          "iopub.status.busy": "2024-09-14T15:32:26.616044Z",
          "iopub.execute_input": "2024-09-14T15:32:26.61733Z",
          "iopub.status.idle": "2024-09-14T15:32:58.011163Z",
          "shell.execute_reply.started": "2024-09-14T15:32:26.617272Z",
          "shell.execute_reply": "2024-09-14T15:32:58.009964Z"
        },
        "trusted": true,
        "id": "XqfxgMc-z71v",
        "outputId": "43873dc6-bfc3-4a1b-a602-e3a94e280f96"
      },
      "execution_count": null,
      "outputs": [
        {
          "name": "stdout",
          "text": "Mean RMSE: 72787.3706\nStandard Deviation of RMSE: 3689.9015\n",
          "output_type": "stream"
        },
        {
          "execution_count": 98,
          "output_type": "execute_result",
          "data": {
            "text/plain": "<catboost.core.CatBoostRegressor at 0x79eaa70721d0>"
          },
          "metadata": {}
        }
      ]
    },
    {
      "cell_type": "markdown",
      "source": [
        "72795 depth7\n",
        "\n",
        "72807 depth8"
      ],
      "metadata": {
        "id": "NnRGDNOOz71v"
      }
    },
    {
      "cell_type": "code",
      "source": [
        "import numpy as np\n",
        "from sklearn.model_selection import GridSearchCV\n",
        "from catboost import CatBoostRegressor\n",
        "\n",
        "# Define the parameter grid\n",
        "param_grid = {\n",
        "    'iterations': [200, 300, 400],                # Number of trees\n",
        "    'learning_rate': [0.01, 0.03, 0.1],           # Learning rate\n",
        "    'depth': [6, 7, 8],                           # Depth of trees\n",
        "    'l2_leaf_reg': [1, 3, 5],                     # L2 regularization\n",
        "    'border_count': [128, 254]                    # Number of discrete values for categorical features\n",
        "}\n",
        "\n",
        "# Initialize CatBoostRegressor\n",
        "model = CatBoostRegressor(verbose=0)  # Turn off logging\n",
        "\n",
        "# Set up GridSearchCV\n",
        "grid_search = GridSearchCV(\n",
        "    estimator=model,\n",
        "    param_grid=param_grid,\n",
        "    scoring='neg_root_mean_squared_error',  # Use RMSE as the scoring metric\n",
        "    cv=5,  # Number of folds in cross-validation\n",
        "    n_jobs=-1  # Use all available cores\n",
        ")\n",
        "\n",
        "# Fit GridSearchCV\n",
        "grid_search.fit(X_encoded, y)\n",
        "\n",
        "# Get the best parameters and best score\n",
        "best_params = grid_search.best_params_\n",
        "best_score = -grid_search.best_score_  # Convert negative RMSE to positive\n",
        "\n",
        "print(\"Best Parameters:\", best_params)\n",
        "print(\"Best RMSE:\", best_score)\n"
      ],
      "metadata": {
        "execution": {
          "iopub.status.busy": "2024-09-14T17:49:39.94698Z",
          "iopub.execute_input": "2024-09-14T17:49:39.94742Z"
        },
        "trusted": true,
        "id": "mfm4Y1Crz71w"
      },
      "execution_count": null,
      "outputs": []
    },
    {
      "cell_type": "code",
      "source": [
        "test_df = test_df.drop('price', axis=1)"
      ],
      "metadata": {
        "trusted": true,
        "id": "nxHfo2YDz71w"
      },
      "execution_count": null,
      "outputs": []
    },
    {
      "cell_type": "code",
      "source": [
        "test_X_encoded = cbe_encoder.transform(test_df)"
      ],
      "metadata": {
        "execution": {
          "iopub.status.busy": "2024-09-14T15:33:53.006505Z",
          "iopub.execute_input": "2024-09-14T15:33:53.006966Z",
          "iopub.status.idle": "2024-09-14T15:33:53.434121Z",
          "shell.execute_reply.started": "2024-09-14T15:33:53.006925Z",
          "shell.execute_reply": "2024-09-14T15:33:53.432761Z"
        },
        "trusted": true,
        "id": "sM1kY-Plz71w"
      },
      "execution_count": null,
      "outputs": []
    },
    {
      "cell_type": "code",
      "source": [
        "test_X_encoded"
      ],
      "metadata": {
        "execution": {
          "iopub.status.busy": "2024-09-14T15:33:56.596462Z",
          "iopub.execute_input": "2024-09-14T15:33:56.597538Z",
          "iopub.status.idle": "2024-09-14T15:33:56.620414Z",
          "shell.execute_reply.started": "2024-09-14T15:33:56.597489Z",
          "shell.execute_reply": "2024-09-14T15:33:56.619056Z"
        },
        "trusted": true,
        "id": "h0WjXcF0z71w",
        "outputId": "84b8488f-943e-4659-f69c-89e2df802bd2"
      },
      "execution_count": null,
      "outputs": [
        {
          "execution_count": 101,
          "output_type": "execute_result",
          "data": {
            "text/plain": "               brand         model  model_year  milage     fuel_type  \\\n188533  53203.900904  20058.765023        2015   98000  43362.451557   \n188534  53203.900904  74093.338315        2020    9142  55477.453445   \n188535  40512.115294  50409.071842        2022   28121  43362.451557   \n188536  41005.120868  28170.680579        2016   61258  43362.451557   \n188537  41005.120868  24805.152611        2018   59000  43362.451557   \n...              ...           ...         ...     ...           ...   \n314218  51244.015335  35601.178520        2014   83315  43362.451557   \n314219  41005.120868  57151.104279        2019   29336  43362.451557   \n314220  41005.120868  29456.968655        2012   77634  43362.451557   \n314221  41005.120868  34428.223121        2012  112000  43362.451557   \n314222  41836.880082  47551.404117        2018   66840  43362.451557   \n\n              engine  transmission       ext_col       int_col      accident  \n188533  20188.320019  25865.658244  40803.612790  29954.565848  49122.840862  \n188534  77381.065695  56442.140076  31879.111321  45524.102670  49122.840862  \n188535  56136.368430  63983.704271  40803.612790  49467.149954  49122.840862  \n188536  47609.679241  59587.105969  87287.295069  45524.102670  49122.840862  \n188537  30609.074948  31712.222924  47908.807742  45524.102670  49122.840862  \n...              ...           ...           ...           ...           ...  \n314218  47428.598343  47123.215642  42417.541462  45524.102670  49122.840862  \n314219  60148.862884  59587.105969  40803.612790  45524.102670  49122.840862  \n314220  26681.165921  31712.222924  42417.541462  45524.102670  49122.840862  \n314221  26681.165921  31712.222924  42417.541462  45524.102670  49122.840862  \n314222  36189.809996  31712.222924  31879.111321  45524.102670  49122.840862  \n\n[125690 rows x 10 columns]",
            "text/html": "<div>\n<style scoped>\n    .dataframe tbody tr th:only-of-type {\n        vertical-align: middle;\n    }\n\n    .dataframe tbody tr th {\n        vertical-align: top;\n    }\n\n    .dataframe thead th {\n        text-align: right;\n    }\n</style>\n<table border=\"1\" class=\"dataframe\">\n  <thead>\n    <tr style=\"text-align: right;\">\n      <th></th>\n      <th>brand</th>\n      <th>model</th>\n      <th>model_year</th>\n      <th>milage</th>\n      <th>fuel_type</th>\n      <th>engine</th>\n      <th>transmission</th>\n      <th>ext_col</th>\n      <th>int_col</th>\n      <th>accident</th>\n    </tr>\n  </thead>\n  <tbody>\n    <tr>\n      <th>188533</th>\n      <td>53203.900904</td>\n      <td>20058.765023</td>\n      <td>2015</td>\n      <td>98000</td>\n      <td>43362.451557</td>\n      <td>20188.320019</td>\n      <td>25865.658244</td>\n      <td>40803.612790</td>\n      <td>29954.565848</td>\n      <td>49122.840862</td>\n    </tr>\n    <tr>\n      <th>188534</th>\n      <td>53203.900904</td>\n      <td>74093.338315</td>\n      <td>2020</td>\n      <td>9142</td>\n      <td>55477.453445</td>\n      <td>77381.065695</td>\n      <td>56442.140076</td>\n      <td>31879.111321</td>\n      <td>45524.102670</td>\n      <td>49122.840862</td>\n    </tr>\n    <tr>\n      <th>188535</th>\n      <td>40512.115294</td>\n      <td>50409.071842</td>\n      <td>2022</td>\n      <td>28121</td>\n      <td>43362.451557</td>\n      <td>56136.368430</td>\n      <td>63983.704271</td>\n      <td>40803.612790</td>\n      <td>49467.149954</td>\n      <td>49122.840862</td>\n    </tr>\n    <tr>\n      <th>188536</th>\n      <td>41005.120868</td>\n      <td>28170.680579</td>\n      <td>2016</td>\n      <td>61258</td>\n      <td>43362.451557</td>\n      <td>47609.679241</td>\n      <td>59587.105969</td>\n      <td>87287.295069</td>\n      <td>45524.102670</td>\n      <td>49122.840862</td>\n    </tr>\n    <tr>\n      <th>188537</th>\n      <td>41005.120868</td>\n      <td>24805.152611</td>\n      <td>2018</td>\n      <td>59000</td>\n      <td>43362.451557</td>\n      <td>30609.074948</td>\n      <td>31712.222924</td>\n      <td>47908.807742</td>\n      <td>45524.102670</td>\n      <td>49122.840862</td>\n    </tr>\n    <tr>\n      <th>...</th>\n      <td>...</td>\n      <td>...</td>\n      <td>...</td>\n      <td>...</td>\n      <td>...</td>\n      <td>...</td>\n      <td>...</td>\n      <td>...</td>\n      <td>...</td>\n      <td>...</td>\n    </tr>\n    <tr>\n      <th>314218</th>\n      <td>51244.015335</td>\n      <td>35601.178520</td>\n      <td>2014</td>\n      <td>83315</td>\n      <td>43362.451557</td>\n      <td>47428.598343</td>\n      <td>47123.215642</td>\n      <td>42417.541462</td>\n      <td>45524.102670</td>\n      <td>49122.840862</td>\n    </tr>\n    <tr>\n      <th>314219</th>\n      <td>41005.120868</td>\n      <td>57151.104279</td>\n      <td>2019</td>\n      <td>29336</td>\n      <td>43362.451557</td>\n      <td>60148.862884</td>\n      <td>59587.105969</td>\n      <td>40803.612790</td>\n      <td>45524.102670</td>\n      <td>49122.840862</td>\n    </tr>\n    <tr>\n      <th>314220</th>\n      <td>41005.120868</td>\n      <td>29456.968655</td>\n      <td>2012</td>\n      <td>77634</td>\n      <td>43362.451557</td>\n      <td>26681.165921</td>\n      <td>31712.222924</td>\n      <td>42417.541462</td>\n      <td>45524.102670</td>\n      <td>49122.840862</td>\n    </tr>\n    <tr>\n      <th>314221</th>\n      <td>41005.120868</td>\n      <td>34428.223121</td>\n      <td>2012</td>\n      <td>112000</td>\n      <td>43362.451557</td>\n      <td>26681.165921</td>\n      <td>31712.222924</td>\n      <td>42417.541462</td>\n      <td>45524.102670</td>\n      <td>49122.840862</td>\n    </tr>\n    <tr>\n      <th>314222</th>\n      <td>41836.880082</td>\n      <td>47551.404117</td>\n      <td>2018</td>\n      <td>66840</td>\n      <td>43362.451557</td>\n      <td>36189.809996</td>\n      <td>31712.222924</td>\n      <td>31879.111321</td>\n      <td>45524.102670</td>\n      <td>49122.840862</td>\n    </tr>\n  </tbody>\n</table>\n<p>125690 rows × 10 columns</p>\n</div>"
          },
          "metadata": {}
        }
      ]
    },
    {
      "cell_type": "code",
      "source": [
        "test_id = pd.read_csv('/kaggle/input/playground-series-s4e9/sample_submission.csv')\n",
        "predictions = clf_catboost.predict(test_X_encoded)\n",
        "test_id['price'] = predictions\n",
        "test_id.to_csv('submission_catboost_1.csv', index=False)"
      ],
      "metadata": {
        "execution": {
          "iopub.status.busy": "2024-09-14T15:34:30.451646Z",
          "iopub.execute_input": "2024-09-14T15:34:30.452098Z",
          "iopub.status.idle": "2024-09-14T15:34:30.968974Z",
          "shell.execute_reply.started": "2024-09-14T15:34:30.452055Z",
          "shell.execute_reply": "2024-09-14T15:34:30.967489Z"
        },
        "trusted": true,
        "id": "DuLl0_vQz71w"
      },
      "execution_count": null,
      "outputs": []
    },
    {
      "cell_type": "code",
      "source": [
        "test_id.head(10)"
      ],
      "metadata": {
        "execution": {
          "iopub.status.busy": "2024-09-14T15:34:33.823998Z",
          "iopub.execute_input": "2024-09-14T15:34:33.824457Z",
          "iopub.status.idle": "2024-09-14T15:34:33.83702Z",
          "shell.execute_reply.started": "2024-09-14T15:34:33.824413Z",
          "shell.execute_reply": "2024-09-14T15:34:33.835709Z"
        },
        "trusted": true,
        "id": "XVGaAXtTz71w",
        "outputId": "e622df11-145a-40db-82e6-12cb59dbfbc2"
      },
      "execution_count": null,
      "outputs": [
        {
          "execution_count": 112,
          "output_type": "execute_result",
          "data": {
            "text/plain": "       id         price\n0  188533  17857.738751\n1  188534  75021.669290\n2  188535  56729.277552\n3  188536  33511.735326\n4  188537  32236.218115\n5  188538  15636.311395\n6  188539  13144.278618\n7  188540  51160.070443\n8  188541  63515.107894\n9  188542  34495.890348",
            "text/html": "<div>\n<style scoped>\n    .dataframe tbody tr th:only-of-type {\n        vertical-align: middle;\n    }\n\n    .dataframe tbody tr th {\n        vertical-align: top;\n    }\n\n    .dataframe thead th {\n        text-align: right;\n    }\n</style>\n<table border=\"1\" class=\"dataframe\">\n  <thead>\n    <tr style=\"text-align: right;\">\n      <th></th>\n      <th>id</th>\n      <th>price</th>\n    </tr>\n  </thead>\n  <tbody>\n    <tr>\n      <th>0</th>\n      <td>188533</td>\n      <td>17857.738751</td>\n    </tr>\n    <tr>\n      <th>1</th>\n      <td>188534</td>\n      <td>75021.669290</td>\n    </tr>\n    <tr>\n      <th>2</th>\n      <td>188535</td>\n      <td>56729.277552</td>\n    </tr>\n    <tr>\n      <th>3</th>\n      <td>188536</td>\n      <td>33511.735326</td>\n    </tr>\n    <tr>\n      <th>4</th>\n      <td>188537</td>\n      <td>32236.218115</td>\n    </tr>\n    <tr>\n      <th>5</th>\n      <td>188538</td>\n      <td>15636.311395</td>\n    </tr>\n    <tr>\n      <th>6</th>\n      <td>188539</td>\n      <td>13144.278618</td>\n    </tr>\n    <tr>\n      <th>7</th>\n      <td>188540</td>\n      <td>51160.070443</td>\n    </tr>\n    <tr>\n      <th>8</th>\n      <td>188541</td>\n      <td>63515.107894</td>\n    </tr>\n    <tr>\n      <th>9</th>\n      <td>188542</td>\n      <td>34495.890348</td>\n    </tr>\n  </tbody>\n</table>\n</div>"
          },
          "metadata": {}
        }
      ]
    }
  ]
}