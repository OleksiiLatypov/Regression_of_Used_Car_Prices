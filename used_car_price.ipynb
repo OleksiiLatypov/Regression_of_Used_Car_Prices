{
  "metadata": {
    "kernelspec": {
      "language": "python",
      "display_name": "Python 3",
      "name": "python3"
    },
    "language_info": {
      "name": "python",
      "version": "3.10.14",
      "mimetype": "text/x-python",
      "codemirror_mode": {
        "name": "ipython",
        "version": 3
      },
      "pygments_lexer": "ipython3",
      "nbconvert_exporter": "python",
      "file_extension": ".py"
    },
    "kaggle": {
      "accelerator": "none",
      "dataSources": [
        {
          "sourceId": 76728,
          "databundleVersionId": 9057646,
          "sourceType": "competition"
        }
      ],
      "dockerImageVersionId": 30761,
      "isInternetEnabled": true,
      "language": "python",
      "sourceType": "notebook",
      "isGpuEnabled": false
    },
    "colab": {
      "name": "used_car_price",
      "provenance": [],
      "include_colab_link": true
    }
  },
  "nbformat_minor": 0,
  "nbformat": 4,
  "cells": [
    {
      "cell_type": "markdown",
      "metadata": {
        "id": "view-in-github",
        "colab_type": "text"
      },
      "source": [
        "<a href=\"https://colab.research.google.com/github/OleksiiLatypov/Regression_of_Used_Car_Prices/blob/main/used_car_price.ipynb\" target=\"_parent\"><img src=\"https://colab.research.google.com/assets/colab-badge.svg\" alt=\"Open In Colab\"/></a>"
      ]
    },
    {
      "source": [
        "\n",
        "# IMPORTANT: RUN THIS CELL IN ORDER TO IMPORT YOUR KAGGLE DATA SOURCES\n",
        "# TO THE CORRECT LOCATION (/kaggle/input) IN YOUR NOTEBOOK,\n",
        "# THEN FEEL FREE TO DELETE THIS CELL.\n",
        "# NOTE: THIS NOTEBOOK ENVIRONMENT DIFFERS FROM KAGGLE'S PYTHON\n",
        "# ENVIRONMENT SO THERE MAY BE MISSING LIBRARIES USED BY YOUR\n",
        "# NOTEBOOK.\n",
        "\n",
        "import os\n",
        "import sys\n",
        "from tempfile import NamedTemporaryFile\n",
        "from urllib.request import urlopen\n",
        "from urllib.parse import unquote, urlparse\n",
        "from urllib.error import HTTPError\n",
        "from zipfile import ZipFile\n",
        "import tarfile\n",
        "import shutil\n",
        "\n",
        "CHUNK_SIZE = 40960\n",
        "DATA_SOURCE_MAPPING = 'playground-series-s4e9:https%3A%2F%2Fstorage.googleapis.com%2Fkaggle-competitions-data%2Fkaggle-v2%2F76728%2F9057646%2Fbundle%2Farchive.zip%3FX-Goog-Algorithm%3DGOOG4-RSA-SHA256%26X-Goog-Credential%3Dgcp-kaggle-com%2540kaggle-161607.iam.gserviceaccount.com%252F20240914%252Fauto%252Fstorage%252Fgoog4_request%26X-Goog-Date%3D20240914T183307Z%26X-Goog-Expires%3D259200%26X-Goog-SignedHeaders%3Dhost%26X-Goog-Signature%3D94a6da211f95857ee004528fa741db3be1cff436ebdbbf1909564d1ab02f496731f95127a2a962e5bfc2cb9777527b276f0ba8dae16840fff51113fe7f7fd17946a78a007492a700d2aabca5e63114a495bfe6ff60373c922f1a804741e85dfa50e909a0626d49aed58b9d4f008cbad9183b5548595c0ef3874737850e852950c7c85d7eb438d9fe483f13947f01f039284d505bcd131f1b8249c6ed7196a71c5c3e4948df203755423f9afcbbfe6d833b7c5e1a24e97a2e466d9d13d29ea5606fb8c4530d6e409fdd03a86d13d53bed0c4b22861a248bbd3e524ac831aa03080d4cfa31ddc7915d405dbd40472ea811ae1c9c17b1399b7d763ac9ef960eeafa'\n",
        "\n",
        "KAGGLE_INPUT_PATH='/kaggle/input'\n",
        "KAGGLE_WORKING_PATH='/kaggle/working'\n",
        "KAGGLE_SYMLINK='kaggle'\n",
        "\n",
        "!umount /kaggle/input/ 2> /dev/null\n",
        "shutil.rmtree('/kaggle/input', ignore_errors=True)\n",
        "os.makedirs(KAGGLE_INPUT_PATH, 0o777, exist_ok=True)\n",
        "os.makedirs(KAGGLE_WORKING_PATH, 0o777, exist_ok=True)\n",
        "\n",
        "try:\n",
        "  os.symlink(KAGGLE_INPUT_PATH, os.path.join(\"..\", 'input'), target_is_directory=True)\n",
        "except FileExistsError:\n",
        "  pass\n",
        "try:\n",
        "  os.symlink(KAGGLE_WORKING_PATH, os.path.join(\"..\", 'working'), target_is_directory=True)\n",
        "except FileExistsError:\n",
        "  pass\n",
        "\n",
        "for data_source_mapping in DATA_SOURCE_MAPPING.split(','):\n",
        "    directory, download_url_encoded = data_source_mapping.split(':')\n",
        "    download_url = unquote(download_url_encoded)\n",
        "    filename = urlparse(download_url).path\n",
        "    destination_path = os.path.join(KAGGLE_INPUT_PATH, directory)\n",
        "    try:\n",
        "        with urlopen(download_url) as fileres, NamedTemporaryFile() as tfile:\n",
        "            total_length = fileres.headers['content-length']\n",
        "            print(f'Downloading {directory}, {total_length} bytes compressed')\n",
        "            dl = 0\n",
        "            data = fileres.read(CHUNK_SIZE)\n",
        "            while len(data) > 0:\n",
        "                dl += len(data)\n",
        "                tfile.write(data)\n",
        "                done = int(50 * dl / int(total_length))\n",
        "                sys.stdout.write(f\"\\r[{'=' * done}{' ' * (50-done)}] {dl} bytes downloaded\")\n",
        "                sys.stdout.flush()\n",
        "                data = fileres.read(CHUNK_SIZE)\n",
        "            if filename.endswith('.zip'):\n",
        "              with ZipFile(tfile) as zfile:\n",
        "                zfile.extractall(destination_path)\n",
        "            else:\n",
        "              with tarfile.open(tfile.name) as tarfile:\n",
        "                tarfile.extractall(destination_path)\n",
        "            print(f'\\nDownloaded and uncompressed: {directory}')\n",
        "    except HTTPError as e:\n",
        "        print(f'Failed to load (likely expired) {download_url} to path {destination_path}')\n",
        "        continue\n",
        "    except OSError as e:\n",
        "        print(f'Failed to load {download_url} to path {destination_path}')\n",
        "        continue\n",
        "\n",
        "print('Data source import complete.')\n"
      ],
      "metadata": {
        "id": "Kbfp0Tw6z3Fr"
      },
      "cell_type": "code",
      "outputs": [],
      "execution_count": null
    },
    {
      "cell_type": "code",
      "source": [
        "# This Python 3 environment comes with many helpful analytics libraries installed\n",
        "# It is defined by the kaggle/python Docker image: https://github.com/kaggle/docker-python\n",
        "# For example, here's several helpful packages to load\n",
        "\n",
        "import numpy as np # linear algebra\n",
        "import pandas as pd # data processing, CSV file I/O (e.g. pd.read_csv)\n",
        "import seaborn as sns\n",
        "from sklearn.model_selection import train_test_split, KFold, cross_val_score\n",
        "import matplotlib.pyplot as plt\n",
        "import re\n",
        "from datetime import datetime\n",
        "# Input data files are available in the read-only \"../input/\" directory\n",
        "# For example, running this (by clicking run or pressing Shift+Enter) will list all files under the input directory\n",
        "from sklearn.preprocessing import MinMaxScaler, LabelEncoder, StandardScaler\n",
        "from sklearn.linear_model import Lasso, Ridge, SGDRegressor, LinearRegression\n",
        "import category_encoders as ce\n",
        "\n",
        "import os\n",
        "for dirname, _, filenames in os.walk('/kaggle/input'):\n",
        "    for filename in filenames:\n",
        "        print(os.path.join(dirname, filename))\n",
        "\n",
        "# You can write up to 20GB to the current directory (/kaggle/working/) that gets preserved as output when you create a version using \"Save & Run All\"\n",
        "# You can also write temporary files to /kaggle/temp/, but they won't be saved outside of the current session"
      ],
      "metadata": {
        "_uuid": "8f2839f25d086af736a60e9eeb907d3b93b6e0e5",
        "_cell_guid": "b1076dfc-b9ad-4769-8c92-a6c4dae69d19",
        "execution": {
          "iopub.status.busy": "2024-09-14T17:34:48.934244Z",
          "iopub.execute_input": "2024-09-14T17:34:48.934692Z",
          "iopub.status.idle": "2024-09-14T17:34:48.952471Z",
          "shell.execute_reply.started": "2024-09-14T17:34:48.934651Z",
          "shell.execute_reply": "2024-09-14T17:34:48.951325Z"
        },
        "trusted": true,
        "id": "G8JektPjz3Fu"
      },
      "execution_count": null,
      "outputs": []
    },
    {
      "cell_type": "code",
      "source": [
        "train = pd.read_csv('/kaggle/input/playground-series-s4e9/train.csv')\n",
        "test = pd.read_csv('/kaggle/input/playground-series-s4e9/test.csv')"
      ],
      "metadata": {
        "execution": {
          "iopub.status.busy": "2024-09-14T17:34:53.390835Z",
          "iopub.execute_input": "2024-09-14T17:34:53.39127Z",
          "iopub.status.idle": "2024-09-14T17:34:54.251811Z",
          "shell.execute_reply.started": "2024-09-14T17:34:53.391228Z",
          "shell.execute_reply": "2024-09-14T17:34:54.250601Z"
        },
        "trusted": true,
        "id": "-In6nAG7z3Fu"
      },
      "execution_count": null,
      "outputs": []
    },
    {
      "cell_type": "code",
      "source": [
        "train = train.drop('id', axis=1)\n",
        "test = test.drop('id', axis=1)"
      ],
      "metadata": {
        "execution": {
          "iopub.status.busy": "2024-09-14T17:34:56.465949Z",
          "iopub.execute_input": "2024-09-14T17:34:56.467389Z",
          "iopub.status.idle": "2024-09-14T17:34:56.512076Z",
          "shell.execute_reply.started": "2024-09-14T17:34:56.467308Z",
          "shell.execute_reply": "2024-09-14T17:34:56.510817Z"
        },
        "trusted": true,
        "id": "CSZ0zKNWz3Fv"
      },
      "execution_count": null,
      "outputs": []
    },
    {
      "cell_type": "code",
      "source": [
        "train.shape"
      ],
      "metadata": {
        "execution": {
          "iopub.status.busy": "2024-09-14T17:34:58.372678Z",
          "iopub.execute_input": "2024-09-14T17:34:58.373116Z",
          "iopub.status.idle": "2024-09-14T17:34:58.380891Z",
          "shell.execute_reply.started": "2024-09-14T17:34:58.373075Z",
          "shell.execute_reply": "2024-09-14T17:34:58.37951Z"
        },
        "trusted": true,
        "id": "5VrLmf0ez3Fv"
      },
      "execution_count": null,
      "outputs": []
    },
    {
      "cell_type": "code",
      "source": [
        "train.info()"
      ],
      "metadata": {
        "execution": {
          "iopub.status.busy": "2024-09-14T17:35:00.324889Z",
          "iopub.execute_input": "2024-09-14T17:35:00.325429Z",
          "iopub.status.idle": "2024-09-14T17:35:00.428602Z",
          "shell.execute_reply.started": "2024-09-14T17:35:00.325364Z",
          "shell.execute_reply": "2024-09-14T17:35:00.427285Z"
        },
        "trusted": true,
        "id": "ie7LJRi9z3Fv"
      },
      "execution_count": null,
      "outputs": []
    },
    {
      "cell_type": "code",
      "source": [
        "test.shape"
      ],
      "metadata": {
        "execution": {
          "iopub.status.busy": "2024-09-14T17:35:02.796466Z",
          "iopub.execute_input": "2024-09-14T17:35:02.796932Z",
          "iopub.status.idle": "2024-09-14T17:35:02.804421Z",
          "shell.execute_reply.started": "2024-09-14T17:35:02.79689Z",
          "shell.execute_reply": "2024-09-14T17:35:02.803268Z"
        },
        "trusted": true,
        "id": "dsEXN8x5z3Fv"
      },
      "execution_count": null,
      "outputs": []
    },
    {
      "cell_type": "code",
      "source": [
        "train['engine'][35:95]"
      ],
      "metadata": {
        "execution": {
          "iopub.status.busy": "2024-09-14T17:35:05.012013Z",
          "iopub.execute_input": "2024-09-14T17:35:05.012488Z",
          "iopub.status.idle": "2024-09-14T17:35:05.021737Z",
          "shell.execute_reply.started": "2024-09-14T17:35:05.012446Z",
          "shell.execute_reply": "2024-09-14T17:35:05.020572Z"
        },
        "trusted": true,
        "id": "-6UiLceHz3Fw"
      },
      "execution_count": null,
      "outputs": []
    },
    {
      "cell_type": "code",
      "source": [
        "train.describe()"
      ],
      "metadata": {
        "execution": {
          "iopub.status.busy": "2024-09-14T17:35:08.477133Z",
          "iopub.execute_input": "2024-09-14T17:35:08.477603Z",
          "iopub.status.idle": "2024-09-14T17:35:08.516736Z",
          "shell.execute_reply.started": "2024-09-14T17:35:08.477549Z",
          "shell.execute_reply": "2024-09-14T17:35:08.515387Z"
        },
        "trusted": true,
        "id": "mm1nKK6bz3Fw"
      },
      "execution_count": null,
      "outputs": []
    },
    {
      "cell_type": "code",
      "source": [
        "train.describe(include='object')"
      ],
      "metadata": {
        "execution": {
          "iopub.status.busy": "2024-09-14T17:35:11.072902Z",
          "iopub.execute_input": "2024-09-14T17:35:11.07333Z",
          "iopub.status.idle": "2024-09-14T17:35:11.32493Z",
          "shell.execute_reply.started": "2024-09-14T17:35:11.073293Z",
          "shell.execute_reply": "2024-09-14T17:35:11.323588Z"
        },
        "trusted": true,
        "id": "e4TVUu7Qz3Fx"
      },
      "execution_count": null,
      "outputs": []
    },
    {
      "cell_type": "code",
      "source": [
        "100* (train.isna().sum() / len(train)).sort_values(ascending=False)"
      ],
      "metadata": {
        "execution": {
          "iopub.status.busy": "2024-09-14T17:35:13.37556Z",
          "iopub.execute_input": "2024-09-14T17:35:13.376023Z",
          "iopub.status.idle": "2024-09-14T17:35:13.46397Z",
          "shell.execute_reply.started": "2024-09-14T17:35:13.375981Z",
          "shell.execute_reply": "2024-09-14T17:35:13.462696Z"
        },
        "trusted": true,
        "id": "vi_8l0Pjz3Fx"
      },
      "execution_count": null,
      "outputs": []
    },
    {
      "cell_type": "code",
      "source": [
        "sns.displot(np.log(train['price']), kde=True)"
      ],
      "metadata": {
        "execution": {
          "iopub.status.busy": "2024-09-14T17:35:20.513879Z",
          "iopub.execute_input": "2024-09-14T17:35:20.514313Z",
          "iopub.status.idle": "2024-09-14T17:35:22.97877Z",
          "shell.execute_reply.started": "2024-09-14T17:35:20.514272Z",
          "shell.execute_reply": "2024-09-14T17:35:22.97747Z"
        },
        "trusted": true,
        "id": "HEgpwuYBz3Fx"
      },
      "execution_count": null,
      "outputs": []
    },
    {
      "cell_type": "code",
      "source": [
        "train['clean_title'].value_counts()"
      ],
      "metadata": {
        "execution": {
          "iopub.status.busy": "2024-09-14T17:35:41.319804Z",
          "iopub.execute_input": "2024-09-14T17:35:41.320978Z",
          "iopub.status.idle": "2024-09-14T17:35:41.34319Z",
          "shell.execute_reply.started": "2024-09-14T17:35:41.320919Z",
          "shell.execute_reply": "2024-09-14T17:35:41.34188Z"
        },
        "trusted": true,
        "id": "R2S5Vy9dz3Fx"
      },
      "execution_count": null,
      "outputs": []
    },
    {
      "cell_type": "code",
      "source": [
        "df = pd.concat([train, test], axis=0, ignore_index=True)"
      ],
      "metadata": {
        "execution": {
          "iopub.status.busy": "2024-09-14T17:35:43.340048Z",
          "iopub.execute_input": "2024-09-14T17:35:43.340533Z",
          "iopub.status.idle": "2024-09-14T17:35:43.364037Z",
          "shell.execute_reply.started": "2024-09-14T17:35:43.340483Z",
          "shell.execute_reply": "2024-09-14T17:35:43.362771Z"
        },
        "trusted": true,
        "id": "Z-r1SAN3z3Fx"
      },
      "execution_count": null,
      "outputs": []
    },
    {
      "cell_type": "code",
      "source": [
        "df['brand'].unique()"
      ],
      "metadata": {
        "execution": {
          "iopub.status.busy": "2024-09-14T17:35:45.59092Z",
          "iopub.execute_input": "2024-09-14T17:35:45.591356Z",
          "iopub.status.idle": "2024-09-14T17:35:45.621386Z",
          "shell.execute_reply.started": "2024-09-14T17:35:45.591312Z",
          "shell.execute_reply": "2024-09-14T17:35:45.619972Z"
        },
        "trusted": true,
        "id": "86mS3rWFz3Fx"
      },
      "execution_count": null,
      "outputs": []
    },
    {
      "cell_type": "code",
      "source": [
        "avarage_price_by_brand = train.groupby('brand')['price'].agg(['mean', 'median'])\n",
        "avarage_price_by_brand.sort_values(by='median', ascending=False).astype('int')"
      ],
      "metadata": {
        "execution": {
          "iopub.status.busy": "2024-09-14T17:35:47.61383Z",
          "iopub.execute_input": "2024-09-14T17:35:47.615024Z",
          "iopub.status.idle": "2024-09-14T17:35:47.654545Z",
          "shell.execute_reply.started": "2024-09-14T17:35:47.614973Z",
          "shell.execute_reply": "2024-09-14T17:35:47.653436Z"
        },
        "trusted": true,
        "id": "-lZerQz7z3Fx"
      },
      "execution_count": null,
      "outputs": []
    },
    {
      "cell_type": "code",
      "source": [
        "lux_auto = [\n",
        "    \"Mercedes-Benz\",\n",
        "    \"Audi\",\n",
        "    \"BMW\",\n",
        "    \"Tesla\",\n",
        "    \"Cadillac\",\n",
        "    \"Land Rover\",\n",
        "    \"Porsche\",\n",
        "    \"Lexus\",\n",
        "    \"INFINITI\",\n",
        "    \"Jaguar\",\n",
        "    \"Rolls-Royce\",\n",
        "    \"Bentley\",\n",
        "    \"Ferrari\",\n",
        "    \"Aston Martin\",\n",
        "    \"Lamborghini\",\n",
        "    \"Bugatti\",\n",
        "    \"Maserati\",\n",
        "    \"Lucid\",\n",
        "    \"Polestar\",\n",
        "    \"Maybach\",\n",
        "    \"Lincoln\"\n",
        "]"
      ],
      "metadata": {
        "execution": {
          "iopub.status.busy": "2024-09-14T15:23:47.508521Z",
          "iopub.execute_input": "2024-09-14T15:23:47.50896Z",
          "iopub.status.idle": "2024-09-14T15:23:47.514865Z",
          "shell.execute_reply.started": "2024-09-14T15:23:47.508919Z",
          "shell.execute_reply": "2024-09-14T15:23:47.513465Z"
        },
        "trusted": true,
        "id": "ln62ypVQz3Fy"
      },
      "execution_count": null,
      "outputs": []
    },
    {
      "cell_type": "code",
      "source": [
        "df['premium_auto'] = df['brand'].apply(lambda x: 1 if x in lux_auto else 0)\n",
        "df.head()"
      ],
      "metadata": {
        "execution": {
          "iopub.status.busy": "2024-09-14T17:35:54.393232Z",
          "iopub.execute_input": "2024-09-14T17:35:54.393689Z",
          "iopub.status.idle": "2024-09-14T17:35:54.597916Z",
          "shell.execute_reply.started": "2024-09-14T17:35:54.393649Z",
          "shell.execute_reply": "2024-09-14T17:35:54.596734Z"
        },
        "trusted": true,
        "id": "uoYrhhNnz3Fy"
      },
      "execution_count": null,
      "outputs": []
    },
    {
      "cell_type": "code",
      "source": [
        "horsepower = []\n",
        "engine_volume = []\n",
        "num_of_cylinders = []\n",
        "for row in df['engine']:\n",
        "    #print(row)\n",
        "    hp = re.search(r'(\\d+\\.?\\d*)HP', row)\n",
        "    #print(hp)\n",
        "    if hp:\n",
        "        horsepower.append(float(hp.group(1)))\n",
        "    else:\n",
        "        horsepower.append(0)\n",
        "\n",
        "    volume = re.search(r'(\\d+\\.?\\d*)L', row)\n",
        "    if volume:\n",
        "        engine_volume.append(float(volume.group(1)))\n",
        "    else:\n",
        "        engine_volume.append(0)\n",
        "\n",
        "    cylinder = re.search(r'(\\d+)\\s*Cylinder|V(\\d+)', row, re.IGNORECASE)\n",
        "\n",
        "    if cylinder:\n",
        "        # If we find a numeric cylinder, use that\n",
        "        if cylinder.group(1):\n",
        "            num_of_cylinders.append(float(cylinder.group(1)))\n",
        "        # If we find a V-style code, use the number after 'V'\n",
        "        elif cylinder.group(2):\n",
        "            num_of_cylinders.append(float(cylinder.group(2)))\n",
        "    else:\n",
        "        # If no match is found, default to 0\n",
        "        num_of_cylinders.append(0)\n",
        "\n",
        "df['horsepower'] =horsepower\n",
        "df['engine_volume'] = engine_volume\n",
        "df['num_of_cylinders'] = num_of_cylinders\n",
        ""
      ],
      "metadata": {
        "execution": {
          "iopub.status.busy": "2024-09-14T17:35:57.955645Z",
          "iopub.execute_input": "2024-09-14T17:35:57.956231Z",
          "iopub.status.idle": "2024-09-14T17:36:00.50166Z",
          "shell.execute_reply.started": "2024-09-14T17:35:57.956181Z",
          "shell.execute_reply": "2024-09-14T17:36:00.500594Z"
        },
        "trusted": true,
        "id": "nYjqz8uUz3Fy"
      },
      "execution_count": null,
      "outputs": []
    },
    {
      "cell_type": "code",
      "source": [
        "#df[35:62]"
      ],
      "metadata": {
        "execution": {
          "iopub.status.busy": "2024-09-13T23:27:25.07088Z",
          "iopub.execute_input": "2024-09-13T23:27:25.071372Z",
          "iopub.status.idle": "2024-09-13T23:27:25.076916Z",
          "shell.execute_reply.started": "2024-09-13T23:27:25.071327Z",
          "shell.execute_reply": "2024-09-13T23:27:25.075286Z"
        },
        "trusted": true,
        "id": "nvSVwuR_z3Fy"
      },
      "execution_count": null,
      "outputs": []
    },
    {
      "cell_type": "code",
      "source": [
        "df['num_of_cylinders'].nunique()"
      ],
      "metadata": {
        "execution": {
          "iopub.status.busy": "2024-09-14T17:36:25.511406Z",
          "iopub.execute_input": "2024-09-14T17:36:25.511865Z",
          "iopub.status.idle": "2024-09-14T17:36:25.523881Z",
          "shell.execute_reply.started": "2024-09-14T17:36:25.511823Z",
          "shell.execute_reply": "2024-09-14T17:36:25.522631Z"
        },
        "trusted": true,
        "id": "lEphkElzz3Fy"
      },
      "execution_count": null,
      "outputs": []
    },
    {
      "cell_type": "code",
      "source": [
        "df[df['fuel_type'] == 'not supported']"
      ],
      "metadata": {
        "execution": {
          "iopub.status.busy": "2024-09-14T17:36:29.163238Z",
          "iopub.execute_input": "2024-09-14T17:36:29.163675Z",
          "iopub.status.idle": "2024-09-14T17:36:29.22314Z",
          "shell.execute_reply.started": "2024-09-14T17:36:29.163637Z",
          "shell.execute_reply": "2024-09-14T17:36:29.221653Z"
        },
        "trusted": true,
        "id": "ofIWHMAmz3Fz"
      },
      "execution_count": null,
      "outputs": []
    },
    {
      "cell_type": "code",
      "source": [
        "to_replace = []\n",
        "for row in df.loc[df['fuel_type'] == 'not supported', 'engine']:\n",
        "    fuel = re.search(r'(Gasoline|Diesel|Hybrid|Flex Fuel|Electric|Plug-In Hybrid)', row)\n",
        "    if fuel.group(1) == 'Flex Fuel':\n",
        "        to_replace.append('E85 Flex Fuel')\n",
        "    else:\n",
        "        to_replace.append(fuel.group(1))\n",
        "print(to_replace)"
      ],
      "metadata": {
        "execution": {
          "iopub.status.busy": "2024-09-14T17:36:35.332975Z",
          "iopub.execute_input": "2024-09-14T17:36:35.333446Z",
          "iopub.status.idle": "2024-09-14T17:36:35.36544Z",
          "shell.execute_reply.started": "2024-09-14T17:36:35.333401Z",
          "shell.execute_reply": "2024-09-14T17:36:35.363914Z"
        },
        "trusted": true,
        "id": "_eoKY8JWz3Fz"
      },
      "execution_count": null,
      "outputs": []
    },
    {
      "cell_type": "code",
      "source": [
        "df.loc[df['fuel_type'] == 'not supported', 'fuel_type'] = to_replace"
      ],
      "metadata": {
        "execution": {
          "iopub.status.busy": "2024-09-14T17:36:37.691281Z",
          "iopub.execute_input": "2024-09-14T17:36:37.692158Z",
          "iopub.status.idle": "2024-09-14T17:36:37.72483Z",
          "shell.execute_reply.started": "2024-09-14T17:36:37.692112Z",
          "shell.execute_reply": "2024-09-14T17:36:37.723361Z"
        },
        "trusted": true,
        "id": "5NIHVHBxz3Fz"
      },
      "execution_count": null,
      "outputs": []
    },
    {
      "cell_type": "code",
      "source": [
        "df['fuel_type'].value_counts()"
      ],
      "metadata": {
        "execution": {
          "iopub.status.busy": "2024-09-14T17:36:40.195605Z",
          "iopub.execute_input": "2024-09-14T17:36:40.196021Z",
          "iopub.status.idle": "2024-09-14T17:36:40.229167Z",
          "shell.execute_reply.started": "2024-09-14T17:36:40.195984Z",
          "shell.execute_reply": "2024-09-14T17:36:40.22772Z"
        },
        "trusted": true,
        "id": "AOx_pj5gz3Fz"
      },
      "execution_count": null,
      "outputs": []
    },
    {
      "cell_type": "code",
      "source": [
        "df.loc[df['fuel_type'] == 'not supported', 'fuel_type']"
      ],
      "metadata": {
        "execution": {
          "iopub.status.busy": "2024-09-14T17:36:42.59584Z",
          "iopub.execute_input": "2024-09-14T17:36:42.596261Z",
          "iopub.status.idle": "2024-09-14T17:36:42.629351Z",
          "shell.execute_reply.started": "2024-09-14T17:36:42.596224Z",
          "shell.execute_reply": "2024-09-14T17:36:42.627977Z"
        },
        "trusted": true,
        "id": "URSRB9Qkz3Fz"
      },
      "execution_count": null,
      "outputs": []
    },
    {
      "cell_type": "code",
      "source": [
        "df[pd.isna(df['fuel_type'])].shape"
      ],
      "metadata": {
        "execution": {
          "iopub.status.busy": "2024-09-14T17:36:44.641279Z",
          "iopub.execute_input": "2024-09-14T17:36:44.641755Z",
          "iopub.status.idle": "2024-09-14T17:36:44.677573Z",
          "shell.execute_reply.started": "2024-09-14T17:36:44.641711Z",
          "shell.execute_reply": "2024-09-14T17:36:44.676415Z"
        },
        "trusted": true,
        "id": "aq4nFi5Gz3Fz"
      },
      "execution_count": null,
      "outputs": []
    },
    {
      "cell_type": "code",
      "source": [
        "df['fuel_type'].unique()"
      ],
      "metadata": {
        "execution": {
          "iopub.status.busy": "2024-09-14T17:36:46.734565Z",
          "iopub.execute_input": "2024-09-14T17:36:46.735798Z",
          "iopub.status.idle": "2024-09-14T17:36:46.756036Z",
          "shell.execute_reply.started": "2024-09-14T17:36:46.735732Z",
          "shell.execute_reply": "2024-09-14T17:36:46.754925Z"
        },
        "trusted": true,
        "id": "Z7PUQjjyz3Fz"
      },
      "execution_count": null,
      "outputs": []
    },
    {
      "cell_type": "code",
      "source": [
        "fuel = df[pd.isna(df['fuel_type'])]\n",
        "type_of_fuel = []\n",
        "for col in fuel['engine']:\n",
        "    #print(col)\n",
        "    if 'Hybrid' in col:\n",
        "        type_of_fuel.append('Hybrid')\n",
        "        #print('hybrid')\n",
        "    elif 'Gasoline' in col:\n",
        "        type_of_fuel.append('Gasoline')\n",
        "        #print('gas')\n",
        "    elif 'Flex Fuel' in col:\n",
        "        type_of_fuel.append('E85 Flex Fuel')\n",
        "        #print('flex')\n",
        "    elif 'Diesel' in col:\n",
        "        type_of_fuel.append('Diesel')\n",
        "        #print('diesel')\n",
        "    else:\n",
        "        type_of_fuel.append('Electric')\n",
        "\n",
        "print(len(type_of_fuel))\n",
        "\n",
        "nan_indices = df[pd.isna(df['fuel_type'])].index\n",
        "df.loc[nan_indices, 'fuel_type'] = type_of_fuel"
      ],
      "metadata": {
        "execution": {
          "iopub.status.busy": "2024-09-14T17:36:48.835782Z",
          "iopub.execute_input": "2024-09-14T17:36:48.836862Z",
          "iopub.status.idle": "2024-09-14T17:36:48.903305Z",
          "shell.execute_reply.started": "2024-09-14T17:36:48.836815Z",
          "shell.execute_reply": "2024-09-14T17:36:48.901912Z"
        },
        "trusted": true,
        "id": "4tHJgmyvz3Fz"
      },
      "execution_count": null,
      "outputs": []
    },
    {
      "cell_type": "code",
      "source": [
        "df['age'] = datetime.now().year - df['model_year']"
      ],
      "metadata": {
        "execution": {
          "iopub.status.busy": "2024-09-14T17:36:52.0575Z",
          "iopub.execute_input": "2024-09-14T17:36:52.057964Z",
          "iopub.status.idle": "2024-09-14T17:36:52.065314Z",
          "shell.execute_reply.started": "2024-09-14T17:36:52.057922Z",
          "shell.execute_reply": "2024-09-14T17:36:52.064001Z"
        },
        "trusted": true,
        "id": "id6Qp1iQz3Fz"
      },
      "execution_count": null,
      "outputs": []
    },
    {
      "cell_type": "code",
      "source": [
        "df['transmission'].value_counts()"
      ],
      "metadata": {
        "execution": {
          "iopub.status.busy": "2024-09-14T17:36:54.574793Z",
          "iopub.execute_input": "2024-09-14T17:36:54.575242Z",
          "iopub.status.idle": "2024-09-14T17:36:54.609528Z",
          "shell.execute_reply.started": "2024-09-14T17:36:54.575201Z",
          "shell.execute_reply": "2024-09-14T17:36:54.608344Z"
        },
        "trusted": true,
        "id": "Fi0C5SMNz3Fz"
      },
      "execution_count": null,
      "outputs": []
    },
    {
      "cell_type": "code",
      "source": [
        "df[df['transmission'] == 'Single-Speed Fixed Gear']"
      ],
      "metadata": {
        "trusted": true,
        "id": "l5BfR4REz3F0"
      },
      "execution_count": null,
      "outputs": []
    },
    {
      "cell_type": "code",
      "source": [
        "num_of_speed = []\n",
        "type_trans = []\n",
        "for row in df['transmission']:\n",
        "#     speed = re.search(r'(\\d+)\\s*[-/]*\\s*Speed', row, re.IGNORECASE)\n",
        "#     if speed:\n",
        "#         num_of_speed.append(float(speed.group(1)))\n",
        "#     else:\n",
        "#         num_of_speed.append(0)\n",
        "    if ('Automatic' in row) or ('A/T' in row) or ('AT' in row)\\\n",
        "    or ('A/t' in row) or ('Transmission Overdrive Switch' in row):\n",
        "        type_trans.append('A')\n",
        "    elif 'DCT' in row or 'Transmission w/Dual Shift Mode' in row:\n",
        "        type_trans.append('DCT')\n",
        "    elif 'CVT' in row or 'CVT-F':\n",
        "        type_trans.append('CVT')\n",
        "    elif 'Variable' in row:\n",
        "        type_trans.append('Variable')\n",
        "    elif 'Single-Speed Fixed Gear' in row:\n",
        "        type_trans.append('Single-Speed Fixed Gear')\n",
        "    elif 'F' in row:\n",
        "        type_trans.append('F')\n",
        "    elif 'At/Mt' in row:\n",
        "        type_trans.append('At/Mt')\n",
        "    elif '–' in row:\n",
        "        type_trans.append('Unknown')\n",
        "    else:\n",
        "        type_trans.append('M')\n",
        "\n",
        "\n",
        "print(len(num_of_speed))\n",
        "print(len(type_trans))\n"
      ],
      "metadata": {
        "execution": {
          "iopub.status.busy": "2024-09-14T17:37:12.805195Z",
          "iopub.execute_input": "2024-09-14T17:37:12.805669Z",
          "iopub.status.idle": "2024-09-14T17:37:12.942832Z",
          "shell.execute_reply.started": "2024-09-14T17:37:12.805627Z",
          "shell.execute_reply": "2024-09-14T17:37:12.941325Z"
        },
        "trusted": true,
        "id": "hJUics6Wz3F0"
      },
      "execution_count": null,
      "outputs": []
    },
    {
      "cell_type": "code",
      "source": [
        "df['transmission'] = type_trans\n",
        "#df['num_of_speed'] = num_of_speed"
      ],
      "metadata": {
        "execution": {
          "iopub.status.busy": "2024-09-14T17:37:30.32896Z",
          "iopub.execute_input": "2024-09-14T17:37:30.329473Z",
          "iopub.status.idle": "2024-09-14T17:37:30.348317Z",
          "shell.execute_reply.started": "2024-09-14T17:37:30.329428Z",
          "shell.execute_reply": "2024-09-14T17:37:30.347138Z"
        },
        "trusted": true,
        "id": "jXTzXJQFz3F0"
      },
      "execution_count": null,
      "outputs": []
    },
    {
      "cell_type": "code",
      "source": [
        "#df[df['transmission'] == 'Transmission w/Dual Shift Mode']"
      ],
      "metadata": {
        "execution": {
          "iopub.status.busy": "2024-09-13T23:14:11.05707Z",
          "iopub.execute_input": "2024-09-13T23:14:11.057567Z",
          "iopub.status.idle": "2024-09-13T23:14:11.062963Z",
          "shell.execute_reply.started": "2024-09-13T23:14:11.057523Z",
          "shell.execute_reply": "2024-09-13T23:14:11.061375Z"
        },
        "trusted": true,
        "id": "lAMXNbBXz3F0"
      },
      "execution_count": null,
      "outputs": []
    },
    {
      "cell_type": "code",
      "source": [
        "df['accident'] = df['accident'].fillna(df['accident'].mode()[0])"
      ],
      "metadata": {
        "execution": {
          "iopub.status.busy": "2024-09-14T17:37:33.298718Z",
          "iopub.execute_input": "2024-09-14T17:37:33.299168Z",
          "iopub.status.idle": "2024-09-14T17:37:33.354761Z",
          "shell.execute_reply.started": "2024-09-14T17:37:33.299127Z",
          "shell.execute_reply": "2024-09-14T17:37:33.353216Z"
        },
        "trusted": true,
        "id": "EfZh3bvVz3F0"
      },
      "execution_count": null,
      "outputs": []
    },
    {
      "cell_type": "code",
      "source": [
        "df.isna().sum()"
      ],
      "metadata": {
        "execution": {
          "iopub.status.busy": "2024-09-14T17:37:35.272075Z",
          "iopub.execute_input": "2024-09-14T17:37:35.272544Z",
          "iopub.status.idle": "2024-09-14T17:37:35.418171Z",
          "shell.execute_reply.started": "2024-09-14T17:37:35.272499Z",
          "shell.execute_reply": "2024-09-14T17:37:35.417053Z"
        },
        "trusted": true,
        "id": "DmxhPwS5z3F0"
      },
      "execution_count": null,
      "outputs": []
    },
    {
      "cell_type": "code",
      "source": [
        "df = df.drop(['clean_title'], axis=1)"
      ],
      "metadata": {
        "execution": {
          "iopub.status.busy": "2024-09-14T17:37:45.500589Z",
          "iopub.execute_input": "2024-09-14T17:37:45.501833Z",
          "iopub.status.idle": "2024-09-14T17:37:45.542495Z",
          "shell.execute_reply.started": "2024-09-14T17:37:45.501783Z",
          "shell.execute_reply": "2024-09-14T17:37:45.541279Z"
        },
        "trusted": true,
        "id": "WmKp8c6wz3F0"
      },
      "execution_count": null,
      "outputs": []
    },
    {
      "cell_type": "code",
      "source": [
        "df.head()"
      ],
      "metadata": {
        "execution": {
          "iopub.status.busy": "2024-09-13T23:44:30.953605Z",
          "iopub.execute_input": "2024-09-13T23:44:30.954886Z",
          "iopub.status.idle": "2024-09-13T23:44:30.975779Z",
          "shell.execute_reply.started": "2024-09-13T23:44:30.954762Z",
          "shell.execute_reply": "2024-09-13T23:44:30.97463Z"
        },
        "trusted": true,
        "id": "2hdtgWTuz3F0"
      },
      "execution_count": null,
      "outputs": []
    },
    {
      "cell_type": "code",
      "source": [
        "# df['speed'] = df['transmission'].str.extract('(\\d+)-Speed', expand=False)\n",
        "# df['speed'] = df['speed'].fillna(df['transmission'].str.extract('(\\d+)-Speed', expand=False))\n",
        "# df['speed'] = df['speed'].fillna(df['transmission'].str.extract('(\\d+) Speed', expand=False))\n",
        "# df['speed'] = df['speed'].fillna(df['transmission'].str.extract('(\\d+) ', expand=False))\n",
        "# df['speed'] = df['speed'].fillna(df['transmission'].str.extract('^(\\d+)', expand=False))"
      ],
      "metadata": {
        "execution": {
          "iopub.status.busy": "2024-09-13T11:21:29.88534Z",
          "iopub.execute_input": "2024-09-13T11:21:29.885812Z",
          "iopub.status.idle": "2024-09-13T11:21:31.788192Z",
          "shell.execute_reply.started": "2024-09-13T11:21:29.885765Z",
          "shell.execute_reply": "2024-09-13T11:21:31.786983Z"
        },
        "trusted": true,
        "id": "FsxnDIrcz3F4"
      },
      "execution_count": null,
      "outputs": []
    },
    {
      "cell_type": "code",
      "source": [
        "# cat_columns = df.select_dtypes(include=['object'])\n",
        "# missing_cols = [col for col in cat_columns.columns if cat_columns[col].isna().any()]\n",
        "#missing_cols = ['fuel_type', 'accident']"
      ],
      "metadata": {
        "execution": {
          "iopub.status.busy": "2024-09-12T09:42:17.404285Z",
          "iopub.execute_input": "2024-09-12T09:42:17.404731Z",
          "iopub.status.idle": "2024-09-12T09:42:17.411654Z",
          "shell.execute_reply.started": "2024-09-12T09:42:17.404687Z",
          "shell.execute_reply": "2024-09-12T09:42:17.410396Z"
        },
        "trusted": true,
        "id": "8KUpFcDnz3F4"
      },
      "execution_count": null,
      "outputs": []
    },
    {
      "cell_type": "code",
      "source": [
        "# for col in missing_cols:\n",
        "#     df.loc[:, col] = df.loc[:, col].fillna(df.loc[:, col].mode()[0])"
      ],
      "metadata": {
        "execution": {
          "iopub.status.busy": "2024-09-12T09:42:20.200811Z",
          "iopub.execute_input": "2024-09-12T09:42:20.201245Z",
          "iopub.status.idle": "2024-09-12T09:42:20.408352Z",
          "shell.execute_reply.started": "2024-09-12T09:42:20.201198Z",
          "shell.execute_reply": "2024-09-12T09:42:20.407007Z"
        },
        "trusted": true,
        "id": "ZQOd_752z3F4"
      },
      "execution_count": null,
      "outputs": []
    },
    {
      "cell_type": "code",
      "source": [
        "#df['clean_title'] = df['clean_title'].fillna('No')\n",
        "#df = df.drop('clean_title', axis=1)"
      ],
      "metadata": {
        "execution": {
          "iopub.status.busy": "2024-09-13T23:15:01.870216Z",
          "iopub.execute_input": "2024-09-13T23:15:01.870683Z",
          "iopub.status.idle": "2024-09-13T23:15:01.93986Z",
          "shell.execute_reply.started": "2024-09-13T23:15:01.870641Z",
          "shell.execute_reply": "2024-09-13T23:15:01.938483Z"
        },
        "trusted": true,
        "id": "FFwvlIjpz3F4"
      },
      "execution_count": null,
      "outputs": []
    },
    {
      "cell_type": "code",
      "source": [
        "# X_columns = df[['brand', 'model']]\n",
        "# y_target = df['price']\n",
        "\n",
        "# encoder = ce.TargetEncoder(cols=['brand', 'model'], smoothing=0.3)\n",
        "# X_encoded = encoder.fit_transform(X_columns, y_target)\n",
        "# df_encoded = pd.concat([X_encoded, y], axis=1)"
      ],
      "metadata": {
        "execution": {
          "iopub.status.busy": "2024-09-13T14:03:14.744116Z",
          "iopub.execute_input": "2024-09-13T14:03:14.744684Z",
          "iopub.status.idle": "2024-09-13T14:03:15.618671Z",
          "shell.execute_reply.started": "2024-09-13T14:03:14.744637Z",
          "shell.execute_reply": "2024-09-13T14:03:15.617415Z"
        },
        "trusted": true,
        "id": "tfXcMyvqz3F4"
      },
      "execution_count": null,
      "outputs": []
    },
    {
      "cell_type": "code",
      "source": [
        "from sklearn.preprocessing import OrdinalEncoder\n",
        "\n",
        "# Initialize the OrdinalEncoder with handle_unknown='use_encoded_value'\n",
        "# and specify the value to be used for unknown categories\n",
        "ordinal_encoder = OrdinalEncoder(handle_unknown='use_encoded_value', unknown_value=-1)\n",
        "\n",
        "# Fit the encoder on training data\n",
        "#df['model_encoded'] = ordinal_encoder.fit_transform(df[['model']])\n",
        "df['ext_col']=ordinal_encoder.fit_transform(df[['ext_col']])\n",
        "df['int_col']=ordinal_encoder.fit_transform(df[['int_col']])"
      ],
      "metadata": {
        "execution": {
          "iopub.status.busy": "2024-09-13T23:39:03.741914Z",
          "iopub.execute_input": "2024-09-13T23:39:03.742368Z",
          "iopub.status.idle": "2024-09-13T23:39:03.993199Z",
          "shell.execute_reply.started": "2024-09-13T23:39:03.742327Z",
          "shell.execute_reply": "2024-09-13T23:39:03.991927Z"
        },
        "trusted": true,
        "id": "GzSAzpUmz3F4"
      },
      "execution_count": null,
      "outputs": []
    },
    {
      "cell_type": "code",
      "source": [],
      "metadata": {
        "id": "e7BiqQDtz3F4"
      },
      "execution_count": null,
      "outputs": []
    },
    {
      "cell_type": "code",
      "source": [
        "#df = df.drop('model', axis=1)"
      ],
      "metadata": {
        "execution": {
          "iopub.status.busy": "2024-09-13T23:30:20.001763Z",
          "iopub.execute_input": "2024-09-13T23:30:20.002202Z",
          "iopub.status.idle": "2024-09-13T23:30:20.028395Z",
          "shell.execute_reply.started": "2024-09-13T23:30:20.002159Z",
          "shell.execute_reply": "2024-09-13T23:30:20.027141Z"
        },
        "trusted": true,
        "id": "tw_RH6Mvz3F4"
      },
      "execution_count": null,
      "outputs": []
    },
    {
      "cell_type": "code",
      "source": [
        "# df['brand'] = df_encoded['brand']\n",
        "# df['model'] = df_encoded['model']"
      ],
      "metadata": {
        "execution": {
          "iopub.status.busy": "2024-09-13T14:03:21.619024Z",
          "iopub.execute_input": "2024-09-13T14:03:21.619493Z",
          "iopub.status.idle": "2024-09-13T14:03:21.62691Z",
          "shell.execute_reply.started": "2024-09-13T14:03:21.619445Z",
          "shell.execute_reply": "2024-09-13T14:03:21.625568Z"
        },
        "trusted": true,
        "id": "nOY_zimxz3F4"
      },
      "execution_count": null,
      "outputs": []
    },
    {
      "cell_type": "code",
      "source": [
        "df['int_col'].unique()"
      ],
      "metadata": {
        "execution": {
          "iopub.status.busy": "2024-09-13T23:30:26.742732Z",
          "iopub.execute_input": "2024-09-13T23:30:26.743195Z",
          "iopub.status.idle": "2024-09-13T23:30:26.759358Z",
          "shell.execute_reply.started": "2024-09-13T23:30:26.743149Z",
          "shell.execute_reply": "2024-09-13T23:30:26.758121Z"
        },
        "trusted": true,
        "id": "kHLA2NmLz3F5"
      },
      "execution_count": null,
      "outputs": []
    },
    {
      "cell_type": "code",
      "source": [
        "df.head()"
      ],
      "metadata": {
        "execution": {
          "iopub.status.busy": "2024-09-13T23:45:47.577612Z",
          "iopub.execute_input": "2024-09-13T23:45:47.579443Z",
          "iopub.status.idle": "2024-09-13T23:45:47.606685Z",
          "shell.execute_reply.started": "2024-09-13T23:45:47.579369Z",
          "shell.execute_reply": "2024-09-13T23:45:47.605267Z"
        },
        "trusted": true,
        "id": "ne5XTRVVz3F5"
      },
      "execution_count": null,
      "outputs": []
    },
    {
      "cell_type": "code",
      "source": [
        "# encoder=LabelEncoder()\n",
        "# # df['brand']=encoder.fit_transform(df['brand'])\n",
        "# # df['model']=encoder.fit_transform(df['model'])\n",
        "# #df['fuel_type']=encoder.fit_transform(df['fuel_type'])\n",
        "# df['ext_col']=encoder.fit_transform(df['ext_col'])\n",
        "# df['int_col']=encoder.fit_transform(df['int_col'])\n",
        "# #train['accident']=encoder.fit_transform(train['accident'])\n",
        "# #df['clean_title']=encoder.fit_transform(df['clean_title'])\n",
        "\n",
        "import category_encoders as ce\n",
        "\n",
        "encoder = ce.CountEncoder()\n",
        "\n",
        "# Apply CountEncoder to each categorical column\n",
        "df['brand'] = encoder.fit_transform(df['brand'])\n",
        "df['model'] = encoder.fit_transform(df['model'])\n",
        "df['transmission'] = encoder.fit_transform(df['transmission'])\n",
        "df['engine'] = encoder.fit_transform(df['engine'])\n",
        "df['fuel_type'] = encoder.fit_transform(df['fuel_type'])\n",
        "df['ext_col'] = encoder.fit_transform(df['ext_col'])\n",
        "df['int_col'] = encoder.fit_transform(df['int_col'])\n",
        "\n",
        "df.head()"
      ],
      "metadata": {
        "execution": {
          "iopub.status.busy": "2024-09-13T23:47:20.984091Z",
          "iopub.execute_input": "2024-09-13T23:47:20.984635Z",
          "iopub.status.idle": "2024-09-13T23:47:24.908838Z",
          "shell.execute_reply.started": "2024-09-13T23:47:20.984588Z",
          "shell.execute_reply": "2024-09-13T23:47:24.907746Z"
        },
        "trusted": true,
        "id": "pIQA5UfGz3F5"
      },
      "execution_count": null,
      "outputs": []
    },
    {
      "cell_type": "code",
      "source": [
        "df = pd.get_dummies(df, dtype='int')"
      ],
      "metadata": {
        "execution": {
          "iopub.status.busy": "2024-09-13T23:47:44.450026Z",
          "iopub.execute_input": "2024-09-13T23:47:44.450507Z",
          "iopub.status.idle": "2024-09-13T23:47:44.545396Z",
          "shell.execute_reply.started": "2024-09-13T23:47:44.450465Z",
          "shell.execute_reply": "2024-09-13T23:47:44.544253Z"
        },
        "trusted": true,
        "id": "m_GeX3RNz3F5"
      },
      "execution_count": null,
      "outputs": []
    },
    {
      "cell_type": "code",
      "source": [
        "df.head()"
      ],
      "metadata": {
        "execution": {
          "iopub.status.busy": "2024-09-13T23:47:45.949519Z",
          "iopub.execute_input": "2024-09-13T23:47:45.949991Z",
          "iopub.status.idle": "2024-09-13T23:47:45.966663Z",
          "shell.execute_reply.started": "2024-09-13T23:47:45.949945Z",
          "shell.execute_reply": "2024-09-13T23:47:45.965401Z"
        },
        "trusted": true,
        "id": "9sUa2qZMz3F5"
      },
      "execution_count": null,
      "outputs": []
    },
    {
      "cell_type": "code",
      "source": [
        "df.shape"
      ],
      "metadata": {
        "execution": {
          "iopub.status.busy": "2024-09-14T15:26:20.586904Z",
          "iopub.execute_input": "2024-09-14T15:26:20.587313Z",
          "iopub.status.idle": "2024-09-14T15:26:20.594581Z",
          "shell.execute_reply.started": "2024-09-14T15:26:20.587278Z",
          "shell.execute_reply": "2024-09-14T15:26:20.593401Z"
        },
        "trusted": true,
        "id": "1Wob4mwhz3F5"
      },
      "execution_count": null,
      "outputs": []
    },
    {
      "cell_type": "code",
      "source": [
        "df.head()"
      ],
      "metadata": {
        "execution": {
          "iopub.status.busy": "2024-09-14T15:26:27.614825Z",
          "iopub.execute_input": "2024-09-14T15:26:27.615251Z",
          "iopub.status.idle": "2024-09-14T15:26:27.637347Z",
          "shell.execute_reply.started": "2024-09-14T15:26:27.615211Z",
          "shell.execute_reply": "2024-09-14T15:26:27.636065Z"
        },
        "trusted": true,
        "id": "k5RSvECPz3F5"
      },
      "execution_count": null,
      "outputs": []
    },
    {
      "cell_type": "code",
      "source": [
        "train_df = df.iloc[:188533, :]\n",
        "test_df = df.iloc[188533:, :]"
      ],
      "metadata": {
        "execution": {
          "iopub.status.busy": "2024-09-14T17:56:11.410531Z",
          "iopub.execute_input": "2024-09-14T17:56:11.411014Z",
          "iopub.status.idle": "2024-09-14T17:56:11.417528Z",
          "shell.execute_reply.started": "2024-09-14T17:56:11.410975Z",
          "shell.execute_reply": "2024-09-14T17:56:11.416257Z"
        },
        "trusted": true,
        "id": "S3iIX5L6z3F5"
      },
      "execution_count": null,
      "outputs": []
    },
    {
      "cell_type": "code",
      "source": [
        "X = train_df.copy()"
      ],
      "metadata": {
        "execution": {
          "iopub.status.busy": "2024-09-14T17:56:13.758203Z",
          "iopub.execute_input": "2024-09-14T17:56:13.759266Z",
          "iopub.status.idle": "2024-09-14T17:56:13.847259Z",
          "shell.execute_reply.started": "2024-09-14T17:56:13.759212Z",
          "shell.execute_reply": "2024-09-14T17:56:13.846116Z"
        },
        "trusted": true,
        "id": "ru2qPigDz3F5"
      },
      "execution_count": null,
      "outputs": []
    },
    {
      "cell_type": "code",
      "source": [
        "y = np.log(X['price'])\n",
        "X = X.drop('price', axis=1)"
      ],
      "metadata": {
        "execution": {
          "iopub.status.busy": "2024-09-14T17:56:23.733501Z",
          "iopub.execute_input": "2024-09-14T17:56:23.733914Z",
          "iopub.status.idle": "2024-09-14T17:56:23.767512Z",
          "shell.execute_reply.started": "2024-09-14T17:56:23.73388Z",
          "shell.execute_reply": "2024-09-14T17:56:23.766353Z"
        },
        "trusted": true,
        "id": "VrxZZBKGz3F5"
      },
      "execution_count": null,
      "outputs": []
    },
    {
      "cell_type": "code",
      "source": [
        "y"
      ],
      "metadata": {
        "execution": {
          "iopub.status.busy": "2024-09-14T17:56:26.091648Z",
          "iopub.execute_input": "2024-09-14T17:56:26.092097Z",
          "iopub.status.idle": "2024-09-14T17:56:26.102624Z",
          "shell.execute_reply.started": "2024-09-14T17:56:26.092056Z",
          "shell.execute_reply": "2024-09-14T17:56:26.100731Z"
        },
        "trusted": true,
        "id": "uA25MfOBz3F5"
      },
      "execution_count": null,
      "outputs": []
    },
    {
      "cell_type": "code",
      "source": [
        "cbe_encoder = ce.cat_boost.CatBoostEncoder(a=1)\n",
        "X_encoded = cbe_encoder.fit_transform(X, y)"
      ],
      "metadata": {
        "execution": {
          "iopub.status.busy": "2024-09-14T17:56:29.423353Z",
          "iopub.execute_input": "2024-09-14T17:56:29.423834Z",
          "iopub.status.idle": "2024-09-14T17:56:30.513943Z",
          "shell.execute_reply.started": "2024-09-14T17:56:29.42379Z",
          "shell.execute_reply": "2024-09-14T17:56:30.512699Z"
        },
        "trusted": true,
        "id": "MFX9voxMz3F5"
      },
      "execution_count": null,
      "outputs": []
    },
    {
      "cell_type": "code",
      "source": [
        "# #for test split 0.3 is the best !!!\n",
        "from sklearn.model_selection import train_test_split\n",
        "from sklearn.preprocessing import QuantileTransformer\n",
        "from sklearn.preprocessing import Normalizer\n",
        "from catboost import CatBoostRegressor\n",
        "\n",
        "\n",
        "clf_catboost = CatBoostRegressor(iterations=275,\n",
        "                                  learning_rate=0.03,\n",
        "                                  depth=7,\n",
        "                                 l2_leaf_reg=3,\n",
        "                                border_count=254,\n",
        "                                 verbose=0)  # verbose=0 to suppress output during cross-validation\n",
        "\n",
        "\n",
        "# Define k-fold cross-validation\n",
        "n_splits = 7  # number of folds\n",
        "kf = KFold(n_splits=n_splits, shuffle=True, random_state=42)\n",
        "\n",
        "# Perform cross-validation and evaluate RMSE\n",
        "rmse_scores = -cross_val_score(clf_catboost, X_encoded, y, scoring='neg_root_mean_squared_error', cv=kf)\n",
        "\n",
        "# Calculate mean and standard deviation of RMSE\n",
        "mean_rmse = np.mean(rmse_scores)\n",
        "std_rmse = np.std(rmse_scores)\n",
        "\n",
        "print(f\"Mean RMSE: {mean_rmse:.4f}\")\n",
        "print(f\"Standard Deviation of RMSE: {std_rmse:.4f}\")\n",
        "\n",
        "clf_catboost.fit(X_encoded, y)\n",
        "#72823 = 700iter\n",
        "#72718 = 300iter"
      ],
      "metadata": {
        "execution": {
          "iopub.status.busy": "2024-09-14T17:56:34.796448Z",
          "iopub.execute_input": "2024-09-14T17:56:34.796922Z",
          "iopub.status.idle": "2024-09-14T17:57:24.694749Z",
          "shell.execute_reply.started": "2024-09-14T17:56:34.79688Z",
          "shell.execute_reply": "2024-09-14T17:57:24.693448Z"
        },
        "trusted": true,
        "id": "R0ViGOIZz3F5"
      },
      "execution_count": null,
      "outputs": []
    },
    {
      "cell_type": "code",
      "source": [
        "test_df = test_df.drop('price', axis=1)"
      ],
      "metadata": {
        "execution": {
          "iopub.status.busy": "2024-09-14T17:57:34.766444Z",
          "iopub.execute_input": "2024-09-14T17:57:34.766896Z",
          "iopub.status.idle": "2024-09-14T17:57:34.788663Z",
          "shell.execute_reply.started": "2024-09-14T17:57:34.766857Z",
          "shell.execute_reply": "2024-09-14T17:57:34.787338Z"
        },
        "trusted": true,
        "id": "gTVcKLldz3F5"
      },
      "execution_count": null,
      "outputs": []
    },
    {
      "cell_type": "code",
      "source": [
        "test_df.head()"
      ],
      "metadata": {
        "execution": {
          "iopub.status.busy": "2024-09-14T17:57:37.935332Z",
          "iopub.execute_input": "2024-09-14T17:57:37.935763Z",
          "iopub.status.idle": "2024-09-14T17:57:37.955147Z",
          "shell.execute_reply.started": "2024-09-14T17:57:37.935726Z",
          "shell.execute_reply": "2024-09-14T17:57:37.953736Z"
        },
        "trusted": true,
        "id": "QQRKFzwQz3F5"
      },
      "execution_count": null,
      "outputs": []
    },
    {
      "cell_type": "code",
      "source": [
        "test_X_encoded = cbe_encoder.transform(test_df)"
      ],
      "metadata": {
        "execution": {
          "iopub.status.busy": "2024-09-14T17:57:49.774359Z",
          "iopub.execute_input": "2024-09-14T17:57:49.774809Z",
          "iopub.status.idle": "2024-09-14T17:57:50.066604Z",
          "shell.execute_reply.started": "2024-09-14T17:57:49.774767Z",
          "shell.execute_reply": "2024-09-14T17:57:50.065428Z"
        },
        "trusted": true,
        "id": "6PkQKhv3z3F5"
      },
      "execution_count": null,
      "outputs": []
    },
    {
      "cell_type": "code",
      "source": [
        "test_X_encoded.head()"
      ],
      "metadata": {
        "execution": {
          "iopub.status.busy": "2024-09-14T17:57:51.945275Z",
          "iopub.execute_input": "2024-09-14T17:57:51.946311Z",
          "iopub.status.idle": "2024-09-14T17:57:51.966819Z",
          "shell.execute_reply.started": "2024-09-14T17:57:51.946265Z",
          "shell.execute_reply": "2024-09-14T17:57:51.965471Z"
        },
        "trusted": true,
        "id": "K7urI_U3z3F6"
      },
      "execution_count": null,
      "outputs": []
    },
    {
      "cell_type": "code",
      "source": [
        "test_id = pd.read_csv('/kaggle/input/playground-series-s4e9/sample_submission.csv')\n",
        "predictions = clf_catboost.predict(test_X_encoded)\n",
        "test_id['price'] = np.exp(predictions)\n",
        "test_id.to_csv('submission_FE_catboost_1_log.csv', index=False)"
      ],
      "metadata": {
        "execution": {
          "iopub.status.busy": "2024-09-14T17:58:42.116442Z",
          "iopub.execute_input": "2024-09-14T17:58:42.117404Z",
          "iopub.status.idle": "2024-09-14T17:58:42.460103Z",
          "shell.execute_reply.started": "2024-09-14T17:58:42.117341Z",
          "shell.execute_reply": "2024-09-14T17:58:42.459015Z"
        },
        "trusted": true,
        "id": "ONmSWSzSz3F6"
      },
      "execution_count": null,
      "outputs": []
    },
    {
      "cell_type": "code",
      "source": [
        "test_id"
      ],
      "metadata": {
        "execution": {
          "iopub.status.busy": "2024-09-14T17:58:44.33201Z",
          "iopub.execute_input": "2024-09-14T17:58:44.332462Z",
          "iopub.status.idle": "2024-09-14T17:58:44.34648Z",
          "shell.execute_reply.started": "2024-09-14T17:58:44.332416Z",
          "shell.execute_reply": "2024-09-14T17:58:44.345308Z"
        },
        "trusted": true,
        "id": "Zq-i9TE0z3F6"
      },
      "execution_count": null,
      "outputs": []
    },
    {
      "cell_type": "code",
      "source": [
        "y_hat = clf_catboost.predict(X_encoded)[:10]\n",
        "np.exp(y_hat)"
      ],
      "metadata": {
        "execution": {
          "iopub.status.busy": "2024-09-14T17:59:01.163679Z",
          "iopub.execute_input": "2024-09-14T17:59:01.16413Z",
          "iopub.status.idle": "2024-09-14T17:59:01.220194Z",
          "shell.execute_reply.started": "2024-09-14T17:59:01.164085Z",
          "shell.execute_reply": "2024-09-14T17:59:01.218984Z"
        },
        "trusted": true,
        "id": "-FLOvXQFz3F6"
      },
      "execution_count": null,
      "outputs": []
    },
    {
      "cell_type": "code",
      "source": [
        "from xgboost import XGBRegressor\n",
        "from sklearn.model_selection import KFold, cross_val_score\n",
        "import numpy as np\n",
        "\n",
        "# Define the XGBoost regressor\n",
        "clf_xgboost = XGBRegressor(n_estimators=700,\n",
        "                           learning_rate=0.01,\n",
        "                           max_depth=6,\n",
        "                           reg_alpha=3,\n",
        "                           n_jobs=-1,  # Use all available cores\n",
        "                           verbose=0)  # Suppress output during cross-validation\n",
        "\n",
        "# Define k-fold cross-validation\n",
        "n_splits = 5  # number of folds\n",
        "kf = KFold(n_splits=n_splits, shuffle=True, random_state=42)\n",
        "\n",
        "# Perform cross-validation and evaluate RMSE\n",
        "rmse_scores = -cross_val_score(clf_xgboost, X_encoded, y, scoring='neg_root_mean_squared_error', cv=kf)\n",
        "\n",
        "# Calculate mean and standard deviation of RMSE\n",
        "mean_rmse = np.mean(rmse_scores)\n",
        "std_rmse = np.std(rmse_scores)\n",
        "\n",
        "print(f\"Mean RMSE: {mean_rmse:.4f}\")\n",
        "print(f\"Standard Deviation of RMSE: {std_rmse:.4f}\")\n",
        "\n",
        "# Fit the model on the entire dataset\n",
        "clf_xgboost.fit(X_encoded, y)\n"
      ],
      "metadata": {
        "execution": {
          "iopub.status.busy": "2024-09-14T18:01:04.509841Z",
          "iopub.execute_input": "2024-09-14T18:01:04.510268Z",
          "iopub.status.idle": "2024-09-14T18:02:03.823504Z",
          "shell.execute_reply.started": "2024-09-14T18:01:04.510227Z",
          "shell.execute_reply": "2024-09-14T18:02:03.822546Z"
        },
        "trusted": true,
        "id": "3yRu1KKGz3F6"
      },
      "execution_count": null,
      "outputs": []
    },
    {
      "cell_type": "code",
      "source": [
        "y_xgb = clf_xgboost.predict(X_encoded)\n",
        "np.exp(y_xgb)[:10]"
      ],
      "metadata": {
        "execution": {
          "iopub.status.busy": "2024-09-14T18:22:49.085432Z",
          "iopub.execute_input": "2024-09-14T18:22:49.085894Z",
          "iopub.status.idle": "2024-09-14T18:22:52.517679Z",
          "shell.execute_reply.started": "2024-09-14T18:22:49.085852Z",
          "shell.execute_reply": "2024-09-14T18:22:52.516345Z"
        },
        "trusted": true,
        "id": "HYXK_ktSz3F6"
      },
      "execution_count": null,
      "outputs": []
    },
    {
      "cell_type": "code",
      "source": [
        "train_df['price'].head(10)"
      ],
      "metadata": {
        "execution": {
          "iopub.status.busy": "2024-09-14T18:23:27.372612Z",
          "iopub.execute_input": "2024-09-14T18:23:27.373812Z",
          "iopub.status.idle": "2024-09-14T18:23:27.382649Z",
          "shell.execute_reply.started": "2024-09-14T18:23:27.373761Z",
          "shell.execute_reply": "2024-09-14T18:23:27.381459Z"
        },
        "trusted": true,
        "id": "bSMO07zHz3F6"
      },
      "execution_count": null,
      "outputs": []
    },
    {
      "cell_type": "code",
      "source": [
        "from sklearn.model_selection import train_test_split, KFold, cross_val_score\n",
        "from lightgbm import LGBMRegressor\n",
        "import numpy as np\n",
        "\n",
        "# Initialize the LGBMRegressor model\n",
        "clf_lightgbm = LGBMRegressor(n_estimators=700,\n",
        "                             learning_rate=0.01,\n",
        "                             #max_depth=6,\n",
        "                             #reg_alpha=3,\n",
        "                             #num_leaves=31,\n",
        "                             verbose=-1)  # verbose=-1 to suppress output during cross-validation\n",
        "\n",
        "# Define k-fold cross-validation\n",
        "n_splits = 5  # number of folds\n",
        "kf = KFold(n_splits=n_splits, shuffle=True, random_state=42)\n",
        "\n",
        "# Perform cross-validation and evaluate RMSE\n",
        "rmse_scores = -cross_val_score(clf_lightgbm, X_encoded, y, scoring='neg_root_mean_squared_error', cv=kf)\n",
        "\n",
        "# Calculate mean and standard deviation of RMSE\n",
        "mean_rmse = np.mean(rmse_scores)\n",
        "std_rmse = np.std(rmse_scores)\n",
        "\n",
        "print(f\"Mean RMSE (LightGBM): {mean_rmse:.4f}\")\n",
        "print(f\"Standard Deviation of RMSE (LightGBM): {std_rmse:.4f}\")\n",
        "\n",
        "# Fit the LightGBM model to the training data\n",
        "clf_lightgbm.fit(X_encoded, y)\n"
      ],
      "metadata": {
        "execution": {
          "iopub.status.busy": "2024-09-14T18:24:51.241586Z",
          "iopub.execute_input": "2024-09-14T18:24:51.242058Z",
          "iopub.status.idle": "2024-09-14T18:27:28.68796Z",
          "shell.execute_reply.started": "2024-09-14T18:24:51.242015Z",
          "shell.execute_reply": "2024-09-14T18:27:28.686773Z"
        },
        "trusted": true,
        "id": "vzxozcDNz3F6"
      },
      "execution_count": null,
      "outputs": []
    },
    {
      "cell_type": "code",
      "source": [
        "y_lgbm = clf_lightgbm.predict(X_encoded[:10])\n",
        "np.exp(y_lgbm)"
      ],
      "metadata": {
        "execution": {
          "iopub.status.busy": "2024-09-14T18:28:25.921094Z",
          "iopub.execute_input": "2024-09-14T18:28:25.92157Z",
          "iopub.status.idle": "2024-09-14T18:28:25.933421Z",
          "shell.execute_reply.started": "2024-09-14T18:28:25.921521Z",
          "shell.execute_reply": "2024-09-14T18:28:25.932191Z"
        },
        "trusted": true,
        "id": "AcpslU1oz3F6"
      },
      "execution_count": null,
      "outputs": []
    },
    {
      "cell_type": "markdown",
      "source": [
        "# DONT TOCH THIS BELOW"
      ],
      "metadata": {
        "id": "DsrtxCV1z3F6"
      }
    },
    {
      "cell_type": "code",
      "source": [
        "# #for test split 0.3 is the best !!!\n",
        "from sklearn.model_selection import train_test_split\n",
        "from sklearn.preprocessing import QuantileTransformer\n",
        "from sklearn.preprocessing import Normalizer\n",
        "from catboost import CatBoostRegressor\n",
        "\n",
        "\n",
        "clf_catboost = CatBoostRegressor(iterations=700,\n",
        "                                 learning_rate=0.0311,\n",
        "                                 depth=6,\n",
        "                                 l2_leaf_reg=3,\n",
        "                                # border_count=100,\n",
        "                                 verbose=0)  # verbose=0 to suppress output during cross-validation\n",
        "\n",
        "\n",
        "# Define k-fold cross-validation\n",
        "n_splits = 5  # number of folds\n",
        "kf = KFold(n_splits=n_splits, shuffle=True, random_state=42)\n",
        "\n",
        "# Perform cross-validation and evaluate RMSE\n",
        "rmse_scores = -cross_val_score(clf_catboost, X, y, scoring='neg_root_mean_squared_error', cv=kf)\n",
        "\n",
        "# Calculate mean and standard deviation of RMSE\n",
        "mean_rmse = np.mean(rmse_scores)\n",
        "std_rmse = np.std(rmse_scores)\n",
        "\n",
        "print(f\"Mean RMSE: {mean_rmse:.4f}\")\n",
        "print(f\"Standard Deviation of RMSE: {std_rmse:.4f}\")\n",
        "\n",
        "clf_catboost.fit(X, y)"
      ],
      "metadata": {
        "execution": {
          "iopub.status.busy": "2024-09-12T13:07:02.654437Z",
          "iopub.execute_input": "2024-09-12T13:07:02.655526Z",
          "iopub.status.idle": "2024-09-12T13:07:03.241538Z",
          "shell.execute_reply.started": "2024-09-12T13:07:02.655467Z",
          "shell.execute_reply": "2024-09-12T13:07:03.239665Z"
        },
        "trusted": true,
        "id": "f_UZaJcTz3F7"
      },
      "execution_count": null,
      "outputs": []
    },
    {
      "cell_type": "code",
      "source": [
        "# test_df = test_df.drop('price', axis=1)"
      ],
      "metadata": {
        "trusted": true,
        "id": "DKWkEQInz3F7"
      },
      "execution_count": null,
      "outputs": []
    },
    {
      "cell_type": "code",
      "source": [
        "test.head()"
      ],
      "metadata": {
        "execution": {
          "iopub.status.busy": "2024-09-12T18:58:31.547834Z",
          "iopub.execute_input": "2024-09-12T18:58:31.548369Z",
          "iopub.status.idle": "2024-09-12T18:58:31.567543Z",
          "shell.execute_reply.started": "2024-09-12T18:58:31.548324Z",
          "shell.execute_reply": "2024-09-12T18:58:31.566284Z"
        },
        "trusted": true,
        "id": "CrW8YqhSz3F7"
      },
      "execution_count": null,
      "outputs": []
    },
    {
      "cell_type": "code",
      "source": [
        "test_dataset = pd.read_csv('/kaggle/input/playground-series-s4e9/test.csv')"
      ],
      "metadata": {
        "execution": {
          "iopub.status.busy": "2024-09-12T19:07:02.040183Z",
          "iopub.execute_input": "2024-09-12T19:07:02.041054Z",
          "iopub.status.idle": "2024-09-12T19:07:02.481441Z",
          "shell.execute_reply.started": "2024-09-12T19:07:02.041004Z",
          "shell.execute_reply": "2024-09-12T19:07:02.479216Z"
        },
        "trusted": true,
        "id": "O-5AK1ysz3F8"
      },
      "execution_count": null,
      "outputs": []
    },
    {
      "cell_type": "code",
      "source": [
        "(100* (test_dataset.isna().sum())/len(test_dataset)).sort_values(ascending=False)"
      ],
      "metadata": {
        "execution": {
          "iopub.status.busy": "2024-09-12T19:07:04.7157Z",
          "iopub.execute_input": "2024-09-12T19:07:04.716161Z",
          "iopub.status.idle": "2024-09-12T19:07:04.849576Z",
          "shell.execute_reply.started": "2024-09-12T19:07:04.716117Z",
          "shell.execute_reply": "2024-09-12T19:07:04.847978Z"
        },
        "trusted": true,
        "id": "dqBjeKLEz3F8"
      },
      "execution_count": null,
      "outputs": []
    },
    {
      "cell_type": "code",
      "source": [
        "test_dataset = test_dataset.drop('clean_title', axis=1)"
      ],
      "metadata": {
        "execution": {
          "iopub.status.busy": "2024-09-12T19:07:07.324366Z",
          "iopub.execute_input": "2024-09-12T19:07:07.325485Z",
          "iopub.status.idle": "2024-09-12T19:07:07.346407Z",
          "shell.execute_reply.started": "2024-09-12T19:07:07.325433Z",
          "shell.execute_reply": "2024-09-12T19:07:07.34466Z"
        },
        "trusted": true,
        "id": "KSG63p4wz3F8"
      },
      "execution_count": null,
      "outputs": []
    },
    {
      "cell_type": "code",
      "source": [
        "missing_columns = ['fuel_type', 'accident']"
      ],
      "metadata": {
        "execution": {
          "iopub.status.busy": "2024-09-12T19:07:09.206667Z",
          "iopub.execute_input": "2024-09-12T19:07:09.207159Z",
          "iopub.status.idle": "2024-09-12T19:07:09.213042Z",
          "shell.execute_reply.started": "2024-09-12T19:07:09.207113Z",
          "shell.execute_reply": "2024-09-12T19:07:09.211714Z"
        },
        "trusted": true,
        "id": "94v9yKFZz3F8"
      },
      "execution_count": null,
      "outputs": []
    },
    {
      "cell_type": "code",
      "source": [
        "for col in missing_columns:\n",
        "    test_dataset.loc[:, col] = test_dataset.loc[:, col].fillna(test_dataset.loc[:, col].mode()[0])"
      ],
      "metadata": {
        "execution": {
          "iopub.status.busy": "2024-09-12T19:07:11.001829Z",
          "iopub.execute_input": "2024-09-12T19:07:11.002302Z",
          "iopub.status.idle": "2024-09-12T19:07:11.090714Z",
          "shell.execute_reply.started": "2024-09-12T19:07:11.002259Z",
          "shell.execute_reply": "2024-09-12T19:07:11.089302Z"
        },
        "trusted": true,
        "id": "SOs4Fcfoz3F8"
      },
      "execution_count": null,
      "outputs": []
    },
    {
      "cell_type": "code",
      "source": [
        "encoder=LabelEncoder()\n",
        "test_dataset['brand']=encoder.fit_transform(test_dataset['brand'])\n",
        "test_dataset['model']=encoder.fit_transform(test_dataset['model'])\n",
        "#df['fuel_type']=encoder.fit_transform(df['fuel_type'])\n",
        "test_dataset['engine']=encoder.fit_transform(test_dataset['engine'])\n",
        "test_dataset['transmission']=encoder.fit_transform(test_dataset['transmission'])\n",
        "test_dataset['ext_col']=encoder.fit_transform(test_dataset['ext_col'])\n",
        "test_dataset['int_col']=encoder.fit_transform(test_dataset['int_col'])\n",
        "test_dataset['accident']=encoder.fit_transform(test_dataset['accident'])"
      ],
      "metadata": {
        "execution": {
          "iopub.status.busy": "2024-09-12T19:07:12.591609Z",
          "iopub.execute_input": "2024-09-12T19:07:12.59211Z",
          "iopub.status.idle": "2024-09-12T19:07:12.900431Z",
          "shell.execute_reply.started": "2024-09-12T19:07:12.592063Z",
          "shell.execute_reply": "2024-09-12T19:07:12.898859Z"
        },
        "trusted": true,
        "id": "qmR1YptMz3F8"
      },
      "execution_count": null,
      "outputs": []
    },
    {
      "cell_type": "code",
      "source": [
        "test_dataset = pd.get_dummies(test_dataset, dtype='int')"
      ],
      "metadata": {
        "execution": {
          "iopub.status.busy": "2024-09-12T19:07:15.973989Z",
          "iopub.execute_input": "2024-09-12T19:07:15.974474Z",
          "iopub.status.idle": "2024-09-12T19:07:16.020012Z",
          "shell.execute_reply.started": "2024-09-12T19:07:15.974428Z",
          "shell.execute_reply": "2024-09-12T19:07:16.018624Z"
        },
        "trusted": true,
        "id": "2itlVYd4z3F8"
      },
      "execution_count": null,
      "outputs": []
    },
    {
      "cell_type": "code",
      "source": [
        "test_dataset.head()"
      ],
      "metadata": {
        "execution": {
          "iopub.status.busy": "2024-09-12T19:07:18.876826Z",
          "iopub.execute_input": "2024-09-12T19:07:18.877308Z",
          "iopub.status.idle": "2024-09-12T19:07:18.89601Z",
          "shell.execute_reply.started": "2024-09-12T19:07:18.877262Z",
          "shell.execute_reply": "2024-09-12T19:07:18.894806Z"
        },
        "trusted": true,
        "id": "IBDaKxOTz3F8"
      },
      "execution_count": null,
      "outputs": []
    },
    {
      "cell_type": "code",
      "source": [
        "test_id = test_dataset['id']"
      ],
      "metadata": {
        "execution": {
          "iopub.status.busy": "2024-09-12T19:07:34.636105Z",
          "iopub.execute_input": "2024-09-12T19:07:34.637012Z",
          "iopub.status.idle": "2024-09-12T19:07:34.64274Z",
          "shell.execute_reply.started": "2024-09-12T19:07:34.636959Z",
          "shell.execute_reply": "2024-09-12T19:07:34.641056Z"
        },
        "trusted": true,
        "id": "BFbiLib8z3F8"
      },
      "execution_count": null,
      "outputs": []
    },
    {
      "cell_type": "code",
      "source": [
        "test_dataset = test_dataset.drop('id', axis=1)"
      ],
      "metadata": {
        "execution": {
          "iopub.status.busy": "2024-09-12T19:07:37.407925Z",
          "iopub.execute_input": "2024-09-12T19:07:37.408455Z",
          "iopub.status.idle": "2024-09-12T19:07:37.417886Z",
          "shell.execute_reply.started": "2024-09-12T19:07:37.408406Z",
          "shell.execute_reply": "2024-09-12T19:07:37.416573Z"
        },
        "trusted": true,
        "id": "JzHuDBU4z3F8"
      },
      "execution_count": null,
      "outputs": []
    },
    {
      "cell_type": "code",
      "source": [
        "# submit = pd.read_csv(\"/kaggle/input/playground-series-s4e9/sample_submission.csv\")\n",
        "# pred = clf_catboost.predict(test_df)\n",
        "# submit[\"price\"] = pred\n",
        "# submit.to_csv(\"submission.csv\", index=False)\n",
        "# submit.head()"
      ],
      "metadata": {
        "execution": {
          "iopub.status.busy": "2024-09-12T12:27:46.961638Z",
          "iopub.execute_input": "2024-09-12T12:27:46.962096Z",
          "iopub.status.idle": "2024-09-12T12:27:47.468857Z",
          "shell.execute_reply.started": "2024-09-12T12:27:46.962048Z",
          "shell.execute_reply": "2024-09-12T12:27:47.467797Z"
        },
        "trusted": true,
        "id": "P4e9c90kz3F8"
      },
      "execution_count": null,
      "outputs": []
    },
    {
      "cell_type": "code",
      "source": [
        "#test_id = test_dataset['id']\n",
        "test_predictions_catboost = clf_catboost.predict(test_dataset)\n",
        "print(test_predictions_catboost[:10])\n",
        "# Prepare submission\n",
        "test_predictions_catboost_df = pd.DataFrame(test_predictions_catboost, columns=['price'])\n",
        "submit_df = pd.concat([test_id, test_predictions_catboost_df], axis=1)\n",
        "submit_df.to_csv('submission_1.csv', index=False)"
      ],
      "metadata": {
        "execution": {
          "iopub.status.busy": "2024-09-12T19:09:10.22556Z",
          "iopub.execute_input": "2024-09-12T19:09:10.226079Z",
          "iopub.status.idle": "2024-09-12T19:09:10.768777Z",
          "shell.execute_reply.started": "2024-09-12T19:09:10.226036Z",
          "shell.execute_reply": "2024-09-12T19:09:10.767098Z"
        },
        "trusted": true,
        "id": "qlhg6voLz3F8"
      },
      "execution_count": null,
      "outputs": []
    },
    {
      "cell_type": "code",
      "source": [
        "submit_df.head()"
      ],
      "metadata": {
        "execution": {
          "iopub.status.busy": "2024-09-12T19:09:19.178065Z",
          "iopub.execute_input": "2024-09-12T19:09:19.178621Z",
          "iopub.status.idle": "2024-09-12T19:09:19.195363Z",
          "shell.execute_reply.started": "2024-09-12T19:09:19.178571Z",
          "shell.execute_reply": "2024-09-12T19:09:19.193871Z"
        },
        "trusted": true,
        "id": "RZBwJaTLz3F8"
      },
      "execution_count": null,
      "outputs": []
    },
    {
      "cell_type": "code",
      "source": [
        "train_predictions_catboost = clf_catboost.predict(X.iloc[:10, :])\n",
        "train_predictions_catboost"
      ],
      "metadata": {
        "execution": {
          "iopub.status.busy": "2024-09-12T19:09:40.441899Z",
          "iopub.execute_input": "2024-09-12T19:09:40.442382Z",
          "iopub.status.idle": "2024-09-12T19:09:40.456813Z",
          "shell.execute_reply.started": "2024-09-12T19:09:40.44234Z",
          "shell.execute_reply": "2024-09-12T19:09:40.455403Z"
        },
        "trusted": true,
        "id": "27aTQvHSz3F8"
      },
      "execution_count": null,
      "outputs": []
    },
    {
      "cell_type": "code",
      "source": [
        "# train.head()"
      ],
      "metadata": {
        "execution": {
          "iopub.status.busy": "2024-09-12T10:13:44.21662Z",
          "iopub.execute_input": "2024-09-12T10:13:44.217806Z",
          "iopub.status.idle": "2024-09-12T10:13:44.240211Z",
          "shell.execute_reply.started": "2024-09-12T10:13:44.217718Z",
          "shell.execute_reply": "2024-09-12T10:13:44.238844Z"
        },
        "trusted": true,
        "id": "Vt-2YZzDz3F8"
      },
      "execution_count": null,
      "outputs": []
    },
    {
      "cell_type": "code",
      "source": [
        "sample = pd.read_csv('/kaggle/input/playground-series-s4e9/sample_submission.csv')\n",
        "sample.head()"
      ],
      "metadata": {
        "execution": {
          "iopub.status.busy": "2024-09-12T12:28:05.19372Z",
          "iopub.execute_input": "2024-09-12T12:28:05.194225Z",
          "iopub.status.idle": "2024-09-12T12:28:05.247926Z",
          "shell.execute_reply.started": "2024-09-12T12:28:05.194178Z",
          "shell.execute_reply": "2024-09-12T12:28:05.24675Z"
        },
        "trusted": true,
        "id": "ZkikBYW2z3F8"
      },
      "execution_count": null,
      "outputs": []
    }
  ]
}