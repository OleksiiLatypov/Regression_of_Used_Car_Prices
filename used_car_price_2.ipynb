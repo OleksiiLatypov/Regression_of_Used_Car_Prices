{
  "metadata": {
    "kernelspec": {
      "language": "python",
      "display_name": "Python 3",
      "name": "python3"
    },
    "language_info": {
      "name": "python",
      "version": "3.10.14",
      "mimetype": "text/x-python",
      "codemirror_mode": {
        "name": "ipython",
        "version": 3
      },
      "pygments_lexer": "ipython3",
      "nbconvert_exporter": "python",
      "file_extension": ".py"
    },
    "kaggle": {
      "accelerator": "none",
      "dataSources": [
        {
          "sourceId": 76728,
          "databundleVersionId": 9057646,
          "sourceType": "competition"
        }
      ],
      "dockerImageVersionId": 30761,
      "isInternetEnabled": true,
      "language": "python",
      "sourceType": "notebook",
      "isGpuEnabled": false
    },
    "colab": {
      "name": "used_car_price_2",
      "provenance": [],
      "include_colab_link": true
    }
  },
  "nbformat_minor": 0,
  "nbformat": 4,
  "cells": [
    {
      "cell_type": "markdown",
      "metadata": {
        "id": "view-in-github",
        "colab_type": "text"
      },
      "source": [
        "<a href=\"https://colab.research.google.com/github/OleksiiLatypov/Regression_of_Used_Car_Prices/blob/main/used_car_price_2.ipynb\" target=\"_parent\"><img src=\"https://colab.research.google.com/assets/colab-badge.svg\" alt=\"Open In Colab\"/></a>"
      ]
    },
    {
      "source": [
        "\n",
        "# IMPORTANT: RUN THIS CELL IN ORDER TO IMPORT YOUR KAGGLE DATA SOURCES\n",
        "# TO THE CORRECT LOCATION (/kaggle/input) IN YOUR NOTEBOOK,\n",
        "# THEN FEEL FREE TO DELETE THIS CELL.\n",
        "# NOTE: THIS NOTEBOOK ENVIRONMENT DIFFERS FROM KAGGLE'S PYTHON\n",
        "# ENVIRONMENT SO THERE MAY BE MISSING LIBRARIES USED BY YOUR\n",
        "# NOTEBOOK.\n",
        "\n",
        "import os\n",
        "import sys\n",
        "from tempfile import NamedTemporaryFile\n",
        "from urllib.request import urlopen\n",
        "from urllib.parse import unquote, urlparse\n",
        "from urllib.error import HTTPError\n",
        "from zipfile import ZipFile\n",
        "import tarfile\n",
        "import shutil\n",
        "\n",
        "CHUNK_SIZE = 40960\n",
        "DATA_SOURCE_MAPPING = 'playground-series-s4e9:https%3A%2F%2Fstorage.googleapis.com%2Fkaggle-competitions-data%2Fkaggle-v2%2F76728%2F9057646%2Fbundle%2Farchive.zip%3FX-Goog-Algorithm%3DGOOG4-RSA-SHA256%26X-Goog-Credential%3Dgcp-kaggle-com%2540kaggle-161607.iam.gserviceaccount.com%252F20240918%252Fauto%252Fstorage%252Fgoog4_request%26X-Goog-Date%3D20240918T152420Z%26X-Goog-Expires%3D259200%26X-Goog-SignedHeaders%3Dhost%26X-Goog-Signature%3D0aea51a6e2ab625538dd9de72533091552ee192a4bab72072526f6c3804cf175ac7a8db2eb59bb4c705d5223b46909f98ece3bda0e611d2a69895da36bf6edbcdfa399e77b5da9a24531429e1a50ea33f47d74ed4c31b92f1a7258c854a65fffabe468550e81b5c0d88bcb38ceafec1c08673e33153c7ad464c4944da676907714764fece97c44b5d990962178d57dfc03f2e5cb85028885ead389e0d8b687c696af737cb4adf688014e21406934c2257b323d8a59ef30710189e41a9fdbc2dfd783dcf99a99a44ec6c96a4d3022c7cfb3b9328421592a065960d4ebe7de4e53a901896e9b6edd7f785c28391f942ae63c94f5706c92677d12fc375249750075'\n",
        "\n",
        "KAGGLE_INPUT_PATH='/kaggle/input'\n",
        "KAGGLE_WORKING_PATH='/kaggle/working'\n",
        "KAGGLE_SYMLINK='kaggle'\n",
        "\n",
        "!umount /kaggle/input/ 2> /dev/null\n",
        "shutil.rmtree('/kaggle/input', ignore_errors=True)\n",
        "os.makedirs(KAGGLE_INPUT_PATH, 0o777, exist_ok=True)\n",
        "os.makedirs(KAGGLE_WORKING_PATH, 0o777, exist_ok=True)\n",
        "\n",
        "try:\n",
        "  os.symlink(KAGGLE_INPUT_PATH, os.path.join(\"..\", 'input'), target_is_directory=True)\n",
        "except FileExistsError:\n",
        "  pass\n",
        "try:\n",
        "  os.symlink(KAGGLE_WORKING_PATH, os.path.join(\"..\", 'working'), target_is_directory=True)\n",
        "except FileExistsError:\n",
        "  pass\n",
        "\n",
        "for data_source_mapping in DATA_SOURCE_MAPPING.split(','):\n",
        "    directory, download_url_encoded = data_source_mapping.split(':')\n",
        "    download_url = unquote(download_url_encoded)\n",
        "    filename = urlparse(download_url).path\n",
        "    destination_path = os.path.join(KAGGLE_INPUT_PATH, directory)\n",
        "    try:\n",
        "        with urlopen(download_url) as fileres, NamedTemporaryFile() as tfile:\n",
        "            total_length = fileres.headers['content-length']\n",
        "            print(f'Downloading {directory}, {total_length} bytes compressed')\n",
        "            dl = 0\n",
        "            data = fileres.read(CHUNK_SIZE)\n",
        "            while len(data) > 0:\n",
        "                dl += len(data)\n",
        "                tfile.write(data)\n",
        "                done = int(50 * dl / int(total_length))\n",
        "                sys.stdout.write(f\"\\r[{'=' * done}{' ' * (50-done)}] {dl} bytes downloaded\")\n",
        "                sys.stdout.flush()\n",
        "                data = fileres.read(CHUNK_SIZE)\n",
        "            if filename.endswith('.zip'):\n",
        "              with ZipFile(tfile) as zfile:\n",
        "                zfile.extractall(destination_path)\n",
        "            else:\n",
        "              with tarfile.open(tfile.name) as tarfile:\n",
        "                tarfile.extractall(destination_path)\n",
        "            print(f'\\nDownloaded and uncompressed: {directory}')\n",
        "    except HTTPError as e:\n",
        "        print(f'Failed to load (likely expired) {download_url} to path {destination_path}')\n",
        "        continue\n",
        "    except OSError as e:\n",
        "        print(f'Failed to load {download_url} to path {destination_path}')\n",
        "        continue\n",
        "\n",
        "print('Data source import complete.')\n"
      ],
      "metadata": {
        "id": "0YEOr-i-vAtR"
      },
      "cell_type": "code",
      "outputs": [],
      "execution_count": null
    },
    {
      "cell_type": "code",
      "source": [
        "# This Python 3 environment comes with many helpful analytics libraries installed\n",
        "# It is defined by the kaggle/python Docker image: https://github.com/kaggle/docker-python\n",
        "# For example, here's several helpful packages to load\n",
        "\n",
        "import numpy as np # linear algebra\n",
        "import pandas as pd # data processing, CSV file I/O (e.g. pd.read_csv)\n",
        "import seaborn as sns\n",
        "from sklearn.model_selection import train_test_split, KFold, cross_val_score\n",
        "import matplotlib.pyplot as plt\n",
        "import re\n",
        "from scipy import stats\n",
        "from scipy.special import inv_boxcox\n",
        "from datetime import datetime\n",
        "# Input data files are available in the read-only \"../input/\" directory\n",
        "# For example, running this (by clicking run or pressing Shift+Enter) will list all files under the input directory\n",
        "from sklearn.preprocessing import MinMaxScaler, LabelEncoder, StandardScaler\n",
        "from sklearn.linear_model import Lasso, Ridge, SGDRegressor, LinearRegression\n",
        "import category_encoders as ce\n",
        "\n",
        "import os\n",
        "for dirname, _, filenames in os.walk('/kaggle/input'):\n",
        "    for filename in filenames:\n",
        "        print(os.path.join(dirname, filename))\n",
        "\n",
        "# You can write up to 20GB to the current directory (/kaggle/working/) that gets preserved as output when you create a version using \"Save & Run All\"\n",
        "# You can also write temporary files to /kaggle/temp/, but they won't be saved outside of the current session"
      ],
      "metadata": {
        "_uuid": "8f2839f25d086af736a60e9eeb907d3b93b6e0e5",
        "_cell_guid": "b1076dfc-b9ad-4769-8c92-a6c4dae69d19",
        "execution": {
          "iopub.status.busy": "2024-09-18T14:26:50.92043Z",
          "iopub.execute_input": "2024-09-18T14:26:50.920881Z",
          "iopub.status.idle": "2024-09-18T14:26:50.933018Z",
          "shell.execute_reply.started": "2024-09-18T14:26:50.920839Z",
          "shell.execute_reply": "2024-09-18T14:26:50.930955Z"
        },
        "trusted": true,
        "id": "fMimdLhTvAtV",
        "outputId": "15af43d0-8fd3-45c5-f2ab-6f1e1ff660aa"
      },
      "execution_count": null,
      "outputs": [
        {
          "name": "stdout",
          "text": "/kaggle/input/playground-series-s4e9/sample_submission.csv\n/kaggle/input/playground-series-s4e9/train.csv\n/kaggle/input/playground-series-s4e9/test.csv\n",
          "output_type": "stream"
        }
      ]
    },
    {
      "cell_type": "code",
      "source": [
        "train = pd.read_csv('/kaggle/input/playground-series-s4e9/train.csv')\n",
        "test = pd.read_csv('/kaggle/input/playground-series-s4e9/test.csv')"
      ],
      "metadata": {
        "execution": {
          "iopub.status.busy": "2024-09-18T14:27:02.460131Z",
          "iopub.execute_input": "2024-09-18T14:27:02.460653Z",
          "iopub.status.idle": "2024-09-18T14:27:03.445804Z",
          "shell.execute_reply.started": "2024-09-18T14:27:02.460609Z",
          "shell.execute_reply": "2024-09-18T14:27:03.44426Z"
        },
        "trusted": true,
        "id": "dfwQL-h3vAtY"
      },
      "execution_count": null,
      "outputs": []
    },
    {
      "cell_type": "code",
      "source": [
        "train = train.drop('id', axis=1)\n",
        "test = test.drop('id', axis=1)"
      ],
      "metadata": {
        "execution": {
          "iopub.status.busy": "2024-09-18T14:27:11.468301Z",
          "iopub.execute_input": "2024-09-18T14:27:11.468705Z",
          "iopub.status.idle": "2024-09-18T14:27:11.511028Z",
          "shell.execute_reply.started": "2024-09-18T14:27:11.468659Z",
          "shell.execute_reply": "2024-09-18T14:27:11.509791Z"
        },
        "trusted": true,
        "id": "xHMIuZo0vAtY"
      },
      "execution_count": null,
      "outputs": []
    },
    {
      "cell_type": "code",
      "source": [
        "train.shape"
      ],
      "metadata": {
        "execution": {
          "iopub.status.busy": "2024-09-18T14:27:13.479187Z",
          "iopub.execute_input": "2024-09-18T14:27:13.479678Z",
          "iopub.status.idle": "2024-09-18T14:27:13.48812Z",
          "shell.execute_reply.started": "2024-09-18T14:27:13.479635Z",
          "shell.execute_reply": "2024-09-18T14:27:13.486875Z"
        },
        "trusted": true,
        "id": "I5sllhEovAtZ",
        "outputId": "b3097186-ebd7-42a8-e4ed-aadb675a97bc"
      },
      "execution_count": null,
      "outputs": [
        {
          "execution_count": 37,
          "output_type": "execute_result",
          "data": {
            "text/plain": "(188533, 12)"
          },
          "metadata": {}
        }
      ]
    },
    {
      "cell_type": "code",
      "source": [
        "train.info()"
      ],
      "metadata": {
        "execution": {
          "iopub.status.busy": "2024-09-18T14:23:13.332027Z",
          "iopub.execute_input": "2024-09-18T14:23:13.332527Z",
          "iopub.status.idle": "2024-09-18T14:23:13.438644Z",
          "shell.execute_reply.started": "2024-09-18T14:23:13.332483Z",
          "shell.execute_reply": "2024-09-18T14:23:13.437014Z"
        },
        "trusted": true,
        "id": "i9HCsPtwvAtZ",
        "outputId": "01df7580-3093-4a1a-fee4-edd079448dad"
      },
      "execution_count": null,
      "outputs": [
        {
          "name": "stdout",
          "text": "<class 'pandas.core.frame.DataFrame'>\nRangeIndex: 188533 entries, 0 to 188532\nData columns (total 12 columns):\n #   Column        Non-Null Count   Dtype \n---  ------        --------------   ----- \n 0   brand         188533 non-null  object\n 1   model         188533 non-null  object\n 2   model_year    188533 non-null  int64 \n 3   milage        188533 non-null  int64 \n 4   fuel_type     183450 non-null  object\n 5   engine        188533 non-null  object\n 6   transmission  188533 non-null  object\n 7   ext_col       188533 non-null  object\n 8   int_col       188533 non-null  object\n 9   accident      186081 non-null  object\n 10  clean_title   167114 non-null  object\n 11  price         188533 non-null  int64 \ndtypes: int64(3), object(9)\nmemory usage: 17.3+ MB\n",
          "output_type": "stream"
        }
      ]
    },
    {
      "cell_type": "code",
      "source": [
        "test.shape"
      ],
      "metadata": {
        "execution": {
          "iopub.status.busy": "2024-09-18T14:23:17.644431Z",
          "iopub.execute_input": "2024-09-18T14:23:17.644912Z",
          "iopub.status.idle": "2024-09-18T14:23:17.652408Z",
          "shell.execute_reply.started": "2024-09-18T14:23:17.644874Z",
          "shell.execute_reply": "2024-09-18T14:23:17.651035Z"
        },
        "trusted": true,
        "id": "kWRvFDOAvAta",
        "outputId": "e2aaf2b1-86b1-443e-99e5-13379895faf4"
      },
      "execution_count": null,
      "outputs": [
        {
          "execution_count": 6,
          "output_type": "execute_result",
          "data": {
            "text/plain": "(125690, 11)"
          },
          "metadata": {}
        }
      ]
    },
    {
      "cell_type": "code",
      "source": [
        "train['engine'][35:95]"
      ],
      "metadata": {
        "execution": {
          "iopub.status.busy": "2024-09-18T14:23:19.467544Z",
          "iopub.execute_input": "2024-09-18T14:23:19.469207Z",
          "iopub.status.idle": "2024-09-18T14:23:19.479451Z",
          "shell.execute_reply.started": "2024-09-18T14:23:19.469154Z",
          "shell.execute_reply": "2024-09-18T14:23:19.478265Z"
        },
        "trusted": true,
        "id": "gDZ0e62VvAta",
        "outputId": "3f2d09bf-c341-4b90-f56f-70eb9294fab5"
      },
      "execution_count": null,
      "outputs": [
        {
          "execution_count": 7,
          "output_type": "execute_result",
          "data": {
            "text/plain": "35         240.0HP 2.0L 4 Cylinder Engine Gasoline Fuel\n36         248.0HP 2.0L 4 Cylinder Engine Gasoline Fuel\n37         563.0HP 5.5L 8 Cylinder Engine Gasoline Fuel\n38         241.0HP 2.0L 4 Cylinder Engine Gasoline Fuel\n39                                 3.6L V6 24V GDI DOHC\n40    230.0HP 3.0L Straight 6 Cylinder Engine Gasoli...\n41           450.0HP 6.7L 8 Cylinder Engine Diesel Fuel\n42         430.0HP 6.2L 8 Cylinder Engine Gasoline Fuel\n43                      4.0L V8 32V GDI DOHC Twin Turbo\n44          835.0HP Electric Motor Electric Fuel System\n45                                 5.7L V8 16V MPFI OHV\n46         300.0HP 5.4L 8 Cylinder Engine Gasoline Fuel\n47    425.0HP 3.0L Straight 6 Cylinder Engine Gasoli...\n48        310.0HP 6.8L 10 Cylinder Engine Gasoline Fuel\n49         280.0HP 2.0L 4 Cylinder Engine Gasoline Fuel\n50        295.0HP 3.5L V6 Cylinder Engine Gasoline Fuel\n51                                Dual Motor - Standard\n52          518.0HP Electric Motor Electric Fuel System\n53        348.0HP 3.8L V6 Cylinder Engine Gasoline Fuel\n54         560.0HP 4.4L 8 Cylinder Engine Gasoline Fuel\n55        285.0HP 3.6L V6 Cylinder Engine Gasoline Fuel\n56         241.0HP 2.0L 4 Cylinder Engine Gasoline Fuel\n57         252.0HP 3.9L 8 Cylinder Engine Gasoline Fuel\n58         300.0HP 4.4L 8 Cylinder Engine Gasoline Fuel\n59         302.0HP 5.0L 8 Cylinder Engine Gasoline Fuel\n60                      3.0L V6 24V GDI DOHC Twin Turbo\n61        300.0HP 3.6L V6 Cylinder Engine Gasoline Fuel\n62         490.0HP 6.2L 8 Cylinder Engine Gasoline Fuel\n63         300.0HP 5.3L 8 Cylinder Engine Gasoline Fuel\n64         560.0HP 4.4L 8 Cylinder Engine Gasoline Fuel\n65         490.0HP 6.2L 8 Cylinder Engine Gasoline Fuel\n66         200.0HP 2.0L 4 Cylinder Engine Gasoline Fuel\n67         416.0HP 4.0L 8 Cylinder Engine Gasoline Fuel\n68         179.0HP 2.5L 4 Cylinder Engine Gasoline Fuel\n69        302.0HP 3.5L V6 Cylinder Engine Gasoline Fuel\n70                     3.8L V8 32V MPFI DOHC Twin Turbo\n71        295.0HP 3.5L V6 Cylinder Engine Gasoline Fuel\n72               3.4L V6 24V PDI DOHC Twin Turbo Hybrid\n73    385.0HP 6.2L 8 Cylinder Engine Flex Fuel Capab...\n74         160.0HP 2.4L 4 Cylinder Engine Gasoline Fuel\n75    385.0HP 3.8L Flat 6 Cylinder Engine Gasoline Fuel\n76        210.0HP 3.3L V6 Cylinder Engine Gasoline Fuel\n77         385.0HP 5.0L 8 Cylinder Engine Gasoline Fuel\n78        270.0HP 4.0L V6 Cylinder Engine Gasoline Fuel\n79    425.0HP 3.0L Straight 6 Cylinder Engine Gasoli...\n80         560.0HP 4.0L 8 Cylinder Engine Gasoline Fuel\n81         160.0HP 2.4L 4 Cylinder Engine Gasoline Fuel\n82         248.0HP 2.0L 4 Cylinder Engine Gasoline Fuel\n83        210.0HP 4.0L V6 Cylinder Engine Gasoline Fuel\n84                      3.5L V6 24V PDI DOHC Twin Turbo\n85         310.0HP 2.3L 4 Cylinder Engine Gasoline Fuel\n86        302.0HP 3.5L V6 Cylinder Engine Gasoline Fuel\n87    350.0HP 6.7L Straight 6 Cylinder Engine Diesel...\n88    190.0HP 4.0L Straight 6 Cylinder Engine Gasoli...\n89         350.0HP 2.3L 4 Cylinder Engine Gasoline Fuel\n90         181.0HP 1.6L 4 Cylinder Engine Gasoline Fuel\n91                           2.0L I4 16V PDI DOHC Turbo\n92         300.0HP 4.6L 8 Cylinder Engine Gasoline Fuel\n93        270.0HP 3.5L V6 Cylinder Engine Gasoline Fuel\n94         248.0HP 2.0L 4 Cylinder Engine Gasoline Fuel\nName: engine, dtype: object"
          },
          "metadata": {}
        }
      ]
    },
    {
      "cell_type": "code",
      "source": [
        "train.describe()"
      ],
      "metadata": {
        "execution": {
          "iopub.status.busy": "2024-09-16T12:37:55.611086Z",
          "iopub.execute_input": "2024-09-16T12:37:55.611516Z",
          "iopub.status.idle": "2024-09-16T12:37:55.661708Z",
          "shell.execute_reply.started": "2024-09-16T12:37:55.611476Z",
          "shell.execute_reply": "2024-09-16T12:37:55.660455Z"
        },
        "trusted": true,
        "id": "s1TPrKgCvAtb"
      },
      "execution_count": null,
      "outputs": []
    },
    {
      "cell_type": "code",
      "source": [
        "train.describe(include='object')"
      ],
      "metadata": {
        "execution": {
          "iopub.status.busy": "2024-09-16T12:37:59.240787Z",
          "iopub.execute_input": "2024-09-16T12:37:59.241202Z",
          "iopub.status.idle": "2024-09-16T12:37:59.766463Z",
          "shell.execute_reply.started": "2024-09-16T12:37:59.241164Z",
          "shell.execute_reply": "2024-09-16T12:37:59.765199Z"
        },
        "trusted": true,
        "id": "kOBI8vFJvAtb"
      },
      "execution_count": null,
      "outputs": []
    },
    {
      "cell_type": "code",
      "source": [
        "100* (train.isna().sum() / len(train)).sort_values(ascending=False)"
      ],
      "metadata": {
        "execution": {
          "iopub.status.busy": "2024-09-16T08:12:44.680178Z",
          "iopub.execute_input": "2024-09-16T08:12:44.680692Z",
          "iopub.status.idle": "2024-09-16T08:12:44.872861Z",
          "shell.execute_reply.started": "2024-09-16T08:12:44.680647Z",
          "shell.execute_reply": "2024-09-16T08:12:44.871232Z"
        },
        "trusted": true,
        "id": "QdYnaJP5vAtb"
      },
      "execution_count": null,
      "outputs": []
    },
    {
      "cell_type": "code",
      "source": [
        "sns.displot(np.log(train['price']), kde=True)"
      ],
      "metadata": {
        "execution": {
          "iopub.status.busy": "2024-09-16T17:14:43.287543Z",
          "iopub.execute_input": "2024-09-16T17:14:43.288356Z",
          "iopub.status.idle": "2024-09-16T17:14:45.099004Z",
          "shell.execute_reply.started": "2024-09-16T17:14:43.28827Z",
          "shell.execute_reply": "2024-09-16T17:14:45.097542Z"
        },
        "trusted": true,
        "id": "U8IdmnK0vAtb",
        "outputId": "02c5c00e-f70c-44da-a49a-f07e868b53c1"
      },
      "execution_count": null,
      "outputs": [
        {
          "name": "stderr",
          "text": "/opt/conda/lib/python3.10/site-packages/seaborn/_oldcore.py:1119: FutureWarning: use_inf_as_na option is deprecated and will be removed in a future version. Convert inf values to NaN before operating instead.\n  with pd.option_context('mode.use_inf_as_na', True):\n",
          "output_type": "stream"
        },
        {
          "execution_count": 4,
          "output_type": "execute_result",
          "data": {
            "text/plain": "<seaborn.axisgrid.FacetGrid at 0x7e851bebbcd0>"
          },
          "metadata": {}
        },
        {
          "output_type": "display_data",
          "data": {
            "text/plain": "<Figure size 500x500 with 1 Axes>",
            "image/png": "[encoded data removed]"
          },
          "metadata": {}
        }
      ]
    },
    {
      "cell_type": "code",
      "source": [
        "from scipy import stats\n",
        "milage = train['milage']\n",
        "milage_boxcox, _ = stats.boxcox(milage + 1)\n",
        "\n",
        "sns.displot(train['milage'], kde=True)\n",
        "sns.displot(milage_boxcox, kde=True)"
      ],
      "metadata": {
        "execution": {
          "iopub.status.busy": "2024-09-16T12:38:06.047113Z",
          "iopub.execute_input": "2024-09-16T12:38:06.047578Z",
          "iopub.status.idle": "2024-09-16T12:38:10.373636Z",
          "shell.execute_reply.started": "2024-09-16T12:38:06.047531Z",
          "shell.execute_reply": "2024-09-16T12:38:10.37227Z"
        },
        "trusted": true,
        "id": "2uphhwu_vAtc"
      },
      "execution_count": null,
      "outputs": []
    },
    {
      "cell_type": "code",
      "source": [
        "model_year = datetime.now().year - train['model_year']\n",
        "boxcox_model_year, _ = stats.boxcox(model_year+1)\n",
        "sns.displot(model_year, kde=True)\n",
        "sns.displot(boxcox_model_year, kde=True)"
      ],
      "metadata": {
        "execution": {
          "iopub.status.busy": "2024-09-16T12:38:16.173698Z",
          "iopub.execute_input": "2024-09-16T12:38:16.174142Z",
          "iopub.status.idle": "2024-09-16T12:38:20.743385Z",
          "shell.execute_reply.started": "2024-09-16T12:38:16.174099Z",
          "shell.execute_reply": "2024-09-16T12:38:20.742092Z"
        },
        "trusted": true,
        "id": "8k79iVI-vAtc"
      },
      "execution_count": null,
      "outputs": []
    },
    {
      "cell_type": "code",
      "source": [
        "train['clean_title'].value_counts()"
      ],
      "metadata": {
        "execution": {
          "iopub.status.busy": "2024-09-15T19:39:13.054731Z",
          "iopub.execute_input": "2024-09-15T19:39:13.055214Z",
          "iopub.status.idle": "2024-09-15T19:39:13.094772Z",
          "shell.execute_reply.started": "2024-09-15T19:39:13.055169Z",
          "shell.execute_reply": "2024-09-15T19:39:13.093259Z"
        },
        "trusted": true,
        "id": "PW3cHOLXvAtc"
      },
      "execution_count": null,
      "outputs": []
    },
    {
      "cell_type": "code",
      "source": [
        "df = pd.concat([train, test], axis=0, ignore_index=True)"
      ],
      "metadata": {
        "execution": {
          "iopub.status.busy": "2024-09-18T14:27:22.407539Z",
          "iopub.execute_input": "2024-09-18T14:27:22.408Z",
          "iopub.status.idle": "2024-09-18T14:27:22.431611Z",
          "shell.execute_reply.started": "2024-09-18T14:27:22.407958Z",
          "shell.execute_reply": "2024-09-18T14:27:22.430311Z"
        },
        "trusted": true,
        "id": "dN-tgmrIvAtc"
      },
      "execution_count": null,
      "outputs": []
    },
    {
      "cell_type": "code",
      "source": [
        "df['brand'].unique()"
      ],
      "metadata": {
        "execution": {
          "iopub.status.busy": "2024-09-16T17:15:12.112228Z",
          "iopub.execute_input": "2024-09-16T17:15:12.11278Z",
          "iopub.status.idle": "2024-09-16T17:15:12.146874Z",
          "shell.execute_reply.started": "2024-09-16T17:15:12.112732Z",
          "shell.execute_reply": "2024-09-16T17:15:12.145737Z"
        },
        "trusted": true,
        "id": "pOe3VhqDvAtc",
        "outputId": "ee1b2603-5041-46e2-96ca-0420cd7da496"
      },
      "execution_count": null,
      "outputs": [
        {
          "execution_count": 7,
          "output_type": "execute_result",
          "data": {
            "text/plain": "array(['MINI', 'Lincoln', 'Chevrolet', 'Genesis', 'Mercedes-Benz', 'Audi',\n       'Ford', 'BMW', 'Tesla', 'Cadillac', 'Land', 'GMC', 'Toyota',\n       'Hyundai', 'Volvo', 'Volkswagen', 'Buick', 'Rivian', 'RAM',\n       'Hummer', 'Alfa', 'INFINITI', 'Jeep', 'Porsche', 'McLaren',\n       'Honda', 'Lexus', 'Dodge', 'Nissan', 'Jaguar', 'Acura', 'Kia',\n       'Mitsubishi', 'Rolls-Royce', 'Maserati', 'Pontiac', 'Saturn',\n       'Bentley', 'Mazda', 'Subaru', 'Ferrari', 'Aston', 'Lamborghini',\n       'Chrysler', 'Lucid', 'Lotus', 'Scion', 'smart', 'Karma',\n       'Plymouth', 'Suzuki', 'FIAT', 'Saab', 'Bugatti', 'Mercury',\n       'Polestar', 'Maybach'], dtype=object)"
          },
          "metadata": {}
        }
      ]
    },
    {
      "cell_type": "code",
      "source": [
        "avarage_price_by_brand = train.groupby('brand')['price'].agg(['mean', 'median'])\n",
        "avarage_price_by_brand.sort_values(by='median', ascending=False).astype('int')"
      ],
      "metadata": {
        "execution": {
          "iopub.status.busy": "2024-09-18T14:27:25.300152Z",
          "iopub.execute_input": "2024-09-18T14:27:25.300619Z",
          "iopub.status.idle": "2024-09-18T14:27:25.348436Z",
          "shell.execute_reply.started": "2024-09-18T14:27:25.300575Z",
          "shell.execute_reply": "2024-09-18T14:27:25.346902Z"
        },
        "trusted": true,
        "id": "5RJTtcLTvAtc",
        "outputId": "683c6d2e-e0aa-4b2d-ad15-5dc7aa8639d0"
      },
      "execution_count": null,
      "outputs": [
        {
          "execution_count": 39,
          "output_type": "execute_result",
          "data": {
            "text/plain": "                 mean  median\nbrand                        \nBugatti        169600  220000\nLamborghini    159176  102000\nMcLaren        123261   87500\nRivian          81089   78000\nRolls-Royce    135488   77500\nFerrari        116751   75500\nBentley        129272   73600\nAston          112364   67650\nLucid           63310   56000\nMaybach         53566   54999\nTesla           56445   47500\nPorsche         70899   45900\nMaserati        61459   43900\nRAM             51290   40036\nGenesis         53556   39999\nAlfa            51993   39900\nLand            53204   38998\nJaguar          48147   38000\nMercedes-Benz   51244   36570\nPolestar        41754   33500\nGMC             38936   32250\nChevrolet       41836   32000\nFord            40511   32000\nBMW             43659   31000\nCadillac        45659   30500\nKarma           37384   30000\nKia             38072   30000\nAudi            41004   29900\nJeep            34116   29182\nVolvo           30879   26500\nBuick           29617   26288\nINFINITI        33371   26000\nLexus           34801   25500\nLincoln         30712   23500\nLotus           26436   22750\nToyota          29147   22000\nMazda           25332   20995\nAcura           28628   20653\nSaab            28594   20099\nFIAT            31045   19249\nHyundai         25936   19000\nSuzuki          30124   19000\nVolkswagen      26339   18900\nDodge           33277   18749\nNissan          29246   18000\nSubaru          21521   17500\nHonda           22800   15900\nChrysler        27010   14950\nMercury         26081   14900\nScion           14652   13675\nMINI            17162   12992\nSaturn          18204   12500\nPontiac         22528   10999\nHummer          15355   10900\nMitsubishi      18911   10300\nsmart           34664    9995\nPlymouth        28095    9495",
            "text/html": "<div>\n<style scoped>\n    .dataframe tbody tr th:only-of-type {\n        vertical-align: middle;\n    }\n\n    .dataframe tbody tr th {\n        vertical-align: top;\n    }\n\n    .dataframe thead th {\n        text-align: right;\n    }\n</style>\n<table border=\"1\" class=\"dataframe\">\n  <thead>\n    <tr style=\"text-align: right;\">\n      <th></th>\n      <th>mean</th>\n      <th>median</th>\n    </tr>\n    <tr>\n      <th>brand</th>\n      <th></th>\n      <th></th>\n    </tr>\n  </thead>\n  <tbody>\n    <tr>\n      <th>Bugatti</th>\n      <td>169600</td>\n      <td>220000</td>\n    </tr>\n    <tr>\n      <th>Lamborghini</th>\n      <td>159176</td>\n      <td>102000</td>\n    </tr>\n    <tr>\n      <th>McLaren</th>\n      <td>123261</td>\n      <td>87500</td>\n    </tr>\n    <tr>\n      <th>Rivian</th>\n      <td>81089</td>\n      <td>78000</td>\n    </tr>\n    <tr>\n      <th>Rolls-Royce</th>\n      <td>135488</td>\n      <td>77500</td>\n    </tr>\n    <tr>\n      <th>Ferrari</th>\n      <td>116751</td>\n      <td>75500</td>\n    </tr>\n    <tr>\n      <th>Bentley</th>\n      <td>129272</td>\n      <td>73600</td>\n    </tr>\n    <tr>\n      <th>Aston</th>\n      <td>112364</td>\n      <td>67650</td>\n    </tr>\n    <tr>\n      <th>Lucid</th>\n      <td>63310</td>\n      <td>56000</td>\n    </tr>\n    <tr>\n      <th>Maybach</th>\n      <td>53566</td>\n      <td>54999</td>\n    </tr>\n    <tr>\n      <th>Tesla</th>\n      <td>56445</td>\n      <td>47500</td>\n    </tr>\n    <tr>\n      <th>Porsche</th>\n      <td>70899</td>\n      <td>45900</td>\n    </tr>\n    <tr>\n      <th>Maserati</th>\n      <td>61459</td>\n      <td>43900</td>\n    </tr>\n    <tr>\n      <th>RAM</th>\n      <td>51290</td>\n      <td>40036</td>\n    </tr>\n    <tr>\n      <th>Genesis</th>\n      <td>53556</td>\n      <td>39999</td>\n    </tr>\n    <tr>\n      <th>Alfa</th>\n      <td>51993</td>\n      <td>39900</td>\n    </tr>\n    <tr>\n      <th>Land</th>\n      <td>53204</td>\n      <td>38998</td>\n    </tr>\n    <tr>\n      <th>Jaguar</th>\n      <td>48147</td>\n      <td>38000</td>\n    </tr>\n    <tr>\n      <th>Mercedes-Benz</th>\n      <td>51244</td>\n      <td>36570</td>\n    </tr>\n    <tr>\n      <th>Polestar</th>\n      <td>41754</td>\n      <td>33500</td>\n    </tr>\n    <tr>\n      <th>GMC</th>\n      <td>38936</td>\n      <td>32250</td>\n    </tr>\n    <tr>\n      <th>Chevrolet</th>\n      <td>41836</td>\n      <td>32000</td>\n    </tr>\n    <tr>\n      <th>Ford</th>\n      <td>40511</td>\n      <td>32000</td>\n    </tr>\n    <tr>\n      <th>BMW</th>\n      <td>43659</td>\n      <td>31000</td>\n    </tr>\n    <tr>\n      <th>Cadillac</th>\n      <td>45659</td>\n      <td>30500</td>\n    </tr>\n    <tr>\n      <th>Karma</th>\n      <td>37384</td>\n      <td>30000</td>\n    </tr>\n    <tr>\n      <th>Kia</th>\n      <td>38072</td>\n      <td>30000</td>\n    </tr>\n    <tr>\n      <th>Audi</th>\n      <td>41004</td>\n      <td>29900</td>\n    </tr>\n    <tr>\n      <th>Jeep</th>\n      <td>34116</td>\n      <td>29182</td>\n    </tr>\n    <tr>\n      <th>Volvo</th>\n      <td>30879</td>\n      <td>26500</td>\n    </tr>\n    <tr>\n      <th>Buick</th>\n      <td>29617</td>\n      <td>26288</td>\n    </tr>\n    <tr>\n      <th>INFINITI</th>\n      <td>33371</td>\n      <td>26000</td>\n    </tr>\n    <tr>\n      <th>Lexus</th>\n      <td>34801</td>\n      <td>25500</td>\n    </tr>\n    <tr>\n      <th>Lincoln</th>\n      <td>30712</td>\n      <td>23500</td>\n    </tr>\n    <tr>\n      <th>Lotus</th>\n      <td>26436</td>\n      <td>22750</td>\n    </tr>\n    <tr>\n      <th>Toyota</th>\n      <td>29147</td>\n      <td>22000</td>\n    </tr>\n    <tr>\n      <th>Mazda</th>\n      <td>25332</td>\n      <td>20995</td>\n    </tr>\n    <tr>\n      <th>Acura</th>\n      <td>28628</td>\n      <td>20653</td>\n    </tr>\n    <tr>\n      <th>Saab</th>\n      <td>28594</td>\n      <td>20099</td>\n    </tr>\n    <tr>\n      <th>FIAT</th>\n      <td>31045</td>\n      <td>19249</td>\n    </tr>\n    <tr>\n      <th>Hyundai</th>\n      <td>25936</td>\n      <td>19000</td>\n    </tr>\n    <tr>\n      <th>Suzuki</th>\n      <td>30124</td>\n      <td>19000</td>\n    </tr>\n    <tr>\n      <th>Volkswagen</th>\n      <td>26339</td>\n      <td>18900</td>\n    </tr>\n    <tr>\n      <th>Dodge</th>\n      <td>33277</td>\n      <td>18749</td>\n    </tr>\n    <tr>\n      <th>Nissan</th>\n      <td>29246</td>\n      <td>18000</td>\n    </tr>\n    <tr>\n      <th>Subaru</th>\n      <td>21521</td>\n      <td>17500</td>\n    </tr>\n    <tr>\n      <th>Honda</th>\n      <td>22800</td>\n      <td>15900</td>\n    </tr>\n    <tr>\n      <th>Chrysler</th>\n      <td>27010</td>\n      <td>14950</td>\n    </tr>\n    <tr>\n      <th>Mercury</th>\n      <td>26081</td>\n      <td>14900</td>\n    </tr>\n    <tr>\n      <th>Scion</th>\n      <td>14652</td>\n      <td>13675</td>\n    </tr>\n    <tr>\n      <th>MINI</th>\n      <td>17162</td>\n      <td>12992</td>\n    </tr>\n    <tr>\n      <th>Saturn</th>\n      <td>18204</td>\n      <td>12500</td>\n    </tr>\n    <tr>\n      <th>Pontiac</th>\n      <td>22528</td>\n      <td>10999</td>\n    </tr>\n    <tr>\n      <th>Hummer</th>\n      <td>15355</td>\n      <td>10900</td>\n    </tr>\n    <tr>\n      <th>Mitsubishi</th>\n      <td>18911</td>\n      <td>10300</td>\n    </tr>\n    <tr>\n      <th>smart</th>\n      <td>34664</td>\n      <td>9995</td>\n    </tr>\n    <tr>\n      <th>Plymouth</th>\n      <td>28095</td>\n      <td>9495</td>\n    </tr>\n  </tbody>\n</table>\n</div>"
          },
          "metadata": {}
        }
      ]
    },
    {
      "cell_type": "code",
      "source": [
        "lux_auto = [\n",
        "    \"Mercedes-Benz\",\n",
        "    \"Audi\",\n",
        "    \"BMW\",\n",
        "    \"Tesla\",\n",
        "    \"Cadillac\",\n",
        "    \"Land Rover\",\n",
        "    \"Porsche\",\n",
        "    \"Lexus\",\n",
        "    \"INFINITI\",\n",
        "    \"Jaguar\",\n",
        "    \"Rolls-Royce\",\n",
        "    \"Bentley\",\n",
        "    \"Ferrari\",\n",
        "    \"Aston Martin\",\n",
        "    \"Lamborghini\",\n",
        "    \"Bugatti\",\n",
        "    \"Maserati\",\n",
        "    \"Lucid\",\n",
        "    \"Polestar\",\n",
        "    \"Maybach\",\n",
        "    \"Lincoln\"\n",
        "]"
      ],
      "metadata": {
        "execution": {
          "iopub.status.busy": "2024-09-18T14:27:28.777362Z",
          "iopub.execute_input": "2024-09-18T14:27:28.777819Z",
          "iopub.status.idle": "2024-09-18T14:27:28.783794Z",
          "shell.execute_reply.started": "2024-09-18T14:27:28.777778Z",
          "shell.execute_reply": "2024-09-18T14:27:28.782538Z"
        },
        "trusted": true,
        "id": "49B9kF5yvAtc"
      },
      "execution_count": null,
      "outputs": []
    },
    {
      "cell_type": "code",
      "source": [
        "df['premium_auto'] = df['brand'].apply(lambda x: 1 if x in lux_auto else 0)\n",
        "df.head()"
      ],
      "metadata": {
        "execution": {
          "iopub.status.busy": "2024-09-18T14:27:30.934456Z",
          "iopub.execute_input": "2024-09-18T14:27:30.934914Z",
          "iopub.status.idle": "2024-09-18T14:27:31.146132Z",
          "shell.execute_reply.started": "2024-09-18T14:27:30.934871Z",
          "shell.execute_reply": "2024-09-18T14:27:31.144704Z"
        },
        "trusted": true,
        "id": "k2uE9DBGvAtd",
        "outputId": "bbe10a0f-4613-4c92-8912-715bc8f39e96"
      },
      "execution_count": null,
      "outputs": [
        {
          "execution_count": 41,
          "output_type": "execute_result",
          "data": {
            "text/plain": "           brand              model  model_year  milage      fuel_type  \\\n0           MINI      Cooper S Base        2007  213000       Gasoline   \n1        Lincoln              LS V8        2002  143250       Gasoline   \n2      Chevrolet  Silverado 2500 LT        2002  136731  E85 Flex Fuel   \n3        Genesis   G90 5.0 Ultimate        2017   19500       Gasoline   \n4  Mercedes-Benz        Metris Base        2021    7388       Gasoline   \n\n                                              engine  \\\n0       172.0HP 1.6L 4 Cylinder Engine Gasoline Fuel   \n1       252.0HP 3.9L 8 Cylinder Engine Gasoline Fuel   \n2  320.0HP 5.3L 8 Cylinder Engine Flex Fuel Capab...   \n3       420.0HP 5.0L 8 Cylinder Engine Gasoline Fuel   \n4       208.0HP 2.0L 4 Cylinder Engine Gasoline Fuel   \n\n                     transmission ext_col int_col  \\\n0                             A/T  Yellow    Gray   \n1                             A/T  Silver   Beige   \n2                             A/T    Blue    Gray   \n3  Transmission w/Dual Shift Mode   Black   Black   \n4                     7-Speed A/T   Black   Beige   \n\n                                 accident clean_title    price  premium_auto  \n0                           None reported         Yes   4200.0             0  \n1  At least 1 accident or damage reported         Yes   4999.0             1  \n2                           None reported         Yes  13900.0             0  \n3                           None reported         Yes  45000.0             0  \n4                           None reported         Yes  97500.0             1  ",
            "text/html": "<div>\n<style scoped>\n    .dataframe tbody tr th:only-of-type {\n        vertical-align: middle;\n    }\n\n    .dataframe tbody tr th {\n        vertical-align: top;\n    }\n\n    .dataframe thead th {\n        text-align: right;\n    }\n</style>\n<table border=\"1\" class=\"dataframe\">\n  <thead>\n    <tr style=\"text-align: right;\">\n      <th></th>\n      <th>brand</th>\n      <th>model</th>\n      <th>model_year</th>\n      <th>milage</th>\n      <th>fuel_type</th>\n      <th>engine</th>\n      <th>transmission</th>\n      <th>ext_col</th>\n      <th>int_col</th>\n      <th>accident</th>\n      <th>clean_title</th>\n      <th>price</th>\n      <th>premium_auto</th>\n    </tr>\n  </thead>\n  <tbody>\n    <tr>\n      <th>0</th>\n      <td>MINI</td>\n      <td>Cooper S Base</td>\n      <td>2007</td>\n      <td>213000</td>\n      <td>Gasoline</td>\n      <td>172.0HP 1.6L 4 Cylinder Engine Gasoline Fuel</td>\n      <td>A/T</td>\n      <td>Yellow</td>\n      <td>Gray</td>\n      <td>None reported</td>\n      <td>Yes</td>\n      <td>4200.0</td>\n      <td>0</td>\n    </tr>\n    <tr>\n      <th>1</th>\n      <td>Lincoln</td>\n      <td>LS V8</td>\n      <td>2002</td>\n      <td>143250</td>\n      <td>Gasoline</td>\n      <td>252.0HP 3.9L 8 Cylinder Engine Gasoline Fuel</td>\n      <td>A/T</td>\n      <td>Silver</td>\n      <td>Beige</td>\n      <td>At least 1 accident or damage reported</td>\n      <td>Yes</td>\n      <td>4999.0</td>\n      <td>1</td>\n    </tr>\n    <tr>\n      <th>2</th>\n      <td>Chevrolet</td>\n      <td>Silverado 2500 LT</td>\n      <td>2002</td>\n      <td>136731</td>\n      <td>E85 Flex Fuel</td>\n      <td>320.0HP 5.3L 8 Cylinder Engine Flex Fuel Capab...</td>\n      <td>A/T</td>\n      <td>Blue</td>\n      <td>Gray</td>\n      <td>None reported</td>\n      <td>Yes</td>\n      <td>13900.0</td>\n      <td>0</td>\n    </tr>\n    <tr>\n      <th>3</th>\n      <td>Genesis</td>\n      <td>G90 5.0 Ultimate</td>\n      <td>2017</td>\n      <td>19500</td>\n      <td>Gasoline</td>\n      <td>420.0HP 5.0L 8 Cylinder Engine Gasoline Fuel</td>\n      <td>Transmission w/Dual Shift Mode</td>\n      <td>Black</td>\n      <td>Black</td>\n      <td>None reported</td>\n      <td>Yes</td>\n      <td>45000.0</td>\n      <td>0</td>\n    </tr>\n    <tr>\n      <th>4</th>\n      <td>Mercedes-Benz</td>\n      <td>Metris Base</td>\n      <td>2021</td>\n      <td>7388</td>\n      <td>Gasoline</td>\n      <td>208.0HP 2.0L 4 Cylinder Engine Gasoline Fuel</td>\n      <td>7-Speed A/T</td>\n      <td>Black</td>\n      <td>Beige</td>\n      <td>None reported</td>\n      <td>Yes</td>\n      <td>97500.0</td>\n      <td>1</td>\n    </tr>\n  </tbody>\n</table>\n</div>"
          },
          "metadata": {}
        }
      ]
    },
    {
      "cell_type": "code",
      "source": [
        "horsepower = []\n",
        "engine_volume = []\n",
        "num_of_cylinders = []\n",
        "for col in df['engine']:\n",
        "    hp = re.search(r'(\\d+\\.?\\d*)HP', col, re.IGNORECASE)\n",
        "    #print(hp)\n",
        "    if hp:\n",
        "        horsepower.append(float(hp.group(1)))\n",
        "    else:\n",
        "        horsepower.append(0)\n",
        "\n",
        "    volume = re.search(r'(\\d+\\.?\\d*)L|(\\d+\\.?\\d*\\s*)Liter', col, re.IGNORECASE)\n",
        "    if volume:\n",
        "        if volume.group(1):\n",
        "            engine_volume.append(float(volume.group(1)))\n",
        "        elif volume.group(2):\n",
        "            engine_volume.append(float(volume.group(2)))\n",
        "    else:\n",
        "        engine_volume.append(0)\n",
        "\n",
        "    cylinder = re.search(r'(\\d+)\\s*Cylinder|V(\\d+)|I(\\d+)', col, re.IGNORECASE)\n",
        "\n",
        "    if cylinder:\n",
        "        # If we find a numeric cylinder, use that\n",
        "        if cylinder.group(1):\n",
        "            num_of_cylinders.append(float(cylinder.group(1)))\n",
        "        # If we find a V-style code, use the number after 'V'\n",
        "        elif cylinder.group(2):\n",
        "            num_of_cylinders.append(float(cylinder.group(2)))\n",
        "        elif cylinder.group(3):\n",
        "            num_of_cylinders.append(float(cylinder.group(3)))\n",
        "    else:\n",
        "        # If no match is found, default to 0\n",
        "        num_of_cylinders.append(0)\n",
        "\n",
        "print(len(horsepower))\n",
        "print(len(engine_volume))\n",
        "print(len(num_of_cylinders))\n",
        "df['horsepower'] = horsepower\n",
        "df['engine_volume'] = engine_volume\n",
        "df['num_of_cylinders'] = num_of_cylinders"
      ],
      "metadata": {
        "execution": {
          "iopub.status.busy": "2024-09-18T14:38:05.589177Z",
          "iopub.execute_input": "2024-09-18T14:38:05.589613Z",
          "iopub.status.idle": "2024-09-18T14:38:09.067617Z",
          "shell.execute_reply.started": "2024-09-18T14:38:05.589574Z",
          "shell.execute_reply": "2024-09-18T14:38:09.066309Z"
        },
        "trusted": true,
        "id": "24faeklxvAtd",
        "outputId": "a26103b6-558c-47fe-de1d-ad992186c221"
      },
      "execution_count": null,
      "outputs": [
        {
          "name": "stdout",
          "text": "314223\n314223\n314223\n",
          "output_type": "stream"
        }
      ]
    },
    {
      "cell_type": "code",
      "source": [
        "#df[35:62]"
      ],
      "metadata": {
        "execution": {
          "iopub.status.busy": "2024-09-13T23:27:25.07088Z",
          "iopub.execute_input": "2024-09-13T23:27:25.071372Z",
          "iopub.status.idle": "2024-09-13T23:27:25.076916Z",
          "shell.execute_reply.started": "2024-09-13T23:27:25.071327Z",
          "shell.execute_reply": "2024-09-13T23:27:25.075286Z"
        },
        "trusted": true,
        "id": "w7ymDhZZvAtd"
      },
      "execution_count": null,
      "outputs": []
    },
    {
      "cell_type": "code",
      "source": [
        "df['num_of_cylinders'].nunique()"
      ],
      "metadata": {
        "execution": {
          "iopub.status.busy": "2024-09-18T14:38:11.528454Z",
          "iopub.execute_input": "2024-09-18T14:38:11.528875Z",
          "iopub.status.idle": "2024-09-18T14:38:11.54296Z",
          "shell.execute_reply.started": "2024-09-18T14:38:11.528835Z",
          "shell.execute_reply": "2024-09-18T14:38:11.541072Z"
        },
        "trusted": true,
        "id": "QHlUHWNKvAtd",
        "outputId": "3ef9505d-82da-40b4-d79c-109f2a33ee32"
      },
      "execution_count": null,
      "outputs": [
        {
          "execution_count": 46,
          "output_type": "execute_result",
          "data": {
            "text/plain": "8"
          },
          "metadata": {}
        }
      ]
    },
    {
      "cell_type": "code",
      "source": [
        "df[df['fuel_type'] == 'not supported']"
      ],
      "metadata": {
        "execution": {
          "iopub.status.busy": "2024-09-18T14:38:15.414807Z",
          "iopub.execute_input": "2024-09-18T14:38:15.415378Z",
          "iopub.status.idle": "2024-09-18T14:38:15.498406Z",
          "shell.execute_reply.started": "2024-09-18T14:38:15.415311Z",
          "shell.execute_reply": "2024-09-18T14:38:15.49694Z"
        },
        "trusted": true,
        "id": "MZxXrl7gvAtd",
        "outputId": "00598e06-38a7-4d8f-cab7-7f359739be52"
      },
      "execution_count": null,
      "outputs": [
        {
          "execution_count": 47,
          "output_type": "execute_result",
          "data": {
            "text/plain": "            brand                           model  model_year  milage  \\\n4823    Chevrolet                     Suburban LT        2011  109646   \n18000     Porsche                      Camaro 2SS        2015   67000   \n19182      Nissan                   Mirai Limited        2000  131000   \n27199      Subaru            Outback 2.5i Limited        2017  116000   \n33030      Nissan                   Mirai Limited        2009  137333   \n60717   Chevrolet              Silverado 1500 RST        2020   19200   \n74096      Toyota                   Mirai Limited        2021   79876   \n86897       Lexus                  IS 350 F Sport        2022    9500   \n94425     Porsche                Cayenne Turbo GT        2018   52000   \n127066     Toyota                   Mirai Limited        2016   58664   \n128917      Mazda                 MX-5 Miata Base        1999  120000   \n135865      Lexus                   Mirai Limited        2014  123331   \n140206      Lexus                     RX 330 Base        2006  110000   \n171120     Hummer                         H2 Base        2013  152068   \n171659     Toyota                   Mirai Limited        2021   44000   \n200729     Toyota                      Mirai Base        2011   91491   \n209488       Alfa          Romeo Stelvio Ti Sport        2018   23600   \n229103       Audi                 A3 2.0T Premium        2015  205500   \n249628     Toyota                      Mirai Base        2018   18000   \n256193     Nissan                   Mirai Limited        2016   49688   \n259042     Toyota                      Mirai Base        2015   46873   \n262931  Chevrolet         Corvette Stingray w/2LT        2018    5400   \n264225       Land  Rover Range Rover Supercharged        2014  134000   \n266935       Ford                   Focus ST Base        2018   49500   \n273147     Toyota                   Mirai Limited        2021   20500   \n279874     Toyota                   Mirai Limited        2011  107000   \n285151   Cadillac              Escalade ESV Sport        2018   32000   \n308236     Subaru                    WRX STI Base        2014   76500   \n310455     Toyota                      Mirai Base        2016   74000   \n\n            fuel_type                                             engine  \\\n4823    not supported  320.0HP 5.3L 8 Cylinder Engine Flex Fuel Capab...   \n18000   not supported       240.0HP 2.0L 4 Cylinder Engine Gasoline Fuel   \n19182   not supported               182.0HP Electric Motor Hydrogen Fuel   \n27199   not supported       175.0HP 2.5L 4 Cylinder Engine Gasoline Fuel   \n33030   not supported               182.0HP Electric Motor Hydrogen Fuel   \n60717   not supported       355.0HP 5.3L 8 Cylinder Engine Gasoline Fuel   \n74096   not supported               182.0HP Electric Motor Hydrogen Fuel   \n86897   not supported      311.0HP 3.5L V6 Cylinder Engine Gasoline Fuel   \n94425   not supported       550.0HP 4.8L 8 Cylinder Engine Gasoline Fuel   \n127066  not supported               151.0HP Electric Motor Hydrogen Fuel   \n128917  not supported       140.0HP 1.8L 4 Cylinder Engine Gasoline Fuel   \n135865  not supported               182.0HP Electric Motor Hydrogen Fuel   \n140206  not supported      230.0HP 3.3L V6 Cylinder Engine Gasoline Fuel   \n171120  not supported       316.0HP 6.0L 8 Cylinder Engine Gasoline Fuel   \n171659  not supported               182.0HP Electric Motor Hydrogen Fuel   \n200729  not supported               151.0HP Electric Motor Hydrogen Fuel   \n209488  not supported       280.0HP 2.0L 4 Cylinder Engine Gasoline Fuel   \n229103  not supported       211.0HP 2.0L 4 Cylinder Engine Gasoline Fuel   \n249628  not supported               151.0HP Electric Motor Hydrogen Fuel   \n256193  not supported               151.0HP Electric Motor Hydrogen Fuel   \n259042  not supported               151.0HP Electric Motor Hydrogen Fuel   \n262931  not supported       490.0HP 6.2L 8 Cylinder Engine Gasoline Fuel   \n264225  not supported  510.0HP 5.0L 8 Cylinder Engine Flex Fuel Capab...   \n266935  not supported       252.0HP 2.0L 4 Cylinder Engine Gasoline Fuel   \n273147  not supported               151.0HP Electric Motor Hydrogen Fuel   \n279874  not supported               182.0HP Electric Motor Hydrogen Fuel   \n285151  not supported       420.0HP 6.2L 8 Cylinder Engine Gasoline Fuel   \n308236  not supported       305.0HP 2.5L 4 Cylinder Engine Gasoline Fuel   \n310455  not supported               182.0HP Electric Motor Hydrogen Fuel   \n\n                          transmission ext_col int_col  \\\n4823                       6-Speed A/T   Black   Beige   \n18000   Transmission w/Dual Shift Mode   Black   Black   \n19182                              A/T  Silver   Black   \n27199                 CVT Transmission    Gray   Black   \n33030                              A/T   White    Gray   \n60717                     10-Speed A/T   White   Black   \n74096                              A/T     Red   Black   \n86897                              A/T    Gray   Black   \n94425   Transmission w/Dual Shift Mode    Gray    Gray   \n127066                CVT Transmission   Black   Black   \n128917                     5-Speed M/T   Black   Beige   \n135865                             A/T     Red    Gray   \n140206                     5-Speed A/T   White   Beige   \n171120                             A/T   Black   Black   \n171659                             A/T    Gray   Black   \n200729                     5-Speed A/T    Gray    Gray   \n209488                     8-Speed A/T   Black   Beige   \n229103                             A/T    Gold   Beige   \n249628                             A/T   White    Gray   \n256193                CVT Transmission  Silver   Black   \n259042                     5-Speed A/T   Green   Black   \n262931                     8-Speed A/T   Black     Red   \n264225                             A/T     Red   White   \n266935                CVT Transmission   Black    Gray   \n273147                             A/T  Silver   Black   \n279874                             A/T   Black    Gray   \n285151                             A/T   White   Black   \n308236                     7-Speed A/T   Black   Black   \n310455                             A/T   Black   Black   \n\n                                      accident clean_title    price  \\\n4823                             None reported         Yes  18998.0   \n18000                            None reported         Yes  11500.0   \n19182                            None reported         Yes   5000.0   \n27199   At least 1 accident or damage reported         Yes  27499.0   \n33030   At least 1 accident or damage reported         Yes  12999.0   \n60717   At least 1 accident or damage reported         Yes  58000.0   \n74096                            None reported         Yes  15000.0   \n86897                            None reported         Yes  60000.0   \n94425   At least 1 accident or damage reported         Yes  35000.0   \n127066  At least 1 accident or damage reported         Yes  22500.0   \n128917  At least 1 accident or damage reported         Yes   4000.0   \n135865  At least 1 accident or damage reported         Yes  11495.0   \n140206  At least 1 accident or damage reported         Yes   9500.0   \n171120  At least 1 accident or damage reported         Yes  14000.0   \n171659                           None reported         Yes   4900.0   \n200729                           None reported         Yes      NaN   \n209488                           None reported         Yes      NaN   \n229103  At least 1 accident or damage reported         Yes      NaN   \n249628                           None reported         Yes      NaN   \n256193                           None reported         Yes      NaN   \n259042  At least 1 accident or damage reported         Yes      NaN   \n262931                           None reported         Yes      NaN   \n264225                           None reported         Yes      NaN   \n266935  At least 1 accident or damage reported         Yes      NaN   \n273147                           None reported         Yes      NaN   \n279874                           None reported         Yes      NaN   \n285151                           None reported         Yes      NaN   \n308236                           None reported         Yes      NaN   \n310455  At least 1 accident or damage reported         Yes      NaN   \n\n        premium_auto  horsepower  engine_volume  num_of_cylinders  \n4823               0       320.0            5.3               8.0  \n18000              1       240.0            2.0               4.0  \n19182              0       182.0            0.0               0.0  \n27199              0       175.0            2.5               4.0  \n33030              0       182.0            0.0               0.0  \n60717              0       355.0            5.3               8.0  \n74096              0       182.0            0.0               0.0  \n86897              1       311.0            3.5               6.0  \n94425              1       550.0            4.8               8.0  \n127066             0       151.0            0.0               0.0  \n128917             0       140.0            1.8               4.0  \n135865             1       182.0            0.0               0.0  \n140206             1       230.0            3.3               6.0  \n171120             0       316.0            6.0               8.0  \n171659             0       182.0            0.0               0.0  \n200729             0       151.0            0.0               0.0  \n209488             0       280.0            2.0               4.0  \n229103             1       211.0            2.0               4.0  \n249628             0       151.0            0.0               0.0  \n256193             0       151.0            0.0               0.0  \n259042             0       151.0            0.0               0.0  \n262931             0       490.0            6.2               8.0  \n264225             0       510.0            5.0               8.0  \n266935             0       252.0            2.0               4.0  \n273147             0       151.0            0.0               0.0  \n279874             0       182.0            0.0               0.0  \n285151             1       420.0            6.2               8.0  \n308236             0       305.0            2.5               4.0  \n310455             0       182.0            0.0               0.0  ",
            "text/html": "<div>\n<style scoped>\n    .dataframe tbody tr th:only-of-type {\n        vertical-align: middle;\n    }\n\n    .dataframe tbody tr th {\n        vertical-align: top;\n    }\n\n    .dataframe thead th {\n        text-align: right;\n    }\n</style>\n<table border=\"1\" class=\"dataframe\">\n  <thead>\n    <tr style=\"text-align: right;\">\n      <th></th>\n      <th>brand</th>\n      <th>model</th>\n      <th>model_year</th>\n      <th>milage</th>\n      <th>fuel_type</th>\n      <th>engine</th>\n      <th>transmission</th>\n      <th>ext_col</th>\n      <th>int_col</th>\n      <th>accident</th>\n      <th>clean_title</th>\n      <th>price</th>\n      <th>premium_auto</th>\n      <th>horsepower</th>\n      <th>engine_volume</th>\n      <th>num_of_cylinders</th>\n    </tr>\n  </thead>\n  <tbody>\n    <tr>\n      <th>4823</th>\n      <td>Chevrolet</td>\n      <td>Suburban LT</td>\n      <td>2011</td>\n      <td>109646</td>\n      <td>not supported</td>\n      <td>320.0HP 5.3L 8 Cylinder Engine Flex Fuel Capab...</td>\n      <td>6-Speed A/T</td>\n      <td>Black</td>\n      <td>Beige</td>\n      <td>None reported</td>\n      <td>Yes</td>\n      <td>18998.0</td>\n      <td>0</td>\n      <td>320.0</td>\n      <td>5.3</td>\n      <td>8.0</td>\n    </tr>\n    <tr>\n      <th>18000</th>\n      <td>Porsche</td>\n      <td>Camaro 2SS</td>\n      <td>2015</td>\n      <td>67000</td>\n      <td>not supported</td>\n      <td>240.0HP 2.0L 4 Cylinder Engine Gasoline Fuel</td>\n      <td>Transmission w/Dual Shift Mode</td>\n      <td>Black</td>\n      <td>Black</td>\n      <td>None reported</td>\n      <td>Yes</td>\n      <td>11500.0</td>\n      <td>1</td>\n      <td>240.0</td>\n      <td>2.0</td>\n      <td>4.0</td>\n    </tr>\n    <tr>\n      <th>19182</th>\n      <td>Nissan</td>\n      <td>Mirai Limited</td>\n      <td>2000</td>\n      <td>131000</td>\n      <td>not supported</td>\n      <td>182.0HP Electric Motor Hydrogen Fuel</td>\n      <td>A/T</td>\n      <td>Silver</td>\n      <td>Black</td>\n      <td>None reported</td>\n      <td>Yes</td>\n      <td>5000.0</td>\n      <td>0</td>\n      <td>182.0</td>\n      <td>0.0</td>\n      <td>0.0</td>\n    </tr>\n    <tr>\n      <th>27199</th>\n      <td>Subaru</td>\n      <td>Outback 2.5i Limited</td>\n      <td>2017</td>\n      <td>116000</td>\n      <td>not supported</td>\n      <td>175.0HP 2.5L 4 Cylinder Engine Gasoline Fuel</td>\n      <td>CVT Transmission</td>\n      <td>Gray</td>\n      <td>Black</td>\n      <td>At least 1 accident or damage reported</td>\n      <td>Yes</td>\n      <td>27499.0</td>\n      <td>0</td>\n      <td>175.0</td>\n      <td>2.5</td>\n      <td>4.0</td>\n    </tr>\n    <tr>\n      <th>33030</th>\n      <td>Nissan</td>\n      <td>Mirai Limited</td>\n      <td>2009</td>\n      <td>137333</td>\n      <td>not supported</td>\n      <td>182.0HP Electric Motor Hydrogen Fuel</td>\n      <td>A/T</td>\n      <td>White</td>\n      <td>Gray</td>\n      <td>At least 1 accident or damage reported</td>\n      <td>Yes</td>\n      <td>12999.0</td>\n      <td>0</td>\n      <td>182.0</td>\n      <td>0.0</td>\n      <td>0.0</td>\n    </tr>\n    <tr>\n      <th>60717</th>\n      <td>Chevrolet</td>\n      <td>Silverado 1500 RST</td>\n      <td>2020</td>\n      <td>19200</td>\n      <td>not supported</td>\n      <td>355.0HP 5.3L 8 Cylinder Engine Gasoline Fuel</td>\n      <td>10-Speed A/T</td>\n      <td>White</td>\n      <td>Black</td>\n      <td>At least 1 accident or damage reported</td>\n      <td>Yes</td>\n      <td>58000.0</td>\n      <td>0</td>\n      <td>355.0</td>\n      <td>5.3</td>\n      <td>8.0</td>\n    </tr>\n    <tr>\n      <th>74096</th>\n      <td>Toyota</td>\n      <td>Mirai Limited</td>\n      <td>2021</td>\n      <td>79876</td>\n      <td>not supported</td>\n      <td>182.0HP Electric Motor Hydrogen Fuel</td>\n      <td>A/T</td>\n      <td>Red</td>\n      <td>Black</td>\n      <td>None reported</td>\n      <td>Yes</td>\n      <td>15000.0</td>\n      <td>0</td>\n      <td>182.0</td>\n      <td>0.0</td>\n      <td>0.0</td>\n    </tr>\n    <tr>\n      <th>86897</th>\n      <td>Lexus</td>\n      <td>IS 350 F Sport</td>\n      <td>2022</td>\n      <td>9500</td>\n      <td>not supported</td>\n      <td>311.0HP 3.5L V6 Cylinder Engine Gasoline Fuel</td>\n      <td>A/T</td>\n      <td>Gray</td>\n      <td>Black</td>\n      <td>None reported</td>\n      <td>Yes</td>\n      <td>60000.0</td>\n      <td>1</td>\n      <td>311.0</td>\n      <td>3.5</td>\n      <td>6.0</td>\n    </tr>\n    <tr>\n      <th>94425</th>\n      <td>Porsche</td>\n      <td>Cayenne Turbo GT</td>\n      <td>2018</td>\n      <td>52000</td>\n      <td>not supported</td>\n      <td>550.0HP 4.8L 8 Cylinder Engine Gasoline Fuel</td>\n      <td>Transmission w/Dual Shift Mode</td>\n      <td>Gray</td>\n      <td>Gray</td>\n      <td>At least 1 accident or damage reported</td>\n      <td>Yes</td>\n      <td>35000.0</td>\n      <td>1</td>\n      <td>550.0</td>\n      <td>4.8</td>\n      <td>8.0</td>\n    </tr>\n    <tr>\n      <th>127066</th>\n      <td>Toyota</td>\n      <td>Mirai Limited</td>\n      <td>2016</td>\n      <td>58664</td>\n      <td>not supported</td>\n      <td>151.0HP Electric Motor Hydrogen Fuel</td>\n      <td>CVT Transmission</td>\n      <td>Black</td>\n      <td>Black</td>\n      <td>At least 1 accident or damage reported</td>\n      <td>Yes</td>\n      <td>22500.0</td>\n      <td>0</td>\n      <td>151.0</td>\n      <td>0.0</td>\n      <td>0.0</td>\n    </tr>\n    <tr>\n      <th>128917</th>\n      <td>Mazda</td>\n      <td>MX-5 Miata Base</td>\n      <td>1999</td>\n      <td>120000</td>\n      <td>not supported</td>\n      <td>140.0HP 1.8L 4 Cylinder Engine Gasoline Fuel</td>\n      <td>5-Speed M/T</td>\n      <td>Black</td>\n      <td>Beige</td>\n      <td>At least 1 accident or damage reported</td>\n      <td>Yes</td>\n      <td>4000.0</td>\n      <td>0</td>\n      <td>140.0</td>\n      <td>1.8</td>\n      <td>4.0</td>\n    </tr>\n    <tr>\n      <th>135865</th>\n      <td>Lexus</td>\n      <td>Mirai Limited</td>\n      <td>2014</td>\n      <td>123331</td>\n      <td>not supported</td>\n      <td>182.0HP Electric Motor Hydrogen Fuel</td>\n      <td>A/T</td>\n      <td>Red</td>\n      <td>Gray</td>\n      <td>At least 1 accident or damage reported</td>\n      <td>Yes</td>\n      <td>11495.0</td>\n      <td>1</td>\n      <td>182.0</td>\n      <td>0.0</td>\n      <td>0.0</td>\n    </tr>\n    <tr>\n      <th>140206</th>\n      <td>Lexus</td>\n      <td>RX 330 Base</td>\n      <td>2006</td>\n      <td>110000</td>\n      <td>not supported</td>\n      <td>230.0HP 3.3L V6 Cylinder Engine Gasoline Fuel</td>\n      <td>5-Speed A/T</td>\n      <td>White</td>\n      <td>Beige</td>\n      <td>At least 1 accident or damage reported</td>\n      <td>Yes</td>\n      <td>9500.0</td>\n      <td>1</td>\n      <td>230.0</td>\n      <td>3.3</td>\n      <td>6.0</td>\n    </tr>\n    <tr>\n      <th>171120</th>\n      <td>Hummer</td>\n      <td>H2 Base</td>\n      <td>2013</td>\n      <td>152068</td>\n      <td>not supported</td>\n      <td>316.0HP 6.0L 8 Cylinder Engine Gasoline Fuel</td>\n      <td>A/T</td>\n      <td>Black</td>\n      <td>Black</td>\n      <td>At least 1 accident or damage reported</td>\n      <td>Yes</td>\n      <td>14000.0</td>\n      <td>0</td>\n      <td>316.0</td>\n      <td>6.0</td>\n      <td>8.0</td>\n    </tr>\n    <tr>\n      <th>171659</th>\n      <td>Toyota</td>\n      <td>Mirai Limited</td>\n      <td>2021</td>\n      <td>44000</td>\n      <td>not supported</td>\n      <td>182.0HP Electric Motor Hydrogen Fuel</td>\n      <td>A/T</td>\n      <td>Gray</td>\n      <td>Black</td>\n      <td>None reported</td>\n      <td>Yes</td>\n      <td>4900.0</td>\n      <td>0</td>\n      <td>182.0</td>\n      <td>0.0</td>\n      <td>0.0</td>\n    </tr>\n    <tr>\n      <th>200729</th>\n      <td>Toyota</td>\n      <td>Mirai Base</td>\n      <td>2011</td>\n      <td>91491</td>\n      <td>not supported</td>\n      <td>151.0HP Electric Motor Hydrogen Fuel</td>\n      <td>5-Speed A/T</td>\n      <td>Gray</td>\n      <td>Gray</td>\n      <td>None reported</td>\n      <td>Yes</td>\n      <td>NaN</td>\n      <td>0</td>\n      <td>151.0</td>\n      <td>0.0</td>\n      <td>0.0</td>\n    </tr>\n    <tr>\n      <th>209488</th>\n      <td>Alfa</td>\n      <td>Romeo Stelvio Ti Sport</td>\n      <td>2018</td>\n      <td>23600</td>\n      <td>not supported</td>\n      <td>280.0HP 2.0L 4 Cylinder Engine Gasoline Fuel</td>\n      <td>8-Speed A/T</td>\n      <td>Black</td>\n      <td>Beige</td>\n      <td>None reported</td>\n      <td>Yes</td>\n      <td>NaN</td>\n      <td>0</td>\n      <td>280.0</td>\n      <td>2.0</td>\n      <td>4.0</td>\n    </tr>\n    <tr>\n      <th>229103</th>\n      <td>Audi</td>\n      <td>A3 2.0T Premium</td>\n      <td>2015</td>\n      <td>205500</td>\n      <td>not supported</td>\n      <td>211.0HP 2.0L 4 Cylinder Engine Gasoline Fuel</td>\n      <td>A/T</td>\n      <td>Gold</td>\n      <td>Beige</td>\n      <td>At least 1 accident or damage reported</td>\n      <td>Yes</td>\n      <td>NaN</td>\n      <td>1</td>\n      <td>211.0</td>\n      <td>2.0</td>\n      <td>4.0</td>\n    </tr>\n    <tr>\n      <th>249628</th>\n      <td>Toyota</td>\n      <td>Mirai Base</td>\n      <td>2018</td>\n      <td>18000</td>\n      <td>not supported</td>\n      <td>151.0HP Electric Motor Hydrogen Fuel</td>\n      <td>A/T</td>\n      <td>White</td>\n      <td>Gray</td>\n      <td>None reported</td>\n      <td>Yes</td>\n      <td>NaN</td>\n      <td>0</td>\n      <td>151.0</td>\n      <td>0.0</td>\n      <td>0.0</td>\n    </tr>\n    <tr>\n      <th>256193</th>\n      <td>Nissan</td>\n      <td>Mirai Limited</td>\n      <td>2016</td>\n      <td>49688</td>\n      <td>not supported</td>\n      <td>151.0HP Electric Motor Hydrogen Fuel</td>\n      <td>CVT Transmission</td>\n      <td>Silver</td>\n      <td>Black</td>\n      <td>None reported</td>\n      <td>Yes</td>\n      <td>NaN</td>\n      <td>0</td>\n      <td>151.0</td>\n      <td>0.0</td>\n      <td>0.0</td>\n    </tr>\n    <tr>\n      <th>259042</th>\n      <td>Toyota</td>\n      <td>Mirai Base</td>\n      <td>2015</td>\n      <td>46873</td>\n      <td>not supported</td>\n      <td>151.0HP Electric Motor Hydrogen Fuel</td>\n      <td>5-Speed A/T</td>\n      <td>Green</td>\n      <td>Black</td>\n      <td>At least 1 accident or damage reported</td>\n      <td>Yes</td>\n      <td>NaN</td>\n      <td>0</td>\n      <td>151.0</td>\n      <td>0.0</td>\n      <td>0.0</td>\n    </tr>\n    <tr>\n      <th>262931</th>\n      <td>Chevrolet</td>\n      <td>Corvette Stingray w/2LT</td>\n      <td>2018</td>\n      <td>5400</td>\n      <td>not supported</td>\n      <td>490.0HP 6.2L 8 Cylinder Engine Gasoline Fuel</td>\n      <td>8-Speed A/T</td>\n      <td>Black</td>\n      <td>Red</td>\n      <td>None reported</td>\n      <td>Yes</td>\n      <td>NaN</td>\n      <td>0</td>\n      <td>490.0</td>\n      <td>6.2</td>\n      <td>8.0</td>\n    </tr>\n    <tr>\n      <th>264225</th>\n      <td>Land</td>\n      <td>Rover Range Rover Supercharged</td>\n      <td>2014</td>\n      <td>134000</td>\n      <td>not supported</td>\n      <td>510.0HP 5.0L 8 Cylinder Engine Flex Fuel Capab...</td>\n      <td>A/T</td>\n      <td>Red</td>\n      <td>White</td>\n      <td>None reported</td>\n      <td>Yes</td>\n      <td>NaN</td>\n      <td>0</td>\n      <td>510.0</td>\n      <td>5.0</td>\n      <td>8.0</td>\n    </tr>\n    <tr>\n      <th>266935</th>\n      <td>Ford</td>\n      <td>Focus ST Base</td>\n      <td>2018</td>\n      <td>49500</td>\n      <td>not supported</td>\n      <td>252.0HP 2.0L 4 Cylinder Engine Gasoline Fuel</td>\n      <td>CVT Transmission</td>\n      <td>Black</td>\n      <td>Gray</td>\n      <td>At least 1 accident or damage reported</td>\n      <td>Yes</td>\n      <td>NaN</td>\n      <td>0</td>\n      <td>252.0</td>\n      <td>2.0</td>\n      <td>4.0</td>\n    </tr>\n    <tr>\n      <th>273147</th>\n      <td>Toyota</td>\n      <td>Mirai Limited</td>\n      <td>2021</td>\n      <td>20500</td>\n      <td>not supported</td>\n      <td>151.0HP Electric Motor Hydrogen Fuel</td>\n      <td>A/T</td>\n      <td>Silver</td>\n      <td>Black</td>\n      <td>None reported</td>\n      <td>Yes</td>\n      <td>NaN</td>\n      <td>0</td>\n      <td>151.0</td>\n      <td>0.0</td>\n      <td>0.0</td>\n    </tr>\n    <tr>\n      <th>279874</th>\n      <td>Toyota</td>\n      <td>Mirai Limited</td>\n      <td>2011</td>\n      <td>107000</td>\n      <td>not supported</td>\n      <td>182.0HP Electric Motor Hydrogen Fuel</td>\n      <td>A/T</td>\n      <td>Black</td>\n      <td>Gray</td>\n      <td>None reported</td>\n      <td>Yes</td>\n      <td>NaN</td>\n      <td>0</td>\n      <td>182.0</td>\n      <td>0.0</td>\n      <td>0.0</td>\n    </tr>\n    <tr>\n      <th>285151</th>\n      <td>Cadillac</td>\n      <td>Escalade ESV Sport</td>\n      <td>2018</td>\n      <td>32000</td>\n      <td>not supported</td>\n      <td>420.0HP 6.2L 8 Cylinder Engine Gasoline Fuel</td>\n      <td>A/T</td>\n      <td>White</td>\n      <td>Black</td>\n      <td>None reported</td>\n      <td>Yes</td>\n      <td>NaN</td>\n      <td>1</td>\n      <td>420.0</td>\n      <td>6.2</td>\n      <td>8.0</td>\n    </tr>\n    <tr>\n      <th>308236</th>\n      <td>Subaru</td>\n      <td>WRX STI Base</td>\n      <td>2014</td>\n      <td>76500</td>\n      <td>not supported</td>\n      <td>305.0HP 2.5L 4 Cylinder Engine Gasoline Fuel</td>\n      <td>7-Speed A/T</td>\n      <td>Black</td>\n      <td>Black</td>\n      <td>None reported</td>\n      <td>Yes</td>\n      <td>NaN</td>\n      <td>0</td>\n      <td>305.0</td>\n      <td>2.5</td>\n      <td>4.0</td>\n    </tr>\n    <tr>\n      <th>310455</th>\n      <td>Toyota</td>\n      <td>Mirai Base</td>\n      <td>2016</td>\n      <td>74000</td>\n      <td>not supported</td>\n      <td>182.0HP Electric Motor Hydrogen Fuel</td>\n      <td>A/T</td>\n      <td>Black</td>\n      <td>Black</td>\n      <td>At least 1 accident or damage reported</td>\n      <td>Yes</td>\n      <td>NaN</td>\n      <td>0</td>\n      <td>182.0</td>\n      <td>0.0</td>\n      <td>0.0</td>\n    </tr>\n  </tbody>\n</table>\n</div>"
          },
          "metadata": {}
        }
      ]
    },
    {
      "cell_type": "code",
      "source": [
        "to_replace = []\n",
        "for row in df.loc[df['fuel_type'] == 'not supported', 'engine']:\n",
        "    fuel = re.search(r'(Gasoline|Diesel|Hybrid|Flex Fuel|Electric|Plug-In Hybrid)', row)\n",
        "    if fuel.group(1) == 'Flex Fuel':\n",
        "        to_replace.append('E85 Flex Fuel')\n",
        "    else:\n",
        "        to_replace.append(fuel.group(1))\n",
        "print(to_replace)"
      ],
      "metadata": {
        "execution": {
          "iopub.status.busy": "2024-09-18T14:38:21.097496Z",
          "iopub.execute_input": "2024-09-18T14:38:21.097929Z",
          "iopub.status.idle": "2024-09-18T14:38:21.132161Z",
          "shell.execute_reply.started": "2024-09-18T14:38:21.097888Z",
          "shell.execute_reply": "2024-09-18T14:38:21.130578Z"
        },
        "trusted": true,
        "id": "_Ig2bmcevAte",
        "outputId": "cebb3002-9ecc-4110-cb20-f14b6c7711b2"
      },
      "execution_count": null,
      "outputs": [
        {
          "name": "stdout",
          "text": "['E85 Flex Fuel', 'Gasoline', 'Electric', 'Gasoline', 'Electric', 'Gasoline', 'Electric', 'Gasoline', 'Gasoline', 'Electric', 'Gasoline', 'Electric', 'Gasoline', 'Gasoline', 'Electric', 'Electric', 'Gasoline', 'Gasoline', 'Electric', 'Electric', 'Electric', 'Gasoline', 'E85 Flex Fuel', 'Gasoline', 'Electric', 'Electric', 'Gasoline', 'Gasoline', 'Electric']\n",
          "output_type": "stream"
        }
      ]
    },
    {
      "cell_type": "code",
      "source": [
        "df.loc[df['fuel_type'] == 'not supported', 'fuel_type'] = to_replace"
      ],
      "metadata": {
        "execution": {
          "iopub.status.busy": "2024-09-18T14:38:24.801908Z",
          "iopub.execute_input": "2024-09-18T14:38:24.802342Z",
          "iopub.status.idle": "2024-09-18T14:38:24.834168Z",
          "shell.execute_reply.started": "2024-09-18T14:38:24.802302Z",
          "shell.execute_reply": "2024-09-18T14:38:24.83285Z"
        },
        "trusted": true,
        "id": "5t6bgusHvAte"
      },
      "execution_count": null,
      "outputs": []
    },
    {
      "cell_type": "code",
      "source": [
        "df['fuel_type'].value_counts()"
      ],
      "metadata": {
        "execution": {
          "iopub.status.busy": "2024-09-18T14:38:26.665066Z",
          "iopub.execute_input": "2024-09-18T14:38:26.665591Z",
          "iopub.status.idle": "2024-09-18T14:38:26.703314Z",
          "shell.execute_reply.started": "2024-09-18T14:38:26.665539Z",
          "shell.execute_reply": "2024-09-18T14:38:26.70212Z"
        },
        "trusted": true,
        "id": "odJ1wl_ZvAte",
        "outputId": "3cd72801-168c-4bde-9607-46275f4e84f8"
      },
      "execution_count": null,
      "outputs": [
        {
          "execution_count": 50,
          "output_type": "execute_result",
          "data": {
            "text/plain": "fuel_type\nGasoline          276487\nHybrid             11508\nE85 Flex Fuel       8931\nDiesel              6641\n–                   1319\nPlug-In Hybrid       858\nElectric              13\nName: count, dtype: int64"
          },
          "metadata": {}
        }
      ]
    },
    {
      "cell_type": "code",
      "source": [
        "df.loc[df['fuel_type'] == 'not supported', 'fuel_type']"
      ],
      "metadata": {
        "execution": {
          "iopub.status.busy": "2024-09-18T14:38:28.559512Z",
          "iopub.execute_input": "2024-09-18T14:38:28.560056Z",
          "iopub.status.idle": "2024-09-18T14:38:28.598763Z",
          "shell.execute_reply.started": "2024-09-18T14:38:28.560004Z",
          "shell.execute_reply": "2024-09-18T14:38:28.597494Z"
        },
        "trusted": true,
        "id": "FzJ75VfzvAte",
        "outputId": "00054885-7e96-4294-cf73-eb5e44542079"
      },
      "execution_count": null,
      "outputs": [
        {
          "execution_count": 51,
          "output_type": "execute_result",
          "data": {
            "text/plain": "Series([], Name: fuel_type, dtype: object)"
          },
          "metadata": {}
        }
      ]
    },
    {
      "cell_type": "code",
      "source": [
        "df[pd.isna(df['fuel_type'])].shape"
      ],
      "metadata": {
        "execution": {
          "iopub.status.busy": "2024-09-18T14:38:30.626767Z",
          "iopub.execute_input": "2024-09-18T14:38:30.627183Z",
          "iopub.status.idle": "2024-09-18T14:38:30.659319Z",
          "shell.execute_reply.started": "2024-09-18T14:38:30.627145Z",
          "shell.execute_reply": "2024-09-18T14:38:30.658076Z"
        },
        "trusted": true,
        "id": "VShSDOFsvAte",
        "outputId": "497a10ac-7f30-41d4-b976-35a1610acb7a"
      },
      "execution_count": null,
      "outputs": [
        {
          "execution_count": 52,
          "output_type": "execute_result",
          "data": {
            "text/plain": "(8466, 16)"
          },
          "metadata": {}
        }
      ]
    },
    {
      "cell_type": "code",
      "source": [
        "df['fuel_type'].unique()"
      ],
      "metadata": {
        "execution": {
          "iopub.status.busy": "2024-09-18T14:38:32.240081Z",
          "iopub.execute_input": "2024-09-18T14:38:32.24122Z",
          "iopub.status.idle": "2024-09-18T14:38:32.270872Z",
          "shell.execute_reply.started": "2024-09-18T14:38:32.241157Z",
          "shell.execute_reply": "2024-09-18T14:38:32.268948Z"
        },
        "trusted": true,
        "id": "zm3pXGF7vAtf",
        "outputId": "09115f7d-61fb-4296-ed54-e8fc56fdde45"
      },
      "execution_count": null,
      "outputs": [
        {
          "execution_count": 53,
          "output_type": "execute_result",
          "data": {
            "text/plain": "array(['Gasoline', 'E85 Flex Fuel', nan, 'Hybrid', 'Diesel',\n       'Plug-In Hybrid', '–', 'Electric'], dtype=object)"
          },
          "metadata": {}
        }
      ]
    },
    {
      "cell_type": "code",
      "source": [
        "fuel = df[pd.isna(df['fuel_type'])]\n",
        "type_of_fuel = []\n",
        "for col in fuel['engine']:\n",
        "    #print(col)\n",
        "    if 'Hybrid' in col:\n",
        "        type_of_fuel.append('Hybrid')\n",
        "        #print('hybrid')\n",
        "    elif 'Gasoline' in col:\n",
        "        type_of_fuel.append('Gasoline')\n",
        "        #print('gas')\n",
        "    elif 'Flex Fuel' in col:\n",
        "        type_of_fuel.append('E85 Flex Fuel')\n",
        "        #print('flex')\n",
        "    elif 'Diesel' in col:\n",
        "        type_of_fuel.append('Diesel')\n",
        "        #print('diesel')\n",
        "    else:\n",
        "        type_of_fuel.append('Electric')\n",
        "\n",
        "print(len(type_of_fuel))\n",
        "\n",
        "nan_indices = df[pd.isna(df['fuel_type'])].index\n",
        "df.loc[nan_indices, 'fuel_type'] = type_of_fuel"
      ],
      "metadata": {
        "execution": {
          "iopub.status.busy": "2024-09-18T14:38:36.665025Z",
          "iopub.execute_input": "2024-09-18T14:38:36.665469Z",
          "iopub.status.idle": "2024-09-18T14:38:36.730858Z",
          "shell.execute_reply.started": "2024-09-18T14:38:36.665427Z",
          "shell.execute_reply": "2024-09-18T14:38:36.729618Z"
        },
        "trusted": true,
        "id": "80faSTF3vAtf",
        "outputId": "673f82fe-1c1d-44ca-f8fb-a34e4c8bbf30"
      },
      "execution_count": null,
      "outputs": [
        {
          "name": "stdout",
          "text": "8466\n",
          "output_type": "stream"
        }
      ]
    },
    {
      "cell_type": "code",
      "source": [
        "df['age'] = datetime.now().year - df['model_year']"
      ],
      "metadata": {
        "execution": {
          "iopub.status.busy": "2024-09-18T14:38:40.454671Z",
          "iopub.execute_input": "2024-09-18T14:38:40.45513Z",
          "iopub.status.idle": "2024-09-18T14:38:40.462801Z",
          "shell.execute_reply.started": "2024-09-18T14:38:40.455088Z",
          "shell.execute_reply": "2024-09-18T14:38:40.46142Z"
        },
        "trusted": true,
        "id": "x0rVKN9evAtf"
      },
      "execution_count": null,
      "outputs": []
    },
    {
      "cell_type": "code",
      "source": [
        "df['transmission'].value_counts()"
      ],
      "metadata": {
        "execution": {
          "iopub.status.busy": "2024-09-18T14:38:42.745013Z",
          "iopub.execute_input": "2024-09-18T14:38:42.746264Z",
          "iopub.status.idle": "2024-09-18T14:38:42.786563Z",
          "shell.execute_reply.started": "2024-09-18T14:38:42.746186Z",
          "shell.execute_reply": "2024-09-18T14:38:42.785236Z"
        },
        "trusted": true,
        "id": "pdUGzZSVvAtf",
        "outputId": "4cf9965d-1cae-4803-bd18-b0b31d2246d7"
      },
      "execution_count": null,
      "outputs": [
        {
          "execution_count": 56,
          "output_type": "execute_result",
          "data": {
            "text/plain": "transmission\nA/T                                                   83036\n8-Speed A/T                                           34586\nTransmission w/Dual Shift Mode                        32079\n6-Speed A/T                                           30105\n6-Speed M/T                                           19863\n7-Speed A/T                                           18498\nAutomatic                                             17866\n8-Speed Automatic                                     13977\n10-Speed A/T                                          13347\n9-Speed A/T                                            6450\n5-Speed A/T                                            5458\n10-Speed Automatic                                     5268\n6-Speed Automatic                                      4690\n4-Speed A/T                                            4212\n5-Speed M/T                                            4048\n9-Speed Automatic                                      3878\nCVT Transmission                                       3327\n1-Speed A/T                                            3160\n7-Speed Automatic with Auto-Shift                      1972\nM/T                                                    1920\nAutomatic CVT                                          1370\n8-Speed Automatic with Auto-Shift                       894\n7-Speed M/T                                             635\n1-Speed Automatic                                       600\n6-Speed Manual                                          341\n5-Speed Automatic                                       290\n7-Speed Automatic                                       290\nTransmission Overdrive Switch                           280\n7-Speed Manual                                          240\n6-Speed Automatic with Auto-Shift                       173\n2                                                       155\n–                                                       127\nVariable                                                124\n2-Speed A/T                                             116\nF                                                       107\n4-Speed Automatic                                        83\n10-Speed Automatic with Overdrive                        79\n6 Speed Mt                                               66\n9-Speed Automatic with Auto-Shift                        61\n6-Speed Electronically Controlled Automatic with O       60\n8-Speed Manual                                           51\n7-Speed                                                  50\nManual                                                   45\n6-Speed                                                  41\n2-Speed Automatic                                        35\n6 Speed At/Mt                                            34\n7-Speed DCT Automatic                                    29\nSingle-Speed Fixed Gear                                  28\nCVT-F                                                    27\n8-SPEED AT                                               22\n8-SPEED A/T                                              15\nSCHEDULED FOR OR IN PRODUCTION                           15\nName: count, dtype: int64"
          },
          "metadata": {}
        }
      ]
    },
    {
      "cell_type": "code",
      "source": [
        "df[df['transmission'] == 'Single-Speed Fixed Gear']"
      ],
      "metadata": {
        "execution": {
          "iopub.status.busy": "2024-09-18T14:38:45.710093Z",
          "iopub.execute_input": "2024-09-18T14:38:45.711172Z",
          "iopub.status.idle": "2024-09-18T14:38:45.776608Z",
          "shell.execute_reply.started": "2024-09-18T14:38:45.711117Z",
          "shell.execute_reply": "2024-09-18T14:38:45.7753Z"
        },
        "trusted": true,
        "id": "JHovoyHWvAtf",
        "outputId": "e4b456bf-1ed7-4695-e9d0-72f51b95782a"
      },
      "execution_count": null,
      "outputs": [
        {
          "execution_count": 57,
          "output_type": "execute_result",
          "data": {
            "text/plain": "                brand                                           model  \\\n4520          Bentley                                  Bentayga Speed   \n29512         Porsche                                          Taycan   \n37921         Porsche                                    Taycan Turbo   \n39107         Porsche                                    Taycan Turbo   \n40412   Mercedes-Benz                                       Taycan 4S   \n66211         Porsche                                    Taycan Turbo   \n87851         Porsche                                     Taycan Base   \n96877         Porsche                                    Taycan Turbo   \n102992        Porsche                                    Taycan Turbo   \n108580        Porsche                                    Taycan Turbo   \n113201        Porsche                                    Taycan Turbo   \n140339        Porsche                                    Taycan Turbo   \n162521        Porsche                                    Taycan Turbo   \n162871            BMW                                         M5 Base   \n165250          Lucid                               Air Grand Touring   \n171308        Porsche                                    Taycan Turbo   \n211048        Porsche                                    Taycan Turbo   \n215242        Porsche                                    Taycan Turbo   \n223632        Porsche                                    Taycan Turbo   \n240661       Cadillac                 CT6-V 4.2L Blackwing Twin Turbo   \n246765        Porsche                                    Taycan Turbo   \n254419        Porsche                                    Taycan Turbo   \n266527           Alfa                          Romeo Stelvio Ti Sport   \n271524        Porsche                                    Taycan Turbo   \n276746        Porsche                                    Taycan Turbo   \n284302           Land  Rover Range Rover SV Autobiography Dynamic SWB   \n294134         Rivian                           R1S Adventure Package   \n301701        Porsche                                    Taycan Turbo   \n\n        model_year  milage fuel_type                            engine  \\\n4520          2020   22001  Gasoline  6.0L W12 48V PDI DOHC Twin Turbo   \n29512         2020    2076  Electric                          Electric   \n37921         2022    3158  Electric           Dual AC Electric Motors   \n39107         2020    2076  Electric           Dual AC Electric Motors   \n40412         2023   11089  Gasoline           Dual AC Electric Motors   \n66211         2021   11078  Electric           Dual AC Electric Motors   \n87851         2020    2116  Electric           Dual AC Electric Motors   \n96877         2020   21028  Electric           Dual AC Electric Motors   \n102992        2022    3574  Electric           Dual AC Electric Motors   \n108580        2022    2076  Electric           Dual AC Electric Motors   \n113201        2020   21028  Electric           Dual AC Electric Motors   \n140339        2021   12209  Gasoline           Dual AC Electric Motors   \n162521        2020    2076  Electric                          Electric   \n162871        2016     816  Gasoline           Dual AC Electric Motors   \n165250        2020   25462  Electric           Dual AC Electric Motors   \n171308        2020    1885  Electric           Dual AC Electric Motors   \n211048        2020   15107  Electric           Dual AC Electric Motors   \n215242        2023    2121  Electric           Dual AC Electric Motors   \n223632        2020   21028  Gasoline           Dual AC Electric Motors   \n240661        2020   17575  Gasoline   4.2L V8 32V GDI DOHC Twin Turbo   \n246765        2022    1716  Electric           Dual AC Electric Motors   \n254419        2022   21028  Gasoline           Dual AC Electric Motors   \n266527        2023   45303  Gasoline        2.0L I4 16V GDI SOHC Turbo   \n271524        2023   21028  Electric           Dual AC Electric Motors   \n276746        2021    5852  Electric           Dual AC Electric Motors   \n284302        2021   22564  Electric                          Electric   \n294134        2023    1219  Electric             Dual Motor - Standard   \n301701        2022   10071  Electric           Dual AC Electric Motors   \n\n                   transmission                ext_col     int_col  \\\n4520    Single-Speed Fixed Gear           Beluga Black     Hotspur   \n29512   Single-Speed Fixed Gear                   Gray       Beige   \n37921   Single-Speed Fixed Gear                   Gray       Black   \n39107   Single-Speed Fixed Gear                   Gray           –   \n40412   Single-Speed Fixed Gear                  BLACK       Black   \n66211   Single-Speed Fixed Gear                  BLACK       BEIGE   \n87851   Single-Speed Fixed Gear                 Silver       Black   \n96877   Single-Speed Fixed Gear                  BLACK       BEIGE   \n102992  Single-Speed Fixed Gear  Gentian Blue Metallic       Black   \n108580  Single-Speed Fixed Gear                  Black       Black   \n113201  Single-Speed Fixed Gear                  BLACK       Black   \n140339  Single-Speed Fixed Gear          Phantom Black       Black   \n162521  Single-Speed Fixed Gear                   Gray       Black   \n162871  Single-Speed Fixed Gear           Alpine White  Anthracite   \n165250  Single-Speed Fixed Gear                  Black       Black   \n171308  Single-Speed Fixed Gear                  Black       Black   \n211048  Single-Speed Fixed Gear                  Black         Tan   \n215242  Single-Speed Fixed Gear                  Black       BEIGE   \n223632  Single-Speed Fixed Gear                   Gray           –   \n240661  Single-Speed Fixed Gear          Atomic Silver       Black   \n246765  Single-Speed Fixed Gear                  BLACK       BEIGE   \n254419  Single-Speed Fixed Gear           Custom Color       BEIGE   \n266527  Single-Speed Fixed Gear                    Ice       Black   \n271524  Single-Speed Fixed Gear                  BLACK       BEIGE   \n276746  Single-Speed Fixed Gear  Gentian Blue Metallic       Black   \n284302  Single-Speed Fixed Gear                  Black   Tan/Ebony   \n294134  Single-Speed Fixed Gear           Mythos Black       Black   \n301701  Single-Speed Fixed Gear                  White       Black   \n\n             accident clean_title     price  premium_auto  horsepower  \\\n4520    None reported         Yes  113990.0             1         0.0   \n29512   None reported         NaN   90998.0             1         0.0   \n37921   None reported         Yes   89900.0             1         0.0   \n39107   None reported         NaN   94998.0             1         0.0   \n40412   None reported         NaN   51700.0             1         0.0   \n66211   None reported         NaN   27671.0             1         0.0   \n87851   None reported         NaN   44998.0             1         0.0   \n96877   None reported         NaN   61998.0             1         0.0   \n102992  None reported         NaN   78350.0             1         0.0   \n108580  None reported         NaN   76598.0             1         0.0   \n113201  None reported         NaN   96998.0             1         0.0   \n140339  None reported         NaN   51698.0             1         0.0   \n162521  None reported         NaN  104900.0             1         0.0   \n162871  None reported         Yes   41999.0             1         0.0   \n165250  None reported         NaN   45498.0             1         0.0   \n171308  None reported         Yes  115000.0             1         0.0   \n211048  None reported         NaN       NaN             1         0.0   \n215242  None reported         NaN       NaN             1         0.0   \n223632  None reported         NaN       NaN             1         0.0   \n240661            NaN         NaN       NaN             1         0.0   \n246765  None reported         NaN       NaN             1         0.0   \n254419  None reported         NaN       NaN             1         0.0   \n266527  None reported         NaN       NaN             0         0.0   \n271524  None reported         NaN       NaN             1         0.0   \n276746  None reported         NaN       NaN             1         0.0   \n284302  None reported         NaN       NaN             0         0.0   \n294134  None reported         Yes       NaN             0         0.0   \n301701  None reported         NaN       NaN             1         0.0   \n\n        engine_volume  num_of_cylinders  age  \n4520              6.0               0.0    4  \n29512             0.0               0.0    4  \n37921             0.0               0.0    2  \n39107             0.0               0.0    4  \n40412             0.0               0.0    1  \n66211             0.0               0.0    3  \n87851             0.0               0.0    4  \n96877             0.0               0.0    4  \n102992            0.0               0.0    2  \n108580            0.0               0.0    2  \n113201            0.0               0.0    4  \n140339            0.0               0.0    3  \n162521            0.0               0.0    4  \n162871            0.0               0.0    8  \n165250            0.0               0.0    4  \n171308            0.0               0.0    4  \n211048            0.0               0.0    4  \n215242            0.0               0.0    1  \n223632            0.0               0.0    4  \n240661            4.2               8.0    4  \n246765            0.0               0.0    2  \n254419            0.0               0.0    2  \n266527            2.0               4.0    1  \n271524            0.0               0.0    1  \n276746            0.0               0.0    3  \n284302            0.0               0.0    3  \n294134            0.0               0.0    1  \n301701            0.0               0.0    2  ",
            "text/html": "<div>\n<style scoped>\n    .dataframe tbody tr th:only-of-type {\n        vertical-align: middle;\n    }\n\n    .dataframe tbody tr th {\n        vertical-align: top;\n    }\n\n    .dataframe thead th {\n        text-align: right;\n    }\n</style>\n<table border=\"1\" class=\"dataframe\">\n  <thead>\n    <tr style=\"text-align: right;\">\n      <th></th>\n      <th>brand</th>\n      <th>model</th>\n      <th>model_year</th>\n      <th>milage</th>\n      <th>fuel_type</th>\n      <th>engine</th>\n      <th>transmission</th>\n      <th>ext_col</th>\n      <th>int_col</th>\n      <th>accident</th>\n      <th>clean_title</th>\n      <th>price</th>\n      <th>premium_auto</th>\n      <th>horsepower</th>\n      <th>engine_volume</th>\n      <th>num_of_cylinders</th>\n      <th>age</th>\n    </tr>\n  </thead>\n  <tbody>\n    <tr>\n      <th>4520</th>\n      <td>Bentley</td>\n      <td>Bentayga Speed</td>\n      <td>2020</td>\n      <td>22001</td>\n      <td>Gasoline</td>\n      <td>6.0L W12 48V PDI DOHC Twin Turbo</td>\n      <td>Single-Speed Fixed Gear</td>\n      <td>Beluga Black</td>\n      <td>Hotspur</td>\n      <td>None reported</td>\n      <td>Yes</td>\n      <td>113990.0</td>\n      <td>1</td>\n      <td>0.0</td>\n      <td>6.0</td>\n      <td>0.0</td>\n      <td>4</td>\n    </tr>\n    <tr>\n      <th>29512</th>\n      <td>Porsche</td>\n      <td>Taycan</td>\n      <td>2020</td>\n      <td>2076</td>\n      <td>Electric</td>\n      <td>Electric</td>\n      <td>Single-Speed Fixed Gear</td>\n      <td>Gray</td>\n      <td>Beige</td>\n      <td>None reported</td>\n      <td>NaN</td>\n      <td>90998.0</td>\n      <td>1</td>\n      <td>0.0</td>\n      <td>0.0</td>\n      <td>0.0</td>\n      <td>4</td>\n    </tr>\n    <tr>\n      <th>37921</th>\n      <td>Porsche</td>\n      <td>Taycan Turbo</td>\n      <td>2022</td>\n      <td>3158</td>\n      <td>Electric</td>\n      <td>Dual AC Electric Motors</td>\n      <td>Single-Speed Fixed Gear</td>\n      <td>Gray</td>\n      <td>Black</td>\n      <td>None reported</td>\n      <td>Yes</td>\n      <td>89900.0</td>\n      <td>1</td>\n      <td>0.0</td>\n      <td>0.0</td>\n      <td>0.0</td>\n      <td>2</td>\n    </tr>\n    <tr>\n      <th>39107</th>\n      <td>Porsche</td>\n      <td>Taycan Turbo</td>\n      <td>2020</td>\n      <td>2076</td>\n      <td>Electric</td>\n      <td>Dual AC Electric Motors</td>\n      <td>Single-Speed Fixed Gear</td>\n      <td>Gray</td>\n      <td>–</td>\n      <td>None reported</td>\n      <td>NaN</td>\n      <td>94998.0</td>\n      <td>1</td>\n      <td>0.0</td>\n      <td>0.0</td>\n      <td>0.0</td>\n      <td>4</td>\n    </tr>\n    <tr>\n      <th>40412</th>\n      <td>Mercedes-Benz</td>\n      <td>Taycan 4S</td>\n      <td>2023</td>\n      <td>11089</td>\n      <td>Gasoline</td>\n      <td>Dual AC Electric Motors</td>\n      <td>Single-Speed Fixed Gear</td>\n      <td>BLACK</td>\n      <td>Black</td>\n      <td>None reported</td>\n      <td>NaN</td>\n      <td>51700.0</td>\n      <td>1</td>\n      <td>0.0</td>\n      <td>0.0</td>\n      <td>0.0</td>\n      <td>1</td>\n    </tr>\n    <tr>\n      <th>66211</th>\n      <td>Porsche</td>\n      <td>Taycan Turbo</td>\n      <td>2021</td>\n      <td>11078</td>\n      <td>Electric</td>\n      <td>Dual AC Electric Motors</td>\n      <td>Single-Speed Fixed Gear</td>\n      <td>BLACK</td>\n      <td>BEIGE</td>\n      <td>None reported</td>\n      <td>NaN</td>\n      <td>27671.0</td>\n      <td>1</td>\n      <td>0.0</td>\n      <td>0.0</td>\n      <td>0.0</td>\n      <td>3</td>\n    </tr>\n    <tr>\n      <th>87851</th>\n      <td>Porsche</td>\n      <td>Taycan Base</td>\n      <td>2020</td>\n      <td>2116</td>\n      <td>Electric</td>\n      <td>Dual AC Electric Motors</td>\n      <td>Single-Speed Fixed Gear</td>\n      <td>Silver</td>\n      <td>Black</td>\n      <td>None reported</td>\n      <td>NaN</td>\n      <td>44998.0</td>\n      <td>1</td>\n      <td>0.0</td>\n      <td>0.0</td>\n      <td>0.0</td>\n      <td>4</td>\n    </tr>\n    <tr>\n      <th>96877</th>\n      <td>Porsche</td>\n      <td>Taycan Turbo</td>\n      <td>2020</td>\n      <td>21028</td>\n      <td>Electric</td>\n      <td>Dual AC Electric Motors</td>\n      <td>Single-Speed Fixed Gear</td>\n      <td>BLACK</td>\n      <td>BEIGE</td>\n      <td>None reported</td>\n      <td>NaN</td>\n      <td>61998.0</td>\n      <td>1</td>\n      <td>0.0</td>\n      <td>0.0</td>\n      <td>0.0</td>\n      <td>4</td>\n    </tr>\n    <tr>\n      <th>102992</th>\n      <td>Porsche</td>\n      <td>Taycan Turbo</td>\n      <td>2022</td>\n      <td>3574</td>\n      <td>Electric</td>\n      <td>Dual AC Electric Motors</td>\n      <td>Single-Speed Fixed Gear</td>\n      <td>Gentian Blue Metallic</td>\n      <td>Black</td>\n      <td>None reported</td>\n      <td>NaN</td>\n      <td>78350.0</td>\n      <td>1</td>\n      <td>0.0</td>\n      <td>0.0</td>\n      <td>0.0</td>\n      <td>2</td>\n    </tr>\n    <tr>\n      <th>108580</th>\n      <td>Porsche</td>\n      <td>Taycan Turbo</td>\n      <td>2022</td>\n      <td>2076</td>\n      <td>Electric</td>\n      <td>Dual AC Electric Motors</td>\n      <td>Single-Speed Fixed Gear</td>\n      <td>Black</td>\n      <td>Black</td>\n      <td>None reported</td>\n      <td>NaN</td>\n      <td>76598.0</td>\n      <td>1</td>\n      <td>0.0</td>\n      <td>0.0</td>\n      <td>0.0</td>\n      <td>2</td>\n    </tr>\n    <tr>\n      <th>113201</th>\n      <td>Porsche</td>\n      <td>Taycan Turbo</td>\n      <td>2020</td>\n      <td>21028</td>\n      <td>Electric</td>\n      <td>Dual AC Electric Motors</td>\n      <td>Single-Speed Fixed Gear</td>\n      <td>BLACK</td>\n      <td>Black</td>\n      <td>None reported</td>\n      <td>NaN</td>\n      <td>96998.0</td>\n      <td>1</td>\n      <td>0.0</td>\n      <td>0.0</td>\n      <td>0.0</td>\n      <td>4</td>\n    </tr>\n    <tr>\n      <th>140339</th>\n      <td>Porsche</td>\n      <td>Taycan Turbo</td>\n      <td>2021</td>\n      <td>12209</td>\n      <td>Gasoline</td>\n      <td>Dual AC Electric Motors</td>\n      <td>Single-Speed Fixed Gear</td>\n      <td>Phantom Black</td>\n      <td>Black</td>\n      <td>None reported</td>\n      <td>NaN</td>\n      <td>51698.0</td>\n      <td>1</td>\n      <td>0.0</td>\n      <td>0.0</td>\n      <td>0.0</td>\n      <td>3</td>\n    </tr>\n    <tr>\n      <th>162521</th>\n      <td>Porsche</td>\n      <td>Taycan Turbo</td>\n      <td>2020</td>\n      <td>2076</td>\n      <td>Electric</td>\n      <td>Electric</td>\n      <td>Single-Speed Fixed Gear</td>\n      <td>Gray</td>\n      <td>Black</td>\n      <td>None reported</td>\n      <td>NaN</td>\n      <td>104900.0</td>\n      <td>1</td>\n      <td>0.0</td>\n      <td>0.0</td>\n      <td>0.0</td>\n      <td>4</td>\n    </tr>\n    <tr>\n      <th>162871</th>\n      <td>BMW</td>\n      <td>M5 Base</td>\n      <td>2016</td>\n      <td>816</td>\n      <td>Gasoline</td>\n      <td>Dual AC Electric Motors</td>\n      <td>Single-Speed Fixed Gear</td>\n      <td>Alpine White</td>\n      <td>Anthracite</td>\n      <td>None reported</td>\n      <td>Yes</td>\n      <td>41999.0</td>\n      <td>1</td>\n      <td>0.0</td>\n      <td>0.0</td>\n      <td>0.0</td>\n      <td>8</td>\n    </tr>\n    <tr>\n      <th>165250</th>\n      <td>Lucid</td>\n      <td>Air Grand Touring</td>\n      <td>2020</td>\n      <td>25462</td>\n      <td>Electric</td>\n      <td>Dual AC Electric Motors</td>\n      <td>Single-Speed Fixed Gear</td>\n      <td>Black</td>\n      <td>Black</td>\n      <td>None reported</td>\n      <td>NaN</td>\n      <td>45498.0</td>\n      <td>1</td>\n      <td>0.0</td>\n      <td>0.0</td>\n      <td>0.0</td>\n      <td>4</td>\n    </tr>\n    <tr>\n      <th>171308</th>\n      <td>Porsche</td>\n      <td>Taycan Turbo</td>\n      <td>2020</td>\n      <td>1885</td>\n      <td>Electric</td>\n      <td>Dual AC Electric Motors</td>\n      <td>Single-Speed Fixed Gear</td>\n      <td>Black</td>\n      <td>Black</td>\n      <td>None reported</td>\n      <td>Yes</td>\n      <td>115000.0</td>\n      <td>1</td>\n      <td>0.0</td>\n      <td>0.0</td>\n      <td>0.0</td>\n      <td>4</td>\n    </tr>\n    <tr>\n      <th>211048</th>\n      <td>Porsche</td>\n      <td>Taycan Turbo</td>\n      <td>2020</td>\n      <td>15107</td>\n      <td>Electric</td>\n      <td>Dual AC Electric Motors</td>\n      <td>Single-Speed Fixed Gear</td>\n      <td>Black</td>\n      <td>Tan</td>\n      <td>None reported</td>\n      <td>NaN</td>\n      <td>NaN</td>\n      <td>1</td>\n      <td>0.0</td>\n      <td>0.0</td>\n      <td>0.0</td>\n      <td>4</td>\n    </tr>\n    <tr>\n      <th>215242</th>\n      <td>Porsche</td>\n      <td>Taycan Turbo</td>\n      <td>2023</td>\n      <td>2121</td>\n      <td>Electric</td>\n      <td>Dual AC Electric Motors</td>\n      <td>Single-Speed Fixed Gear</td>\n      <td>Black</td>\n      <td>BEIGE</td>\n      <td>None reported</td>\n      <td>NaN</td>\n      <td>NaN</td>\n      <td>1</td>\n      <td>0.0</td>\n      <td>0.0</td>\n      <td>0.0</td>\n      <td>1</td>\n    </tr>\n    <tr>\n      <th>223632</th>\n      <td>Porsche</td>\n      <td>Taycan Turbo</td>\n      <td>2020</td>\n      <td>21028</td>\n      <td>Gasoline</td>\n      <td>Dual AC Electric Motors</td>\n      <td>Single-Speed Fixed Gear</td>\n      <td>Gray</td>\n      <td>–</td>\n      <td>None reported</td>\n      <td>NaN</td>\n      <td>NaN</td>\n      <td>1</td>\n      <td>0.0</td>\n      <td>0.0</td>\n      <td>0.0</td>\n      <td>4</td>\n    </tr>\n    <tr>\n      <th>240661</th>\n      <td>Cadillac</td>\n      <td>CT6-V 4.2L Blackwing Twin Turbo</td>\n      <td>2020</td>\n      <td>17575</td>\n      <td>Gasoline</td>\n      <td>4.2L V8 32V GDI DOHC Twin Turbo</td>\n      <td>Single-Speed Fixed Gear</td>\n      <td>Atomic Silver</td>\n      <td>Black</td>\n      <td>NaN</td>\n      <td>NaN</td>\n      <td>NaN</td>\n      <td>1</td>\n      <td>0.0</td>\n      <td>4.2</td>\n      <td>8.0</td>\n      <td>4</td>\n    </tr>\n    <tr>\n      <th>246765</th>\n      <td>Porsche</td>\n      <td>Taycan Turbo</td>\n      <td>2022</td>\n      <td>1716</td>\n      <td>Electric</td>\n      <td>Dual AC Electric Motors</td>\n      <td>Single-Speed Fixed Gear</td>\n      <td>BLACK</td>\n      <td>BEIGE</td>\n      <td>None reported</td>\n      <td>NaN</td>\n      <td>NaN</td>\n      <td>1</td>\n      <td>0.0</td>\n      <td>0.0</td>\n      <td>0.0</td>\n      <td>2</td>\n    </tr>\n    <tr>\n      <th>254419</th>\n      <td>Porsche</td>\n      <td>Taycan Turbo</td>\n      <td>2022</td>\n      <td>21028</td>\n      <td>Gasoline</td>\n      <td>Dual AC Electric Motors</td>\n      <td>Single-Speed Fixed Gear</td>\n      <td>Custom Color</td>\n      <td>BEIGE</td>\n      <td>None reported</td>\n      <td>NaN</td>\n      <td>NaN</td>\n      <td>1</td>\n      <td>0.0</td>\n      <td>0.0</td>\n      <td>0.0</td>\n      <td>2</td>\n    </tr>\n    <tr>\n      <th>266527</th>\n      <td>Alfa</td>\n      <td>Romeo Stelvio Ti Sport</td>\n      <td>2023</td>\n      <td>45303</td>\n      <td>Gasoline</td>\n      <td>2.0L I4 16V GDI SOHC Turbo</td>\n      <td>Single-Speed Fixed Gear</td>\n      <td>Ice</td>\n      <td>Black</td>\n      <td>None reported</td>\n      <td>NaN</td>\n      <td>NaN</td>\n      <td>0</td>\n      <td>0.0</td>\n      <td>2.0</td>\n      <td>4.0</td>\n      <td>1</td>\n    </tr>\n    <tr>\n      <th>271524</th>\n      <td>Porsche</td>\n      <td>Taycan Turbo</td>\n      <td>2023</td>\n      <td>21028</td>\n      <td>Electric</td>\n      <td>Dual AC Electric Motors</td>\n      <td>Single-Speed Fixed Gear</td>\n      <td>BLACK</td>\n      <td>BEIGE</td>\n      <td>None reported</td>\n      <td>NaN</td>\n      <td>NaN</td>\n      <td>1</td>\n      <td>0.0</td>\n      <td>0.0</td>\n      <td>0.0</td>\n      <td>1</td>\n    </tr>\n    <tr>\n      <th>276746</th>\n      <td>Porsche</td>\n      <td>Taycan Turbo</td>\n      <td>2021</td>\n      <td>5852</td>\n      <td>Electric</td>\n      <td>Dual AC Electric Motors</td>\n      <td>Single-Speed Fixed Gear</td>\n      <td>Gentian Blue Metallic</td>\n      <td>Black</td>\n      <td>None reported</td>\n      <td>NaN</td>\n      <td>NaN</td>\n      <td>1</td>\n      <td>0.0</td>\n      <td>0.0</td>\n      <td>0.0</td>\n      <td>3</td>\n    </tr>\n    <tr>\n      <th>284302</th>\n      <td>Land</td>\n      <td>Rover Range Rover SV Autobiography Dynamic SWB</td>\n      <td>2021</td>\n      <td>22564</td>\n      <td>Electric</td>\n      <td>Electric</td>\n      <td>Single-Speed Fixed Gear</td>\n      <td>Black</td>\n      <td>Tan/Ebony</td>\n      <td>None reported</td>\n      <td>NaN</td>\n      <td>NaN</td>\n      <td>0</td>\n      <td>0.0</td>\n      <td>0.0</td>\n      <td>0.0</td>\n      <td>3</td>\n    </tr>\n    <tr>\n      <th>294134</th>\n      <td>Rivian</td>\n      <td>R1S Adventure Package</td>\n      <td>2023</td>\n      <td>1219</td>\n      <td>Electric</td>\n      <td>Dual Motor - Standard</td>\n      <td>Single-Speed Fixed Gear</td>\n      <td>Mythos Black</td>\n      <td>Black</td>\n      <td>None reported</td>\n      <td>Yes</td>\n      <td>NaN</td>\n      <td>0</td>\n      <td>0.0</td>\n      <td>0.0</td>\n      <td>0.0</td>\n      <td>1</td>\n    </tr>\n    <tr>\n      <th>301701</th>\n      <td>Porsche</td>\n      <td>Taycan Turbo</td>\n      <td>2022</td>\n      <td>10071</td>\n      <td>Electric</td>\n      <td>Dual AC Electric Motors</td>\n      <td>Single-Speed Fixed Gear</td>\n      <td>White</td>\n      <td>Black</td>\n      <td>None reported</td>\n      <td>NaN</td>\n      <td>NaN</td>\n      <td>1</td>\n      <td>0.0</td>\n      <td>0.0</td>\n      <td>0.0</td>\n      <td>2</td>\n    </tr>\n  </tbody>\n</table>\n</div>"
          },
          "metadata": {}
        }
      ]
    },
    {
      "cell_type": "code",
      "source": [
        "num_of_speed = []\n",
        "type_trans = []\n",
        "for row in df['transmission']:\n",
        "#     speed = re.search(r'(\\d+)\\s*[-/]*\\s*Speed', row, re.IGNORECASE)\n",
        "#     if speed:\n",
        "#         num_of_speed.append(float(speed.group(1)))\n",
        "#     else:\n",
        "#         num_of_speed.append(0)\n",
        "    if ('Automatic' in row) or ('A/T' in row) or ('AT' in row)\\\n",
        "    or ('A/t' in row) or ('Transmission Overdrive Switch' in row):\n",
        "        type_trans.append('A')\n",
        "    elif 'DCT' in row:\n",
        "        type_trans.append('DCT')\n",
        "    elif 'Transmission w/Dual Shift Mode' in row:\n",
        "        type_trans.append('Transmission w/Dual Shift Mode')\n",
        "    elif 'CVT' in row or 'CVT-F' in row:\n",
        "        type_trans.append('CVT')\n",
        "    elif 'Variable' in row:\n",
        "        type_trans.append('Variable')\n",
        "    elif 'Single-Speed Fixed Gear' in row:\n",
        "        type_trans.append('Single-Speed Fixed Gear')\n",
        "    elif 'F' in row:\n",
        "        type_trans.append('F')\n",
        "    elif 'At/Mt' in row:\n",
        "        type_trans.append('At/Mt')\n",
        "    elif '–' in row:\n",
        "        type_trans.append('Unknown')\n",
        "    else:\n",
        "        type_trans.append('M')\n",
        "\n",
        "\n",
        "print(len(num_of_speed))\n",
        "print(len(type_trans))\n"
      ],
      "metadata": {
        "execution": {
          "iopub.status.busy": "2024-09-18T14:38:50.192035Z",
          "iopub.execute_input": "2024-09-18T14:38:50.192476Z",
          "iopub.status.idle": "2024-09-18T14:38:50.331703Z",
          "shell.execute_reply.started": "2024-09-18T14:38:50.192435Z",
          "shell.execute_reply": "2024-09-18T14:38:50.330535Z"
        },
        "trusted": true,
        "id": "HA-agcxTvAtf",
        "outputId": "5e68d325-471f-417b-9e15-c814871423df"
      },
      "execution_count": null,
      "outputs": [
        {
          "name": "stdout",
          "text": "0\n314223\n",
          "output_type": "stream"
        }
      ]
    },
    {
      "cell_type": "code",
      "source": [
        "df['transmission'] = type_trans\n",
        "#df['num_of_speed'] = num_of_speed"
      ],
      "metadata": {
        "execution": {
          "iopub.status.busy": "2024-09-18T14:38:53.552156Z",
          "iopub.execute_input": "2024-09-18T14:38:53.552589Z",
          "iopub.status.idle": "2024-09-18T14:38:53.57034Z",
          "shell.execute_reply.started": "2024-09-18T14:38:53.55255Z",
          "shell.execute_reply": "2024-09-18T14:38:53.568942Z"
        },
        "trusted": true,
        "id": "OnAy1OAJvAtg"
      },
      "execution_count": null,
      "outputs": []
    },
    {
      "cell_type": "code",
      "source": [
        "#df[df['transmission'] == 'Transmission w/Dual Shift Mode']"
      ],
      "metadata": {
        "execution": {
          "iopub.status.busy": "2024-09-13T23:14:11.05707Z",
          "iopub.execute_input": "2024-09-13T23:14:11.057567Z",
          "iopub.status.idle": "2024-09-13T23:14:11.062963Z",
          "shell.execute_reply.started": "2024-09-13T23:14:11.057523Z",
          "shell.execute_reply": "2024-09-13T23:14:11.061375Z"
        },
        "trusted": true,
        "id": "e2oyoUMXvAtg"
      },
      "execution_count": null,
      "outputs": []
    },
    {
      "cell_type": "code",
      "source": [
        "df['accident'] = df['accident'].fillna(df['accident'].mode()[0])"
      ],
      "metadata": {
        "execution": {
          "iopub.status.busy": "2024-09-18T14:39:02.465339Z",
          "iopub.execute_input": "2024-09-18T14:39:02.465799Z",
          "iopub.status.idle": "2024-09-18T14:39:02.524943Z",
          "shell.execute_reply.started": "2024-09-18T14:39:02.465757Z",
          "shell.execute_reply": "2024-09-18T14:39:02.523626Z"
        },
        "trusted": true,
        "id": "aJTpjxyMvAtg"
      },
      "execution_count": null,
      "outputs": []
    },
    {
      "cell_type": "code",
      "source": [
        "df.isna().sum()"
      ],
      "metadata": {
        "execution": {
          "iopub.status.busy": "2024-09-18T14:39:04.289019Z",
          "iopub.execute_input": "2024-09-18T14:39:04.289458Z",
          "iopub.status.idle": "2024-09-18T14:39:04.436692Z",
          "shell.execute_reply.started": "2024-09-18T14:39:04.289409Z",
          "shell.execute_reply": "2024-09-18T14:39:04.435263Z"
        },
        "trusted": true,
        "id": "w3jxIE_lvAtg",
        "outputId": "78a4f02e-0c54-4098-94f7-5448e78a01ce"
      },
      "execution_count": null,
      "outputs": [
        {
          "execution_count": 61,
          "output_type": "execute_result",
          "data": {
            "text/plain": "brand                    0\nmodel                    0\nmodel_year               0\nmilage                   0\nfuel_type                0\nengine                   0\ntransmission             0\next_col                  0\nint_col                  0\naccident                 0\nclean_title          35658\nprice               125690\npremium_auto             0\nhorsepower               0\nengine_volume            0\nnum_of_cylinders         0\nage                      0\ndtype: int64"
          },
          "metadata": {}
        }
      ]
    },
    {
      "cell_type": "code",
      "source": [
        "df = df.drop(['clean_title'], axis=1)"
      ],
      "metadata": {
        "execution": {
          "iopub.status.busy": "2024-09-18T14:39:06.6964Z",
          "iopub.execute_input": "2024-09-18T14:39:06.696894Z",
          "iopub.status.idle": "2024-09-18T14:39:06.749575Z",
          "shell.execute_reply.started": "2024-09-18T14:39:06.696842Z",
          "shell.execute_reply": "2024-09-18T14:39:06.748457Z"
        },
        "trusted": true,
        "id": "ynjJLOL7vAtk"
      },
      "execution_count": null,
      "outputs": []
    },
    {
      "cell_type": "code",
      "source": [
        "df.head()"
      ],
      "metadata": {
        "execution": {
          "iopub.status.busy": "2024-09-16T12:43:59.297011Z",
          "iopub.execute_input": "2024-09-16T12:43:59.297488Z",
          "iopub.status.idle": "2024-09-16T12:43:59.321137Z",
          "shell.execute_reply.started": "2024-09-16T12:43:59.297434Z",
          "shell.execute_reply": "2024-09-16T12:43:59.319689Z"
        },
        "trusted": true,
        "id": "mjZoIGonvAtl"
      },
      "execution_count": null,
      "outputs": []
    },
    {
      "cell_type": "code",
      "source": [
        "# df['speed'] = df['transmission'].str.extract('(\\d+)-Speed', expand=False)\n",
        "# df['speed'] = df['speed'].fillna(df['transmission'].str.extract('(\\d+)-Speed', expand=False))\n",
        "# df['speed'] = df['speed'].fillna(df['transmission'].str.extract('(\\d+) Speed', expand=False))\n",
        "# df['speed'] = df['speed'].fillna(df['transmission'].str.extract('(\\d+) ', expand=False))\n",
        "# df['speed'] = df['speed'].fillna(df['transmission'].str.extract('^(\\d+)', expand=False))"
      ],
      "metadata": {
        "execution": {
          "iopub.status.busy": "2024-09-13T11:21:29.88534Z",
          "iopub.execute_input": "2024-09-13T11:21:29.885812Z",
          "iopub.status.idle": "2024-09-13T11:21:31.788192Z",
          "shell.execute_reply.started": "2024-09-13T11:21:29.885765Z",
          "shell.execute_reply": "2024-09-13T11:21:31.786983Z"
        },
        "trusted": true,
        "id": "PjI1xLd4vAtl"
      },
      "execution_count": null,
      "outputs": []
    },
    {
      "cell_type": "code",
      "source": [
        "# cat_columns = df.select_dtypes(include=['object'])\n",
        "# missing_cols = [col for col in cat_columns.columns if cat_columns[col].isna().any()]\n",
        "#missing_cols = ['fuel_type', 'accident']"
      ],
      "metadata": {
        "execution": {
          "iopub.status.busy": "2024-09-12T09:42:17.404285Z",
          "iopub.execute_input": "2024-09-12T09:42:17.404731Z",
          "iopub.status.idle": "2024-09-12T09:42:17.411654Z",
          "shell.execute_reply.started": "2024-09-12T09:42:17.404687Z",
          "shell.execute_reply": "2024-09-12T09:42:17.410396Z"
        },
        "trusted": true,
        "id": "Tsj8CjgovAtl"
      },
      "execution_count": null,
      "outputs": []
    },
    {
      "cell_type": "code",
      "source": [
        "# for col in missing_cols:\n",
        "#     df.loc[:, col] = df.loc[:, col].fillna(df.loc[:, col].mode()[0])"
      ],
      "metadata": {
        "execution": {
          "iopub.status.busy": "2024-09-12T09:42:20.200811Z",
          "iopub.execute_input": "2024-09-12T09:42:20.201245Z",
          "iopub.status.idle": "2024-09-12T09:42:20.408352Z",
          "shell.execute_reply.started": "2024-09-12T09:42:20.201198Z",
          "shell.execute_reply": "2024-09-12T09:42:20.407007Z"
        },
        "trusted": true,
        "id": "itQEDCM6vAtl"
      },
      "execution_count": null,
      "outputs": []
    },
    {
      "cell_type": "code",
      "source": [
        "#df['clean_title'] = df['clean_title'].fillna('No')\n",
        "#df = df.drop('clean_title', axis=1)"
      ],
      "metadata": {
        "execution": {
          "iopub.status.busy": "2024-09-13T23:15:01.870216Z",
          "iopub.execute_input": "2024-09-13T23:15:01.870683Z",
          "iopub.status.idle": "2024-09-13T23:15:01.93986Z",
          "shell.execute_reply.started": "2024-09-13T23:15:01.870641Z",
          "shell.execute_reply": "2024-09-13T23:15:01.938483Z"
        },
        "trusted": true,
        "id": "_KU_yHQlvAtl"
      },
      "execution_count": null,
      "outputs": []
    },
    {
      "cell_type": "code",
      "source": [
        "# X_columns = df[['brand', 'model']]\n",
        "# y_target = df['price']\n",
        "\n",
        "# encoder = ce.TargetEncoder(cols=['brand', 'model'], smoothing=0.3)\n",
        "# X_encoded = encoder.fit_transform(X_columns, y_target)\n",
        "# df_encoded = pd.concat([X_encoded, y], axis=1)"
      ],
      "metadata": {
        "execution": {
          "iopub.status.busy": "2024-09-13T14:03:14.744116Z",
          "iopub.execute_input": "2024-09-13T14:03:14.744684Z",
          "iopub.status.idle": "2024-09-13T14:03:15.618671Z",
          "shell.execute_reply.started": "2024-09-13T14:03:14.744637Z",
          "shell.execute_reply": "2024-09-13T14:03:15.617415Z"
        },
        "trusted": true,
        "id": "XvEQAryNvAtl"
      },
      "execution_count": null,
      "outputs": []
    },
    {
      "cell_type": "code",
      "source": [
        "# from sklearn.preprocessing import OrdinalEncoder\n",
        "\n",
        "# # Initialize the OrdinalEncoder with handle_unknown='use_encoded_value'\n",
        "# # and specify the value to be used for unknown categories\n",
        "# ordinal_encoder = OrdinalEncoder(handle_unknown='use_encoded_value', unknown_value=-1)\n",
        "\n",
        "# # Fit the encoder on training data\n",
        "# #df['model_encoded'] = ordinal_encoder.fit_transform(df[['model']])\n",
        "# df['ext_col']=ordinal_encoder.fit_transform(df[['ext_col']])\n",
        "# df['int_col']=ordinal_encoder.fit_transform(df[['int_col']])"
      ],
      "metadata": {
        "execution": {
          "iopub.status.busy": "2024-09-16T12:42:22.371852Z",
          "iopub.execute_input": "2024-09-16T12:42:22.372426Z",
          "iopub.status.idle": "2024-09-16T12:42:22.620948Z",
          "shell.execute_reply.started": "2024-09-16T12:42:22.372368Z",
          "shell.execute_reply": "2024-09-16T12:42:22.619534Z"
        },
        "trusted": true,
        "id": "mT-4Q5OuvAtl"
      },
      "execution_count": null,
      "outputs": []
    },
    {
      "cell_type": "code",
      "source": [],
      "metadata": {
        "id": "5x5gVqxzvAtl"
      },
      "execution_count": null,
      "outputs": []
    },
    {
      "cell_type": "code",
      "source": [
        "#df = df.drop('model', axis=1)"
      ],
      "metadata": {
        "execution": {
          "iopub.status.busy": "2024-09-13T23:30:20.001763Z",
          "iopub.execute_input": "2024-09-13T23:30:20.002202Z",
          "iopub.status.idle": "2024-09-13T23:30:20.028395Z",
          "shell.execute_reply.started": "2024-09-13T23:30:20.002159Z",
          "shell.execute_reply": "2024-09-13T23:30:20.027141Z"
        },
        "trusted": true,
        "id": "Rd9erEhcvAto"
      },
      "execution_count": null,
      "outputs": []
    },
    {
      "cell_type": "code",
      "source": [
        "# df['brand'] = df_encoded['brand']\n",
        "# df['model'] = df_encoded['model']"
      ],
      "metadata": {
        "execution": {
          "iopub.status.busy": "2024-09-13T14:03:21.619024Z",
          "iopub.execute_input": "2024-09-13T14:03:21.619493Z",
          "iopub.status.idle": "2024-09-13T14:03:21.62691Z",
          "shell.execute_reply.started": "2024-09-13T14:03:21.619445Z",
          "shell.execute_reply": "2024-09-13T14:03:21.625568Z"
        },
        "trusted": true,
        "id": "gcR_c5lcvAto"
      },
      "execution_count": null,
      "outputs": []
    },
    {
      "cell_type": "code",
      "source": [
        "df['int_col'].unique()"
      ],
      "metadata": {
        "execution": {
          "iopub.status.busy": "2024-09-13T23:30:26.742732Z",
          "iopub.execute_input": "2024-09-13T23:30:26.743195Z",
          "iopub.status.idle": "2024-09-13T23:30:26.759358Z",
          "shell.execute_reply.started": "2024-09-13T23:30:26.743149Z",
          "shell.execute_reply": "2024-09-13T23:30:26.758121Z"
        },
        "trusted": true,
        "id": "NWld5J9fvAto"
      },
      "execution_count": null,
      "outputs": []
    },
    {
      "cell_type": "code",
      "source": [
        "df.head()"
      ],
      "metadata": {
        "execution": {
          "iopub.status.busy": "2024-09-13T23:45:47.577612Z",
          "iopub.execute_input": "2024-09-13T23:45:47.579443Z",
          "iopub.status.idle": "2024-09-13T23:45:47.606685Z",
          "shell.execute_reply.started": "2024-09-13T23:45:47.579369Z",
          "shell.execute_reply": "2024-09-13T23:45:47.605267Z"
        },
        "trusted": true,
        "id": "ae9ZGK60vAto"
      },
      "execution_count": null,
      "outputs": []
    },
    {
      "cell_type": "code",
      "source": [
        "# encoder=LabelEncoder()\n",
        "# # df['brand']=encoder.fit_transform(df['brand'])\n",
        "# # df['model']=encoder.fit_transform(df['model'])\n",
        "# #df['fuel_type']=encoder.fit_transform(df['fuel_type'])\n",
        "# df['ext_col']=encoder.fit_transform(df['ext_col'])\n",
        "# df['int_col']=encoder.fit_transform(df['int_col'])\n",
        "# #train['accident']=encoder.fit_transform(train['accident'])\n",
        "# #df['clean_title']=encoder.fit_transform(df['clean_title'])\n",
        "\n",
        "import category_encoders as ce\n",
        "\n",
        "encoder = ce.CountEncoder()\n",
        "\n",
        "# Apply CountEncoder to each categorical column\n",
        "df['brand'] = encoder.fit_transform(df['brand'])\n",
        "df['model'] = encoder.fit_transform(df['model'])\n",
        "df['transmission'] = encoder.fit_transform(df['transmission'])\n",
        "df['engine'] = encoder.fit_transform(df['engine'])\n",
        "df['fuel_type'] = encoder.fit_transform(df['fuel_type'])\n",
        "df['ext_col'] = encoder.fit_transform(df['ext_col'])\n",
        "df['int_col'] = encoder.fit_transform(df['int_col'])\n",
        "\n",
        "df.head()"
      ],
      "metadata": {
        "execution": {
          "iopub.status.busy": "2024-09-13T23:47:20.984091Z",
          "iopub.execute_input": "2024-09-13T23:47:20.984635Z",
          "iopub.status.idle": "2024-09-13T23:47:24.908838Z",
          "shell.execute_reply.started": "2024-09-13T23:47:20.984588Z",
          "shell.execute_reply": "2024-09-13T23:47:24.907746Z"
        },
        "trusted": true,
        "id": "U5x7Uk3GvAtp"
      },
      "execution_count": null,
      "outputs": []
    },
    {
      "cell_type": "code",
      "source": [
        "df = pd.get_dummies(df, dtype='int')"
      ],
      "metadata": {
        "execution": {
          "iopub.status.busy": "2024-09-13T23:47:44.450026Z",
          "iopub.execute_input": "2024-09-13T23:47:44.450507Z",
          "iopub.status.idle": "2024-09-13T23:47:44.545396Z",
          "shell.execute_reply.started": "2024-09-13T23:47:44.450465Z",
          "shell.execute_reply": "2024-09-13T23:47:44.544253Z"
        },
        "trusted": true,
        "id": "fmr-Tc8BvAtp"
      },
      "execution_count": null,
      "outputs": []
    },
    {
      "cell_type": "code",
      "source": [
        "df.head()"
      ],
      "metadata": {
        "execution": {
          "iopub.status.busy": "2024-09-13T23:47:45.949519Z",
          "iopub.execute_input": "2024-09-13T23:47:45.949991Z",
          "iopub.status.idle": "2024-09-13T23:47:45.966663Z",
          "shell.execute_reply.started": "2024-09-13T23:47:45.949945Z",
          "shell.execute_reply": "2024-09-13T23:47:45.965401Z"
        },
        "trusted": true,
        "id": "HIanVjR1vAtp"
      },
      "execution_count": null,
      "outputs": []
    },
    {
      "cell_type": "code",
      "source": [
        "df.shape"
      ],
      "metadata": {
        "execution": {
          "iopub.status.busy": "2024-09-14T15:26:20.586904Z",
          "iopub.execute_input": "2024-09-14T15:26:20.587313Z",
          "iopub.status.idle": "2024-09-14T15:26:20.594581Z",
          "shell.execute_reply.started": "2024-09-14T15:26:20.587278Z",
          "shell.execute_reply": "2024-09-14T15:26:20.593401Z"
        },
        "trusted": true,
        "id": "5b6zAYVavAtp"
      },
      "execution_count": null,
      "outputs": []
    },
    {
      "cell_type": "code",
      "source": [
        "df.head()"
      ],
      "metadata": {
        "execution": {
          "iopub.status.busy": "2024-09-14T15:26:27.614825Z",
          "iopub.execute_input": "2024-09-14T15:26:27.615251Z",
          "iopub.status.idle": "2024-09-14T15:26:27.637347Z",
          "shell.execute_reply.started": "2024-09-14T15:26:27.615211Z",
          "shell.execute_reply": "2024-09-14T15:26:27.636065Z"
        },
        "trusted": true,
        "id": "wAq6yMiQvAtp"
      },
      "execution_count": null,
      "outputs": []
    },
    {
      "cell_type": "code",
      "source": [
        "price, price_lambda = stats.boxcox(train['price'])\n",
        "print(price_lambda)\n",
        "milage, milage_lambda = stats.boxcox(df['milage'])\n",
        "print(milage_lambda)\n",
        "age, age_lambda = stats.boxcox(df['age'] + 1)\n",
        "print(age_lambda)"
      ],
      "metadata": {
        "execution": {
          "iopub.status.busy": "2024-09-16T12:45:46.699441Z",
          "iopub.execute_input": "2024-09-16T12:45:46.699894Z",
          "iopub.status.idle": "2024-09-16T12:45:51.050876Z",
          "shell.execute_reply.started": "2024-09-16T12:45:46.699854Z",
          "shell.execute_reply": "2024-09-16T12:45:51.04969Z"
        },
        "trusted": true,
        "id": "Z1qnWG9dvAtp"
      },
      "execution_count": null,
      "outputs": []
    },
    {
      "cell_type": "code",
      "source": [
        "df['milage'] = milage\n",
        "df['age'] = age"
      ],
      "metadata": {
        "execution": {
          "iopub.status.busy": "2024-09-16T12:47:07.884999Z",
          "iopub.execute_input": "2024-09-16T12:47:07.885907Z",
          "iopub.status.idle": "2024-09-16T12:47:07.892255Z",
          "shell.execute_reply.started": "2024-09-16T12:47:07.885859Z",
          "shell.execute_reply": "2024-09-16T12:47:07.890895Z"
        },
        "trusted": true,
        "id": "Nvyl8iEsvAtp"
      },
      "execution_count": null,
      "outputs": []
    },
    {
      "cell_type": "code",
      "source": [
        "df['transmission'].unique()"
      ],
      "metadata": {
        "execution": {
          "iopub.status.busy": "2024-09-18T14:39:15.257631Z",
          "iopub.execute_input": "2024-09-18T14:39:15.258106Z",
          "iopub.status.idle": "2024-09-18T14:39:15.286034Z",
          "shell.execute_reply.started": "2024-09-18T14:39:15.258064Z",
          "shell.execute_reply": "2024-09-18T14:39:15.284941Z"
        },
        "trusted": true,
        "id": "tQ4_vcVPvAtq",
        "outputId": "379b73a7-24ae-4013-86b6-9a132053f0dc"
      },
      "execution_count": null,
      "outputs": [
        {
          "execution_count": 63,
          "output_type": "execute_result",
          "data": {
            "text/plain": "array(['A', 'Transmission w/Dual Shift Mode', 'CVT', 'M', 'F', 'Unknown',\n       'At/Mt', 'Variable', 'Single-Speed Fixed Gear'], dtype=object)"
          },
          "metadata": {}
        }
      ]
    },
    {
      "cell_type": "code",
      "source": [
        "df.head()"
      ],
      "metadata": {
        "execution": {
          "iopub.status.busy": "2024-09-18T14:25:08.958971Z",
          "iopub.execute_input": "2024-09-18T14:25:08.959402Z",
          "iopub.status.idle": "2024-09-18T14:25:08.982658Z",
          "shell.execute_reply.started": "2024-09-18T14:25:08.959361Z",
          "shell.execute_reply": "2024-09-18T14:25:08.981428Z"
        },
        "trusted": true,
        "id": "kH9N4MtUvAtq",
        "outputId": "12e74f65-997f-403e-a950-7682257a795c"
      },
      "execution_count": null,
      "outputs": [
        {
          "execution_count": 29,
          "output_type": "execute_result",
          "data": {
            "text/plain": "           brand              model  model_year  milage      fuel_type  \\\n0           MINI      Cooper S Base        2007  213000       Gasoline   \n1        Lincoln              LS V8        2002  143250       Gasoline   \n2      Chevrolet  Silverado 2500 LT        2002  136731  E85 Flex Fuel   \n3        Genesis   G90 5.0 Ultimate        2017   19500       Gasoline   \n4  Mercedes-Benz        Metris Base        2021    7388       Gasoline   \n\n                                              engine  \\\n0       172.0HP 1.6L 4 Cylinder Engine Gasoline Fuel   \n1       252.0HP 3.9L 8 Cylinder Engine Gasoline Fuel   \n2  320.0HP 5.3L 8 Cylinder Engine Flex Fuel Capab...   \n3       420.0HP 5.0L 8 Cylinder Engine Gasoline Fuel   \n4       208.0HP 2.0L 4 Cylinder Engine Gasoline Fuel   \n\n                     transmission ext_col int_col  \\\n0                               A  Yellow    Gray   \n1                               A  Silver   Beige   \n2                               A    Blue    Gray   \n3  Transmission w/Dual Shift Mode   Black   Black   \n4                               A   Black   Beige   \n\n                                 accident    price  premium_auto  horsepower  \\\n0                           None reported   4200.0             0       172.0   \n1  At least 1 accident or damage reported   4999.0             1       252.0   \n2                           None reported  13900.0             0       320.0   \n3                           None reported  45000.0             0       420.0   \n4                           None reported  97500.0             1       208.0   \n\n   engine_volume  num_of_cylinders  age  \n0            1.6               4.0   17  \n1            3.9               8.0   22  \n2            5.3               8.0   22  \n3            5.0               8.0    7  \n4            2.0               4.0    3  ",
            "text/html": "<div>\n<style scoped>\n    .dataframe tbody tr th:only-of-type {\n        vertical-align: middle;\n    }\n\n    .dataframe tbody tr th {\n        vertical-align: top;\n    }\n\n    .dataframe thead th {\n        text-align: right;\n    }\n</style>\n<table border=\"1\" class=\"dataframe\">\n  <thead>\n    <tr style=\"text-align: right;\">\n      <th></th>\n      <th>brand</th>\n      <th>model</th>\n      <th>model_year</th>\n      <th>milage</th>\n      <th>fuel_type</th>\n      <th>engine</th>\n      <th>transmission</th>\n      <th>ext_col</th>\n      <th>int_col</th>\n      <th>accident</th>\n      <th>price</th>\n      <th>premium_auto</th>\n      <th>horsepower</th>\n      <th>engine_volume</th>\n      <th>num_of_cylinders</th>\n      <th>age</th>\n    </tr>\n  </thead>\n  <tbody>\n    <tr>\n      <th>0</th>\n      <td>MINI</td>\n      <td>Cooper S Base</td>\n      <td>2007</td>\n      <td>213000</td>\n      <td>Gasoline</td>\n      <td>172.0HP 1.6L 4 Cylinder Engine Gasoline Fuel</td>\n      <td>A</td>\n      <td>Yellow</td>\n      <td>Gray</td>\n      <td>None reported</td>\n      <td>4200.0</td>\n      <td>0</td>\n      <td>172.0</td>\n      <td>1.6</td>\n      <td>4.0</td>\n      <td>17</td>\n    </tr>\n    <tr>\n      <th>1</th>\n      <td>Lincoln</td>\n      <td>LS V8</td>\n      <td>2002</td>\n      <td>143250</td>\n      <td>Gasoline</td>\n      <td>252.0HP 3.9L 8 Cylinder Engine Gasoline Fuel</td>\n      <td>A</td>\n      <td>Silver</td>\n      <td>Beige</td>\n      <td>At least 1 accident or damage reported</td>\n      <td>4999.0</td>\n      <td>1</td>\n      <td>252.0</td>\n      <td>3.9</td>\n      <td>8.0</td>\n      <td>22</td>\n    </tr>\n    <tr>\n      <th>2</th>\n      <td>Chevrolet</td>\n      <td>Silverado 2500 LT</td>\n      <td>2002</td>\n      <td>136731</td>\n      <td>E85 Flex Fuel</td>\n      <td>320.0HP 5.3L 8 Cylinder Engine Flex Fuel Capab...</td>\n      <td>A</td>\n      <td>Blue</td>\n      <td>Gray</td>\n      <td>None reported</td>\n      <td>13900.0</td>\n      <td>0</td>\n      <td>320.0</td>\n      <td>5.3</td>\n      <td>8.0</td>\n      <td>22</td>\n    </tr>\n    <tr>\n      <th>3</th>\n      <td>Genesis</td>\n      <td>G90 5.0 Ultimate</td>\n      <td>2017</td>\n      <td>19500</td>\n      <td>Gasoline</td>\n      <td>420.0HP 5.0L 8 Cylinder Engine Gasoline Fuel</td>\n      <td>Transmission w/Dual Shift Mode</td>\n      <td>Black</td>\n      <td>Black</td>\n      <td>None reported</td>\n      <td>45000.0</td>\n      <td>0</td>\n      <td>420.0</td>\n      <td>5.0</td>\n      <td>8.0</td>\n      <td>7</td>\n    </tr>\n    <tr>\n      <th>4</th>\n      <td>Mercedes-Benz</td>\n      <td>Metris Base</td>\n      <td>2021</td>\n      <td>7388</td>\n      <td>Gasoline</td>\n      <td>208.0HP 2.0L 4 Cylinder Engine Gasoline Fuel</td>\n      <td>A</td>\n      <td>Black</td>\n      <td>Beige</td>\n      <td>None reported</td>\n      <td>97500.0</td>\n      <td>1</td>\n      <td>208.0</td>\n      <td>2.0</td>\n      <td>4.0</td>\n      <td>3</td>\n    </tr>\n  </tbody>\n</table>\n</div>"
          },
          "metadata": {}
        }
      ]
    },
    {
      "cell_type": "code",
      "source": [
        "train_df = df.iloc[:188533, :]\n",
        "test_df = df.iloc[188533:, :]"
      ],
      "metadata": {
        "execution": {
          "iopub.status.busy": "2024-09-18T14:39:23.471737Z",
          "iopub.execute_input": "2024-09-18T14:39:23.472171Z",
          "iopub.status.idle": "2024-09-18T14:39:23.479755Z",
          "shell.execute_reply.started": "2024-09-18T14:39:23.472131Z",
          "shell.execute_reply": "2024-09-18T14:39:23.47793Z"
        },
        "trusted": true,
        "id": "VEdXww9ovAtq"
      },
      "execution_count": null,
      "outputs": []
    },
    {
      "cell_type": "code",
      "source": [
        "X = train_df.copy()"
      ],
      "metadata": {
        "execution": {
          "iopub.status.busy": "2024-09-18T14:39:25.752529Z",
          "iopub.execute_input": "2024-09-18T14:39:25.752948Z",
          "iopub.status.idle": "2024-09-18T14:39:25.848893Z",
          "shell.execute_reply.started": "2024-09-18T14:39:25.752911Z",
          "shell.execute_reply": "2024-09-18T14:39:25.847446Z"
        },
        "trusted": true,
        "id": "q9g8bHYQvAtq"
      },
      "execution_count": null,
      "outputs": []
    },
    {
      "cell_type": "code",
      "source": [
        "y = X['price']\n",
        "X = X.drop(columns = ['price', 'model_year'], axis=1)"
      ],
      "metadata": {
        "execution": {
          "iopub.status.busy": "2024-09-18T14:39:46.768578Z",
          "iopub.execute_input": "2024-09-18T14:39:46.769018Z",
          "iopub.status.idle": "2024-09-18T14:39:46.794801Z",
          "shell.execute_reply.started": "2024-09-18T14:39:46.768978Z",
          "shell.execute_reply": "2024-09-18T14:39:46.793542Z"
        },
        "trusted": true,
        "id": "QmSFXkJkvAtq"
      },
      "execution_count": null,
      "outputs": []
    },
    {
      "cell_type": "code",
      "source": [
        "y"
      ],
      "metadata": {
        "execution": {
          "iopub.status.busy": "2024-09-16T12:58:45.012216Z",
          "iopub.execute_input": "2024-09-16T12:58:45.012691Z",
          "iopub.status.idle": "2024-09-16T12:58:45.020782Z",
          "shell.execute_reply.started": "2024-09-16T12:58:45.012642Z",
          "shell.execute_reply": "2024-09-16T12:58:45.01939Z"
        },
        "trusted": true,
        "id": "X-oNivJ2vAtq"
      },
      "execution_count": null,
      "outputs": []
    },
    {
      "cell_type": "code",
      "source": [
        "cbe_encoder = ce.cat_boost.CatBoostEncoder(a=1)\n",
        "X_encoded = cbe_encoder.fit_transform(X, y)"
      ],
      "metadata": {
        "execution": {
          "iopub.status.busy": "2024-09-18T14:39:50.072411Z",
          "iopub.execute_input": "2024-09-18T14:39:50.072852Z",
          "iopub.status.idle": "2024-09-18T14:39:51.181465Z",
          "shell.execute_reply.started": "2024-09-18T14:39:50.072813Z",
          "shell.execute_reply": "2024-09-18T14:39:51.179947Z"
        },
        "trusted": true,
        "id": "hbx6365wvAtr"
      },
      "execution_count": null,
      "outputs": []
    },
    {
      "cell_type": "code",
      "source": [
        "X_encoded.head()"
      ],
      "metadata": {
        "execution": {
          "iopub.status.busy": "2024-09-18T14:39:53.426439Z",
          "iopub.execute_input": "2024-09-18T14:39:53.427012Z",
          "iopub.status.idle": "2024-09-18T14:39:53.452684Z",
          "shell.execute_reply.started": "2024-09-18T14:39:53.426959Z",
          "shell.execute_reply": "2024-09-18T14:39:53.451015Z"
        },
        "trusted": true,
        "id": "VDWF_xQwvAtr",
        "outputId": "e59e6891-e606-444f-d961-0852b2d6e238"
      },
      "execution_count": null,
      "outputs": [
        {
          "execution_count": 68,
          "output_type": "execute_result",
          "data": {
            "text/plain": "          brand         model  milage     fuel_type        engine  \\\n0  43878.016178  43878.016178  213000  43878.016178  43878.016178   \n1  43878.016178  43878.016178  143250  24039.008089  43878.016178   \n2  43878.016178  43878.016178  136731  43878.016178  43878.016178   \n3  43878.016178  43878.016178   19500  17692.338726  43878.016178   \n4  43878.016178  43878.016178    7388  24519.254044  43878.016178   \n\n   transmission       ext_col       int_col      accident  premium_auto  \\\n0  43878.016178  43878.016178  43878.016178  43878.016178             0   \n1  24039.008089  43878.016178  43878.016178  43878.016178             1   \n2  17692.338726  43878.016178  24039.008089  24039.008089             0   \n3  43878.016178  43878.016178  43878.016178  20659.338726             0   \n4  16744.254044  44439.008089  24438.508089  26744.504044             1   \n\n   horsepower  engine_volume  num_of_cylinders  age  \n0       172.0            1.6               4.0   17  \n1       252.0            3.9               8.0   22  \n2       320.0            5.3               8.0   22  \n3       420.0            5.0               8.0    7  \n4       208.0            2.0               4.0    3  ",
            "text/html": "<div>\n<style scoped>\n    .dataframe tbody tr th:only-of-type {\n        vertical-align: middle;\n    }\n\n    .dataframe tbody tr th {\n        vertical-align: top;\n    }\n\n    .dataframe thead th {\n        text-align: right;\n    }\n</style>\n<table border=\"1\" class=\"dataframe\">\n  <thead>\n    <tr style=\"text-align: right;\">\n      <th></th>\n      <th>brand</th>\n      <th>model</th>\n      <th>milage</th>\n      <th>fuel_type</th>\n      <th>engine</th>\n      <th>transmission</th>\n      <th>ext_col</th>\n      <th>int_col</th>\n      <th>accident</th>\n      <th>premium_auto</th>\n      <th>horsepower</th>\n      <th>engine_volume</th>\n      <th>num_of_cylinders</th>\n      <th>age</th>\n    </tr>\n  </thead>\n  <tbody>\n    <tr>\n      <th>0</th>\n      <td>43878.016178</td>\n      <td>43878.016178</td>\n      <td>213000</td>\n      <td>43878.016178</td>\n      <td>43878.016178</td>\n      <td>43878.016178</td>\n      <td>43878.016178</td>\n      <td>43878.016178</td>\n      <td>43878.016178</td>\n      <td>0</td>\n      <td>172.0</td>\n      <td>1.6</td>\n      <td>4.0</td>\n      <td>17</td>\n    </tr>\n    <tr>\n      <th>1</th>\n      <td>43878.016178</td>\n      <td>43878.016178</td>\n      <td>143250</td>\n      <td>24039.008089</td>\n      <td>43878.016178</td>\n      <td>24039.008089</td>\n      <td>43878.016178</td>\n      <td>43878.016178</td>\n      <td>43878.016178</td>\n      <td>1</td>\n      <td>252.0</td>\n      <td>3.9</td>\n      <td>8.0</td>\n      <td>22</td>\n    </tr>\n    <tr>\n      <th>2</th>\n      <td>43878.016178</td>\n      <td>43878.016178</td>\n      <td>136731</td>\n      <td>43878.016178</td>\n      <td>43878.016178</td>\n      <td>17692.338726</td>\n      <td>43878.016178</td>\n      <td>24039.008089</td>\n      <td>24039.008089</td>\n      <td>0</td>\n      <td>320.0</td>\n      <td>5.3</td>\n      <td>8.0</td>\n      <td>22</td>\n    </tr>\n    <tr>\n      <th>3</th>\n      <td>43878.016178</td>\n      <td>43878.016178</td>\n      <td>19500</td>\n      <td>17692.338726</td>\n      <td>43878.016178</td>\n      <td>43878.016178</td>\n      <td>43878.016178</td>\n      <td>43878.016178</td>\n      <td>20659.338726</td>\n      <td>0</td>\n      <td>420.0</td>\n      <td>5.0</td>\n      <td>8.0</td>\n      <td>7</td>\n    </tr>\n    <tr>\n      <th>4</th>\n      <td>43878.016178</td>\n      <td>43878.016178</td>\n      <td>7388</td>\n      <td>24519.254044</td>\n      <td>43878.016178</td>\n      <td>16744.254044</td>\n      <td>44439.008089</td>\n      <td>24438.508089</td>\n      <td>26744.504044</td>\n      <td>1</td>\n      <td>208.0</td>\n      <td>2.0</td>\n      <td>4.0</td>\n      <td>3</td>\n    </tr>\n  </tbody>\n</table>\n</div>"
          },
          "metadata": {}
        }
      ]
    },
    {
      "cell_type": "code",
      "source": [
        "X_encoded =X_encoded.drop(['int_col', 'accident', 'premium_auto'], axis=1)"
      ],
      "metadata": {
        "execution": {
          "iopub.status.busy": "2024-09-18T14:46:45.356691Z",
          "iopub.execute_input": "2024-09-18T14:46:45.357129Z",
          "iopub.status.idle": "2024-09-18T14:46:45.370462Z",
          "shell.execute_reply.started": "2024-09-18T14:46:45.357078Z",
          "shell.execute_reply": "2024-09-18T14:46:45.369142Z"
        },
        "trusted": true,
        "id": "7DAslq_cvAtr"
      },
      "execution_count": null,
      "outputs": []
    },
    {
      "cell_type": "code",
      "source": [
        "X_encoded.head()"
      ],
      "metadata": {
        "execution": {
          "iopub.status.busy": "2024-09-18T14:47:41.984911Z",
          "iopub.execute_input": "2024-09-18T14:47:41.985603Z",
          "iopub.status.idle": "2024-09-18T14:47:42.010335Z",
          "shell.execute_reply.started": "2024-09-18T14:47:41.985546Z",
          "shell.execute_reply": "2024-09-18T14:47:42.008624Z"
        },
        "trusted": true,
        "id": "gJ7rLBi2vAtr",
        "outputId": "938e4fb1-4be4-44bd-8612-fa73fc8c26b4"
      },
      "execution_count": null,
      "outputs": [
        {
          "execution_count": 85,
          "output_type": "execute_result",
          "data": {
            "text/plain": "          brand         model  milage     fuel_type        engine  \\\n0  43878.016178  43878.016178  213000  43878.016178  43878.016178   \n1  43878.016178  43878.016178  143250  24039.008089  43878.016178   \n2  43878.016178  43878.016178  136731  43878.016178  43878.016178   \n3  43878.016178  43878.016178   19500  17692.338726  43878.016178   \n4  43878.016178  43878.016178    7388  24519.254044  43878.016178   \n\n   transmission       ext_col  horsepower  engine_volume  num_of_cylinders  \\\n0  43878.016178  43878.016178       172.0            1.6               4.0   \n1  24039.008089  43878.016178       252.0            3.9               8.0   \n2  17692.338726  43878.016178       320.0            5.3               8.0   \n3  43878.016178  43878.016178       420.0            5.0               8.0   \n4  16744.254044  44439.008089       208.0            2.0               4.0   \n\n   age  \n0   17  \n1   22  \n2   22  \n3    7  \n4    3  ",
            "text/html": "<div>\n<style scoped>\n    .dataframe tbody tr th:only-of-type {\n        vertical-align: middle;\n    }\n\n    .dataframe tbody tr th {\n        vertical-align: top;\n    }\n\n    .dataframe thead th {\n        text-align: right;\n    }\n</style>\n<table border=\"1\" class=\"dataframe\">\n  <thead>\n    <tr style=\"text-align: right;\">\n      <th></th>\n      <th>brand</th>\n      <th>model</th>\n      <th>milage</th>\n      <th>fuel_type</th>\n      <th>engine</th>\n      <th>transmission</th>\n      <th>ext_col</th>\n      <th>horsepower</th>\n      <th>engine_volume</th>\n      <th>num_of_cylinders</th>\n      <th>age</th>\n    </tr>\n  </thead>\n  <tbody>\n    <tr>\n      <th>0</th>\n      <td>43878.016178</td>\n      <td>43878.016178</td>\n      <td>213000</td>\n      <td>43878.016178</td>\n      <td>43878.016178</td>\n      <td>43878.016178</td>\n      <td>43878.016178</td>\n      <td>172.0</td>\n      <td>1.6</td>\n      <td>4.0</td>\n      <td>17</td>\n    </tr>\n    <tr>\n      <th>1</th>\n      <td>43878.016178</td>\n      <td>43878.016178</td>\n      <td>143250</td>\n      <td>24039.008089</td>\n      <td>43878.016178</td>\n      <td>24039.008089</td>\n      <td>43878.016178</td>\n      <td>252.0</td>\n      <td>3.9</td>\n      <td>8.0</td>\n      <td>22</td>\n    </tr>\n    <tr>\n      <th>2</th>\n      <td>43878.016178</td>\n      <td>43878.016178</td>\n      <td>136731</td>\n      <td>43878.016178</td>\n      <td>43878.016178</td>\n      <td>17692.338726</td>\n      <td>43878.016178</td>\n      <td>320.0</td>\n      <td>5.3</td>\n      <td>8.0</td>\n      <td>22</td>\n    </tr>\n    <tr>\n      <th>3</th>\n      <td>43878.016178</td>\n      <td>43878.016178</td>\n      <td>19500</td>\n      <td>17692.338726</td>\n      <td>43878.016178</td>\n      <td>43878.016178</td>\n      <td>43878.016178</td>\n      <td>420.0</td>\n      <td>5.0</td>\n      <td>8.0</td>\n      <td>7</td>\n    </tr>\n    <tr>\n      <th>4</th>\n      <td>43878.016178</td>\n      <td>43878.016178</td>\n      <td>7388</td>\n      <td>24519.254044</td>\n      <td>43878.016178</td>\n      <td>16744.254044</td>\n      <td>44439.008089</td>\n      <td>208.0</td>\n      <td>2.0</td>\n      <td>4.0</td>\n      <td>3</td>\n    </tr>\n  </tbody>\n</table>\n</div>"
          },
          "metadata": {}
        }
      ]
    },
    {
      "cell_type": "code",
      "source": [
        "# #for test split 0.3 is the best !!!\n",
        "from sklearn.model_selection import train_test_split\n",
        "from sklearn.preprocessing import QuantileTransformer\n",
        "from sklearn.preprocessing import Normalizer\n",
        "from catboost import CatBoostRegressor\n",
        "\n",
        "\n",
        "clf_catboost = CatBoostRegressor(iterations=275,\n",
        "                                  learning_rate=0.03,\n",
        "                                  depth=7,\n",
        "                                 l2_leaf_reg=3,\n",
        "                                border_count=254,\n",
        "                                 verbose=0)  # verbose=0 to suppress output during cross-validation\n",
        "\n",
        "\n",
        "# Define k-fold cross-validation\n",
        "n_splits = 5  # number of folds\n",
        "kf = KFold(n_splits=n_splits, shuffle=True, random_state=42)\n",
        "\n",
        "# Perform cross-validation and evaluate RMSE\n",
        "rmse_scores = -cross_val_score(clf_catboost, X_encoded, y, scoring='neg_root_mean_squared_error', cv=kf)\n",
        "\n",
        "# Calculate mean and standard deviation of RMSE\n",
        "mean_rmse = np.mean(rmse_scores)\n",
        "std_rmse = np.std(rmse_scores)\n",
        "\n",
        "print(f\"Mean RMSE: {mean_rmse:.4f}\")\n",
        "print(f\"Standard Deviation of RMSE: {std_rmse:.4f}\")\n",
        "\n",
        "clf_catboost.fit(X_encoded, y)\n",
        "#72823 = 700iter\n",
        "#72718 = 300iter"
      ],
      "metadata": {
        "execution": {
          "iopub.status.busy": "2024-09-18T14:50:36.222734Z",
          "iopub.execute_input": "2024-09-18T14:50:36.223203Z",
          "iopub.status.idle": "2024-09-18T14:51:08.932471Z",
          "shell.execute_reply.started": "2024-09-18T14:50:36.223166Z",
          "shell.execute_reply": "2024-09-18T14:51:08.931195Z"
        },
        "trusted": true,
        "id": "tdGBcV9PvAtr",
        "outputId": "91e74b94-9e29-40f0-eb24-084346b48bed"
      },
      "execution_count": null,
      "outputs": [
        {
          "name": "stdout",
          "text": "Mean RMSE: 72732.9452\nStandard Deviation of RMSE: 3702.1568\n",
          "output_type": "stream"
        },
        {
          "execution_count": 87,
          "output_type": "execute_result",
          "data": {
            "text/plain": "<catboost.core.CatBoostRegressor at 0x7e4bd041c0a0>"
          },
          "metadata": {}
        }
      ]
    },
    {
      "cell_type": "code",
      "source": [
        "# test_id = pd.read_csv('/kaggle/input/playground-series-s4e9/sample_submission.csv')\n",
        "# predictions = clf_catboost.predict(test_X_encoded)\n",
        "# test_id['price'] = inv_boxcox(predictions, price_lambda)\n",
        "# test_id.to_csv('submission_FE_catboost_1_2.csv', index=False)"
      ],
      "metadata": {
        "id": "r0DrH-G-vAtr"
      },
      "execution_count": null,
      "outputs": []
    },
    {
      "cell_type": "code",
      "source": [
        "feature_importance = clf_catboost.get_feature_importance()\n",
        "feature_names = X_encoded.columns  # Assuming X_encoded is a pandas DataFrame\n",
        "\n",
        "# Create a DataFrame for easy viewing\n",
        "importances_df = pd.DataFrame({\n",
        "    'Feature': feature_names,\n",
        "    'Importance': feature_importance\n",
        "}).sort_values(by='Importance', ascending=False)\n",
        "\n",
        "print(importances_df)\n",
        "\n",
        "# Plot feature importance\n",
        "plt.figure(figsize=(10, 6))\n",
        "plt.barh(importances_df['Feature'], importances_df['Importance'])\n",
        "plt.xlabel(\"Importance\")\n",
        "plt.title(\"CatBoost Feature Importance\")\n",
        "plt.gca().invert_yaxis()  # To display the most important feature at the top\n",
        "plt.show()"
      ],
      "metadata": {
        "execution": {
          "iopub.status.busy": "2024-09-18T14:48:09.672047Z",
          "iopub.execute_input": "2024-09-18T14:48:09.672878Z",
          "iopub.status.idle": "2024-09-18T14:48:09.991715Z",
          "shell.execute_reply.started": "2024-09-18T14:48:09.672832Z",
          "shell.execute_reply": "2024-09-18T14:48:09.99044Z"
        },
        "trusted": true,
        "id": "NA-IKPHevAtr",
        "outputId": "8abb8267-c096-4826-e7e0-1566e0b17bd5"
      },
      "execution_count": null,
      "outputs": [
        {
          "name": "stdout",
          "text": "             Feature  Importance\n2             milage   25.534833\n4             engine   16.357870\n10               age   12.074116\n1              model    8.094135\n0              brand    6.903874\n6            ext_col    5.901900\n7         horsepower    5.817966\n9   num_of_cylinders    5.657945\n3          fuel_type    5.214779\n5       transmission    4.282916\n8      engine_volume    4.159666\n",
          "output_type": "stream"
        },
        {
          "output_type": "display_data",
          "data": {
            "text/plain": "<Figure size 1000x600 with 1 Axes>",
            "image/png": "[encoded data removed]"
          },
          "metadata": {}
        }
      ]
    },
    {
      "cell_type": "code",
      "source": [
        "test_df = test_df.drop(['price'], axis=1)"
      ],
      "metadata": {
        "execution": {
          "iopub.status.busy": "2024-09-18T14:41:47.60866Z",
          "iopub.execute_input": "2024-09-18T14:41:47.609076Z",
          "iopub.status.idle": "2024-09-18T14:41:47.630282Z",
          "shell.execute_reply.started": "2024-09-18T14:41:47.609036Z",
          "shell.execute_reply": "2024-09-18T14:41:47.629046Z"
        },
        "trusted": true,
        "id": "qJR6pwbEvAts"
      },
      "execution_count": null,
      "outputs": []
    },
    {
      "cell_type": "code",
      "source": [
        "test_df.head()"
      ],
      "metadata": {
        "execution": {
          "iopub.status.busy": "2024-09-18T14:55:09.231022Z",
          "iopub.execute_input": "2024-09-18T14:55:09.232144Z",
          "iopub.status.idle": "2024-09-18T14:55:09.25618Z",
          "shell.execute_reply.started": "2024-09-18T14:55:09.232086Z",
          "shell.execute_reply": "2024-09-18T14:55:09.254755Z"
        },
        "trusted": true,
        "id": "9whfKxoOvAts",
        "outputId": "2aedd816-11c4-4d00-f7b6-481efc3fd712"
      },
      "execution_count": null,
      "outputs": [
        {
          "execution_count": 89,
          "output_type": "execute_result",
          "data": {
            "text/plain": "       brand                 model  milage fuel_type  \\\n188533  Land        Rover LR2 Base   98000  Gasoline   \n188534  Land     Rover Defender SE    9142    Hybrid   \n188535  Ford    Expedition Limited   28121  Gasoline   \n188536  Audi         A6 2.0T Sport   61258  Gasoline   \n188537  Audi  A6 2.0T Premium Plus   59000  Gasoline   \n\n                                                   engine transmission  \\\n188533       240.0HP 2.0L 4 Cylinder Engine Gasoline Fuel            A   \n188534  395.0HP 3.0L Straight 6 Cylinder Engine Gasoli...            A   \n188535                    3.5L V6 24V PDI DOHC Twin Turbo            A   \n188536                                     2.0 Liter TFSI            A   \n188537       252.0HP 2.0L 4 Cylinder Engine Gasoline Fuel            A   \n\n                ext_col int_col       accident  premium_auto  horsepower  \\\n188533            White   Beige  None reported             0       240.0   \n188534           Silver   Black  None reported             0       395.0   \n188535            White   Ebony  None reported             0         0.0   \n188536  Silician Yellow   Black  None reported             1         0.0   \n188537             Gray   Black  None reported             1       252.0   \n\n        engine_volume  num_of_cylinders  age  \n188533            2.0               4.0    9  \n188534            3.0               6.0    4  \n188535            3.5               6.0    2  \n188536            2.0               0.0    8  \n188537            2.0               4.0    6  ",
            "text/html": "<div>\n<style scoped>\n    .dataframe tbody tr th:only-of-type {\n        vertical-align: middle;\n    }\n\n    .dataframe tbody tr th {\n        vertical-align: top;\n    }\n\n    .dataframe thead th {\n        text-align: right;\n    }\n</style>\n<table border=\"1\" class=\"dataframe\">\n  <thead>\n    <tr style=\"text-align: right;\">\n      <th></th>\n      <th>brand</th>\n      <th>model</th>\n      <th>milage</th>\n      <th>fuel_type</th>\n      <th>engine</th>\n      <th>transmission</th>\n      <th>ext_col</th>\n      <th>int_col</th>\n      <th>accident</th>\n      <th>premium_auto</th>\n      <th>horsepower</th>\n      <th>engine_volume</th>\n      <th>num_of_cylinders</th>\n      <th>age</th>\n    </tr>\n  </thead>\n  <tbody>\n    <tr>\n      <th>188533</th>\n      <td>Land</td>\n      <td>Rover LR2 Base</td>\n      <td>98000</td>\n      <td>Gasoline</td>\n      <td>240.0HP 2.0L 4 Cylinder Engine Gasoline Fuel</td>\n      <td>A</td>\n      <td>White</td>\n      <td>Beige</td>\n      <td>None reported</td>\n      <td>0</td>\n      <td>240.0</td>\n      <td>2.0</td>\n      <td>4.0</td>\n      <td>9</td>\n    </tr>\n    <tr>\n      <th>188534</th>\n      <td>Land</td>\n      <td>Rover Defender SE</td>\n      <td>9142</td>\n      <td>Hybrid</td>\n      <td>395.0HP 3.0L Straight 6 Cylinder Engine Gasoli...</td>\n      <td>A</td>\n      <td>Silver</td>\n      <td>Black</td>\n      <td>None reported</td>\n      <td>0</td>\n      <td>395.0</td>\n      <td>3.0</td>\n      <td>6.0</td>\n      <td>4</td>\n    </tr>\n    <tr>\n      <th>188535</th>\n      <td>Ford</td>\n      <td>Expedition Limited</td>\n      <td>28121</td>\n      <td>Gasoline</td>\n      <td>3.5L V6 24V PDI DOHC Twin Turbo</td>\n      <td>A</td>\n      <td>White</td>\n      <td>Ebony</td>\n      <td>None reported</td>\n      <td>0</td>\n      <td>0.0</td>\n      <td>3.5</td>\n      <td>6.0</td>\n      <td>2</td>\n    </tr>\n    <tr>\n      <th>188536</th>\n      <td>Audi</td>\n      <td>A6 2.0T Sport</td>\n      <td>61258</td>\n      <td>Gasoline</td>\n      <td>2.0 Liter TFSI</td>\n      <td>A</td>\n      <td>Silician Yellow</td>\n      <td>Black</td>\n      <td>None reported</td>\n      <td>1</td>\n      <td>0.0</td>\n      <td>2.0</td>\n      <td>0.0</td>\n      <td>8</td>\n    </tr>\n    <tr>\n      <th>188537</th>\n      <td>Audi</td>\n      <td>A6 2.0T Premium Plus</td>\n      <td>59000</td>\n      <td>Gasoline</td>\n      <td>252.0HP 2.0L 4 Cylinder Engine Gasoline Fuel</td>\n      <td>A</td>\n      <td>Gray</td>\n      <td>Black</td>\n      <td>None reported</td>\n      <td>1</td>\n      <td>252.0</td>\n      <td>2.0</td>\n      <td>4.0</td>\n      <td>6</td>\n    </tr>\n  </tbody>\n</table>\n</div>"
          },
          "metadata": {}
        }
      ]
    },
    {
      "cell_type": "code",
      "source": [
        "test_X_encoded = cbe_encoder.transform(test_df)"
      ],
      "metadata": {
        "execution": {
          "iopub.status.busy": "2024-09-18T14:55:13.406045Z",
          "iopub.execute_input": "2024-09-18T14:55:13.406493Z",
          "iopub.status.idle": "2024-09-18T14:55:13.698Z",
          "shell.execute_reply.started": "2024-09-18T14:55:13.406455Z",
          "shell.execute_reply": "2024-09-18T14:55:13.696767Z"
        },
        "trusted": true,
        "id": "JBtm1H9IvAts"
      },
      "execution_count": null,
      "outputs": []
    },
    {
      "cell_type": "code",
      "source": [
        "\n",
        "test_X_encoded = test_X_encoded.drop(['int_col', 'accident', 'premium_auto'], axis=1)"
      ],
      "metadata": {
        "execution": {
          "iopub.status.busy": "2024-09-18T14:55:41.072879Z",
          "iopub.execute_input": "2024-09-18T14:55:41.073304Z",
          "iopub.status.idle": "2024-09-18T14:55:41.085473Z",
          "shell.execute_reply.started": "2024-09-18T14:55:41.073266Z",
          "shell.execute_reply": "2024-09-18T14:55:41.084014Z"
        },
        "trusted": true,
        "id": "459Y7hRnvAts"
      },
      "execution_count": null,
      "outputs": []
    },
    {
      "cell_type": "code",
      "source": [
        "test_X_encoded.head()"
      ],
      "metadata": {
        "execution": {
          "iopub.status.busy": "2024-09-18T14:55:47.595433Z",
          "iopub.execute_input": "2024-09-18T14:55:47.595998Z",
          "iopub.status.idle": "2024-09-18T14:55:47.620347Z",
          "shell.execute_reply.started": "2024-09-18T14:55:47.595945Z",
          "shell.execute_reply": "2024-09-18T14:55:47.619068Z"
        },
        "trusted": true,
        "id": "C-q8ZG9FvAts",
        "outputId": "dcf3cf6d-38a8-4a71-89cc-0071732d7988"
      },
      "execution_count": null,
      "outputs": [
        {
          "execution_count": 93,
          "output_type": "execute_result",
          "data": {
            "text/plain": "               brand         model  milage     fuel_type        engine  \\\n188533  53203.900904  20058.765023   98000  43362.451557  20188.320019   \n188534  53203.900904  74093.338315    9142  55477.453445  77381.065695   \n188535  40512.115294  50409.071842   28121  43362.451557  56136.368430   \n188536  41005.120868  28170.680579   61258  43362.451557  47609.679241   \n188537  41005.120868  24805.152611   59000  43362.451557  30609.074948   \n\n        transmission       ext_col  horsepower  engine_volume  \\\n188533  44305.288572  40803.612790       240.0            2.0   \n188534  44305.288572  31879.111321       395.0            3.0   \n188535  44305.288572  40803.612790         0.0            3.5   \n188536  44305.288572  87287.295069         0.0            2.0   \n188537  44305.288572  47908.807742       252.0            2.0   \n\n        num_of_cylinders  age  \n188533               4.0    9  \n188534               6.0    4  \n188535               6.0    2  \n188536               0.0    8  \n188537               4.0    6  ",
            "text/html": "<div>\n<style scoped>\n    .dataframe tbody tr th:only-of-type {\n        vertical-align: middle;\n    }\n\n    .dataframe tbody tr th {\n        vertical-align: top;\n    }\n\n    .dataframe thead th {\n        text-align: right;\n    }\n</style>\n<table border=\"1\" class=\"dataframe\">\n  <thead>\n    <tr style=\"text-align: right;\">\n      <th></th>\n      <th>brand</th>\n      <th>model</th>\n      <th>milage</th>\n      <th>fuel_type</th>\n      <th>engine</th>\n      <th>transmission</th>\n      <th>ext_col</th>\n      <th>horsepower</th>\n      <th>engine_volume</th>\n      <th>num_of_cylinders</th>\n      <th>age</th>\n    </tr>\n  </thead>\n  <tbody>\n    <tr>\n      <th>188533</th>\n      <td>53203.900904</td>\n      <td>20058.765023</td>\n      <td>98000</td>\n      <td>43362.451557</td>\n      <td>20188.320019</td>\n      <td>44305.288572</td>\n      <td>40803.612790</td>\n      <td>240.0</td>\n      <td>2.0</td>\n      <td>4.0</td>\n      <td>9</td>\n    </tr>\n    <tr>\n      <th>188534</th>\n      <td>53203.900904</td>\n      <td>74093.338315</td>\n      <td>9142</td>\n      <td>55477.453445</td>\n      <td>77381.065695</td>\n      <td>44305.288572</td>\n      <td>31879.111321</td>\n      <td>395.0</td>\n      <td>3.0</td>\n      <td>6.0</td>\n      <td>4</td>\n    </tr>\n    <tr>\n      <th>188535</th>\n      <td>40512.115294</td>\n      <td>50409.071842</td>\n      <td>28121</td>\n      <td>43362.451557</td>\n      <td>56136.368430</td>\n      <td>44305.288572</td>\n      <td>40803.612790</td>\n      <td>0.0</td>\n      <td>3.5</td>\n      <td>6.0</td>\n      <td>2</td>\n    </tr>\n    <tr>\n      <th>188536</th>\n      <td>41005.120868</td>\n      <td>28170.680579</td>\n      <td>61258</td>\n      <td>43362.451557</td>\n      <td>47609.679241</td>\n      <td>44305.288572</td>\n      <td>87287.295069</td>\n      <td>0.0</td>\n      <td>2.0</td>\n      <td>0.0</td>\n      <td>8</td>\n    </tr>\n    <tr>\n      <th>188537</th>\n      <td>41005.120868</td>\n      <td>24805.152611</td>\n      <td>59000</td>\n      <td>43362.451557</td>\n      <td>30609.074948</td>\n      <td>44305.288572</td>\n      <td>47908.807742</td>\n      <td>252.0</td>\n      <td>2.0</td>\n      <td>4.0</td>\n      <td>6</td>\n    </tr>\n  </tbody>\n</table>\n</div>"
          },
          "metadata": {}
        }
      ]
    },
    {
      "cell_type": "code",
      "source": [
        "test_id = pd.read_csv('/kaggle/input/playground-series-s4e9/sample_submission.csv')\n",
        "predictions = clf_catboost.predict(test_X_encoded)\n",
        "test_id['price'] = predictions\n",
        "test_id.to_csv('submission_cbe_drop_cols.csv', index=False)"
      ],
      "metadata": {
        "execution": {
          "iopub.status.busy": "2024-09-18T14:56:06.223124Z",
          "iopub.execute_input": "2024-09-18T14:56:06.224196Z",
          "iopub.status.idle": "2024-09-18T14:56:06.576982Z",
          "shell.execute_reply.started": "2024-09-18T14:56:06.224148Z",
          "shell.execute_reply": "2024-09-18T14:56:06.575835Z"
        },
        "trusted": true,
        "id": "PjVwdEJRvAts"
      },
      "execution_count": null,
      "outputs": []
    },
    {
      "cell_type": "code",
      "source": [
        "test_id"
      ],
      "metadata": {
        "execution": {
          "iopub.status.busy": "2024-09-18T14:56:09.376027Z",
          "iopub.execute_input": "2024-09-18T14:56:09.377311Z",
          "iopub.status.idle": "2024-09-18T14:56:09.39236Z",
          "shell.execute_reply.started": "2024-09-18T14:56:09.377251Z",
          "shell.execute_reply": "2024-09-18T14:56:09.39074Z"
        },
        "trusted": true,
        "id": "XLDSG6K3vAts",
        "outputId": "b7eb6727-78ad-492c-cf3d-066bbaab7d77"
      },
      "execution_count": null,
      "outputs": [
        {
          "execution_count": 95,
          "output_type": "execute_result",
          "data": {
            "text/plain": "            id         price\n0       188533  17135.234615\n1       188534  78757.109660\n2       188535  55664.969718\n3       188536  28527.087199\n4       188537  28027.303791\n...        ...           ...\n125685  314218  27330.264495\n125686  314219  51402.436438\n125687  314220  22523.723980\n125688  314221  16769.846178\n125689  314222  35785.905755\n\n[125690 rows x 2 columns]",
            "text/html": "<div>\n<style scoped>\n    .dataframe tbody tr th:only-of-type {\n        vertical-align: middle;\n    }\n\n    .dataframe tbody tr th {\n        vertical-align: top;\n    }\n\n    .dataframe thead th {\n        text-align: right;\n    }\n</style>\n<table border=\"1\" class=\"dataframe\">\n  <thead>\n    <tr style=\"text-align: right;\">\n      <th></th>\n      <th>id</th>\n      <th>price</th>\n    </tr>\n  </thead>\n  <tbody>\n    <tr>\n      <th>0</th>\n      <td>188533</td>\n      <td>17135.234615</td>\n    </tr>\n    <tr>\n      <th>1</th>\n      <td>188534</td>\n      <td>78757.109660</td>\n    </tr>\n    <tr>\n      <th>2</th>\n      <td>188535</td>\n      <td>55664.969718</td>\n    </tr>\n    <tr>\n      <th>3</th>\n      <td>188536</td>\n      <td>28527.087199</td>\n    </tr>\n    <tr>\n      <th>4</th>\n      <td>188537</td>\n      <td>28027.303791</td>\n    </tr>\n    <tr>\n      <th>...</th>\n      <td>...</td>\n      <td>...</td>\n    </tr>\n    <tr>\n      <th>125685</th>\n      <td>314218</td>\n      <td>27330.264495</td>\n    </tr>\n    <tr>\n      <th>125686</th>\n      <td>314219</td>\n      <td>51402.436438</td>\n    </tr>\n    <tr>\n      <th>125687</th>\n      <td>314220</td>\n      <td>22523.723980</td>\n    </tr>\n    <tr>\n      <th>125688</th>\n      <td>314221</td>\n      <td>16769.846178</td>\n    </tr>\n    <tr>\n      <th>125689</th>\n      <td>314222</td>\n      <td>35785.905755</td>\n    </tr>\n  </tbody>\n</table>\n<p>125690 rows × 2 columns</p>\n</div>"
          },
          "metadata": {}
        }
      ]
    },
    {
      "cell_type": "code",
      "source": [
        "y_hat = clf_catboost.predict(X_encoded)[:10]\n",
        "inv_boxcox(y_hat, price_lambda)"
      ],
      "metadata": {
        "execution": {
          "iopub.status.busy": "2024-09-16T13:04:27.539206Z",
          "iopub.execute_input": "2024-09-16T13:04:27.539639Z",
          "iopub.status.idle": "2024-09-16T13:04:27.59872Z",
          "shell.execute_reply.started": "2024-09-16T13:04:27.539581Z",
          "shell.execute_reply": "2024-09-16T13:04:27.597206Z"
        },
        "trusted": true,
        "id": "Gr5P3jpVvAtt"
      },
      "execution_count": null,
      "outputs": []
    },
    {
      "cell_type": "code",
      "source": [
        "train_df['price'].head(10)"
      ],
      "metadata": {
        "execution": {
          "iopub.status.busy": "2024-09-15T20:43:46.874161Z",
          "iopub.execute_input": "2024-09-15T20:43:46.874664Z",
          "iopub.status.idle": "2024-09-15T20:43:46.888078Z",
          "shell.execute_reply.started": "2024-09-15T20:43:46.874619Z",
          "shell.execute_reply": "2024-09-15T20:43:46.886801Z"
        },
        "trusted": true,
        "id": "uOoyhwQ0vAtt"
      },
      "execution_count": null,
      "outputs": []
    },
    {
      "cell_type": "code",
      "source": [
        "from xgboost import XGBRegressor\n",
        "from sklearn.model_selection import KFold, cross_val_score\n",
        "import numpy as np\n",
        "\n",
        "# Define the XGBoost regressor\n",
        "clf_xgboost = XGBRegressor(n_estimators=1500,\n",
        "                           learning_rate=0.01,\n",
        "                           max_depth=8,\n",
        "                           reg_alpha=3,\n",
        "                           n_jobs=-1,  # Use all available cores\n",
        "                           verbose=0)  # Suppress output during cross-validation\n",
        "\n",
        "# Define k-fold cross-validation\n",
        "n_splits = 5  # number of folds\n",
        "kf = KFold(n_splits=n_splits, shuffle=True, random_state=42)\n",
        "\n",
        "# Perform cross-validation and evaluate RMSE\n",
        "rmse_scores = -cross_val_score(clf_xgboost, X_encoded, y, scoring='neg_root_mean_squared_error', cv=kf)\n",
        "\n",
        "# Calculate mean and standard deviation of RMSE\n",
        "mean_rmse = np.mean(rmse_scores)\n",
        "std_rmse = np.std(rmse_scores)\n",
        "\n",
        "print(f\"Mean RMSE: {mean_rmse:.4f}\")\n",
        "print(f\"Standard Deviation of RMSE: {std_rmse:.4f}\")\n",
        "\n",
        "# Fit the model on the entire dataset\n",
        "clf_xgboost.fit(X_encoded, y)\n"
      ],
      "metadata": {
        "execution": {
          "iopub.status.busy": "2024-09-16T13:16:54.066996Z",
          "iopub.execute_input": "2024-09-16T13:16:54.067466Z",
          "iopub.status.idle": "2024-09-16T13:19:49.886707Z",
          "shell.execute_reply.started": "2024-09-16T13:16:54.067421Z",
          "shell.execute_reply": "2024-09-16T13:19:49.885559Z"
        },
        "trusted": true,
        "id": "D8qUJ1QlvAtt"
      },
      "execution_count": null,
      "outputs": []
    },
    {
      "cell_type": "code",
      "source": [
        "y_xgb = clf_xgboost.predict(X_encoded)\n",
        "inv_boxcox(y_xgb[:10], price_lambda)"
      ],
      "metadata": {
        "execution": {
          "iopub.status.busy": "2024-09-16T13:20:23.542247Z",
          "iopub.execute_input": "2024-09-16T13:20:23.542713Z",
          "iopub.status.idle": "2024-09-16T13:20:28.669752Z",
          "shell.execute_reply.started": "2024-09-16T13:20:23.542672Z",
          "shell.execute_reply": "2024-09-16T13:20:28.668759Z"
        },
        "trusted": true,
        "id": "CqgFQs_3vAtt"
      },
      "execution_count": null,
      "outputs": []
    },
    {
      "cell_type": "code",
      "source": [
        "train_df['price'].head(10)"
      ],
      "metadata": {
        "execution": {
          "iopub.status.busy": "2024-09-15T19:47:17.291402Z",
          "iopub.execute_input": "2024-09-15T19:47:17.291823Z",
          "iopub.status.idle": "2024-09-15T19:47:17.301453Z",
          "shell.execute_reply.started": "2024-09-15T19:47:17.291786Z",
          "shell.execute_reply": "2024-09-15T19:47:17.300309Z"
        },
        "trusted": true,
        "id": "JCi1cam-vAtt"
      },
      "execution_count": null,
      "outputs": []
    },
    {
      "cell_type": "code",
      "source": [
        "test_id = pd.read_csv('/kaggle/input/playground-series-s4e9/sample_submission.csv')\n",
        "predictions_xgb = clf_xgboost.predict(test_X_encoded)\n",
        "test_id['price'] = inv_boxcox(predictions_xgb, price_lambda)\n",
        "test_id.to_csv('submission_FE_xgb.csv', index=False)"
      ],
      "metadata": {
        "execution": {
          "iopub.status.busy": "2024-09-16T13:27:40.035327Z",
          "iopub.execute_input": "2024-09-16T13:27:40.035828Z",
          "iopub.status.idle": "2024-09-16T13:27:53.921975Z",
          "shell.execute_reply.started": "2024-09-16T13:27:40.035783Z",
          "shell.execute_reply": "2024-09-16T13:27:53.920699Z"
        },
        "trusted": true,
        "id": "g3p5IsZOvAtt"
      },
      "execution_count": null,
      "outputs": []
    },
    {
      "cell_type": "code",
      "source": [
        "test_id.head()"
      ],
      "metadata": {
        "execution": {
          "iopub.status.busy": "2024-09-16T13:28:16.412325Z",
          "iopub.execute_input": "2024-09-16T13:28:16.412902Z",
          "iopub.status.idle": "2024-09-16T13:28:16.425746Z",
          "shell.execute_reply.started": "2024-09-16T13:28:16.412856Z",
          "shell.execute_reply": "2024-09-16T13:28:16.424373Z"
        },
        "trusted": true,
        "id": "TdD6fXsJvAtu"
      },
      "execution_count": null,
      "outputs": []
    },
    {
      "cell_type": "code",
      "source": [
        "from sklearn.model_selection import train_test_split, KFold, cross_val_score\n",
        "from lightgbm import LGBMRegressor\n",
        "import numpy as np\n",
        "\n",
        "# Initialize the LGBMRegressor model\n",
        "clf_lightgbm = LGBMRegressor(n_estimators=1500,\n",
        "                             learning_rate=0.01,\n",
        "                             #max_depth=6,\n",
        "                             #reg_alpha=3,\n",
        "                             #num_leaves=31,\n",
        "                             verbose=-1)  # verbose=-1 to suppress output during cross-validation\n",
        "\n",
        "# Define k-fold cross-validation\n",
        "n_splits = 5  # number of folds\n",
        "kf = KFold(n_splits=n_splits, shuffle=True, random_state=42)\n",
        "\n",
        "# Perform cross-validation and evaluate RMSE\n",
        "rmse_scores = -cross_val_score(clf_lightgbm, X_encoded, y, scoring='neg_root_mean_squared_error', cv=kf)\n",
        "\n",
        "# Calculate mean and standard deviation of RMSE\n",
        "mean_rmse = np.mean(rmse_scores)\n",
        "std_rmse = np.std(rmse_scores)\n",
        "\n",
        "print(f\"Mean RMSE (LightGBM): {mean_rmse:.4f}\")\n",
        "print(f\"Standard Deviation of RMSE (LightGBM): {std_rmse:.4f}\")\n",
        "\n",
        "# Fit the LightGBM model to the training data\n",
        "clf_lightgbm.fit(X_encoded, y)\n"
      ],
      "metadata": {
        "execution": {
          "iopub.status.busy": "2024-09-16T13:20:56.797529Z",
          "iopub.execute_input": "2024-09-16T13:20:56.798011Z",
          "iopub.status.idle": "2024-09-16T13:24:51.503655Z",
          "shell.execute_reply.started": "2024-09-16T13:20:56.797969Z",
          "shell.execute_reply": "2024-09-16T13:24:51.502389Z"
        },
        "trusted": true,
        "id": "Q98HvyxGvAtu"
      },
      "execution_count": null,
      "outputs": []
    },
    {
      "cell_type": "code",
      "source": [
        "y_lgbm = clf_lightgbm.predict(X_encoded)\n",
        "inv_boxcox(y_lgbm[:10], price_lambda)"
      ],
      "metadata": {
        "execution": {
          "iopub.status.busy": "2024-09-16T13:25:31.669435Z",
          "iopub.execute_input": "2024-09-16T13:25:31.669925Z",
          "iopub.status.idle": "2024-09-16T13:25:56.880531Z",
          "shell.execute_reply.started": "2024-09-16T13:25:31.669881Z",
          "shell.execute_reply": "2024-09-16T13:25:56.879246Z"
        },
        "trusted": true,
        "id": "TSLBjW4MvAtu"
      },
      "execution_count": null,
      "outputs": []
    },
    {
      "cell_type": "code",
      "source": [
        "from sklearn.model_selection import train_test_split, KFold, cross_val_score\n",
        "from sklearn.preprocessing import LabelEncoder, StandardScaler\n",
        "from sklearn.neighbors import KNeighborsRegressor\n",
        "import numpy as np\n",
        "\n",
        "# Sample data preparation (replace with your actual data)\n",
        "# Assuming X_encoded is your feature matrix and y is your target variable\n",
        "\n",
        "# Example of applying Label Encoding\n",
        "# If you have categorical features, apply label encoding\n",
        "# label_encoder = LabelEncoder()\n",
        "# X_encoded['categorical_feature'] = label_encoder.fit_transform(X_encoded['categorical_feature'])\n",
        "\n",
        "# Apply Scaling to all features\n",
        "scaler = StandardScaler()\n",
        "X_scaled = scaler.fit_transform(X_encoded)\n",
        "\n",
        "# Initialize the KNeighborsRegressor model\n",
        "knn_regressor = KNeighborsRegressor(n_neighbors=5)\n",
        "\n",
        "# Define k-fold cross-validation\n",
        "n_splits = 5  # number of folds\n",
        "kf = KFold(n_splits=n_splits, shuffle=True, random_state=42)\n",
        "\n",
        "# Perform cross-validation and evaluate RMSE\n",
        "rmse_scores = -cross_val_score(knn_regressor, X_scaled, y, scoring='neg_root_mean_squared_error', cv=kf)\n",
        "\n",
        "# Calculate mean and standard deviation of RMSE\n",
        "mean_rmse = np.mean(rmse_scores)\n",
        "std_rmse = np.std(rmse_scores)\n",
        "\n",
        "print(f\"Mean RMSE (KNNRegressor): {mean_rmse:.4f}\")\n",
        "print(f\"Standard Deviation of RMSE (KNNRegressor): {std_rmse:.4f}\")\n",
        "\n",
        "# Fit the KNeighborsRegressor model to the training data\n",
        "knn_regressor.fit(X_scaled, y)\n"
      ],
      "metadata": {
        "execution": {
          "iopub.status.busy": "2024-09-16T13:30:20.634989Z",
          "iopub.execute_input": "2024-09-16T13:30:20.635462Z",
          "iopub.status.idle": "2024-09-16T13:33:59.646613Z",
          "shell.execute_reply.started": "2024-09-16T13:30:20.635421Z",
          "shell.execute_reply": "2024-09-16T13:33:59.645415Z"
        },
        "trusted": true,
        "id": "4TLgLAMHvAtu"
      },
      "execution_count": null,
      "outputs": []
    },
    {
      "cell_type": "code",
      "source": [
        "y_knn = knn_regressor.predict(X_scaled[:10])\n",
        "inv_boxcox(y_knn, price_lambda)"
      ],
      "metadata": {
        "execution": {
          "iopub.status.busy": "2024-09-16T13:37:53.661742Z",
          "iopub.execute_input": "2024-09-16T13:37:53.662223Z",
          "iopub.status.idle": "2024-09-16T13:37:53.691665Z",
          "shell.execute_reply.started": "2024-09-16T13:37:53.662177Z",
          "shell.execute_reply": "2024-09-16T13:37:53.690464Z"
        },
        "trusted": true,
        "id": "oFUtBzftvAtv"
      },
      "execution_count": null,
      "outputs": []
    },
    {
      "cell_type": "code",
      "source": [
        "from sklearn.model_selection import train_test_split, KFold, cross_val_score\n",
        "from sklearn.preprocessing import LabelEncoder, StandardScaler\n",
        "from sklearn.linear_model import LinearRegression\n",
        "import numpy as np\n",
        "\n",
        "# Sample data preparation (replace with your actual data)\n",
        "# Assuming X_encoded is your feature matrix and y is your target variable\n",
        "\n",
        "# Example of applying Label Encoding to categorical features\n",
        "# label_encoder = LabelEncoder()\n",
        "# X_encoded['categorical_feature'] = label_encoder.fit_transform(X_encoded['categorical_feature'])\n",
        "\n",
        "# Apply Scaling to all features\n",
        "scaler = StandardScaler()\n",
        "X_scaled = scaler.fit_transform(X_encoded)\n",
        "\n",
        "# Initialize the LinearRegression model\n",
        "linear_regressor = LinearRegression()\n",
        "\n",
        "# Define k-fold cross-validation\n",
        "n_splits = 5  # number of folds\n",
        "kf = KFold(n_splits=n_splits, shuffle=True, random_state=42)\n",
        "\n",
        "# Perform cross-validation and evaluate RMSE\n",
        "rmse_scores = -cross_val_score(linear_regressor, X_scaled, y, scoring='neg_root_mean_squared_error', cv=kf)\n",
        "\n",
        "# Calculate mean and standard deviation of RMSE\n",
        "mean_rmse = np.mean(rmse_scores)\n",
        "std_rmse = np.std(rmse_scores)\n",
        "\n",
        "print(f\"Mean RMSE (LinearRegression): {mean_rmse:.4f}\")\n",
        "print(f\"Standard Deviation of RMSE (LinearRegression): {std_rmse:.4f}\")\n",
        "\n",
        "# Fit the LinearRegression model to the training data\n",
        "linear_regressor.fit(X_scaled, y)\n"
      ],
      "metadata": {
        "execution": {
          "iopub.status.busy": "2024-09-16T13:38:30.843898Z",
          "iopub.execute_input": "2024-09-16T13:38:30.844382Z",
          "iopub.status.idle": "2024-09-16T13:38:32.419812Z",
          "shell.execute_reply.started": "2024-09-16T13:38:30.844336Z",
          "shell.execute_reply": "2024-09-16T13:38:32.418656Z"
        },
        "trusted": true,
        "id": "YtGhxN75vAtv"
      },
      "execution_count": null,
      "outputs": []
    },
    {
      "cell_type": "code",
      "source": [
        "y_lr = linear_regressor.predict(X_scaled[:10])\n",
        "inv_boxcox(y_lr, price_lambda)"
      ],
      "metadata": {
        "execution": {
          "iopub.status.busy": "2024-09-16T13:38:57.478966Z",
          "iopub.execute_input": "2024-09-16T13:38:57.480267Z",
          "iopub.status.idle": "2024-09-16T13:38:57.491964Z",
          "shell.execute_reply.started": "2024-09-16T13:38:57.480205Z",
          "shell.execute_reply": "2024-09-16T13:38:57.490537Z"
        },
        "trusted": true,
        "id": "EwI9fOgKvAtv"
      },
      "execution_count": null,
      "outputs": []
    },
    {
      "cell_type": "code",
      "source": [],
      "metadata": {
        "id": "ZLSgtviVvAtv"
      },
      "execution_count": null,
      "outputs": []
    },
    {
      "cell_type": "markdown",
      "source": [
        "# DONT TOCH THIS BELOW"
      ],
      "metadata": {
        "id": "2FAQpgGPvAtv"
      }
    },
    {
      "cell_type": "code",
      "source": [
        "# #for test split 0.3 is the best !!!\n",
        "from sklearn.model_selection import train_test_split\n",
        "from sklearn.preprocessing import QuantileTransformer\n",
        "from sklearn.preprocessing import Normalizer\n",
        "from catboost import CatBoostRegressor\n",
        "\n",
        "\n",
        "clf_catboost = CatBoostRegressor(iterations=700,\n",
        "                                 learning_rate=0.0311,\n",
        "                                 depth=6,\n",
        "                                 l2_leaf_reg=3,\n",
        "                                # border_count=100,\n",
        "                                 verbose=0)  # verbose=0 to suppress output during cross-validation\n",
        "\n",
        "\n",
        "# Define k-fold cross-validation\n",
        "n_splits = 5  # number of folds\n",
        "kf = KFold(n_splits=n_splits, shuffle=True, random_state=42)\n",
        "\n",
        "# Perform cross-validation and evaluate RMSE\n",
        "rmse_scores = -cross_val_score(clf_catboost, X, y, scoring='neg_root_mean_squared_error', cv=kf)\n",
        "\n",
        "# Calculate mean and standard deviation of RMSE\n",
        "mean_rmse = np.mean(rmse_scores)\n",
        "std_rmse = np.std(rmse_scores)\n",
        "\n",
        "print(f\"Mean RMSE: {mean_rmse:.4f}\")\n",
        "print(f\"Standard Deviation of RMSE: {std_rmse:.4f}\")\n",
        "\n",
        "clf_catboost.fit(X, y)"
      ],
      "metadata": {
        "execution": {
          "iopub.status.busy": "2024-09-12T13:07:02.654437Z",
          "iopub.execute_input": "2024-09-12T13:07:02.655526Z",
          "iopub.status.idle": "2024-09-12T13:07:03.241538Z",
          "shell.execute_reply.started": "2024-09-12T13:07:02.655467Z",
          "shell.execute_reply": "2024-09-12T13:07:03.239665Z"
        },
        "trusted": true,
        "id": "4McztCFhvAtx"
      },
      "execution_count": null,
      "outputs": []
    },
    {
      "cell_type": "code",
      "source": [
        "# test_df = test_df.drop('price', axis=1)"
      ],
      "metadata": {
        "trusted": true,
        "id": "njfnGjXCvAtx"
      },
      "execution_count": null,
      "outputs": []
    },
    {
      "cell_type": "code",
      "source": [
        "test.head()"
      ],
      "metadata": {
        "execution": {
          "iopub.status.busy": "2024-09-12T18:58:31.547834Z",
          "iopub.execute_input": "2024-09-12T18:58:31.548369Z",
          "iopub.status.idle": "2024-09-12T18:58:31.567543Z",
          "shell.execute_reply.started": "2024-09-12T18:58:31.548324Z",
          "shell.execute_reply": "2024-09-12T18:58:31.566284Z"
        },
        "trusted": true,
        "id": "fOEUZZHevAtx"
      },
      "execution_count": null,
      "outputs": []
    },
    {
      "cell_type": "code",
      "source": [
        "test_dataset = pd.read_csv('/kaggle/input/playground-series-s4e9/test.csv')"
      ],
      "metadata": {
        "execution": {
          "iopub.status.busy": "2024-09-12T19:07:02.040183Z",
          "iopub.execute_input": "2024-09-12T19:07:02.041054Z",
          "iopub.status.idle": "2024-09-12T19:07:02.481441Z",
          "shell.execute_reply.started": "2024-09-12T19:07:02.041004Z",
          "shell.execute_reply": "2024-09-12T19:07:02.479216Z"
        },
        "trusted": true,
        "id": "9BC-UI-kvAtx"
      },
      "execution_count": null,
      "outputs": []
    },
    {
      "cell_type": "code",
      "source": [
        "(100* (test_dataset.isna().sum())/len(test_dataset)).sort_values(ascending=False)"
      ],
      "metadata": {
        "execution": {
          "iopub.status.busy": "2024-09-12T19:07:04.7157Z",
          "iopub.execute_input": "2024-09-12T19:07:04.716161Z",
          "iopub.status.idle": "2024-09-12T19:07:04.849576Z",
          "shell.execute_reply.started": "2024-09-12T19:07:04.716117Z",
          "shell.execute_reply": "2024-09-12T19:07:04.847978Z"
        },
        "trusted": true,
        "id": "vLBcXT2MvAty"
      },
      "execution_count": null,
      "outputs": []
    },
    {
      "cell_type": "code",
      "source": [
        "test_dataset = test_dataset.drop('clean_title', axis=1)"
      ],
      "metadata": {
        "execution": {
          "iopub.status.busy": "2024-09-12T19:07:07.324366Z",
          "iopub.execute_input": "2024-09-12T19:07:07.325485Z",
          "iopub.status.idle": "2024-09-12T19:07:07.346407Z",
          "shell.execute_reply.started": "2024-09-12T19:07:07.325433Z",
          "shell.execute_reply": "2024-09-12T19:07:07.34466Z"
        },
        "trusted": true,
        "id": "peVszaClvAty"
      },
      "execution_count": null,
      "outputs": []
    },
    {
      "cell_type": "code",
      "source": [
        "missing_columns = ['fuel_type', 'accident']"
      ],
      "metadata": {
        "execution": {
          "iopub.status.busy": "2024-09-12T19:07:09.206667Z",
          "iopub.execute_input": "2024-09-12T19:07:09.207159Z",
          "iopub.status.idle": "2024-09-12T19:07:09.213042Z",
          "shell.execute_reply.started": "2024-09-12T19:07:09.207113Z",
          "shell.execute_reply": "2024-09-12T19:07:09.211714Z"
        },
        "trusted": true,
        "id": "U6ZhuIFRvAty"
      },
      "execution_count": null,
      "outputs": []
    },
    {
      "cell_type": "code",
      "source": [
        "for col in missing_columns:\n",
        "    test_dataset.loc[:, col] = test_dataset.loc[:, col].fillna(test_dataset.loc[:, col].mode()[0])"
      ],
      "metadata": {
        "execution": {
          "iopub.status.busy": "2024-09-12T19:07:11.001829Z",
          "iopub.execute_input": "2024-09-12T19:07:11.002302Z",
          "iopub.status.idle": "2024-09-12T19:07:11.090714Z",
          "shell.execute_reply.started": "2024-09-12T19:07:11.002259Z",
          "shell.execute_reply": "2024-09-12T19:07:11.089302Z"
        },
        "trusted": true,
        "id": "sFPg_DiKvAty"
      },
      "execution_count": null,
      "outputs": []
    },
    {
      "cell_type": "code",
      "source": [
        "encoder=LabelEncoder()\n",
        "test_dataset['brand']=encoder.fit_transform(test_dataset['brand'])\n",
        "test_dataset['model']=encoder.fit_transform(test_dataset['model'])\n",
        "#df['fuel_type']=encoder.fit_transform(df['fuel_type'])\n",
        "test_dataset['engine']=encoder.fit_transform(test_dataset['engine'])\n",
        "test_dataset['transmission']=encoder.fit_transform(test_dataset['transmission'])\n",
        "test_dataset['ext_col']=encoder.fit_transform(test_dataset['ext_col'])\n",
        "test_dataset['int_col']=encoder.fit_transform(test_dataset['int_col'])\n",
        "test_dataset['accident']=encoder.fit_transform(test_dataset['accident'])"
      ],
      "metadata": {
        "execution": {
          "iopub.status.busy": "2024-09-12T19:07:12.591609Z",
          "iopub.execute_input": "2024-09-12T19:07:12.59211Z",
          "iopub.status.idle": "2024-09-12T19:07:12.900431Z",
          "shell.execute_reply.started": "2024-09-12T19:07:12.592063Z",
          "shell.execute_reply": "2024-09-12T19:07:12.898859Z"
        },
        "trusted": true,
        "id": "AMfHCOlzvAty"
      },
      "execution_count": null,
      "outputs": []
    },
    {
      "cell_type": "code",
      "source": [
        "test_dataset = pd.get_dummies(test_dataset, dtype='int')"
      ],
      "metadata": {
        "execution": {
          "iopub.status.busy": "2024-09-12T19:07:15.973989Z",
          "iopub.execute_input": "2024-09-12T19:07:15.974474Z",
          "iopub.status.idle": "2024-09-12T19:07:16.020012Z",
          "shell.execute_reply.started": "2024-09-12T19:07:15.974428Z",
          "shell.execute_reply": "2024-09-12T19:07:16.018624Z"
        },
        "trusted": true,
        "id": "bWs5kbtfvAty"
      },
      "execution_count": null,
      "outputs": []
    },
    {
      "cell_type": "code",
      "source": [
        "test_dataset.head()"
      ],
      "metadata": {
        "execution": {
          "iopub.status.busy": "2024-09-12T19:07:18.876826Z",
          "iopub.execute_input": "2024-09-12T19:07:18.877308Z",
          "iopub.status.idle": "2024-09-12T19:07:18.89601Z",
          "shell.execute_reply.started": "2024-09-12T19:07:18.877262Z",
          "shell.execute_reply": "2024-09-12T19:07:18.894806Z"
        },
        "trusted": true,
        "id": "8UDCMBiVvAty"
      },
      "execution_count": null,
      "outputs": []
    },
    {
      "cell_type": "code",
      "source": [
        "test_id = test_dataset['id']"
      ],
      "metadata": {
        "execution": {
          "iopub.status.busy": "2024-09-12T19:07:34.636105Z",
          "iopub.execute_input": "2024-09-12T19:07:34.637012Z",
          "iopub.status.idle": "2024-09-12T19:07:34.64274Z",
          "shell.execute_reply.started": "2024-09-12T19:07:34.636959Z",
          "shell.execute_reply": "2024-09-12T19:07:34.641056Z"
        },
        "trusted": true,
        "id": "xyMcDDwZvAtz"
      },
      "execution_count": null,
      "outputs": []
    },
    {
      "cell_type": "code",
      "source": [
        "test_dataset = test_dataset.drop('id', axis=1)"
      ],
      "metadata": {
        "execution": {
          "iopub.status.busy": "2024-09-12T19:07:37.407925Z",
          "iopub.execute_input": "2024-09-12T19:07:37.408455Z",
          "iopub.status.idle": "2024-09-12T19:07:37.417886Z",
          "shell.execute_reply.started": "2024-09-12T19:07:37.408406Z",
          "shell.execute_reply": "2024-09-12T19:07:37.416573Z"
        },
        "trusted": true,
        "id": "LAc4nA-rvAtz"
      },
      "execution_count": null,
      "outputs": []
    },
    {
      "cell_type": "code",
      "source": [
        "# submit = pd.read_csv(\"/kaggle/input/playground-series-s4e9/sample_submission.csv\")\n",
        "# pred = clf_catboost.predict(test_df)\n",
        "# submit[\"price\"] = pred\n",
        "# submit.to_csv(\"submission.csv\", index=False)\n",
        "# submit.head()"
      ],
      "metadata": {
        "execution": {
          "iopub.status.busy": "2024-09-12T12:27:46.961638Z",
          "iopub.execute_input": "2024-09-12T12:27:46.962096Z",
          "iopub.status.idle": "2024-09-12T12:27:47.468857Z",
          "shell.execute_reply.started": "2024-09-12T12:27:46.962048Z",
          "shell.execute_reply": "2024-09-12T12:27:47.467797Z"
        },
        "trusted": true,
        "id": "y508arz1vAtz"
      },
      "execution_count": null,
      "outputs": []
    },
    {
      "cell_type": "code",
      "source": [
        "#test_id = test_dataset['id']\n",
        "test_predictions_catboost = clf_catboost.predict(test_dataset)\n",
        "print(test_predictions_catboost[:10])\n",
        "# Prepare submission\n",
        "test_predictions_catboost_df = pd.DataFrame(test_predictions_catboost, columns=['price'])\n",
        "submit_df = pd.concat([test_id, test_predictions_catboost_df], axis=1)\n",
        "submit_df.to_csv('submission_1.csv', index=False)"
      ],
      "metadata": {
        "execution": {
          "iopub.status.busy": "2024-09-12T19:09:10.22556Z",
          "iopub.execute_input": "2024-09-12T19:09:10.226079Z",
          "iopub.status.idle": "2024-09-12T19:09:10.768777Z",
          "shell.execute_reply.started": "2024-09-12T19:09:10.226036Z",
          "shell.execute_reply": "2024-09-12T19:09:10.767098Z"
        },
        "trusted": true,
        "id": "hzRM1fRSvAtz"
      },
      "execution_count": null,
      "outputs": []
    },
    {
      "cell_type": "code",
      "source": [
        "submit_df.head()"
      ],
      "metadata": {
        "execution": {
          "iopub.status.busy": "2024-09-12T19:09:19.178065Z",
          "iopub.execute_input": "2024-09-12T19:09:19.178621Z",
          "iopub.status.idle": "2024-09-12T19:09:19.195363Z",
          "shell.execute_reply.started": "2024-09-12T19:09:19.178571Z",
          "shell.execute_reply": "2024-09-12T19:09:19.193871Z"
        },
        "trusted": true,
        "id": "XbsJ-nB0vAtz"
      },
      "execution_count": null,
      "outputs": []
    },
    {
      "cell_type": "code",
      "source": [
        "train_predictions_catboost = clf_catboost.predict(X.iloc[:10, :])\n",
        "train_predictions_catboost"
      ],
      "metadata": {
        "execution": {
          "iopub.status.busy": "2024-09-12T19:09:40.441899Z",
          "iopub.execute_input": "2024-09-12T19:09:40.442382Z",
          "iopub.status.idle": "2024-09-12T19:09:40.456813Z",
          "shell.execute_reply.started": "2024-09-12T19:09:40.44234Z",
          "shell.execute_reply": "2024-09-12T19:09:40.455403Z"
        },
        "trusted": true,
        "id": "LiXBw8jkvAtz"
      },
      "execution_count": null,
      "outputs": []
    },
    {
      "cell_type": "code",
      "source": [
        "# train.head()"
      ],
      "metadata": {
        "execution": {
          "iopub.status.busy": "2024-09-12T10:13:44.21662Z",
          "iopub.execute_input": "2024-09-12T10:13:44.217806Z",
          "iopub.status.idle": "2024-09-12T10:13:44.240211Z",
          "shell.execute_reply.started": "2024-09-12T10:13:44.217718Z",
          "shell.execute_reply": "2024-09-12T10:13:44.238844Z"
        },
        "trusted": true,
        "id": "A5JkZF_vvAtz"
      },
      "execution_count": null,
      "outputs": []
    },
    {
      "cell_type": "code",
      "source": [
        "sample = pd.read_csv('/kaggle/input/playground-series-s4e9/sample_submission.csv')\n",
        "sample.head()"
      ],
      "metadata": {
        "execution": {
          "iopub.status.busy": "2024-09-12T12:28:05.19372Z",
          "iopub.execute_input": "2024-09-12T12:28:05.194225Z",
          "iopub.status.idle": "2024-09-12T12:28:05.247926Z",
          "shell.execute_reply.started": "2024-09-12T12:28:05.194178Z",
          "shell.execute_reply": "2024-09-12T12:28:05.24675Z"
        },
        "trusted": true,
        "id": "G9VrTrBIvAtz"
      },
      "execution_count": null,
      "outputs": []
    }
  ]
}