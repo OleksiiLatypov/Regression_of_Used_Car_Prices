{
  "metadata": {
    "kernelspec": {
      "language": "python",
      "display_name": "Python 3",
      "name": "python3"
    },
    "language_info": {
      "name": "python",
      "version": "3.10.14",
      "mimetype": "text/x-python",
      "codemirror_mode": {
        "name": "ipython",
        "version": 3
      },
      "pygments_lexer": "ipython3",
      "nbconvert_exporter": "python",
      "file_extension": ".py"
    },
    "kaggle": {
      "accelerator": "none",
      "dataSources": [
        {
          "sourceId": 76728,
          "databundleVersionId": 9057646,
          "sourceType": "competition"
        },
        {
          "sourceId": 9430129,
          "sourceType": "datasetVersion",
          "datasetId": 5729009
        }
      ],
      "dockerImageVersionId": 30761,
      "isInternetEnabled": true,
      "language": "python",
      "sourceType": "notebook",
      "isGpuEnabled": false
    },
    "colab": {
      "name": "used_car_price_2",
      "provenance": [],
      "include_colab_link": true
    }
  },
  "nbformat_minor": 0,
  "nbformat": 4,
  "cells": [
    {
      "cell_type": "markdown",
      "metadata": {
        "id": "view-in-github",
        "colab_type": "text"
      },
      "source": [
        "<a href=\"https://colab.research.google.com/github/OleksiiLatypov/Regression_of_Used_Car_Prices/blob/main/Regression_used_car_price.ipynb\" target=\"_parent\"><img src=\"https://colab.research.google.com/assets/colab-badge.svg\" alt=\"Open In Colab\"/></a>"
      ]
    },
    {
      "source": [
        "\n",
        "# IMPORTANT: RUN THIS CELL IN ORDER TO IMPORT YOUR KAGGLE DATA SOURCES\n",
        "# TO THE CORRECT LOCATION (/kaggle/input) IN YOUR NOTEBOOK,\n",
        "# THEN FEEL FREE TO DELETE THIS CELL.\n",
        "# NOTE: THIS NOTEBOOK ENVIRONMENT DIFFERS FROM KAGGLE'S PYTHON\n",
        "# ENVIRONMENT SO THERE MAY BE MISSING LIBRARIES USED BY YOUR\n",
        "# NOTEBOOK.\n",
        "\n",
        "import os\n",
        "import sys\n",
        "from tempfile import NamedTemporaryFile\n",
        "from urllib.request import urlopen\n",
        "from urllib.parse import unquote, urlparse\n",
        "from urllib.error import HTTPError\n",
        "from zipfile import ZipFile\n",
        "import tarfile\n",
        "import shutil\n",
        "\n",
        "CHUNK_SIZE = 40960\n",
        "DATA_SOURCE_MAPPING = 'playground-series-s4e9:https%3A%2F%2Fstorage.googleapis.com%2Fkaggle-competitions-data%2Fkaggle-v2%2F76728%2F9057646%2Fbundle%2Farchive.zip%3FX-Goog-Algorithm%3DGOOG4-RSA-SHA256%26X-Goog-Credential%3Dgcp-kaggle-com%2540kaggle-161607.iam.gserviceaccount.com%252F20240921%252Fauto%252Fstorage%252Fgoog4_request%26X-Goog-Date%3D20240921T195706Z%26X-Goog-Expires%3D259200%26X-Goog-SignedHeaders%3Dhost%26X-Goog-Signature%3D93b25bd6ef6420a79b6540ee1a393248463be21e05027cb8ae5cb189afb58e70c7753f117846be6d16bb557d5aace249239e2104e3cb9db7fed328d08bd4d85b4dff21ffa98e968815b1decaa9782603064d61b8ed48bbf3255750f3879685cda2c0ec3e379cd7960c8510877fa098a2b7e14e11b291463e5d29359a1fbb908ac623b9a92aa11a51a3d11cda5d373c4c6b8615112265cafb6337b56169e1bb46a206c101d657f7cced6f560a089f9dd2ce034841089d417dea7735b18e71685794dc27d4705e8622772335c0cd05cb13b2710f5da1e299324d82596e43b1cd9600c18a128a41a0feeeaa0ad2392371a88dff9340d3c788aa4c980ce78f0fe455,used-cars:https%3A%2F%2Fstorage.googleapis.com%2Fkaggle-data-sets%2F5729009%2F9430129%2Fbundle%2Farchive.zip%3FX-Goog-Algorithm%3DGOOG4-RSA-SHA256%26X-Goog-Credential%3Dgcp-kaggle-com%2540kaggle-161607.iam.gserviceaccount.com%252F20240921%252Fauto%252Fstorage%252Fgoog4_request%26X-Goog-Date%3D20240921T195706Z%26X-Goog-Expires%3D259200%26X-Goog-SignedHeaders%3Dhost%26X-Goog-Signature%3D8757d44d70178b0148d8fc54bad09eb7a1741f1a827a224b0f4ccb5c3a7c0852193e015ad2ebe1e963b5f7b2defaa4ba090a7f02d2e24c2f5fd00c68a7833cc6972031e948e37b4d3b1e952e05332dad27a17ec2819c652d8ff1025e57b56d1aeacdda3ccd17e1de73eb58f1f2966dd2c2c3f1ba73fc3cb761d65ab91785311ab3c57289820f87043e8247ba4c7286c9e95166494ca071b0b589e7229c207e7ec5837dd0133dc70479b8c025e1ab269d3a99864cea49cef859d2af470aaaa239b05a452eee999d13f73a8fc7b82a0f354699815263f01f0bb40eb6c4bf468b0b27e125c66816a290d3ae5cbeefbf139185851d5aa9e9ec49bebab4587b074fd7'\n",
        "\n",
        "KAGGLE_INPUT_PATH='/kaggle/input'\n",
        "KAGGLE_WORKING_PATH='/kaggle/working'\n",
        "KAGGLE_SYMLINK='kaggle'\n",
        "\n",
        "!umount /kaggle/input/ 2> /dev/null\n",
        "shutil.rmtree('/kaggle/input', ignore_errors=True)\n",
        "os.makedirs(KAGGLE_INPUT_PATH, 0o777, exist_ok=True)\n",
        "os.makedirs(KAGGLE_WORKING_PATH, 0o777, exist_ok=True)\n",
        "\n",
        "try:\n",
        "  os.symlink(KAGGLE_INPUT_PATH, os.path.join(\"..\", 'input'), target_is_directory=True)\n",
        "except FileExistsError:\n",
        "  pass\n",
        "try:\n",
        "  os.symlink(KAGGLE_WORKING_PATH, os.path.join(\"..\", 'working'), target_is_directory=True)\n",
        "except FileExistsError:\n",
        "  pass\n",
        "\n",
        "for data_source_mapping in DATA_SOURCE_MAPPING.split(','):\n",
        "    directory, download_url_encoded = data_source_mapping.split(':')\n",
        "    download_url = unquote(download_url_encoded)\n",
        "    filename = urlparse(download_url).path\n",
        "    destination_path = os.path.join(KAGGLE_INPUT_PATH, directory)\n",
        "    try:\n",
        "        with urlopen(download_url) as fileres, NamedTemporaryFile() as tfile:\n",
        "            total_length = fileres.headers['content-length']\n",
        "            print(f'Downloading {directory}, {total_length} bytes compressed')\n",
        "            dl = 0\n",
        "            data = fileres.read(CHUNK_SIZE)\n",
        "            while len(data) > 0:\n",
        "                dl += len(data)\n",
        "                tfile.write(data)\n",
        "                done = int(50 * dl / int(total_length))\n",
        "                sys.stdout.write(f\"\\r[{'=' * done}{' ' * (50-done)}] {dl} bytes downloaded\")\n",
        "                sys.stdout.flush()\n",
        "                data = fileres.read(CHUNK_SIZE)\n",
        "            if filename.endswith('.zip'):\n",
        "              with ZipFile(tfile) as zfile:\n",
        "                zfile.extractall(destination_path)\n",
        "            else:\n",
        "              with tarfile.open(tfile.name) as tarfile:\n",
        "                tarfile.extractall(destination_path)\n",
        "            print(f'\\nDownloaded and uncompressed: {directory}')\n",
        "    except HTTPError as e:\n",
        "        print(f'Failed to load (likely expired) {download_url} to path {destination_path}')\n",
        "        continue\n",
        "    except OSError as e:\n",
        "        print(f'Failed to load {download_url} to path {destination_path}')\n",
        "        continue\n",
        "\n",
        "print('Data source import complete.')\n"
      ],
      "metadata": {
        "id": "Zriyciw0KNfB"
      },
      "cell_type": "code",
      "outputs": [],
      "execution_count": null
    },
    {
      "cell_type": "code",
      "source": [
        "# This Python 3 environment comes with many helpful analytics libraries installed\n",
        "# It is defined by the kaggle/python Docker image: https://github.com/kaggle/docker-python\n",
        "# For example, here's several helpful packages to load\n",
        "\n",
        "import numpy as np # linear algebra\n",
        "import pandas as pd # data processing, CSV file I/O (e.g. pd.read_csv)\n",
        "import seaborn as sns\n",
        "from sklearn.model_selection import train_test_split, KFold, cross_val_score\n",
        "import matplotlib.pyplot as plt\n",
        "import re\n",
        "from scipy import stats\n",
        "from scipy.special import inv_boxcox\n",
        "from datetime import datetime\n",
        "# Input data files are available in the read-only \"../input/\" directory\n",
        "# For example, running this (by clicking run or pressing Shift+Enter) will list all files under the input directory\n",
        "from sklearn.preprocessing import MinMaxScaler, LabelEncoder, StandardScaler\n",
        "from sklearn.linear_model import Lasso, Ridge, SGDRegressor, LinearRegression\n",
        "import category_encoders as ce\n",
        "\n",
        "import os\n",
        "for dirname, _, filenames in os.walk('/kaggle/input'):\n",
        "    for filename in filenames:\n",
        "        print(os.path.join(dirname, filename))\n",
        "\n",
        "# You can write up to 20GB to the current directory (/kaggle/working/) that gets preserved as output when you create a version using \"Save & Run All\"\n",
        "# You can also write temporary files to /kaggle/temp/, but they won't be saved outside of the current session"
      ],
      "metadata": {
        "_uuid": "8f2839f25d086af736a60e9eeb907d3b93b6e0e5",
        "_cell_guid": "b1076dfc-b9ad-4769-8c92-a6c4dae69d19",
        "execution": {
          "iopub.status.busy": "2024-09-21T17:38:58.843218Z",
          "iopub.execute_input": "2024-09-21T17:38:58.843658Z",
          "iopub.status.idle": "2024-09-21T17:39:00.975195Z",
          "shell.execute_reply.started": "2024-09-21T17:38:58.843613Z",
          "shell.execute_reply": "2024-09-21T17:39:00.973599Z"
        },
        "trusted": true,
        "id": "BLBd3e8xKNfF",
        "outputId": "b64804dc-3c7a-46dc-a670-e85aed099c44"
      },
      "execution_count": null,
      "outputs": [
        {
          "name": "stdout",
          "text": "/kaggle/input/used-cars/used_cars.csv\n/kaggle/input/playground-series-s4e9/sample_submission.csv\n/kaggle/input/playground-series-s4e9/train.csv\n/kaggle/input/playground-series-s4e9/test.csv\n",
          "output_type": "stream"
        }
      ]
    },
    {
      "cell_type": "code",
      "source": [
        "train = pd.read_csv('/kaggle/input/playground-series-s4e9/train.csv')\n",
        "test = pd.read_csv('/kaggle/input/playground-series-s4e9/test.csv')\n",
        "original = pd.read_csv('/kaggle/input/used-cars/used_cars.csv')"
      ],
      "metadata": {
        "execution": {
          "iopub.status.busy": "2024-09-21T19:49:03.218354Z",
          "iopub.execute_input": "2024-09-21T19:49:03.21881Z",
          "iopub.status.idle": "2024-09-21T19:49:04.075475Z",
          "shell.execute_reply.started": "2024-09-21T19:49:03.218766Z",
          "shell.execute_reply": "2024-09-21T19:49:04.074254Z"
        },
        "trusted": true,
        "id": "DXjmayTjKNfG"
      },
      "execution_count": null,
      "outputs": []
    },
    {
      "cell_type": "markdown",
      "source": [
        "**Drop id column**"
      ],
      "metadata": {
        "id": "6z1_-0kGKNfG"
      }
    },
    {
      "cell_type": "code",
      "source": [
        "train = train.drop('id', axis=1)\n",
        "test = test.drop('id', axis=1)"
      ],
      "metadata": {
        "execution": {
          "iopub.status.busy": "2024-09-21T19:49:09.225373Z",
          "iopub.execute_input": "2024-09-21T19:49:09.22591Z",
          "iopub.status.idle": "2024-09-21T19:49:09.269943Z",
          "shell.execute_reply.started": "2024-09-21T19:49:09.225783Z",
          "shell.execute_reply": "2024-09-21T19:49:09.268874Z"
        },
        "trusted": true,
        "id": "couCz8fyKNfH"
      },
      "execution_count": null,
      "outputs": []
    },
    {
      "cell_type": "code",
      "source": [
        "train.shape"
      ],
      "metadata": {
        "execution": {
          "iopub.status.busy": "2024-09-21T19:49:11.567409Z",
          "iopub.execute_input": "2024-09-21T19:49:11.567873Z",
          "iopub.status.idle": "2024-09-21T19:49:11.57525Z",
          "shell.execute_reply.started": "2024-09-21T19:49:11.567828Z",
          "shell.execute_reply": "2024-09-21T19:49:11.573913Z"
        },
        "trusted": true,
        "id": "AixZRAtVKNfH",
        "outputId": "73df8355-6ceb-44c0-f002-2fb567ab0936"
      },
      "execution_count": null,
      "outputs": [
        {
          "execution_count": 398,
          "output_type": "execute_result",
          "data": {
            "text/plain": "(188533, 12)"
          },
          "metadata": {}
        }
      ]
    },
    {
      "cell_type": "code",
      "source": [
        "train.info()"
      ],
      "metadata": {
        "execution": {
          "iopub.status.busy": "2024-09-21T19:49:14.066587Z",
          "iopub.execute_input": "2024-09-21T19:49:14.067176Z",
          "iopub.status.idle": "2024-09-21T19:49:14.160291Z",
          "shell.execute_reply.started": "2024-09-21T19:49:14.067131Z",
          "shell.execute_reply": "2024-09-21T19:49:14.158729Z"
        },
        "trusted": true,
        "id": "E0fFcFQpKNfH",
        "outputId": "2d83f839-b78f-4c22-fae4-5b29df78212b"
      },
      "execution_count": null,
      "outputs": [
        {
          "name": "stdout",
          "text": "<class 'pandas.core.frame.DataFrame'>\nRangeIndex: 188533 entries, 0 to 188532\nData columns (total 12 columns):\n #   Column        Non-Null Count   Dtype \n---  ------        --------------   ----- \n 0   brand         188533 non-null  object\n 1   model         188533 non-null  object\n 2   model_year    188533 non-null  int64 \n 3   milage        188533 non-null  int64 \n 4   fuel_type     183450 non-null  object\n 5   engine        188533 non-null  object\n 6   transmission  188533 non-null  object\n 7   ext_col       188533 non-null  object\n 8   int_col       188533 non-null  object\n 9   accident      186081 non-null  object\n 10  clean_title   167114 non-null  object\n 11  price         188533 non-null  int64 \ndtypes: int64(3), object(9)\nmemory usage: 17.3+ MB\n",
          "output_type": "stream"
        }
      ]
    },
    {
      "cell_type": "code",
      "source": [
        "test.shape"
      ],
      "metadata": {
        "execution": {
          "iopub.status.busy": "2024-09-21T19:49:17.858623Z",
          "iopub.execute_input": "2024-09-21T19:49:17.859102Z",
          "iopub.status.idle": "2024-09-21T19:49:17.867217Z",
          "shell.execute_reply.started": "2024-09-21T19:49:17.859058Z",
          "shell.execute_reply": "2024-09-21T19:49:17.865709Z"
        },
        "trusted": true,
        "id": "CVuOULcCKNfI",
        "outputId": "b5aedeec-bc28-44cd-e5d5-8cb18774471d"
      },
      "execution_count": null,
      "outputs": [
        {
          "execution_count": 400,
          "output_type": "execute_result",
          "data": {
            "text/plain": "(125690, 11)"
          },
          "metadata": {}
        }
      ]
    },
    {
      "cell_type": "code",
      "source": [
        "original.shape"
      ],
      "metadata": {
        "execution": {
          "iopub.status.busy": "2024-09-21T19:49:20.396859Z",
          "iopub.execute_input": "2024-09-21T19:49:20.398619Z",
          "iopub.status.idle": "2024-09-21T19:49:20.408809Z",
          "shell.execute_reply.started": "2024-09-21T19:49:20.398552Z",
          "shell.execute_reply": "2024-09-21T19:49:20.407425Z"
        },
        "trusted": true,
        "id": "C3nm9czhKNfI",
        "outputId": "eee999ec-a6e1-4841-d502-28e1dba7ec84"
      },
      "execution_count": null,
      "outputs": [
        {
          "execution_count": 401,
          "output_type": "execute_result",
          "data": {
            "text/plain": "(4009, 12)"
          },
          "metadata": {}
        }
      ]
    },
    {
      "cell_type": "code",
      "source": [
        "train.describe()"
      ],
      "metadata": {
        "execution": {
          "iopub.status.busy": "2024-09-21T19:49:22.610318Z",
          "iopub.execute_input": "2024-09-21T19:49:22.610768Z",
          "iopub.status.idle": "2024-09-21T19:49:22.653407Z",
          "shell.execute_reply.started": "2024-09-21T19:49:22.610724Z",
          "shell.execute_reply": "2024-09-21T19:49:22.651915Z"
        },
        "trusted": true,
        "id": "iw3m9kVOKNfI",
        "outputId": "99a174a2-feff-4f5e-c861-92a8cbab7772"
      },
      "execution_count": null,
      "outputs": [
        {
          "execution_count": 402,
          "output_type": "execute_result",
          "data": {
            "text/plain": "          model_year         milage         price\ncount  188533.000000  188533.000000  1.885330e+05\nmean     2015.829998   65705.295174  4.387802e+04\nstd         5.660967   49798.158076  7.881952e+04\nmin      1974.000000     100.000000  2.000000e+03\n25%      2013.000000   24115.000000  1.700000e+04\n50%      2017.000000   57785.000000  3.082500e+04\n75%      2020.000000   95400.000000  4.990000e+04\nmax      2024.000000  405000.000000  2.954083e+06",
            "text/html": "<div>\n<style scoped>\n    .dataframe tbody tr th:only-of-type {\n        vertical-align: middle;\n    }\n\n    .dataframe tbody tr th {\n        vertical-align: top;\n    }\n\n    .dataframe thead th {\n        text-align: right;\n    }\n</style>\n<table border=\"1\" class=\"dataframe\">\n  <thead>\n    <tr style=\"text-align: right;\">\n      <th></th>\n      <th>model_year</th>\n      <th>milage</th>\n      <th>price</th>\n    </tr>\n  </thead>\n  <tbody>\n    <tr>\n      <th>count</th>\n      <td>188533.000000</td>\n      <td>188533.000000</td>\n      <td>1.885330e+05</td>\n    </tr>\n    <tr>\n      <th>mean</th>\n      <td>2015.829998</td>\n      <td>65705.295174</td>\n      <td>4.387802e+04</td>\n    </tr>\n    <tr>\n      <th>std</th>\n      <td>5.660967</td>\n      <td>49798.158076</td>\n      <td>7.881952e+04</td>\n    </tr>\n    <tr>\n      <th>min</th>\n      <td>1974.000000</td>\n      <td>100.000000</td>\n      <td>2.000000e+03</td>\n    </tr>\n    <tr>\n      <th>25%</th>\n      <td>2013.000000</td>\n      <td>24115.000000</td>\n      <td>1.700000e+04</td>\n    </tr>\n    <tr>\n      <th>50%</th>\n      <td>2017.000000</td>\n      <td>57785.000000</td>\n      <td>3.082500e+04</td>\n    </tr>\n    <tr>\n      <th>75%</th>\n      <td>2020.000000</td>\n      <td>95400.000000</td>\n      <td>4.990000e+04</td>\n    </tr>\n    <tr>\n      <th>max</th>\n      <td>2024.000000</td>\n      <td>405000.000000</td>\n      <td>2.954083e+06</td>\n    </tr>\n  </tbody>\n</table>\n</div>"
          },
          "metadata": {}
        }
      ]
    },
    {
      "cell_type": "code",
      "source": [
        "train.describe(include='object')"
      ],
      "metadata": {
        "execution": {
          "iopub.status.busy": "2024-09-21T19:49:24.907662Z",
          "iopub.execute_input": "2024-09-21T19:49:24.908195Z",
          "iopub.status.idle": "2024-09-21T19:49:25.160373Z",
          "shell.execute_reply.started": "2024-09-21T19:49:24.908154Z",
          "shell.execute_reply": "2024-09-21T19:49:25.159121Z"
        },
        "trusted": true,
        "id": "oU1EYSztKNfJ",
        "outputId": "b7d446a6-1446-436b-95e1-5f4c887a0892"
      },
      "execution_count": null,
      "outputs": [
        {
          "execution_count": 403,
          "output_type": "execute_result",
          "data": {
            "text/plain": "         brand      model fuel_type  \\\ncount   188533     188533    183450   \nunique      57       1897         7   \ntop       Ford  F-150 XLT  Gasoline   \nfreq     23088       2945    165940   \n\n                                              engine transmission ext_col  \\\ncount                                         188533       188533  188533   \nunique                                          1117           52     319   \ntop     355.0HP 5.3L 8 Cylinder Engine Gasoline Fuel          A/T   Black   \nfreq                                            3462        49904   48658   \n\n       int_col       accident clean_title  \ncount   188533         186081      167114  \nunique     156              2           1  \ntop      Black  None reported         Yes  \nfreq    107674         144514      167114  ",
            "text/html": "<div>\n<style scoped>\n    .dataframe tbody tr th:only-of-type {\n        vertical-align: middle;\n    }\n\n    .dataframe tbody tr th {\n        vertical-align: top;\n    }\n\n    .dataframe thead th {\n        text-align: right;\n    }\n</style>\n<table border=\"1\" class=\"dataframe\">\n  <thead>\n    <tr style=\"text-align: right;\">\n      <th></th>\n      <th>brand</th>\n      <th>model</th>\n      <th>fuel_type</th>\n      <th>engine</th>\n      <th>transmission</th>\n      <th>ext_col</th>\n      <th>int_col</th>\n      <th>accident</th>\n      <th>clean_title</th>\n    </tr>\n  </thead>\n  <tbody>\n    <tr>\n      <th>count</th>\n      <td>188533</td>\n      <td>188533</td>\n      <td>183450</td>\n      <td>188533</td>\n      <td>188533</td>\n      <td>188533</td>\n      <td>188533</td>\n      <td>186081</td>\n      <td>167114</td>\n    </tr>\n    <tr>\n      <th>unique</th>\n      <td>57</td>\n      <td>1897</td>\n      <td>7</td>\n      <td>1117</td>\n      <td>52</td>\n      <td>319</td>\n      <td>156</td>\n      <td>2</td>\n      <td>1</td>\n    </tr>\n    <tr>\n      <th>top</th>\n      <td>Ford</td>\n      <td>F-150 XLT</td>\n      <td>Gasoline</td>\n      <td>355.0HP 5.3L 8 Cylinder Engine Gasoline Fuel</td>\n      <td>A/T</td>\n      <td>Black</td>\n      <td>Black</td>\n      <td>None reported</td>\n      <td>Yes</td>\n    </tr>\n    <tr>\n      <th>freq</th>\n      <td>23088</td>\n      <td>2945</td>\n      <td>165940</td>\n      <td>3462</td>\n      <td>49904</td>\n      <td>48658</td>\n      <td>107674</td>\n      <td>144514</td>\n      <td>167114</td>\n    </tr>\n  </tbody>\n</table>\n</div>"
          },
          "metadata": {}
        }
      ]
    },
    {
      "cell_type": "code",
      "source": [
        "original.head(3)"
      ],
      "metadata": {
        "execution": {
          "iopub.status.busy": "2024-09-21T19:49:27.287981Z",
          "iopub.execute_input": "2024-09-21T19:49:27.288427Z",
          "iopub.status.idle": "2024-09-21T19:49:27.310007Z",
          "shell.execute_reply.started": "2024-09-21T19:49:27.288385Z",
          "shell.execute_reply": "2024-09-21T19:49:27.308283Z"
        },
        "trusted": true,
        "id": "dVvD9035KNfJ",
        "outputId": "9731cec5-7d0a-43ea-da8d-e4f7f1017534"
      },
      "execution_count": null,
      "outputs": [
        {
          "execution_count": 404,
          "output_type": "execute_result",
          "data": {
            "text/plain": "     brand                            model  model_year      milage  \\\n0     Ford  Utility Police Interceptor Base        2013  51,000 mi.   \n1  Hyundai                     Palisade SEL        2021  34,742 mi.   \n2    Lexus                    RX 350 RX 350        2022  22,372 mi.   \n\n       fuel_type                                             engine  \\\n0  E85 Flex Fuel  300.0HP 3.7L V6 Cylinder Engine Flex Fuel Capa...   \n1       Gasoline                               3.8L V6 24V GDI DOHC   \n2       Gasoline                                     3.5 Liter DOHC   \n\n        transmission          ext_col int_col  \\\n0        6-Speed A/T            Black   Black   \n1  8-Speed Automatic  Moonlight Cloud    Gray   \n2          Automatic             Blue   Black   \n\n                                 accident clean_title    price  \n0  At least 1 accident or damage reported         Yes  $10,300  \n1  At least 1 accident or damage reported         Yes  $38,005  \n2                           None reported         NaN  $54,598  ",
            "text/html": "<div>\n<style scoped>\n    .dataframe tbody tr th:only-of-type {\n        vertical-align: middle;\n    }\n\n    .dataframe tbody tr th {\n        vertical-align: top;\n    }\n\n    .dataframe thead th {\n        text-align: right;\n    }\n</style>\n<table border=\"1\" class=\"dataframe\">\n  <thead>\n    <tr style=\"text-align: right;\">\n      <th></th>\n      <th>brand</th>\n      <th>model</th>\n      <th>model_year</th>\n      <th>milage</th>\n      <th>fuel_type</th>\n      <th>engine</th>\n      <th>transmission</th>\n      <th>ext_col</th>\n      <th>int_col</th>\n      <th>accident</th>\n      <th>clean_title</th>\n      <th>price</th>\n    </tr>\n  </thead>\n  <tbody>\n    <tr>\n      <th>0</th>\n      <td>Ford</td>\n      <td>Utility Police Interceptor Base</td>\n      <td>2013</td>\n      <td>51,000 mi.</td>\n      <td>E85 Flex Fuel</td>\n      <td>300.0HP 3.7L V6 Cylinder Engine Flex Fuel Capa...</td>\n      <td>6-Speed A/T</td>\n      <td>Black</td>\n      <td>Black</td>\n      <td>At least 1 accident or damage reported</td>\n      <td>Yes</td>\n      <td>$10,300</td>\n    </tr>\n    <tr>\n      <th>1</th>\n      <td>Hyundai</td>\n      <td>Palisade SEL</td>\n      <td>2021</td>\n      <td>34,742 mi.</td>\n      <td>Gasoline</td>\n      <td>3.8L V6 24V GDI DOHC</td>\n      <td>8-Speed Automatic</td>\n      <td>Moonlight Cloud</td>\n      <td>Gray</td>\n      <td>At least 1 accident or damage reported</td>\n      <td>Yes</td>\n      <td>$38,005</td>\n    </tr>\n    <tr>\n      <th>2</th>\n      <td>Lexus</td>\n      <td>RX 350 RX 350</td>\n      <td>2022</td>\n      <td>22,372 mi.</td>\n      <td>Gasoline</td>\n      <td>3.5 Liter DOHC</td>\n      <td>Automatic</td>\n      <td>Blue</td>\n      <td>Black</td>\n      <td>None reported</td>\n      <td>NaN</td>\n      <td>$54,598</td>\n    </tr>\n  </tbody>\n</table>\n</div>"
          },
          "metadata": {}
        }
      ]
    },
    {
      "cell_type": "markdown",
      "source": [
        "**Extract numerical values from milage and price column**"
      ],
      "metadata": {
        "id": "aZci3p45KNfJ"
      }
    },
    {
      "cell_type": "code",
      "source": [
        "original[['milage', 'price']] = original[['milage', 'price']].map(\n",
        "    lambda x: int(''.join(re.findall(r'\\d+', x))))"
      ],
      "metadata": {
        "execution": {
          "iopub.status.busy": "2024-09-21T19:49:29.985204Z",
          "iopub.execute_input": "2024-09-21T19:49:29.985637Z",
          "iopub.status.idle": "2024-09-21T19:49:30.014902Z",
          "shell.execute_reply.started": "2024-09-21T19:49:29.985593Z",
          "shell.execute_reply": "2024-09-21T19:49:30.013333Z"
        },
        "trusted": true,
        "id": "vUrwGZTdKNfJ"
      },
      "execution_count": null,
      "outputs": []
    },
    {
      "cell_type": "code",
      "source": [
        "original.head(3)"
      ],
      "metadata": {
        "execution": {
          "iopub.status.busy": "2024-09-21T19:49:43.385775Z",
          "iopub.execute_input": "2024-09-21T19:49:43.386233Z",
          "iopub.status.idle": "2024-09-21T19:49:43.402634Z",
          "shell.execute_reply.started": "2024-09-21T19:49:43.386192Z",
          "shell.execute_reply": "2024-09-21T19:49:43.401378Z"
        },
        "trusted": true,
        "id": "KBJLPPd0KNfJ",
        "outputId": "fc18aa65-9c15-4fc8-be82-dff1580762f8"
      },
      "execution_count": null,
      "outputs": [
        {
          "execution_count": 407,
          "output_type": "execute_result",
          "data": {
            "text/plain": "     brand                            model  model_year  milage  \\\n0     Ford  Utility Police Interceptor Base        2013   51000   \n1  Hyundai                     Palisade SEL        2021   34742   \n2    Lexus                    RX 350 RX 350        2022   22372   \n\n       fuel_type                                             engine  \\\n0  E85 Flex Fuel  300.0HP 3.7L V6 Cylinder Engine Flex Fuel Capa...   \n1       Gasoline                               3.8L V6 24V GDI DOHC   \n2       Gasoline                                     3.5 Liter DOHC   \n\n        transmission          ext_col int_col  \\\n0        6-Speed A/T            Black   Black   \n1  8-Speed Automatic  Moonlight Cloud    Gray   \n2          Automatic             Blue   Black   \n\n                                 accident clean_title  price  \n0  At least 1 accident or damage reported         Yes  10300  \n1  At least 1 accident or damage reported         Yes  38005  \n2                           None reported         NaN  54598  ",
            "text/html": "<div>\n<style scoped>\n    .dataframe tbody tr th:only-of-type {\n        vertical-align: middle;\n    }\n\n    .dataframe tbody tr th {\n        vertical-align: top;\n    }\n\n    .dataframe thead th {\n        text-align: right;\n    }\n</style>\n<table border=\"1\" class=\"dataframe\">\n  <thead>\n    <tr style=\"text-align: right;\">\n      <th></th>\n      <th>brand</th>\n      <th>model</th>\n      <th>model_year</th>\n      <th>milage</th>\n      <th>fuel_type</th>\n      <th>engine</th>\n      <th>transmission</th>\n      <th>ext_col</th>\n      <th>int_col</th>\n      <th>accident</th>\n      <th>clean_title</th>\n      <th>price</th>\n    </tr>\n  </thead>\n  <tbody>\n    <tr>\n      <th>0</th>\n      <td>Ford</td>\n      <td>Utility Police Interceptor Base</td>\n      <td>2013</td>\n      <td>51000</td>\n      <td>E85 Flex Fuel</td>\n      <td>300.0HP 3.7L V6 Cylinder Engine Flex Fuel Capa...</td>\n      <td>6-Speed A/T</td>\n      <td>Black</td>\n      <td>Black</td>\n      <td>At least 1 accident or damage reported</td>\n      <td>Yes</td>\n      <td>10300</td>\n    </tr>\n    <tr>\n      <th>1</th>\n      <td>Hyundai</td>\n      <td>Palisade SEL</td>\n      <td>2021</td>\n      <td>34742</td>\n      <td>Gasoline</td>\n      <td>3.8L V6 24V GDI DOHC</td>\n      <td>8-Speed Automatic</td>\n      <td>Moonlight Cloud</td>\n      <td>Gray</td>\n      <td>At least 1 accident or damage reported</td>\n      <td>Yes</td>\n      <td>38005</td>\n    </tr>\n    <tr>\n      <th>2</th>\n      <td>Lexus</td>\n      <td>RX 350 RX 350</td>\n      <td>2022</td>\n      <td>22372</td>\n      <td>Gasoline</td>\n      <td>3.5 Liter DOHC</td>\n      <td>Automatic</td>\n      <td>Blue</td>\n      <td>Black</td>\n      <td>None reported</td>\n      <td>NaN</td>\n      <td>54598</td>\n    </tr>\n  </tbody>\n</table>\n</div>"
          },
          "metadata": {}
        }
      ]
    },
    {
      "cell_type": "markdown",
      "source": [
        "**Get limit value to use in future when splitting dataset**"
      ],
      "metadata": {
        "id": "BVoBXvHnKNfJ"
      }
    },
    {
      "cell_type": "code",
      "source": [
        "limit = train.shape[0] + original.shape[0]\n",
        "limit"
      ],
      "metadata": {
        "execution": {
          "iopub.status.busy": "2024-09-21T19:49:55.455485Z",
          "iopub.execute_input": "2024-09-21T19:49:55.455929Z",
          "iopub.status.idle": "2024-09-21T19:49:55.463831Z",
          "shell.execute_reply.started": "2024-09-21T19:49:55.455888Z",
          "shell.execute_reply": "2024-09-21T19:49:55.462438Z"
        },
        "trusted": true,
        "id": "2Zpop0ZZKNfJ",
        "outputId": "0f12f0d2-6176-44f2-8b52-088345e64c83"
      },
      "execution_count": null,
      "outputs": [
        {
          "execution_count": 410,
          "output_type": "execute_result",
          "data": {
            "text/plain": "192542"
          },
          "metadata": {}
        }
      ]
    },
    {
      "cell_type": "code",
      "source": [
        "train_original = pd.concat([train, original], axis=0, ignore_index=True)\n",
        "avarage_price_by_brand = train_original.groupby('brand')['price'].agg(['mean', 'median'])\n",
        "avarage_price_by_brand.sort_values(by='median', ascending=False).astype('int')"
      ],
      "metadata": {
        "execution": {
          "iopub.status.busy": "2024-09-21T19:49:51.653525Z",
          "iopub.execute_input": "2024-09-21T19:49:51.654039Z",
          "iopub.status.idle": "2024-09-21T19:49:51.706123Z",
          "shell.execute_reply.started": "2024-09-21T19:49:51.65397Z",
          "shell.execute_reply": "2024-09-21T19:49:51.704872Z"
        },
        "trusted": true,
        "id": "79NWza3VKNfJ",
        "outputId": "3a6b6de2-a8d7-40ac-d617-4aaaf8be2254"
      },
      "execution_count": null,
      "outputs": [
        {
          "execution_count": 409,
          "output_type": "execute_result",
          "data": {
            "text/plain": "                 mean  median\nbrand                        \nBugatti        392274  220000\nLamborghini    163287  109499\nMcLaren        125434   89900\nRivian          81426   80998\nRolls-Royce    140017   77999\nFerrari        120860   77900\nBentley        129502   74997\nAston          112467   67900\nLucid           64921   61167\nMaybach         56237   59624\nTesla           56263   47500\nPorsche         71231   45999\nMaserati        64224   43860\nRAM             51117   40459\nGenesis         53348   40000\nAlfa            51605   39884\nLand            53239   38998\nJaguar          47604   37998\nMercedes-Benz   51257   36598\nPolestar        41035   34749\nKarma           39054   34000\nGMC             38897   32178\nChevrolet       41746   32000\nFord            40441   32000\nBMW             43604   31000\nCadillac        45569   30427\nKia             37777   30000\nAudi            40985   29950\nJeep            34051   29255\nVolvo           30657   26500\nBuick           29331   26047\nINFINITI        33186   26000\nLexus           34817   25500\nLotus           28463   23988\nLincoln         30662   23500\nToyota          29167   22000\nMazda           25210   20995\nAcura           28612   20708\nSaab            27063   19000\nHyundai         25698   19000\nDodge           33311   18900\nFIAT            29388   18900\nVolkswagen      26201   18900\nNissan          29150   18000\nSuzuki          27544   18000\nSubaru          21520   17500\nHonda           22776   15900\nMercury         25489   14950\nChrysler        26521   14500\nMINI            17071   12975\nPlymouth        28145   12932\nScion           14375   12595\nSaturn          18013   12500\nPontiac         22285   11000\nHummer          15482   10995\nMitsubishi      18863   10300\nsmart           27248    9497",
            "text/html": "<div>\n<style scoped>\n    .dataframe tbody tr th:only-of-type {\n        vertical-align: middle;\n    }\n\n    .dataframe tbody tr th {\n        vertical-align: top;\n    }\n\n    .dataframe thead th {\n        text-align: right;\n    }\n</style>\n<table border=\"1\" class=\"dataframe\">\n  <thead>\n    <tr style=\"text-align: right;\">\n      <th></th>\n      <th>mean</th>\n      <th>median</th>\n    </tr>\n    <tr>\n      <th>brand</th>\n      <th></th>\n      <th></th>\n    </tr>\n  </thead>\n  <tbody>\n    <tr>\n      <th>Bugatti</th>\n      <td>392274</td>\n      <td>220000</td>\n    </tr>\n    <tr>\n      <th>Lamborghini</th>\n      <td>163287</td>\n      <td>109499</td>\n    </tr>\n    <tr>\n      <th>McLaren</th>\n      <td>125434</td>\n      <td>89900</td>\n    </tr>\n    <tr>\n      <th>Rivian</th>\n      <td>81426</td>\n      <td>80998</td>\n    </tr>\n    <tr>\n      <th>Rolls-Royce</th>\n      <td>140017</td>\n      <td>77999</td>\n    </tr>\n    <tr>\n      <th>Ferrari</th>\n      <td>120860</td>\n      <td>77900</td>\n    </tr>\n    <tr>\n      <th>Bentley</th>\n      <td>129502</td>\n      <td>74997</td>\n    </tr>\n    <tr>\n      <th>Aston</th>\n      <td>112467</td>\n      <td>67900</td>\n    </tr>\n    <tr>\n      <th>Lucid</th>\n      <td>64921</td>\n      <td>61167</td>\n    </tr>\n    <tr>\n      <th>Maybach</th>\n      <td>56237</td>\n      <td>59624</td>\n    </tr>\n    <tr>\n      <th>Tesla</th>\n      <td>56263</td>\n      <td>47500</td>\n    </tr>\n    <tr>\n      <th>Porsche</th>\n      <td>71231</td>\n      <td>45999</td>\n    </tr>\n    <tr>\n      <th>Maserati</th>\n      <td>64224</td>\n      <td>43860</td>\n    </tr>\n    <tr>\n      <th>RAM</th>\n      <td>51117</td>\n      <td>40459</td>\n    </tr>\n    <tr>\n      <th>Genesis</th>\n      <td>53348</td>\n      <td>40000</td>\n    </tr>\n    <tr>\n      <th>Alfa</th>\n      <td>51605</td>\n      <td>39884</td>\n    </tr>\n    <tr>\n      <th>Land</th>\n      <td>53239</td>\n      <td>38998</td>\n    </tr>\n    <tr>\n      <th>Jaguar</th>\n      <td>47604</td>\n      <td>37998</td>\n    </tr>\n    <tr>\n      <th>Mercedes-Benz</th>\n      <td>51257</td>\n      <td>36598</td>\n    </tr>\n    <tr>\n      <th>Polestar</th>\n      <td>41035</td>\n      <td>34749</td>\n    </tr>\n    <tr>\n      <th>Karma</th>\n      <td>39054</td>\n      <td>34000</td>\n    </tr>\n    <tr>\n      <th>GMC</th>\n      <td>38897</td>\n      <td>32178</td>\n    </tr>\n    <tr>\n      <th>Chevrolet</th>\n      <td>41746</td>\n      <td>32000</td>\n    </tr>\n    <tr>\n      <th>Ford</th>\n      <td>40441</td>\n      <td>32000</td>\n    </tr>\n    <tr>\n      <th>BMW</th>\n      <td>43604</td>\n      <td>31000</td>\n    </tr>\n    <tr>\n      <th>Cadillac</th>\n      <td>45569</td>\n      <td>30427</td>\n    </tr>\n    <tr>\n      <th>Kia</th>\n      <td>37777</td>\n      <td>30000</td>\n    </tr>\n    <tr>\n      <th>Audi</th>\n      <td>40985</td>\n      <td>29950</td>\n    </tr>\n    <tr>\n      <th>Jeep</th>\n      <td>34051</td>\n      <td>29255</td>\n    </tr>\n    <tr>\n      <th>Volvo</th>\n      <td>30657</td>\n      <td>26500</td>\n    </tr>\n    <tr>\n      <th>Buick</th>\n      <td>29331</td>\n      <td>26047</td>\n    </tr>\n    <tr>\n      <th>INFINITI</th>\n      <td>33186</td>\n      <td>26000</td>\n    </tr>\n    <tr>\n      <th>Lexus</th>\n      <td>34817</td>\n      <td>25500</td>\n    </tr>\n    <tr>\n      <th>Lotus</th>\n      <td>28463</td>\n      <td>23988</td>\n    </tr>\n    <tr>\n      <th>Lincoln</th>\n      <td>30662</td>\n      <td>23500</td>\n    </tr>\n    <tr>\n      <th>Toyota</th>\n      <td>29167</td>\n      <td>22000</td>\n    </tr>\n    <tr>\n      <th>Mazda</th>\n      <td>25210</td>\n      <td>20995</td>\n    </tr>\n    <tr>\n      <th>Acura</th>\n      <td>28612</td>\n      <td>20708</td>\n    </tr>\n    <tr>\n      <th>Saab</th>\n      <td>27063</td>\n      <td>19000</td>\n    </tr>\n    <tr>\n      <th>Hyundai</th>\n      <td>25698</td>\n      <td>19000</td>\n    </tr>\n    <tr>\n      <th>Dodge</th>\n      <td>33311</td>\n      <td>18900</td>\n    </tr>\n    <tr>\n      <th>FIAT</th>\n      <td>29388</td>\n      <td>18900</td>\n    </tr>\n    <tr>\n      <th>Volkswagen</th>\n      <td>26201</td>\n      <td>18900</td>\n    </tr>\n    <tr>\n      <th>Nissan</th>\n      <td>29150</td>\n      <td>18000</td>\n    </tr>\n    <tr>\n      <th>Suzuki</th>\n      <td>27544</td>\n      <td>18000</td>\n    </tr>\n    <tr>\n      <th>Subaru</th>\n      <td>21520</td>\n      <td>17500</td>\n    </tr>\n    <tr>\n      <th>Honda</th>\n      <td>22776</td>\n      <td>15900</td>\n    </tr>\n    <tr>\n      <th>Mercury</th>\n      <td>25489</td>\n      <td>14950</td>\n    </tr>\n    <tr>\n      <th>Chrysler</th>\n      <td>26521</td>\n      <td>14500</td>\n    </tr>\n    <tr>\n      <th>MINI</th>\n      <td>17071</td>\n      <td>12975</td>\n    </tr>\n    <tr>\n      <th>Plymouth</th>\n      <td>28145</td>\n      <td>12932</td>\n    </tr>\n    <tr>\n      <th>Scion</th>\n      <td>14375</td>\n      <td>12595</td>\n    </tr>\n    <tr>\n      <th>Saturn</th>\n      <td>18013</td>\n      <td>12500</td>\n    </tr>\n    <tr>\n      <th>Pontiac</th>\n      <td>22285</td>\n      <td>11000</td>\n    </tr>\n    <tr>\n      <th>Hummer</th>\n      <td>15482</td>\n      <td>10995</td>\n    </tr>\n    <tr>\n      <th>Mitsubishi</th>\n      <td>18863</td>\n      <td>10300</td>\n    </tr>\n    <tr>\n      <th>smart</th>\n      <td>27248</td>\n      <td>9497</td>\n    </tr>\n  </tbody>\n</table>\n</div>"
          },
          "metadata": {}
        }
      ]
    },
    {
      "cell_type": "markdown",
      "source": [
        "**Percent of missing values**"
      ],
      "metadata": {
        "id": "GGM83Go3KNfJ"
      }
    },
    {
      "cell_type": "code",
      "source": [
        "percent_of_missing = 100* (train.isna().sum() / len(train)).sort_values(ascending=False)\n",
        "percent_of_missing"
      ],
      "metadata": {
        "execution": {
          "iopub.status.busy": "2024-09-21T19:50:02.533813Z",
          "iopub.execute_input": "2024-09-21T19:50:02.534271Z",
          "iopub.status.idle": "2024-09-21T19:50:02.624932Z",
          "shell.execute_reply.started": "2024-09-21T19:50:02.534232Z",
          "shell.execute_reply": "2024-09-21T19:50:02.623484Z"
        },
        "trusted": true,
        "id": "FcUuwXkOKNfK",
        "outputId": "031a414b-59b7-47c2-e788-cefc9940006b"
      },
      "execution_count": null,
      "outputs": [
        {
          "execution_count": 411,
          "output_type": "execute_result",
          "data": {
            "text/plain": "clean_title     11.360876\nfuel_type        2.696080\naccident         1.300568\nbrand            0.000000\nmodel            0.000000\nmodel_year       0.000000\nmilage           0.000000\nengine           0.000000\ntransmission     0.000000\next_col          0.000000\nint_col          0.000000\nprice            0.000000\ndtype: float64"
          },
          "metadata": {}
        }
      ]
    },
    {
      "cell_type": "code",
      "source": [
        "plt.figure(figsize=(10, 4))  # Optional: Adjusts the size of the plot\n",
        "sns.barplot(y=percent_of_missing.index, x=percent_of_missing)\n",
        "\n",
        "plt.title('Percentage of Missing Values per Column')\n",
        "plt.xlabel('Percentage of Missing Values')\n",
        "plt.ylabel('Columns')\n",
        "\n",
        "plt.show()\n"
      ],
      "metadata": {
        "execution": {
          "iopub.status.busy": "2024-09-21T19:50:04.728643Z",
          "iopub.execute_input": "2024-09-21T19:50:04.729159Z",
          "iopub.status.idle": "2024-09-21T19:50:05.055584Z",
          "shell.execute_reply.started": "2024-09-21T19:50:04.729113Z",
          "shell.execute_reply": "2024-09-21T19:50:05.054231Z"
        },
        "trusted": true,
        "id": "oAlC0pMTKNfK",
        "outputId": "c47e16fe-c14b-40eb-abaf-b5e2372c4a74"
      },
      "execution_count": null,
      "outputs": [
        {
          "output_type": "display_data",
          "data": {
            "text/plain": "<Figure size 1000x400 with 1 Axes>",
            "image/png": "[encoded data removed]"
          },
          "metadata": {}
        }
      ]
    },
    {
      "cell_type": "code",
      "source": [
        "train_original['price'].skew()"
      ],
      "metadata": {
        "execution": {
          "iopub.status.busy": "2024-09-21T19:50:08.942897Z",
          "iopub.execute_input": "2024-09-21T19:50:08.943346Z",
          "iopub.status.idle": "2024-09-21T19:50:08.954033Z",
          "shell.execute_reply.started": "2024-09-21T19:50:08.943305Z",
          "shell.execute_reply": "2024-09-21T19:50:08.952619Z"
        },
        "trusted": true,
        "id": "bdYcAK5eKNfK",
        "outputId": "8e540415-7dd4-48c8-ec9b-45a0ddacab10"
      },
      "execution_count": null,
      "outputs": [
        {
          "execution_count": 413,
          "output_type": "execute_result",
          "data": {
            "text/plain": "20.252606780474988"
          },
          "metadata": {}
        }
      ]
    },
    {
      "cell_type": "code",
      "source": [
        "sns.displot(train_original['price'])"
      ],
      "metadata": {
        "execution": {
          "iopub.status.busy": "2024-09-21T19:50:16.429865Z",
          "iopub.execute_input": "2024-09-21T19:50:16.430316Z",
          "iopub.status.idle": "2024-09-21T19:50:21.258559Z",
          "shell.execute_reply.started": "2024-09-21T19:50:16.430278Z",
          "shell.execute_reply": "2024-09-21T19:50:21.257283Z"
        },
        "trusted": true,
        "id": "qLqkFotZKNfK",
        "outputId": "7ffd1476-df01-42d5-93c3-a44455f04279"
      },
      "execution_count": null,
      "outputs": [
        {
          "name": "stderr",
          "text": "/opt/conda/lib/python3.10/site-packages/seaborn/_oldcore.py:1119: FutureWarning: use_inf_as_na option is deprecated and will be removed in a future version. Convert inf values to NaN before operating instead.\n  with pd.option_context('mode.use_inf_as_na', True):\n",
          "output_type": "stream"
        },
        {
          "execution_count": 414,
          "output_type": "execute_result",
          "data": {
            "text/plain": "<seaborn.axisgrid.FacetGrid at 0x793cfc77a3e0>"
          },
          "metadata": {}
        },
        {
          "output_type": "display_data",
          "data": {
            "text/plain": "<Figure size 500x500 with 1 Axes>",
            "image/png": "[encoded data removed]"
          },
          "metadata": {}
        }
      ]
    },
    {
      "cell_type": "markdown",
      "source": [
        "**Price is right-skewed.It means Mean > Median> Mode. For right skewed distribution we can apply log transformation to make distribution more symmetric.**\n",
        "\n",
        "**(Skewness = 0: The distribution is perfectly symmetric (normally distributed))**"
      ],
      "metadata": {
        "id": "s-z06AWZKNfL"
      }
    },
    {
      "cell_type": "code",
      "source": [
        "np.log(train_original['price'].skew())"
      ],
      "metadata": {
        "execution": {
          "iopub.status.busy": "2024-09-21T19:50:24.87635Z",
          "iopub.execute_input": "2024-09-21T19:50:24.876917Z",
          "iopub.status.idle": "2024-09-21T19:50:24.887428Z",
          "shell.execute_reply.started": "2024-09-21T19:50:24.876862Z",
          "shell.execute_reply": "2024-09-21T19:50:24.886009Z"
        },
        "trusted": true,
        "id": "dAS0DnOAKNfL",
        "outputId": "73d47d61-2fee-420c-a1a2-61a570a129d2"
      },
      "execution_count": null,
      "outputs": [
        {
          "execution_count": 415,
          "output_type": "execute_result",
          "data": {
            "text/plain": "3.008283515167565"
          },
          "metadata": {}
        }
      ]
    },
    {
      "cell_type": "code",
      "source": [
        "sns.histplot(x=np.log(train['price']), kde=True)"
      ],
      "metadata": {
        "execution": {
          "iopub.status.busy": "2024-09-21T19:50:27.089101Z",
          "iopub.execute_input": "2024-09-21T19:50:27.089525Z",
          "iopub.status.idle": "2024-09-21T19:50:28.596842Z",
          "shell.execute_reply.started": "2024-09-21T19:50:27.089487Z",
          "shell.execute_reply": "2024-09-21T19:50:28.595614Z"
        },
        "trusted": true,
        "id": "Sg3skr8RKNfL",
        "outputId": "7de123c7-4796-4f4f-c621-281842716a9d"
      },
      "execution_count": null,
      "outputs": [
        {
          "name": "stderr",
          "text": "/opt/conda/lib/python3.10/site-packages/seaborn/_oldcore.py:1119: FutureWarning: use_inf_as_na option is deprecated and will be removed in a future version. Convert inf values to NaN before operating instead.\n  with pd.option_context('mode.use_inf_as_na', True):\n",
          "output_type": "stream"
        },
        {
          "execution_count": 416,
          "output_type": "execute_result",
          "data": {
            "text/plain": "<Axes: xlabel='price', ylabel='Count'>"
          },
          "metadata": {}
        },
        {
          "output_type": "display_data",
          "data": {
            "text/plain": "<Figure size 640x480 with 1 Axes>",
            "image/png": "[encoded data removed]"
          },
          "metadata": {}
        }
      ]
    },
    {
      "cell_type": "code",
      "source": [
        "print(f\"Skewness: {train_original['milage'].skew()}\")\n",
        "#we can apply np.sqrt to make distribution more symetric\n",
        "print(f\"Skewnessa after applying sqrt: {(train_original['milage']**(1/2)).skew()}\")"
      ],
      "metadata": {
        "execution": {
          "iopub.status.busy": "2024-09-21T19:50:35.90717Z",
          "iopub.execute_input": "2024-09-21T19:50:35.90761Z",
          "iopub.status.idle": "2024-09-21T19:50:35.925044Z",
          "shell.execute_reply.started": "2024-09-21T19:50:35.907568Z",
          "shell.execute_reply": "2024-09-21T19:50:35.923792Z"
        },
        "trusted": true,
        "id": "2H_jkM2fKNfL",
        "outputId": "8ae77842-4b43-4ece-a716-70b5d6727c48"
      },
      "execution_count": null,
      "outputs": [
        {
          "name": "stdout",
          "text": "Skewness: 0.9013528832805361\nSkewnessa after applying sqrt: 0.014059243446193099\n",
          "output_type": "stream"
        }
      ]
    },
    {
      "cell_type": "markdown",
      "source": [
        "**Combine the training and test dataframe for preprocessing**"
      ],
      "metadata": {
        "id": "uYWNl1ooKNfL"
      }
    },
    {
      "cell_type": "code",
      "source": [
        "df = pd.concat([train, test], axis=0, ignore_index=True)"
      ],
      "metadata": {
        "execution": {
          "iopub.status.busy": "2024-09-21T19:50:40.292747Z",
          "iopub.execute_input": "2024-09-21T19:50:40.293219Z",
          "iopub.status.idle": "2024-09-21T19:50:40.317848Z",
          "shell.execute_reply.started": "2024-09-21T19:50:40.293174Z",
          "shell.execute_reply": "2024-09-21T19:50:40.316199Z"
        },
        "trusted": true,
        "id": "gJUTChyhKNfL"
      },
      "execution_count": null,
      "outputs": []
    },
    {
      "cell_type": "code",
      "source": [
        "df['brand'].unique()"
      ],
      "metadata": {
        "execution": {
          "iopub.status.busy": "2024-09-21T19:50:43.102227Z",
          "iopub.execute_input": "2024-09-21T19:50:43.102735Z",
          "iopub.status.idle": "2024-09-21T19:50:43.134425Z",
          "shell.execute_reply.started": "2024-09-21T19:50:43.102669Z",
          "shell.execute_reply": "2024-09-21T19:50:43.132837Z"
        },
        "trusted": true,
        "id": "Qxt6-6CLKNfL",
        "outputId": "235ce9e7-b1af-49e1-87ec-a5218fe10ba3"
      },
      "execution_count": null,
      "outputs": [
        {
          "execution_count": 419,
          "output_type": "execute_result",
          "data": {
            "text/plain": "array(['MINI', 'Lincoln', 'Chevrolet', 'Genesis', 'Mercedes-Benz', 'Audi',\n       'Ford', 'BMW', 'Tesla', 'Cadillac', 'Land', 'GMC', 'Toyota',\n       'Hyundai', 'Volvo', 'Volkswagen', 'Buick', 'Rivian', 'RAM',\n       'Hummer', 'Alfa', 'INFINITI', 'Jeep', 'Porsche', 'McLaren',\n       'Honda', 'Lexus', 'Dodge', 'Nissan', 'Jaguar', 'Acura', 'Kia',\n       'Mitsubishi', 'Rolls-Royce', 'Maserati', 'Pontiac', 'Saturn',\n       'Bentley', 'Mazda', 'Subaru', 'Ferrari', 'Aston', 'Lamborghini',\n       'Chrysler', 'Lucid', 'Lotus', 'Scion', 'smart', 'Karma',\n       'Plymouth', 'Suzuki', 'FIAT', 'Saab', 'Bugatti', 'Mercury',\n       'Polestar', 'Maybach'], dtype=object)"
          },
          "metadata": {}
        }
      ]
    },
    {
      "cell_type": "markdown",
      "source": [
        "Create a binary feature ***premium_auto*** based on the presence of certain values (luxury brands) in another column (brand)."
      ],
      "metadata": {
        "id": "FL9lg5JRKNfL"
      }
    },
    {
      "cell_type": "code",
      "source": [
        "luxury_auto = [\n",
        "    \"Mercedes-Benz\",\n",
        "    \"Audi\",\n",
        "    \"BMW\",\n",
        "    \"Tesla\",\n",
        "    \"Cadillac\",\n",
        "    \"Land Rover\",\n",
        "    \"Porsche\",\n",
        "    \"Lexus\",\n",
        "    \"INFINITI\",\n",
        "    \"Jaguar\",\n",
        "    \"Rolls-Royce\",\n",
        "    \"Bentley\",\n",
        "    \"Ferrari\",\n",
        "    \"Aston Martin\",\n",
        "    \"Lamborghini\",\n",
        "    \"Bugatti\",\n",
        "    \"Maserati\",\n",
        "    \"Lucid\",\n",
        "    \"Polestar\",\n",
        "    \"Maybach\",\n",
        "    \"Lincoln\"\n",
        "]"
      ],
      "metadata": {
        "execution": {
          "iopub.status.busy": "2024-09-21T19:50:45.609645Z",
          "iopub.execute_input": "2024-09-21T19:50:45.610624Z",
          "iopub.status.idle": "2024-09-21T19:50:45.616616Z",
          "shell.execute_reply.started": "2024-09-21T19:50:45.610573Z",
          "shell.execute_reply": "2024-09-21T19:50:45.614944Z"
        },
        "trusted": true,
        "id": "yfwuimc9KNfL"
      },
      "execution_count": null,
      "outputs": []
    },
    {
      "cell_type": "code",
      "source": [
        "df['premium_auto'] = df['brand'].apply(lambda x: 1 if x in luxury_auto else 0)\n",
        "df.head(3)"
      ],
      "metadata": {
        "execution": {
          "iopub.status.busy": "2024-09-21T19:50:50.808275Z",
          "iopub.execute_input": "2024-09-21T19:50:50.808749Z",
          "iopub.status.idle": "2024-09-21T19:50:51.018262Z",
          "shell.execute_reply.started": "2024-09-21T19:50:50.808703Z",
          "shell.execute_reply": "2024-09-21T19:50:51.016886Z"
        },
        "trusted": true,
        "id": "Z1RhDP-8KNfM",
        "outputId": "23afd5bc-df00-41eb-e912-7f22b7c43958"
      },
      "execution_count": null,
      "outputs": [
        {
          "execution_count": 421,
          "output_type": "execute_result",
          "data": {
            "text/plain": "       brand              model  model_year  milage      fuel_type  \\\n0       MINI      Cooper S Base        2007  213000       Gasoline   \n1    Lincoln              LS V8        2002  143250       Gasoline   \n2  Chevrolet  Silverado 2500 LT        2002  136731  E85 Flex Fuel   \n\n                                              engine transmission ext_col  \\\n0       172.0HP 1.6L 4 Cylinder Engine Gasoline Fuel          A/T  Yellow   \n1       252.0HP 3.9L 8 Cylinder Engine Gasoline Fuel          A/T  Silver   \n2  320.0HP 5.3L 8 Cylinder Engine Flex Fuel Capab...          A/T    Blue   \n\n  int_col                                accident clean_title    price  \\\n0    Gray                           None reported         Yes   4200.0   \n1   Beige  At least 1 accident or damage reported         Yes   4999.0   \n2    Gray                           None reported         Yes  13900.0   \n\n   premium_auto  \n0             0  \n1             1  \n2             0  ",
            "text/html": "<div>\n<style scoped>\n    .dataframe tbody tr th:only-of-type {\n        vertical-align: middle;\n    }\n\n    .dataframe tbody tr th {\n        vertical-align: top;\n    }\n\n    .dataframe thead th {\n        text-align: right;\n    }\n</style>\n<table border=\"1\" class=\"dataframe\">\n  <thead>\n    <tr style=\"text-align: right;\">\n      <th></th>\n      <th>brand</th>\n      <th>model</th>\n      <th>model_year</th>\n      <th>milage</th>\n      <th>fuel_type</th>\n      <th>engine</th>\n      <th>transmission</th>\n      <th>ext_col</th>\n      <th>int_col</th>\n      <th>accident</th>\n      <th>clean_title</th>\n      <th>price</th>\n      <th>premium_auto</th>\n    </tr>\n  </thead>\n  <tbody>\n    <tr>\n      <th>0</th>\n      <td>MINI</td>\n      <td>Cooper S Base</td>\n      <td>2007</td>\n      <td>213000</td>\n      <td>Gasoline</td>\n      <td>172.0HP 1.6L 4 Cylinder Engine Gasoline Fuel</td>\n      <td>A/T</td>\n      <td>Yellow</td>\n      <td>Gray</td>\n      <td>None reported</td>\n      <td>Yes</td>\n      <td>4200.0</td>\n      <td>0</td>\n    </tr>\n    <tr>\n      <th>1</th>\n      <td>Lincoln</td>\n      <td>LS V8</td>\n      <td>2002</td>\n      <td>143250</td>\n      <td>Gasoline</td>\n      <td>252.0HP 3.9L 8 Cylinder Engine Gasoline Fuel</td>\n      <td>A/T</td>\n      <td>Silver</td>\n      <td>Beige</td>\n      <td>At least 1 accident or damage reported</td>\n      <td>Yes</td>\n      <td>4999.0</td>\n      <td>1</td>\n    </tr>\n    <tr>\n      <th>2</th>\n      <td>Chevrolet</td>\n      <td>Silverado 2500 LT</td>\n      <td>2002</td>\n      <td>136731</td>\n      <td>E85 Flex Fuel</td>\n      <td>320.0HP 5.3L 8 Cylinder Engine Flex Fuel Capab...</td>\n      <td>A/T</td>\n      <td>Blue</td>\n      <td>Gray</td>\n      <td>None reported</td>\n      <td>Yes</td>\n      <td>13900.0</td>\n      <td>0</td>\n    </tr>\n  </tbody>\n</table>\n</div>"
          },
          "metadata": {}
        }
      ]
    },
    {
      "cell_type": "markdown",
      "source": [
        "Extract useful data from engine, using regular expression. We create separete columns ***num_of_cylinders***, ***horsepower***, ***engine_volume***"
      ],
      "metadata": {
        "id": "ha7o5T8YKNfM"
      }
    },
    {
      "cell_type": "code",
      "source": [
        "horsepower = []\n",
        "engine_volume = []\n",
        "num_of_cylinders = []\n",
        "for col in df['engine']:\n",
        "    hp = re.search(r'(\\d+\\.?\\d*)HP', col, re.IGNORECASE)\n",
        "    #print(hp)\n",
        "    if hp:\n",
        "        horsepower.append(float(hp.group(1)))\n",
        "    else:\n",
        "        horsepower.append(0)\n",
        "\n",
        "    volume = re.search(r'(\\d+\\.?\\d*)L|(\\d+\\.?\\d*\\s*)Liter', col, re.IGNORECASE)\n",
        "    if volume:\n",
        "        if volume.group(1):\n",
        "            engine_volume.append(float(volume.group(1)))\n",
        "        elif volume.group(2):\n",
        "            engine_volume.append(float(volume.group(2)))\n",
        "    else:\n",
        "        engine_volume.append(0)\n",
        "\n",
        "#    cylinder = re.search(r'(\\d+)\\s*Cylinder|V(\\d+)|I(\\d+)', col, re.IGNORECASE)\n",
        "\n",
        "#     if cylinder:\n",
        "#         # If we find a numeric cylinder, use that\n",
        "#         if cylinder.group(1):\n",
        "#             num_of_cylinders.append(float(cylinder.group(1)))\n",
        "#         # If we find a V-style code, use the number after 'V'\n",
        "#         elif cylinder.group(2):\n",
        "#             num_of_cylinders.append(float(cylinder.group(2)))\n",
        "#         elif cylinder.group(3):\n",
        "#             num_of_cylinders.append(float(cylinder.group(3)))\n",
        "    cylinder = re.search(r'(\\d+)\\s+cylinder|v(\\d+)|i(\\d+)|straight\\s+(\\d+)|flat\\s+(\\d+)', col.lower())\n",
        "    if cylinder:\n",
        "        # Check which group matched and return the appropriate number of cylinders\n",
        "        num_of_cylinders.append(int(next(g for g in cylinder.groups() if g is not None)))\n",
        "    else:\n",
        "        # If no match is found, default to 0\n",
        "        num_of_cylinders.append(0)\n",
        "\n",
        "print(len(horsepower))\n",
        "print(len(engine_volume))\n",
        "print(len(num_of_cylinders))\n",
        "df['horsepower'] = horsepower\n",
        "df['engine_volume'] = engine_volume\n",
        "df['num_of_cylinders'] = num_of_cylinders"
      ],
      "metadata": {
        "execution": {
          "iopub.status.busy": "2024-09-21T19:50:56.204128Z",
          "iopub.execute_input": "2024-09-21T19:50:56.205033Z",
          "iopub.status.idle": "2024-09-21T19:50:59.859934Z",
          "shell.execute_reply.started": "2024-09-21T19:50:56.204973Z",
          "shell.execute_reply": "2024-09-21T19:50:59.858393Z"
        },
        "trusted": true,
        "id": "pGGSk-goKNfM",
        "outputId": "e066ca37-4f3a-4edc-8d5b-1c28c67998b2"
      },
      "execution_count": null,
      "outputs": [
        {
          "name": "stdout",
          "text": "314223\n314223\n314223\n",
          "output_type": "stream"
        }
      ]
    },
    {
      "cell_type": "markdown",
      "source": [
        "Check fuel type column"
      ],
      "metadata": {
        "id": "g5AftH15KNfM"
      }
    },
    {
      "cell_type": "code",
      "source": [
        "df['fuel_type'].value_counts()"
      ],
      "metadata": {
        "execution": {
          "iopub.status.busy": "2024-09-21T19:51:28.791446Z",
          "iopub.execute_input": "2024-09-21T19:51:28.79198Z",
          "iopub.status.idle": "2024-09-21T19:51:28.832357Z",
          "shell.execute_reply.started": "2024-09-21T19:51:28.791913Z",
          "shell.execute_reply": "2024-09-21T19:51:28.830409Z"
        },
        "trusted": true,
        "id": "yGZH5IxZKNfM",
        "outputId": "4b63d958-17f9-4269-b384-034b34a92d8e"
      },
      "execution_count": null,
      "outputs": [
        {
          "execution_count": 424,
          "output_type": "execute_result",
          "data": {
            "text/plain": "fuel_type\nGasoline          276473\nHybrid             11508\nE85 Flex Fuel       8929\nDiesel              6641\n–                   1319\nPlug-In Hybrid       858\nnot supported         29\nName: count, dtype: int64"
          },
          "metadata": {}
        }
      ]
    },
    {
      "cell_type": "markdown",
      "source": [
        "In engine column we can find the neccessery fuel type for ***not supported*** value"
      ],
      "metadata": {
        "id": "qDAkpbvmKNfM"
      }
    },
    {
      "cell_type": "code",
      "source": [
        "df[df['fuel_type'] == 'not supported'].head(3)"
      ],
      "metadata": {
        "execution": {
          "iopub.status.busy": "2024-09-21T19:51:30.599128Z",
          "iopub.execute_input": "2024-09-21T19:51:30.599726Z",
          "iopub.status.idle": "2024-09-21T19:51:30.679532Z",
          "shell.execute_reply.started": "2024-09-21T19:51:30.599659Z",
          "shell.execute_reply": "2024-09-21T19:51:30.677884Z"
        },
        "trusted": true,
        "id": "P9vMQMgZKNfM",
        "outputId": "fbf8b8fd-cf1f-499a-cb15-278a41022e56"
      },
      "execution_count": null,
      "outputs": [
        {
          "execution_count": 425,
          "output_type": "execute_result",
          "data": {
            "text/plain": "           brand          model  model_year  milage      fuel_type  \\\n4823   Chevrolet    Suburban LT        2011  109646  not supported   \n18000    Porsche     Camaro 2SS        2015   67000  not supported   \n19182     Nissan  Mirai Limited        2000  131000  not supported   \n\n                                                  engine  \\\n4823   320.0HP 5.3L 8 Cylinder Engine Flex Fuel Capab...   \n18000       240.0HP 2.0L 4 Cylinder Engine Gasoline Fuel   \n19182               182.0HP Electric Motor Hydrogen Fuel   \n\n                         transmission ext_col int_col       accident  \\\n4823                      6-Speed A/T   Black   Beige  None reported   \n18000  Transmission w/Dual Shift Mode   Black   Black  None reported   \n19182                             A/T  Silver   Black  None reported   \n\n      clean_title    price  premium_auto  horsepower  engine_volume  \\\n4823          Yes  18998.0             0       320.0            5.3   \n18000         Yes  11500.0             1       240.0            2.0   \n19182         Yes   5000.0             0       182.0            0.0   \n\n       num_of_cylinders  \n4823                  8  \n18000                 4  \n19182                 0  ",
            "text/html": "<div>\n<style scoped>\n    .dataframe tbody tr th:only-of-type {\n        vertical-align: middle;\n    }\n\n    .dataframe tbody tr th {\n        vertical-align: top;\n    }\n\n    .dataframe thead th {\n        text-align: right;\n    }\n</style>\n<table border=\"1\" class=\"dataframe\">\n  <thead>\n    <tr style=\"text-align: right;\">\n      <th></th>\n      <th>brand</th>\n      <th>model</th>\n      <th>model_year</th>\n      <th>milage</th>\n      <th>fuel_type</th>\n      <th>engine</th>\n      <th>transmission</th>\n      <th>ext_col</th>\n      <th>int_col</th>\n      <th>accident</th>\n      <th>clean_title</th>\n      <th>price</th>\n      <th>premium_auto</th>\n      <th>horsepower</th>\n      <th>engine_volume</th>\n      <th>num_of_cylinders</th>\n    </tr>\n  </thead>\n  <tbody>\n    <tr>\n      <th>4823</th>\n      <td>Chevrolet</td>\n      <td>Suburban LT</td>\n      <td>2011</td>\n      <td>109646</td>\n      <td>not supported</td>\n      <td>320.0HP 5.3L 8 Cylinder Engine Flex Fuel Capab...</td>\n      <td>6-Speed A/T</td>\n      <td>Black</td>\n      <td>Beige</td>\n      <td>None reported</td>\n      <td>Yes</td>\n      <td>18998.0</td>\n      <td>0</td>\n      <td>320.0</td>\n      <td>5.3</td>\n      <td>8</td>\n    </tr>\n    <tr>\n      <th>18000</th>\n      <td>Porsche</td>\n      <td>Camaro 2SS</td>\n      <td>2015</td>\n      <td>67000</td>\n      <td>not supported</td>\n      <td>240.0HP 2.0L 4 Cylinder Engine Gasoline Fuel</td>\n      <td>Transmission w/Dual Shift Mode</td>\n      <td>Black</td>\n      <td>Black</td>\n      <td>None reported</td>\n      <td>Yes</td>\n      <td>11500.0</td>\n      <td>1</td>\n      <td>240.0</td>\n      <td>2.0</td>\n      <td>4</td>\n    </tr>\n    <tr>\n      <th>19182</th>\n      <td>Nissan</td>\n      <td>Mirai Limited</td>\n      <td>2000</td>\n      <td>131000</td>\n      <td>not supported</td>\n      <td>182.0HP Electric Motor Hydrogen Fuel</td>\n      <td>A/T</td>\n      <td>Silver</td>\n      <td>Black</td>\n      <td>None reported</td>\n      <td>Yes</td>\n      <td>5000.0</td>\n      <td>0</td>\n      <td>182.0</td>\n      <td>0.0</td>\n      <td>0</td>\n    </tr>\n  </tbody>\n</table>\n</div>"
          },
          "metadata": {}
        }
      ]
    },
    {
      "cell_type": "code",
      "source": [
        "to_replace = []\n",
        "for row in df.loc[df['fuel_type'] == 'not supported', 'engine']:\n",
        "    fuel = re.search(r'(Gasoline|Diesel|Hybrid|Flex Fuel|Electric|Plug-In Hybrid)', row)\n",
        "    if fuel.group(1) == 'Flex Fuel':\n",
        "        to_replace.append('E85 Flex Fuel')\n",
        "    else:\n",
        "        to_replace.append(fuel.group(1))\n",
        "print(f'Values from engine column to replace not supported:\\n {to_replace}')"
      ],
      "metadata": {
        "execution": {
          "iopub.status.busy": "2024-09-21T19:51:33.328108Z",
          "iopub.execute_input": "2024-09-21T19:51:33.328589Z",
          "iopub.status.idle": "2024-09-21T19:51:33.361695Z",
          "shell.execute_reply.started": "2024-09-21T19:51:33.328543Z",
          "shell.execute_reply": "2024-09-21T19:51:33.360357Z"
        },
        "trusted": true,
        "id": "DcpNZLJFKNfR",
        "outputId": "0237c10c-eec7-448a-ec9d-cba527ec56e0"
      },
      "execution_count": null,
      "outputs": [
        {
          "name": "stdout",
          "text": "Values from engine column to replace not supported:\n ['E85 Flex Fuel', 'Gasoline', 'Electric', 'Gasoline', 'Electric', 'Gasoline', 'Electric', 'Gasoline', 'Gasoline', 'Electric', 'Gasoline', 'Electric', 'Gasoline', 'Gasoline', 'Electric', 'Electric', 'Gasoline', 'Gasoline', 'Electric', 'Electric', 'Electric', 'Gasoline', 'E85 Flex Fuel', 'Gasoline', 'Electric', 'Electric', 'Gasoline', 'Gasoline', 'Electric']\n",
          "output_type": "stream"
        }
      ]
    },
    {
      "cell_type": "code",
      "source": [
        "df.loc[df['fuel_type'] == 'not supported', 'fuel_type'] = to_replace"
      ],
      "metadata": {
        "execution": {
          "iopub.status.busy": "2024-09-21T19:51:35.829017Z",
          "iopub.execute_input": "2024-09-21T19:51:35.829449Z",
          "iopub.status.idle": "2024-09-21T19:51:35.865388Z",
          "shell.execute_reply.started": "2024-09-21T19:51:35.82941Z",
          "shell.execute_reply": "2024-09-21T19:51:35.864121Z"
        },
        "trusted": true,
        "id": "UbXRxb5jKNfR"
      },
      "execution_count": null,
      "outputs": []
    },
    {
      "cell_type": "code",
      "source": [
        "df['fuel_type'].value_counts()"
      ],
      "metadata": {
        "execution": {
          "iopub.status.busy": "2024-09-21T19:51:39.035516Z",
          "iopub.execute_input": "2024-09-21T19:51:39.036012Z",
          "iopub.status.idle": "2024-09-21T19:51:39.069464Z",
          "shell.execute_reply.started": "2024-09-21T19:51:39.035958Z",
          "shell.execute_reply": "2024-09-21T19:51:39.068107Z"
        },
        "trusted": true,
        "id": "3fFsfmdvKNfR",
        "outputId": "811480e5-7d86-4b38-84f2-efc93a18d72a"
      },
      "execution_count": null,
      "outputs": [
        {
          "execution_count": 428,
          "output_type": "execute_result",
          "data": {
            "text/plain": "fuel_type\nGasoline          276487\nHybrid             11508\nE85 Flex Fuel       8931\nDiesel              6641\n–                   1319\nPlug-In Hybrid       858\nElectric              13\nName: count, dtype: int64"
          },
          "metadata": {}
        }
      ]
    },
    {
      "cell_type": "code",
      "source": [
        "# there is no values to extract from engine for '-' fuel type\n",
        "df[df['fuel_type'] == '–'].head(3)"
      ],
      "metadata": {
        "execution": {
          "iopub.status.busy": "2024-09-21T19:51:41.716379Z",
          "iopub.execute_input": "2024-09-21T19:51:41.716929Z",
          "iopub.status.idle": "2024-09-21T19:51:41.76386Z",
          "shell.execute_reply.started": "2024-09-21T19:51:41.716868Z",
          "shell.execute_reply": "2024-09-21T19:51:41.762634Z"
        },
        "trusted": true,
        "id": "4BZ50Lf8KNfR",
        "outputId": "6bae04ed-dbf6-4981-854f-24b562bc9085"
      },
      "execution_count": null,
      "outputs": [
        {
          "execution_count": 429,
          "output_type": "execute_result",
          "data": {
            "text/plain": "       brand                     model  model_year  milage fuel_type engine  \\\n532    Dodge  Challenger R/T Scat Pack        2021   35000         –      –   \n1155    Ford        Mustang GT Premium        2017  143600         –      –   \n1307  Toyota         Land Cruiser Base        1994  138033         –      –   \n\n     transmission ext_col int_col                                accident  \\\n532   8-Speed A/T    Blue    Gray                           None reported   \n1155  6-Speed M/T   White   Black  At least 1 accident or damage reported   \n1307          A/T   Green   Beige                           None reported   \n\n     clean_title    price  premium_auto  horsepower  engine_volume  \\\n532          Yes  48000.0             0         0.0            0.0   \n1155         Yes  31000.0             0         0.0            0.0   \n1307         Yes  11999.0             0         0.0            0.0   \n\n      num_of_cylinders  \n532                  0  \n1155                 0  \n1307                 0  ",
            "text/html": "<div>\n<style scoped>\n    .dataframe tbody tr th:only-of-type {\n        vertical-align: middle;\n    }\n\n    .dataframe tbody tr th {\n        vertical-align: top;\n    }\n\n    .dataframe thead th {\n        text-align: right;\n    }\n</style>\n<table border=\"1\" class=\"dataframe\">\n  <thead>\n    <tr style=\"text-align: right;\">\n      <th></th>\n      <th>brand</th>\n      <th>model</th>\n      <th>model_year</th>\n      <th>milage</th>\n      <th>fuel_type</th>\n      <th>engine</th>\n      <th>transmission</th>\n      <th>ext_col</th>\n      <th>int_col</th>\n      <th>accident</th>\n      <th>clean_title</th>\n      <th>price</th>\n      <th>premium_auto</th>\n      <th>horsepower</th>\n      <th>engine_volume</th>\n      <th>num_of_cylinders</th>\n    </tr>\n  </thead>\n  <tbody>\n    <tr>\n      <th>532</th>\n      <td>Dodge</td>\n      <td>Challenger R/T Scat Pack</td>\n      <td>2021</td>\n      <td>35000</td>\n      <td>–</td>\n      <td>–</td>\n      <td>8-Speed A/T</td>\n      <td>Blue</td>\n      <td>Gray</td>\n      <td>None reported</td>\n      <td>Yes</td>\n      <td>48000.0</td>\n      <td>0</td>\n      <td>0.0</td>\n      <td>0.0</td>\n      <td>0</td>\n    </tr>\n    <tr>\n      <th>1155</th>\n      <td>Ford</td>\n      <td>Mustang GT Premium</td>\n      <td>2017</td>\n      <td>143600</td>\n      <td>–</td>\n      <td>–</td>\n      <td>6-Speed M/T</td>\n      <td>White</td>\n      <td>Black</td>\n      <td>At least 1 accident or damage reported</td>\n      <td>Yes</td>\n      <td>31000.0</td>\n      <td>0</td>\n      <td>0.0</td>\n      <td>0.0</td>\n      <td>0</td>\n    </tr>\n    <tr>\n      <th>1307</th>\n      <td>Toyota</td>\n      <td>Land Cruiser Base</td>\n      <td>1994</td>\n      <td>138033</td>\n      <td>–</td>\n      <td>–</td>\n      <td>A/T</td>\n      <td>Green</td>\n      <td>Beige</td>\n      <td>None reported</td>\n      <td>Yes</td>\n      <td>11999.0</td>\n      <td>0</td>\n      <td>0.0</td>\n      <td>0.0</td>\n      <td>0</td>\n    </tr>\n  </tbody>\n</table>\n</div>"
          },
          "metadata": {}
        }
      ]
    },
    {
      "cell_type": "markdown",
      "source": [
        "Check missing values in ***fuel_type*** column"
      ],
      "metadata": {
        "id": "WrcNLoBWKNfR"
      }
    },
    {
      "cell_type": "code",
      "source": [
        "df['fuel_type'].isna().sum()"
      ],
      "metadata": {
        "execution": {
          "iopub.status.busy": "2024-09-21T19:51:50.305113Z",
          "iopub.execute_input": "2024-09-21T19:51:50.305555Z",
          "iopub.status.idle": "2024-09-21T19:51:50.328492Z",
          "shell.execute_reply.started": "2024-09-21T19:51:50.305513Z",
          "shell.execute_reply": "2024-09-21T19:51:50.327081Z"
        },
        "trusted": true,
        "id": "1s4Vs6igKNfR",
        "outputId": "4ef83859-0b12-4c7b-8488-6883b58ee0b0"
      },
      "execution_count": null,
      "outputs": [
        {
          "execution_count": 430,
          "output_type": "execute_result",
          "data": {
            "text/plain": "8466"
          },
          "metadata": {}
        }
      ]
    },
    {
      "cell_type": "markdown",
      "source": [
        "Use engine ***column*** to extract data for *fuel_type* column"
      ],
      "metadata": {
        "id": "1OkLTU0kKNfR"
      }
    },
    {
      "cell_type": "code",
      "source": [
        "fuel = df[pd.isna(df['fuel_type'])]\n",
        "type_of_fuel = []\n",
        "for col in fuel['engine']:\n",
        "    col = col.lower()\n",
        "    if 'hybrid' in col:\n",
        "        type_of_fuel.append('Hybrid')\n",
        "    elif 'gasoline' in col:\n",
        "        type_of_fuel.append('Gasoline')\n",
        "    elif 'flex fuel' in col:\n",
        "        type_of_fuel.append('E85 Flex Fuel')\n",
        "    elif 'diesel' in col:\n",
        "        type_of_fuel.append('Diesel')\n",
        "    else:\n",
        "        type_of_fuel.append('Electric')\n",
        "\n",
        "\n",
        "nan_indices = df[pd.isna(df['fuel_type'])].index\n",
        "df.loc[nan_indices, 'fuel_type'] = type_of_fuel"
      ],
      "metadata": {
        "execution": {
          "iopub.status.busy": "2024-09-21T19:51:53.848839Z",
          "iopub.execute_input": "2024-09-21T19:51:53.849352Z",
          "iopub.status.idle": "2024-09-21T19:51:53.918235Z",
          "shell.execute_reply.started": "2024-09-21T19:51:53.849308Z",
          "shell.execute_reply": "2024-09-21T19:51:53.91666Z"
        },
        "trusted": true,
        "id": "3Zsq_I2uKNfR"
      },
      "execution_count": null,
      "outputs": []
    },
    {
      "cell_type": "code",
      "source": [
        "df['transmission'].value_counts()"
      ],
      "metadata": {
        "execution": {
          "iopub.status.busy": "2024-09-21T19:51:56.074655Z",
          "iopub.execute_input": "2024-09-21T19:51:56.075763Z",
          "iopub.status.idle": "2024-09-21T19:51:56.111748Z",
          "shell.execute_reply.started": "2024-09-21T19:51:56.0757Z",
          "shell.execute_reply": "2024-09-21T19:51:56.110421Z"
        },
        "trusted": true,
        "id": "aD1vYnn-KNfR",
        "outputId": "73d0859c-1e0f-4e91-a639-0cea97d1c127"
      },
      "execution_count": null,
      "outputs": [
        {
          "execution_count": 432,
          "output_type": "execute_result",
          "data": {
            "text/plain": "transmission\nA/T                                                   83036\n8-Speed A/T                                           34586\nTransmission w/Dual Shift Mode                        32079\n6-Speed A/T                                           30105\n6-Speed M/T                                           19863\n7-Speed A/T                                           18498\nAutomatic                                             17866\n8-Speed Automatic                                     13977\n10-Speed A/T                                          13347\n9-Speed A/T                                            6450\n5-Speed A/T                                            5458\n10-Speed Automatic                                     5268\n6-Speed Automatic                                      4690\n4-Speed A/T                                            4212\n5-Speed M/T                                            4048\n9-Speed Automatic                                      3878\nCVT Transmission                                       3327\n1-Speed A/T                                            3160\n7-Speed Automatic with Auto-Shift                      1972\nM/T                                                    1920\nAutomatic CVT                                          1370\n8-Speed Automatic with Auto-Shift                       894\n7-Speed M/T                                             635\n1-Speed Automatic                                       600\n6-Speed Manual                                          341\n5-Speed Automatic                                       290\n7-Speed Automatic                                       290\nTransmission Overdrive Switch                           280\n7-Speed Manual                                          240\n6-Speed Automatic with Auto-Shift                       173\n2                                                       155\n–                                                       127\nVariable                                                124\n2-Speed A/T                                             116\nF                                                       107\n4-Speed Automatic                                        83\n10-Speed Automatic with Overdrive                        79\n6 Speed Mt                                               66\n9-Speed Automatic with Auto-Shift                        61\n6-Speed Electronically Controlled Automatic with O       60\n8-Speed Manual                                           51\n7-Speed                                                  50\nManual                                                   45\n6-Speed                                                  41\n2-Speed Automatic                                        35\n6 Speed At/Mt                                            34\n7-Speed DCT Automatic                                    29\nSingle-Speed Fixed Gear                                  28\nCVT-F                                                    27\n8-SPEED AT                                               22\n8-SPEED A/T                                              15\nSCHEDULED FOR OR IN PRODUCTION                           15\nName: count, dtype: int64"
          },
          "metadata": {}
        }
      ]
    },
    {
      "cell_type": "markdown",
      "source": [
        "Simplify ***transmission*** type column"
      ],
      "metadata": {
        "id": "aM-MXAjaKNfR"
      }
    },
    {
      "cell_type": "code",
      "source": [
        "fuel = df[pd.isna(df['fuel_type'])]\n",
        "\n",
        "# Iterate over 'engine' column, update 'fuel_type' based on keywords\n",
        "for i, col in enumerate(fuel['engine'].str.lower()):  # Lowercase all 'engine' values\n",
        "    if 'hybrid' in col:\n",
        "        df.loc[fuel.index[i], 'fuel_type'] = 'Hybrid'\n",
        "    elif 'gasoline' in col:\n",
        "        df.loc[fuel.index[i], 'fuel_type'] = 'Gasoline'\n",
        "    elif 'flex fuel' in col:\n",
        "        df.loc[fuel.index[i], 'fuel_type'] = 'E85 Flex Fuel'\n",
        "    elif 'diesel' in col:\n",
        "        df.loc[fuel.index[i], 'fuel_type'] = 'Diesel'\n",
        "    else:\n",
        "        df.loc[fuel.index[i], 'fuel_type'] = 'Electric'\n"
      ],
      "metadata": {
        "execution": {
          "iopub.status.busy": "2024-09-21T19:52:00.416113Z",
          "iopub.execute_input": "2024-09-21T19:52:00.416646Z",
          "iopub.status.idle": "2024-09-21T19:52:00.459641Z",
          "shell.execute_reply.started": "2024-09-21T19:52:00.416593Z",
          "shell.execute_reply": "2024-09-21T19:52:00.45808Z"
        },
        "trusted": true,
        "id": "iBgnQsCaKNfR"
      },
      "execution_count": null,
      "outputs": []
    },
    {
      "cell_type": "code",
      "source": [
        "(100 * df.isna().sum()/df.shape[0]).sort_values(ascending=False)"
      ],
      "metadata": {
        "execution": {
          "iopub.status.busy": "2024-09-21T19:52:02.87676Z",
          "iopub.execute_input": "2024-09-21T19:52:02.877339Z",
          "iopub.status.idle": "2024-09-21T19:52:03.02681Z",
          "shell.execute_reply.started": "2024-09-21T19:52:02.877289Z",
          "shell.execute_reply": "2024-09-21T19:52:03.025211Z"
        },
        "trusted": true,
        "id": "HNqoGQswKNfS",
        "outputId": "f77b789f-fe46-4cea-a17c-f468284cfe6e"
      },
      "execution_count": null,
      "outputs": [
        {
          "execution_count": 435,
          "output_type": "execute_result",
          "data": {
            "text/plain": "price               40.000255\nclean_title         11.347992\naccident             1.299714\nbrand                0.000000\nmodel                0.000000\nmodel_year           0.000000\nmilage               0.000000\nfuel_type            0.000000\nengine               0.000000\ntransmission         0.000000\next_col              0.000000\nint_col              0.000000\npremium_auto         0.000000\nhorsepower           0.000000\nengine_volume        0.000000\nnum_of_cylinders     0.000000\ndtype: float64"
          },
          "metadata": {}
        }
      ]
    },
    {
      "cell_type": "code",
      "source": [
        "import seaborn as sns\n",
        "import matplotlib.pyplot as plt\n",
        "\n",
        "sns.displot(df['num_of_cylinders'])\n",
        "\n",
        "plt.xticks(rotation=90)\n",
        "\n",
        "plt.show()\n"
      ],
      "metadata": {
        "execution": {
          "iopub.status.busy": "2024-09-21T19:44:46.926007Z",
          "iopub.execute_input": "2024-09-21T19:44:46.926497Z",
          "iopub.status.idle": "2024-09-21T19:44:49.022407Z",
          "shell.execute_reply.started": "2024-09-21T19:44:46.92645Z",
          "shell.execute_reply": "2024-09-21T19:44:49.020928Z"
        },
        "trusted": true,
        "id": "hOd3TetkKNfS",
        "outputId": "d6c54b73-95b7-4695-883f-e6d63a709359"
      },
      "execution_count": null,
      "outputs": [
        {
          "name": "stderr",
          "text": "/opt/conda/lib/python3.10/site-packages/seaborn/_oldcore.py:1119: FutureWarning: use_inf_as_na option is deprecated and will be removed in a future version. Convert inf values to NaN before operating instead.\n  with pd.option_context('mode.use_inf_as_na', True):\n",
          "output_type": "stream"
        },
        {
          "output_type": "display_data",
          "data": {
            "text/plain": "<Figure size 500x500 with 1 Axes>",
            "image/png": "[encoded data removed]"
          },
          "metadata": {}
        }
      ]
    },
    {
      "cell_type": "code",
      "source": [
        "import seaborn as sns\n",
        "import matplotlib.pyplot as plt\n",
        "\n",
        "sns.displot(df['horsepower'], kde=True)\n",
        "\n",
        "plt.xticks(rotation=90)\n",
        "\n",
        "plt.show()\n"
      ],
      "metadata": {
        "execution": {
          "iopub.status.busy": "2024-09-21T19:44:51.325595Z",
          "iopub.execute_input": "2024-09-21T19:44:51.326184Z",
          "iopub.status.idle": "2024-09-21T19:44:53.464843Z",
          "shell.execute_reply.started": "2024-09-21T19:44:51.326106Z",
          "shell.execute_reply": "2024-09-21T19:44:53.463248Z"
        },
        "trusted": true,
        "id": "ndS5C5_nKNfS",
        "outputId": "710afb3f-e895-467e-ce3f-5f8d042cffe6"
      },
      "execution_count": null,
      "outputs": [
        {
          "name": "stderr",
          "text": "/opt/conda/lib/python3.10/site-packages/seaborn/_oldcore.py:1119: FutureWarning: use_inf_as_na option is deprecated and will be removed in a future version. Convert inf values to NaN before operating instead.\n  with pd.option_context('mode.use_inf_as_na', True):\n",
          "output_type": "stream"
        },
        {
          "output_type": "display_data",
          "data": {
            "text/plain": "<Figure size 500x500 with 1 Axes>",
            "image/png": "[encoded data removed]"
          },
          "metadata": {}
        }
      ]
    },
    {
      "cell_type": "code",
      "source": [
        "import seaborn as sns\n",
        "import matplotlib.pyplot as plt\n",
        "\n",
        "sns.displot(df['engine_volume'], kde=True)"
      ],
      "metadata": {
        "execution": {
          "iopub.status.busy": "2024-09-21T19:44:56.817469Z",
          "iopub.execute_input": "2024-09-21T19:44:56.817936Z",
          "iopub.status.idle": "2024-09-21T19:44:58.857858Z",
          "shell.execute_reply.started": "2024-09-21T19:44:56.81789Z",
          "shell.execute_reply": "2024-09-21T19:44:58.856703Z"
        },
        "trusted": true,
        "id": "uVbun2QTKNfS",
        "outputId": "0d6d544a-0f48-483b-cd3d-42b285d88a03"
      },
      "execution_count": null,
      "outputs": [
        {
          "name": "stderr",
          "text": "/opt/conda/lib/python3.10/site-packages/seaborn/_oldcore.py:1119: FutureWarning: use_inf_as_na option is deprecated and will be removed in a future version. Convert inf values to NaN before operating instead.\n  with pd.option_context('mode.use_inf_as_na', True):\n",
          "output_type": "stream"
        },
        {
          "execution_count": 378,
          "output_type": "execute_result",
          "data": {
            "text/plain": "<seaborn.axisgrid.FacetGrid at 0x793cc80de350>"
          },
          "metadata": {}
        },
        {
          "output_type": "display_data",
          "data": {
            "text/plain": "<Figure size 500x500 with 1 Axes>",
            "image/png": "[encoded data removed]"
          },
          "metadata": {}
        }
      ]
    },
    {
      "cell_type": "code",
      "source": [
        "df['clean_title'].value_counts()"
      ],
      "metadata": {
        "execution": {
          "iopub.status.busy": "2024-09-21T19:52:11.206951Z",
          "iopub.execute_input": "2024-09-21T19:52:11.207418Z",
          "iopub.status.idle": "2024-09-21T19:52:11.242138Z",
          "shell.execute_reply.started": "2024-09-21T19:52:11.207373Z",
          "shell.execute_reply": "2024-09-21T19:52:11.240395Z"
        },
        "trusted": true,
        "id": "KL36V66hKNfS",
        "outputId": "43a1253a-bccb-4612-b966-b7c249aefedf"
      },
      "execution_count": null,
      "outputs": [
        {
          "execution_count": 436,
          "output_type": "execute_result",
          "data": {
            "text/plain": "clean_title\nYes    278565\nName: count, dtype: int64"
          },
          "metadata": {}
        }
      ]
    },
    {
      "cell_type": "markdown",
      "source": [
        "***clean_title*** contains one value, I drop this column"
      ],
      "metadata": {
        "id": "gkbAX0BXKNfS"
      }
    },
    {
      "cell_type": "code",
      "source": [
        "df = df.drop(['clean_title'], axis=1)"
      ],
      "metadata": {
        "execution": {
          "iopub.status.busy": "2024-09-21T19:52:13.429732Z",
          "iopub.execute_input": "2024-09-21T19:52:13.431001Z",
          "iopub.status.idle": "2024-09-21T19:52:13.477647Z",
          "shell.execute_reply.started": "2024-09-21T19:52:13.430947Z",
          "shell.execute_reply": "2024-09-21T19:52:13.47607Z"
        },
        "trusted": true,
        "id": "BW54kGF3KNfS"
      },
      "execution_count": null,
      "outputs": []
    },
    {
      "cell_type": "code",
      "source": [
        "df.head()"
      ],
      "metadata": {
        "execution": {
          "iopub.status.busy": "2024-09-21T19:52:16.01216Z",
          "iopub.execute_input": "2024-09-21T19:52:16.012604Z",
          "iopub.status.idle": "2024-09-21T19:52:16.033029Z",
          "shell.execute_reply.started": "2024-09-21T19:52:16.012561Z",
          "shell.execute_reply": "2024-09-21T19:52:16.031367Z"
        },
        "trusted": true,
        "id": "tGiWCASXKNfS",
        "outputId": "fd465d91-25a2-4459-9f39-b8edcb3bd5ee"
      },
      "execution_count": null,
      "outputs": [
        {
          "execution_count": 438,
          "output_type": "execute_result",
          "data": {
            "text/plain": "           brand              model  model_year  milage      fuel_type  \\\n0           MINI      Cooper S Base        2007  213000       Gasoline   \n1        Lincoln              LS V8        2002  143250       Gasoline   \n2      Chevrolet  Silverado 2500 LT        2002  136731  E85 Flex Fuel   \n3        Genesis   G90 5.0 Ultimate        2017   19500       Gasoline   \n4  Mercedes-Benz        Metris Base        2021    7388       Gasoline   \n\n                                              engine  \\\n0       172.0HP 1.6L 4 Cylinder Engine Gasoline Fuel   \n1       252.0HP 3.9L 8 Cylinder Engine Gasoline Fuel   \n2  320.0HP 5.3L 8 Cylinder Engine Flex Fuel Capab...   \n3       420.0HP 5.0L 8 Cylinder Engine Gasoline Fuel   \n4       208.0HP 2.0L 4 Cylinder Engine Gasoline Fuel   \n\n                     transmission ext_col int_col  \\\n0                             A/T  Yellow    Gray   \n1                             A/T  Silver   Beige   \n2                             A/T    Blue    Gray   \n3  Transmission w/Dual Shift Mode   Black   Black   \n4                     7-Speed A/T   Black   Beige   \n\n                                 accident    price  premium_auto  horsepower  \\\n0                           None reported   4200.0             0       172.0   \n1  At least 1 accident or damage reported   4999.0             1       252.0   \n2                           None reported  13900.0             0       320.0   \n3                           None reported  45000.0             0       420.0   \n4                           None reported  97500.0             1       208.0   \n\n   engine_volume  num_of_cylinders  \n0            1.6                 4  \n1            3.9                 8  \n2            5.3                 8  \n3            5.0                 8  \n4            2.0                 4  ",
            "text/html": "<div>\n<style scoped>\n    .dataframe tbody tr th:only-of-type {\n        vertical-align: middle;\n    }\n\n    .dataframe tbody tr th {\n        vertical-align: top;\n    }\n\n    .dataframe thead th {\n        text-align: right;\n    }\n</style>\n<table border=\"1\" class=\"dataframe\">\n  <thead>\n    <tr style=\"text-align: right;\">\n      <th></th>\n      <th>brand</th>\n      <th>model</th>\n      <th>model_year</th>\n      <th>milage</th>\n      <th>fuel_type</th>\n      <th>engine</th>\n      <th>transmission</th>\n      <th>ext_col</th>\n      <th>int_col</th>\n      <th>accident</th>\n      <th>price</th>\n      <th>premium_auto</th>\n      <th>horsepower</th>\n      <th>engine_volume</th>\n      <th>num_of_cylinders</th>\n    </tr>\n  </thead>\n  <tbody>\n    <tr>\n      <th>0</th>\n      <td>MINI</td>\n      <td>Cooper S Base</td>\n      <td>2007</td>\n      <td>213000</td>\n      <td>Gasoline</td>\n      <td>172.0HP 1.6L 4 Cylinder Engine Gasoline Fuel</td>\n      <td>A/T</td>\n      <td>Yellow</td>\n      <td>Gray</td>\n      <td>None reported</td>\n      <td>4200.0</td>\n      <td>0</td>\n      <td>172.0</td>\n      <td>1.6</td>\n      <td>4</td>\n    </tr>\n    <tr>\n      <th>1</th>\n      <td>Lincoln</td>\n      <td>LS V8</td>\n      <td>2002</td>\n      <td>143250</td>\n      <td>Gasoline</td>\n      <td>252.0HP 3.9L 8 Cylinder Engine Gasoline Fuel</td>\n      <td>A/T</td>\n      <td>Silver</td>\n      <td>Beige</td>\n      <td>At least 1 accident or damage reported</td>\n      <td>4999.0</td>\n      <td>1</td>\n      <td>252.0</td>\n      <td>3.9</td>\n      <td>8</td>\n    </tr>\n    <tr>\n      <th>2</th>\n      <td>Chevrolet</td>\n      <td>Silverado 2500 LT</td>\n      <td>2002</td>\n      <td>136731</td>\n      <td>E85 Flex Fuel</td>\n      <td>320.0HP 5.3L 8 Cylinder Engine Flex Fuel Capab...</td>\n      <td>A/T</td>\n      <td>Blue</td>\n      <td>Gray</td>\n      <td>None reported</td>\n      <td>13900.0</td>\n      <td>0</td>\n      <td>320.0</td>\n      <td>5.3</td>\n      <td>8</td>\n    </tr>\n    <tr>\n      <th>3</th>\n      <td>Genesis</td>\n      <td>G90 5.0 Ultimate</td>\n      <td>2017</td>\n      <td>19500</td>\n      <td>Gasoline</td>\n      <td>420.0HP 5.0L 8 Cylinder Engine Gasoline Fuel</td>\n      <td>Transmission w/Dual Shift Mode</td>\n      <td>Black</td>\n      <td>Black</td>\n      <td>None reported</td>\n      <td>45000.0</td>\n      <td>0</td>\n      <td>420.0</td>\n      <td>5.0</td>\n      <td>8</td>\n    </tr>\n    <tr>\n      <th>4</th>\n      <td>Mercedes-Benz</td>\n      <td>Metris Base</td>\n      <td>2021</td>\n      <td>7388</td>\n      <td>Gasoline</td>\n      <td>208.0HP 2.0L 4 Cylinder Engine Gasoline Fuel</td>\n      <td>7-Speed A/T</td>\n      <td>Black</td>\n      <td>Beige</td>\n      <td>None reported</td>\n      <td>97500.0</td>\n      <td>1</td>\n      <td>208.0</td>\n      <td>2.0</td>\n      <td>4</td>\n    </tr>\n  </tbody>\n</table>\n</div>"
          },
          "metadata": {}
        }
      ]
    },
    {
      "cell_type": "markdown",
      "source": [
        "Processing ***accident*** column. Fill with mode value"
      ],
      "metadata": {
        "id": "fX2AP72oKNfS"
      }
    },
    {
      "cell_type": "code",
      "source": [
        "df['accident'] = df['accident'].fillna(df['accident'].mode()[0])"
      ],
      "metadata": {
        "execution": {
          "iopub.status.busy": "2024-09-21T19:52:20.457205Z",
          "iopub.execute_input": "2024-09-21T19:52:20.45812Z",
          "iopub.status.idle": "2024-09-21T19:52:20.519474Z",
          "shell.execute_reply.started": "2024-09-21T19:52:20.45807Z",
          "shell.execute_reply": "2024-09-21T19:52:20.517927Z"
        },
        "trusted": true,
        "id": "GBtTG5aKKNfS"
      },
      "execution_count": null,
      "outputs": []
    },
    {
      "cell_type": "code",
      "source": [
        "df['num_of_cylinders'] = df['num_of_cylinders'].fillna(0)"
      ],
      "metadata": {
        "execution": {
          "iopub.status.busy": "2024-09-21T19:52:22.368974Z",
          "iopub.execute_input": "2024-09-21T19:52:22.369579Z",
          "iopub.status.idle": "2024-09-21T19:52:22.377037Z",
          "shell.execute_reply.started": "2024-09-21T19:52:22.369529Z",
          "shell.execute_reply": "2024-09-21T19:52:22.375686Z"
        },
        "trusted": true,
        "id": "jRLCa2ZVKNfS"
      },
      "execution_count": null,
      "outputs": []
    },
    {
      "cell_type": "markdown",
      "source": [
        "Treat a low frequency values"
      ],
      "metadata": {
        "id": "jcTJXd5SKNfS"
      }
    },
    {
      "cell_type": "code",
      "source": [
        "def treat_low_frequency(df):\n",
        "    threshold = 150\n",
        "    category_columns = ['brand', 'model', 'fuel_type', 'engine', 'transmission',\n",
        "                        'ext_col', 'int_col', 'accident']\n",
        "\n",
        "    to_treat = ['model', 'engine', 'transmission', 'ext_col', 'int_col']\n",
        "\n",
        "    for col in to_treat:\n",
        "        # Replace low-frequency values with 'Noise'\n",
        "        value_counts = df[col].value_counts(dropna=False)\n",
        "        low_freq_mask = df[col].map(value_counts) < threshold\n",
        "        df.loc[low_freq_mask, col] = \"Noise\"\n",
        "\n",
        "    for col in category_columns:\n",
        "        # Fill missing values and convert to category using .loc[]\n",
        "        df.loc[:, col] = df[col].astype(str)  # Ensures the original DataFrame is updated\n",
        "        df.loc[:, col] = df[col].fillna('Unknown')\n",
        "        df.loc[:, col] = df[col].astype('category')  # Convert back to category\n",
        "\n",
        "    return df\n",
        "\n",
        "# Apply the cleaning function to your datasets\n",
        "train_ds = treat_low_frequency(df.iloc[:limit, :])\n",
        "test_ds = treat_low_frequency(df.iloc[limit:, :])\n"
      ],
      "metadata": {
        "execution": {
          "iopub.status.busy": "2024-09-21T19:54:55.622401Z",
          "iopub.execute_input": "2024-09-21T19:54:55.622907Z",
          "iopub.status.idle": "2024-09-21T19:54:56.280547Z",
          "shell.execute_reply.started": "2024-09-21T19:54:55.622864Z",
          "shell.execute_reply": "2024-09-21T19:54:56.279112Z"
        },
        "trusted": true,
        "id": "AY3x-uMZKNfS"
      },
      "execution_count": null,
      "outputs": []
    },
    {
      "cell_type": "code",
      "source": [
        "train_ds.shape"
      ],
      "metadata": {
        "execution": {
          "iopub.status.busy": "2024-09-21T19:54:59.11242Z",
          "iopub.execute_input": "2024-09-21T19:54:59.113019Z",
          "iopub.status.idle": "2024-09-21T19:54:59.121202Z",
          "shell.execute_reply.started": "2024-09-21T19:54:59.112958Z",
          "shell.execute_reply": "2024-09-21T19:54:59.119717Z"
        },
        "trusted": true,
        "id": "5c9Lhfx8KNfS",
        "outputId": "6d85d6bc-3eae-4504-854e-661d64f548df"
      },
      "execution_count": null,
      "outputs": [
        {
          "execution_count": 452,
          "output_type": "execute_result",
          "data": {
            "text/plain": "(192542, 15)"
          },
          "metadata": {}
        }
      ]
    },
    {
      "cell_type": "code",
      "source": [
        "train_ds.isna().sum()"
      ],
      "metadata": {
        "execution": {
          "iopub.status.busy": "2024-09-21T19:55:12.522593Z",
          "iopub.execute_input": "2024-09-21T19:55:12.523631Z",
          "iopub.status.idle": "2024-09-21T19:55:12.678962Z",
          "shell.execute_reply.started": "2024-09-21T19:55:12.523573Z",
          "shell.execute_reply": "2024-09-21T19:55:12.677485Z"
        },
        "trusted": true,
        "id": "CLNf3mqzKNfT",
        "outputId": "ab01e4d0-0594-437d-a302-ed690eb51844"
      },
      "execution_count": null,
      "outputs": [
        {
          "execution_count": 453,
          "output_type": "execute_result",
          "data": {
            "text/plain": "brand                  0\nmodel                  0\nmodel_year             0\nmilage                 0\nfuel_type              0\nengine                 0\ntransmission           0\next_col                0\nint_col                0\naccident               0\nprice               4009\npremium_auto           0\nhorsepower             0\nengine_volume          0\nnum_of_cylinders       0\ndtype: int64"
          },
          "metadata": {}
        }
      ]
    },
    {
      "cell_type": "code",
      "source": [
        "X = train_ds.drop('price', axis=1)\n",
        "y = train_original['price']"
      ],
      "metadata": {
        "execution": {
          "iopub.status.busy": "2024-09-21T19:56:31.52747Z",
          "iopub.execute_input": "2024-09-21T19:56:31.52795Z",
          "iopub.status.idle": "2024-09-21T19:56:31.552479Z",
          "shell.execute_reply.started": "2024-09-21T19:56:31.527906Z",
          "shell.execute_reply": "2024-09-21T19:56:31.551324Z"
        },
        "trusted": true,
        "id": "jqynfY-0KNfT"
      },
      "execution_count": null,
      "outputs": []
    },
    {
      "cell_type": "code",
      "source": [
        "for col in X.select_dtypes(include=['object']):\n",
        "    X[col] = X[col].astype('category')"
      ],
      "metadata": {
        "execution": {
          "iopub.status.busy": "2024-09-21T19:56:34.633481Z",
          "iopub.execute_input": "2024-09-21T19:56:34.633934Z",
          "iopub.status.idle": "2024-09-21T19:56:34.834142Z",
          "shell.execute_reply.started": "2024-09-21T19:56:34.633889Z",
          "shell.execute_reply": "2024-09-21T19:56:34.832867Z"
        },
        "trusted": true,
        "id": "c3lKQqQrKNfT"
      },
      "execution_count": null,
      "outputs": []
    },
    {
      "cell_type": "code",
      "source": [
        "X.select_dtypes(include=['category']).head(3)"
      ],
      "metadata": {
        "execution": {
          "iopub.status.busy": "2024-09-21T19:56:35.924778Z",
          "iopub.execute_input": "2024-09-21T19:56:35.925224Z",
          "iopub.status.idle": "2024-09-21T19:56:35.945456Z",
          "shell.execute_reply.started": "2024-09-21T19:56:35.925183Z",
          "shell.execute_reply": "2024-09-21T19:56:35.944429Z"
        },
        "trusted": true,
        "id": "4cUf8-svKNfT",
        "outputId": "d70c6754-51bc-4643-cd7a-0903a64ae60f"
      },
      "execution_count": null,
      "outputs": [
        {
          "execution_count": 457,
          "output_type": "execute_result",
          "data": {
            "text/plain": "       brand          model      fuel_type  \\\n0       MINI  Cooper S Base       Gasoline   \n1    Lincoln          Noise       Gasoline   \n2  Chevrolet          Noise  E85 Flex Fuel   \n\n                                              engine transmission ext_col  \\\n0       172.0HP 1.6L 4 Cylinder Engine Gasoline Fuel          A/T  Yellow   \n1                                              Noise          A/T  Silver   \n2  320.0HP 5.3L 8 Cylinder Engine Flex Fuel Capab...          A/T    Blue   \n\n  int_col                                accident  \n0    Gray                           None reported  \n1   Beige  At least 1 accident or damage reported  \n2    Gray                           None reported  ",
            "text/html": "<div>\n<style scoped>\n    .dataframe tbody tr th:only-of-type {\n        vertical-align: middle;\n    }\n\n    .dataframe tbody tr th {\n        vertical-align: top;\n    }\n\n    .dataframe thead th {\n        text-align: right;\n    }\n</style>\n<table border=\"1\" class=\"dataframe\">\n  <thead>\n    <tr style=\"text-align: right;\">\n      <th></th>\n      <th>brand</th>\n      <th>model</th>\n      <th>fuel_type</th>\n      <th>engine</th>\n      <th>transmission</th>\n      <th>ext_col</th>\n      <th>int_col</th>\n      <th>accident</th>\n    </tr>\n  </thead>\n  <tbody>\n    <tr>\n      <th>0</th>\n      <td>MINI</td>\n      <td>Cooper S Base</td>\n      <td>Gasoline</td>\n      <td>172.0HP 1.6L 4 Cylinder Engine Gasoline Fuel</td>\n      <td>A/T</td>\n      <td>Yellow</td>\n      <td>Gray</td>\n      <td>None reported</td>\n    </tr>\n    <tr>\n      <th>1</th>\n      <td>Lincoln</td>\n      <td>Noise</td>\n      <td>Gasoline</td>\n      <td>Noise</td>\n      <td>A/T</td>\n      <td>Silver</td>\n      <td>Beige</td>\n      <td>At least 1 accident or damage reported</td>\n    </tr>\n    <tr>\n      <th>2</th>\n      <td>Chevrolet</td>\n      <td>Noise</td>\n      <td>E85 Flex Fuel</td>\n      <td>320.0HP 5.3L 8 Cylinder Engine Flex Fuel Capab...</td>\n      <td>A/T</td>\n      <td>Blue</td>\n      <td>Gray</td>\n      <td>None reported</td>\n    </tr>\n  </tbody>\n</table>\n</div>"
          },
          "metadata": {}
        }
      ]
    },
    {
      "cell_type": "code",
      "source": [
        "y"
      ],
      "metadata": {
        "execution": {
          "iopub.status.busy": "2024-09-21T19:56:45.602281Z",
          "iopub.execute_input": "2024-09-21T19:56:45.60275Z",
          "iopub.status.idle": "2024-09-21T19:56:45.612167Z",
          "shell.execute_reply.started": "2024-09-21T19:56:45.602703Z",
          "shell.execute_reply": "2024-09-21T19:56:45.611017Z"
        },
        "trusted": true,
        "id": "alf1v88gKNfT",
        "outputId": "fdfa6a20-d3d7-4d8d-9c83-97d10a5e92a2"
      },
      "execution_count": null,
      "outputs": [
        {
          "execution_count": 458,
          "output_type": "execute_result",
          "data": {
            "text/plain": "0           4200\n1           4999\n2          13900\n3          45000\n4          97500\n           ...  \n192537    349950\n192538     53900\n192539     90998\n192540     62999\n192541     40000\nName: price, Length: 192542, dtype: int64"
          },
          "metadata": {}
        }
      ]
    },
    {
      "cell_type": "code",
      "source": [
        "train_ds.isna().sum()"
      ],
      "metadata": {
        "execution": {
          "iopub.status.busy": "2024-09-21T19:54:02.427507Z",
          "iopub.execute_input": "2024-09-21T19:54:02.428031Z",
          "iopub.status.idle": "2024-09-21T19:54:02.509446Z",
          "shell.execute_reply.started": "2024-09-21T19:54:02.427985Z",
          "shell.execute_reply": "2024-09-21T19:54:02.508395Z"
        },
        "trusted": true,
        "id": "-K4HwTGEKNfT",
        "outputId": "91350aed-cce1-4f1c-956e-b3c859a4c329"
      },
      "execution_count": null,
      "outputs": [
        {
          "execution_count": 449,
          "output_type": "execute_result",
          "data": {
            "text/plain": "brand                  0\nmodel                  0\nmodel_year             0\nmilage                 0\nfuel_type              0\nengine                 0\ntransmission           0\next_col                0\nint_col                0\naccident               0\nprice               4009\npremium_auto           0\nhorsepower             0\nengine_volume          0\nnum_of_cylinders       0\ndtype: int64"
          },
          "metadata": {}
        }
      ]
    },
    {
      "cell_type": "markdown",
      "source": [
        "**LightGBM**"
      ],
      "metadata": {
        "id": "BvScj-q0KNfT"
      }
    },
    {
      "cell_type": "code",
      "source": [
        "from sklearn.model_selection import train_test_split, KFold, cross_val_score\n",
        "from lightgbm import LGBMRegressor\n",
        "import numpy as np\n",
        "\n",
        "# Initialize the LGBMRegressor model\n",
        "clf_lightgbm = LGBMRegressor(n_estimators=500,\n",
        "                             learning_rate=0.01,\n",
        "                             max_depth=3,\n",
        "                             subsample=0.8652699432423165,\n",
        "                             min_child_weight=0.0011818629604984495,\n",
        "                             reg_alpha= 2.9940615297340547,\n",
        "                             num_leaves=58,\n",
        "\n",
        "                             colsample_bytree=0.7581942953294089,\n",
        "                             reg_lambda=0.42348252148933985,\n",
        "                             verbose=-1)  # verbose=-1 to suppress output during cross-validation\n",
        "\n",
        "# Define k-fold cross-validation\n",
        "n_splits = 5  # number of folds\n",
        "kf = KFold(n_splits=n_splits, shuffle=True, random_state=42)\n",
        "\n",
        "# Perform cross-validation and evaluate RMSE\n",
        "rmse_scores = -cross_val_score(clf_lightgbm, X, y, scoring='neg_root_mean_squared_error', cv=kf)\n",
        "\n",
        "# Calculate mean and standard deviation of RMSE\n",
        "mean_rmse = np.mean(rmse_scores)\n",
        "std_rmse = np.std(rmse_scores)\n",
        "\n",
        "print(f\"Mean RMSE (LightGBM): {mean_rmse:.4f}\")\n",
        "print(f\"Standard Deviation of RMSE (LightGBM): {std_rmse:.4f}\")\n",
        "\n",
        "# Fit the LightGBM model to the training data\n",
        "clf_lightgbm.fit(X, y)\n",
        "#72580.3820"
      ],
      "metadata": {
        "execution": {
          "iopub.status.busy": "2024-09-21T19:12:08.953636Z",
          "iopub.execute_input": "2024-09-21T19:12:08.9544Z",
          "iopub.status.idle": "2024-09-21T19:13:02.280786Z",
          "shell.execute_reply.started": "2024-09-21T19:12:08.954353Z",
          "shell.execute_reply": "2024-09-21T19:13:02.279392Z"
        },
        "trusted": true,
        "id": "gKQ8X29nKNfT",
        "outputId": "cf4795b4-4271-4923-8b36-03f1a3518424"
      },
      "execution_count": null,
      "outputs": [
        {
          "name": "stdout",
          "text": "Mean RMSE (LightGBM): 73000.6849\nStandard Deviation of RMSE (LightGBM): 3128.4464\n",
          "output_type": "stream"
        },
        {
          "execution_count": 311,
          "output_type": "execute_result",
          "data": {
            "text/plain": "LGBMRegressor(colsample_bytree=0.7581942953294089, learning_rate=0.01,\n              max_depth=3, min_child_weight=0.0011818629604984495,\n              n_estimators=500, num_leaves=58, reg_alpha=2.9940615297340547,\n              reg_lambda=0.42348252148933985, subsample=0.8652699432423165,\n              verbose=-1)",
            "text/html": "<style>#sk-container-id-3 {color: black;background-color: white;}#sk-container-id-3 pre{padding: 0;}#sk-container-id-3 div.sk-toggleable {background-color: white;}#sk-container-id-3 label.sk-toggleable__label {cursor: pointer;display: block;width: 100%;margin-bottom: 0;padding: 0.3em;box-sizing: border-box;text-align: center;}#sk-container-id-3 label.sk-toggleable__label-arrow:before {content: \"▸\";float: left;margin-right: 0.25em;color: #696969;}#sk-container-id-3 label.sk-toggleable__label-arrow:hover:before {color: black;}#sk-container-id-3 div.sk-estimator:hover label.sk-toggleable__label-arrow:before {color: black;}#sk-container-id-3 div.sk-toggleable__content {max-height: 0;max-width: 0;overflow: hidden;text-align: left;background-color: #f0f8ff;}#sk-container-id-3 div.sk-toggleable__content pre {margin: 0.2em;color: black;border-radius: 0.25em;background-color: #f0f8ff;}#sk-container-id-3 input.sk-toggleable__control:checked~div.sk-toggleable__content {max-height: 200px;max-width: 100%;overflow: auto;}#sk-container-id-3 input.sk-toggleable__control:checked~label.sk-toggleable__label-arrow:before {content: \"▾\";}#sk-container-id-3 div.sk-estimator input.sk-toggleable__control:checked~label.sk-toggleable__label {background-color: #d4ebff;}#sk-container-id-3 div.sk-label input.sk-toggleable__control:checked~label.sk-toggleable__label {background-color: #d4ebff;}#sk-container-id-3 input.sk-hidden--visually {border: 0;clip: rect(1px 1px 1px 1px);clip: rect(1px, 1px, 1px, 1px);height: 1px;margin: -1px;overflow: hidden;padding: 0;position: absolute;width: 1px;}#sk-container-id-3 div.sk-estimator {font-family: monospace;background-color: #f0f8ff;border: 1px dotted black;border-radius: 0.25em;box-sizing: border-box;margin-bottom: 0.5em;}#sk-container-id-3 div.sk-estimator:hover {background-color: #d4ebff;}#sk-container-id-3 div.sk-parallel-item::after {content: \"\";width: 100%;border-bottom: 1px solid gray;flex-grow: 1;}#sk-container-id-3 div.sk-label:hover label.sk-toggleable__label {background-color: #d4ebff;}#sk-container-id-3 div.sk-serial::before {content: \"\";position: absolute;border-left: 1px solid gray;box-sizing: border-box;top: 0;bottom: 0;left: 50%;z-index: 0;}#sk-container-id-3 div.sk-serial {display: flex;flex-direction: column;align-items: center;background-color: white;padding-right: 0.2em;padding-left: 0.2em;position: relative;}#sk-container-id-3 div.sk-item {position: relative;z-index: 1;}#sk-container-id-3 div.sk-parallel {display: flex;align-items: stretch;justify-content: center;background-color: white;position: relative;}#sk-container-id-3 div.sk-item::before, #sk-container-id-3 div.sk-parallel-item::before {content: \"\";position: absolute;border-left: 1px solid gray;box-sizing: border-box;top: 0;bottom: 0;left: 50%;z-index: -1;}#sk-container-id-3 div.sk-parallel-item {display: flex;flex-direction: column;z-index: 1;position: relative;background-color: white;}#sk-container-id-3 div.sk-parallel-item:first-child::after {align-self: flex-end;width: 50%;}#sk-container-id-3 div.sk-parallel-item:last-child::after {align-self: flex-start;width: 50%;}#sk-container-id-3 div.sk-parallel-item:only-child::after {width: 0;}#sk-container-id-3 div.sk-dashed-wrapped {border: 1px dashed gray;margin: 0 0.4em 0.5em 0.4em;box-sizing: border-box;padding-bottom: 0.4em;background-color: white;}#sk-container-id-3 div.sk-label label {font-family: monospace;font-weight: bold;display: inline-block;line-height: 1.2em;}#sk-container-id-3 div.sk-label-container {text-align: center;}#sk-container-id-3 div.sk-container {/* jupyter's `normalize.less` sets `[hidden] { display: none; }` but bootstrap.min.css set `[hidden] { display: none !important; }` so we also need the `!important` here to be able to override the default hidden behavior on the sphinx rendered scikit-learn.org. See: https://github.com/scikit-learn/scikit-learn/issues/21755 */display: inline-block !important;position: relative;}#sk-container-id-3 div.sk-text-repr-fallback {display: none;}</style><div id=\"sk-container-id-3\" class=\"sk-top-container\"><div class=\"sk-text-repr-fallback\"><pre>LGBMRegressor(colsample_bytree=0.7581942953294089, learning_rate=0.01,\n              max_depth=3, min_child_weight=0.0011818629604984495,\n              n_estimators=500, num_leaves=58, reg_alpha=2.9940615297340547,\n              reg_lambda=0.42348252148933985, subsample=0.8652699432423165,\n              verbose=-1)</pre><b>In a Jupyter environment, please rerun this cell to show the HTML representation or trust the notebook. <br />On GitHub, the HTML representation is unable to render, please try loading this page with nbviewer.org.</b></div><div class=\"sk-container\" hidden><div class=\"sk-item\"><div class=\"sk-estimator sk-toggleable\"><input class=\"sk-toggleable__control sk-hidden--visually\" id=\"sk-estimator-id-3\" type=\"checkbox\" checked><label for=\"sk-estimator-id-3\" class=\"sk-toggleable__label sk-toggleable__label-arrow\">LGBMRegressor</label><div class=\"sk-toggleable__content\"><pre>LGBMRegressor(colsample_bytree=0.7581942953294089, learning_rate=0.01,\n              max_depth=3, min_child_weight=0.0011818629604984495,\n              n_estimators=500, num_leaves=58, reg_alpha=2.9940615297340547,\n              reg_lambda=0.42348252148933985, subsample=0.8652699432423165,\n              verbose=-1)</pre></div></div></div></div></div>"
          },
          "metadata": {}
        }
      ]
    },
    {
      "cell_type": "markdown",
      "source": [
        "**CatBoostRegressor**"
      ],
      "metadata": {
        "id": "pbrESyS6KNfT"
      }
    },
    {
      "cell_type": "code",
      "source": [
        "from catboost import CatBoostRegressor, Pool\n",
        "from sklearn.model_selection import KFold\n",
        "import numpy as np\n",
        "\n",
        "# Ensure your categorical columns are converted to 'category' dtype\n",
        "categorical_columns = X.select_dtypes(include=['category', 'object'])  # List all categorical columns\n",
        "for col in categorical_columns:\n",
        "    X[col] = X[col].astype('category')\n",
        "\n",
        "# Extract column names\n",
        "categorical_column_names = categorical_columns.columns.tolist()\n",
        "\n",
        "\n",
        "\n",
        "# Initialize the CatBoostRegressor model\n",
        "clf_catboost = CatBoostRegressor(\n",
        "    iterations=300,\n",
        "    learning_rate=0.03,\n",
        "    depth=6,\n",
        "    l2_leaf_reg=3,\n",
        "    border_count=254,\n",
        "    verbose=0  # verbose=0 to suppress output during cross-validation\n",
        ")\n",
        "\n",
        "# Define k-fold cross-validation\n",
        "n_splits = 5  # number of folds\n",
        "kf = KFold(n_splits=n_splits, shuffle=True, random_state=42)\n",
        "\n",
        "# Store RMSE scores\n",
        "rmse_scores = []\n",
        "\n",
        "# Perform manual cross-validation\n",
        "for train_index, val_index in kf.split(X):\n",
        "    X_train, X_val = X.iloc[train_index], X.iloc[val_index]\n",
        "    y_train, y_val = y.iloc[train_index], y.iloc[val_index]\n",
        "\n",
        "    # Convert the training and validation datasets to a CatBoost Pool\n",
        "    train_pool = Pool(data=X_train, label=y_train, cat_features=categorical_column_names)\n",
        "    val_pool = Pool(data=X_val, label=y_val, cat_features=categorical_column_names)\n",
        "\n",
        "    # Fit the model on the training set\n",
        "    clf_catboost.fit(train_pool)\n",
        "\n",
        "    # Predict on the validation set\n",
        "    y_pred = clf_catboost.predict(val_pool)\n",
        "\n",
        "    # Calculate RMSE\n",
        "    rmse = np.sqrt(np.mean((y_val - y_pred) ** 2))\n",
        "    rmse_scores.append(rmse)\n",
        "\n",
        "# Calculate mean and standard deviation of RMSE\n",
        "mean_rmse = np.mean(rmse_scores)\n",
        "std_rmse = np.std(rmse_scores)\n",
        "\n",
        "print(f\"Mean RMSE: {mean_rmse:.4f}\")\n",
        "print(f\"Standard Deviation of RMSE: {std_rmse:.4f}\")\n",
        "\n",
        "# Optionally fit the model on the full dataset\n",
        "train_pool = Pool(data=X, label=y, cat_features=categorical_column_names)\n",
        "clf_catboost.fit(train_pool)\n"
      ],
      "metadata": {
        "execution": {
          "iopub.status.busy": "2024-09-21T19:13:52.35726Z",
          "iopub.execute_input": "2024-09-21T19:13:52.357864Z",
          "iopub.status.idle": "2024-09-21T19:18:18.570144Z",
          "shell.execute_reply.started": "2024-09-21T19:13:52.357785Z",
          "shell.execute_reply": "2024-09-21T19:18:18.568928Z"
        },
        "trusted": true,
        "id": "O-GhG6i6KNfT",
        "outputId": "d0e84c95-f17f-465d-a0ee-c2277a59cc2e"
      },
      "execution_count": null,
      "outputs": [
        {
          "name": "stdout",
          "text": "Categorical columns: ['brand', 'model', 'fuel_type', 'engine', 'transmission', 'ext_col', 'int_col', 'accident']\nMean RMSE: 72997.7124\nStandard Deviation of RMSE: 3178.2527\n",
          "output_type": "stream"
        },
        {
          "execution_count": 312,
          "output_type": "execute_result",
          "data": {
            "text/plain": "<catboost.core.CatBoostRegressor at 0x793d04b60550>"
          },
          "metadata": {}
        }
      ]
    },
    {
      "cell_type": "code",
      "source": [
        "cbe_encoder = ce.cat_boost.CatBoostEncoder(a=5) #\"smoothing\" parameter\n",
        "X_encoded = cbe_encoder.fit_transform(X, y)"
      ],
      "metadata": {
        "execution": {
          "iopub.status.busy": "2024-09-21T19:22:33.972616Z",
          "iopub.execute_input": "2024-09-21T19:22:33.973053Z",
          "iopub.status.idle": "2024-09-21T19:22:35.197588Z",
          "shell.execute_reply.started": "2024-09-21T19:22:33.973013Z",
          "shell.execute_reply": "2024-09-21T19:22:35.196147Z"
        },
        "trusted": true,
        "id": "5qWNSCsVKNfT"
      },
      "execution_count": null,
      "outputs": []
    },
    {
      "cell_type": "code",
      "source": [
        "X_encoded.head()"
      ],
      "metadata": {
        "execution": {
          "iopub.status.busy": "2024-09-21T19:22:22.776839Z",
          "iopub.execute_input": "2024-09-21T19:22:22.777375Z",
          "iopub.status.idle": "2024-09-21T19:22:22.805521Z",
          "shell.execute_reply.started": "2024-09-21T19:22:22.777325Z",
          "shell.execute_reply": "2024-09-21T19:22:22.804144Z"
        },
        "trusted": true,
        "id": "I_XKy7CtKNfT",
        "outputId": "be937286-8c99-4833-8f71-b42a82a2ea95"
      },
      "execution_count": null,
      "outputs": [
        {
          "execution_count": 322,
          "output_type": "execute_result",
          "data": {
            "text/plain": "         brand         model  model_year  milage     fuel_type       engine  \\\n0  43892.07427  43892.074270        2007  213000  43892.074270  43892.07427   \n1  43892.07427  43892.074270        2002  143250  40283.703881  43892.07427   \n2  43892.07427  40356.340245        2002  136731  43892.074270  43892.07427   \n3  43892.07427  38151.645225        2017   19500  37343.311891  43892.07427   \n4  43892.07427  43892.074270        2021    7388  37932.287900  43892.07427   \n\n   transmission      ext_col       int_col      accident  premium_auto  \\\n0  43892.074270  43892.07427  43892.074270  43892.074270             0   \n1  40283.703881  43892.07427  43892.074270  43892.074270             1   \n2  37343.311891  43892.07427  40283.703881  40283.703881             0   \n3  43892.074270  43892.07427  43892.074270  38085.061891             0   \n4  43892.074270  43992.79479  40356.340245  38616.980207             1   \n\n   horsepower  engine_volume  num_of_cylinders  \n0       172.0            1.6                 4  \n1       252.0            3.9                 8  \n2       320.0            5.3                 8  \n3       420.0            5.0                 8  \n4       208.0            2.0                 4  ",
            "text/html": "<div>\n<style scoped>\n    .dataframe tbody tr th:only-of-type {\n        vertical-align: middle;\n    }\n\n    .dataframe tbody tr th {\n        vertical-align: top;\n    }\n\n    .dataframe thead th {\n        text-align: right;\n    }\n</style>\n<table border=\"1\" class=\"dataframe\">\n  <thead>\n    <tr style=\"text-align: right;\">\n      <th></th>\n      <th>brand</th>\n      <th>model</th>\n      <th>model_year</th>\n      <th>milage</th>\n      <th>fuel_type</th>\n      <th>engine</th>\n      <th>transmission</th>\n      <th>ext_col</th>\n      <th>int_col</th>\n      <th>accident</th>\n      <th>premium_auto</th>\n      <th>horsepower</th>\n      <th>engine_volume</th>\n      <th>num_of_cylinders</th>\n    </tr>\n  </thead>\n  <tbody>\n    <tr>\n      <th>0</th>\n      <td>43892.07427</td>\n      <td>43892.074270</td>\n      <td>2007</td>\n      <td>213000</td>\n      <td>43892.074270</td>\n      <td>43892.07427</td>\n      <td>43892.074270</td>\n      <td>43892.07427</td>\n      <td>43892.074270</td>\n      <td>43892.074270</td>\n      <td>0</td>\n      <td>172.0</td>\n      <td>1.6</td>\n      <td>4</td>\n    </tr>\n    <tr>\n      <th>1</th>\n      <td>43892.07427</td>\n      <td>43892.074270</td>\n      <td>2002</td>\n      <td>143250</td>\n      <td>40283.703881</td>\n      <td>43892.07427</td>\n      <td>40283.703881</td>\n      <td>43892.07427</td>\n      <td>43892.074270</td>\n      <td>43892.074270</td>\n      <td>1</td>\n      <td>252.0</td>\n      <td>3.9</td>\n      <td>8</td>\n    </tr>\n    <tr>\n      <th>2</th>\n      <td>43892.07427</td>\n      <td>40356.340245</td>\n      <td>2002</td>\n      <td>136731</td>\n      <td>43892.074270</td>\n      <td>43892.07427</td>\n      <td>37343.311891</td>\n      <td>43892.07427</td>\n      <td>40283.703881</td>\n      <td>40283.703881</td>\n      <td>0</td>\n      <td>320.0</td>\n      <td>5.3</td>\n      <td>8</td>\n    </tr>\n    <tr>\n      <th>3</th>\n      <td>43892.07427</td>\n      <td>38151.645225</td>\n      <td>2017</td>\n      <td>19500</td>\n      <td>37343.311891</td>\n      <td>43892.07427</td>\n      <td>43892.074270</td>\n      <td>43892.07427</td>\n      <td>43892.074270</td>\n      <td>38085.061891</td>\n      <td>0</td>\n      <td>420.0</td>\n      <td>5.0</td>\n      <td>8</td>\n    </tr>\n    <tr>\n      <th>4</th>\n      <td>43892.07427</td>\n      <td>43892.074270</td>\n      <td>2021</td>\n      <td>7388</td>\n      <td>37932.287900</td>\n      <td>43892.07427</td>\n      <td>43892.074270</td>\n      <td>43992.79479</td>\n      <td>40356.340245</td>\n      <td>38616.980207</td>\n      <td>1</td>\n      <td>208.0</td>\n      <td>2.0</td>\n      <td>4</td>\n    </tr>\n  </tbody>\n</table>\n</div>"
          },
          "metadata": {}
        }
      ]
    },
    {
      "cell_type": "markdown",
      "source": [
        "**LinearRegression**"
      ],
      "metadata": {
        "id": "zrMzcpsaKNfT"
      }
    },
    {
      "cell_type": "code",
      "source": [
        "import numpy as np\n",
        "import pandas as pd\n",
        "from sklearn.pipeline import Pipeline\n",
        "from sklearn.compose import ColumnTransformer\n",
        "from sklearn.preprocessing import MinMaxScaler, StandardScaler, RobustScaler\n",
        "from sklearn.model_selection import KFold, cross_val_score\n",
        "from sklearn.linear_model import LinearRegression\n",
        "\n",
        "# Define the pipeline with preprocessing and model\n",
        "\n",
        "# Define the pipeline with LinearRegression\n",
        "pipeline = Pipeline(steps=[\n",
        "    ('scaler', StandardScaler()),  # Apply preprocessing\n",
        "    ('model', LinearRegression())  # Using LinearRegression\n",
        "])\n",
        "\n",
        "# Define k-fold cross-validation\n",
        "n_splits = 5  # number of folds\n",
        "kf = KFold(n_splits=n_splits, shuffle=True, random_state=42)\n",
        "\n",
        "# Perform cross-validation and evaluate RMSE\n",
        "rmse_scores = -cross_val_score(pipeline, X_encoded, y, scoring='neg_root_mean_squared_error', cv=kf)\n",
        "\n",
        "# Calculate mean and standard deviation of RMSE\n",
        "mean_rmse = np.mean(rmse_scores)\n",
        "std_rmse = np.std(rmse_scores)\n",
        "\n",
        "print(f\"Mean RMSE: {mean_rmse:.4f}\")\n",
        "print(f\"Standard Deviation of RMSE: {std_rmse:.4f}\")\n"
      ],
      "metadata": {
        "execution": {
          "iopub.status.busy": "2024-09-21T19:23:01.505312Z",
          "iopub.execute_input": "2024-09-21T19:23:01.50581Z",
          "iopub.status.idle": "2024-09-21T19:23:02.872687Z",
          "shell.execute_reply.started": "2024-09-21T19:23:01.50576Z",
          "shell.execute_reply": "2024-09-21T19:23:02.871148Z"
        },
        "trusted": true,
        "id": "alSgq1oZKNfT",
        "outputId": "eff84cf3-53c1-4c89-febe-9d9f2b44cf25"
      },
      "execution_count": null,
      "outputs": [
        {
          "name": "stdout",
          "text": "Mean RMSE: 74003.2490\nStandard Deviation of RMSE: 3103.4748\n",
          "output_type": "stream"
        }
      ]
    },
    {
      "cell_type": "code",
      "source": [
        "import numpy as np\n",
        "import pandas as pd\n",
        "from sklearn.pipeline import Pipeline\n",
        "from sklearn.compose import ColumnTransformer\n",
        "from sklearn.preprocessing import MinMaxScaler, StandardScaler, RobustScaler\n",
        "from sklearn.model_selection import KFold, cross_val_score\n",
        "from sklearn.neighbors import KNeighborsRegressor\n",
        "\n",
        "# Define the pipeline with KNeighborsRegressor\n",
        "pipeline = Pipeline(steps=[\n",
        "    ('scaler', RobustScaler()),  # Apply preprocessing\n",
        "    ('model', KNeighborsRegressor(n_neighbors=25, weights='distance'))  # Using KNeighborsRegressor\n",
        "])\n",
        "\n",
        "# Define k-fold cross-validation\n",
        "n_splits = 5  # number of folds\n",
        "kf = KFold(n_splits=n_splits, shuffle=True, random_state=42)\n",
        "\n",
        "# Perform cross-validation and evaluate RMSE\n",
        "rmse_scores = -cross_val_score(pipeline, X_encoded, y, scoring='neg_root_mean_squared_error', cv=kf)\n",
        "\n",
        "# Calculate mean and standard deviation of RMSE\n",
        "mean_rmse = np.mean(rmse_scores)\n",
        "std_rmse = np.std(rmse_scores)\n",
        "\n",
        "print(f\"Mean RMSE: {mean_rmse:.4f}\")\n",
        "print(f\"Standard Deviation of RMSE: {std_rmse:.4f}\")\n"
      ],
      "metadata": {
        "execution": {
          "iopub.status.busy": "2024-09-21T19:23:52.878644Z",
          "iopub.execute_input": "2024-09-21T19:23:52.879228Z",
          "iopub.status.idle": "2024-09-21T19:27:34.733355Z",
          "shell.execute_reply.started": "2024-09-21T19:23:52.879183Z",
          "shell.execute_reply": "2024-09-21T19:27:34.732134Z"
        },
        "trusted": true,
        "id": "ZTtuoR05KNfU",
        "outputId": "0e85f804-cc1f-47a7-986c-2d386eb1e679"
      },
      "execution_count": null,
      "outputs": [
        {
          "name": "stdout",
          "text": "Mean RMSE: 74879.7074\nStandard Deviation of RMSE: 3176.2131\n",
          "output_type": "stream"
        }
      ]
    },
    {
      "cell_type": "code",
      "source": [
        "test_ds = test_ds.drop('price', axis=1)"
      ],
      "metadata": {
        "execution": {
          "iopub.status.busy": "2024-09-21T19:38:44.176548Z",
          "iopub.execute_input": "2024-09-21T19:38:44.177488Z",
          "iopub.status.idle": "2024-09-21T19:38:44.197866Z",
          "shell.execute_reply.started": "2024-09-21T19:38:44.177439Z",
          "shell.execute_reply": "2024-09-21T19:38:44.1956Z"
        },
        "trusted": true,
        "id": "Zt0T1bCkKNfU"
      },
      "execution_count": null,
      "outputs": []
    },
    {
      "cell_type": "code",
      "source": [
        "test_ds.head(3)"
      ],
      "metadata": {
        "execution": {
          "iopub.status.busy": "2024-09-21T19:39:10.596009Z",
          "iopub.execute_input": "2024-09-21T19:39:10.597432Z",
          "iopub.status.idle": "2024-09-21T19:39:10.615442Z",
          "shell.execute_reply.started": "2024-09-21T19:39:10.597375Z",
          "shell.execute_reply": "2024-09-21T19:39:10.614272Z"
        },
        "trusted": true,
        "id": "Ay_qmym8KNfU",
        "outputId": "02065a0e-c4b6-4ad4-fad8-276d33d2eded"
      },
      "execution_count": null,
      "outputs": [
        {
          "execution_count": 332,
          "output_type": "execute_result",
          "data": {
            "text/plain": "           brand            model  model_year  milage      fuel_type  \\\n192542  Cadillac            Noise        2021    3959       Gasoline   \n192543      Audi  A3 2.0T Premium        2019   27300  E85 Flex Fuel   \n192544   Porsche        Cayenne S        2005   92671       Gasoline   \n\n                                                   engine transmission  \\\n192542       420.0HP 6.2L 8 Cylinder Engine Gasoline Fuel          A/T   \n192543  220.0HP 2.0L 4 Cylinder Engine Flex Fuel Capab...  7-Speed A/T   \n192544                                              Noise  5-Speed M/T   \n\n       ext_col int_col                                accident  premium_auto  \\\n192542   Black   Black                           None reported             1   \n192543   White   Black                           None reported             1   \n192544    Blue   Beige  At least 1 accident or damage reported             1   \n\n        horsepower  engine_volume  num_of_cylinders  \n192542       420.0            6.2                 8  \n192543       220.0            2.0                 4  \n192544       305.0            3.6                 6  ",
            "text/html": "<div>\n<style scoped>\n    .dataframe tbody tr th:only-of-type {\n        vertical-align: middle;\n    }\n\n    .dataframe tbody tr th {\n        vertical-align: top;\n    }\n\n    .dataframe thead th {\n        text-align: right;\n    }\n</style>\n<table border=\"1\" class=\"dataframe\">\n  <thead>\n    <tr style=\"text-align: right;\">\n      <th></th>\n      <th>brand</th>\n      <th>model</th>\n      <th>model_year</th>\n      <th>milage</th>\n      <th>fuel_type</th>\n      <th>engine</th>\n      <th>transmission</th>\n      <th>ext_col</th>\n      <th>int_col</th>\n      <th>accident</th>\n      <th>premium_auto</th>\n      <th>horsepower</th>\n      <th>engine_volume</th>\n      <th>num_of_cylinders</th>\n    </tr>\n  </thead>\n  <tbody>\n    <tr>\n      <th>192542</th>\n      <td>Cadillac</td>\n      <td>Noise</td>\n      <td>2021</td>\n      <td>3959</td>\n      <td>Gasoline</td>\n      <td>420.0HP 6.2L 8 Cylinder Engine Gasoline Fuel</td>\n      <td>A/T</td>\n      <td>Black</td>\n      <td>Black</td>\n      <td>None reported</td>\n      <td>1</td>\n      <td>420.0</td>\n      <td>6.2</td>\n      <td>8</td>\n    </tr>\n    <tr>\n      <th>192543</th>\n      <td>Audi</td>\n      <td>A3 2.0T Premium</td>\n      <td>2019</td>\n      <td>27300</td>\n      <td>E85 Flex Fuel</td>\n      <td>220.0HP 2.0L 4 Cylinder Engine Flex Fuel Capab...</td>\n      <td>7-Speed A/T</td>\n      <td>White</td>\n      <td>Black</td>\n      <td>None reported</td>\n      <td>1</td>\n      <td>220.0</td>\n      <td>2.0</td>\n      <td>4</td>\n    </tr>\n    <tr>\n      <th>192544</th>\n      <td>Porsche</td>\n      <td>Cayenne S</td>\n      <td>2005</td>\n      <td>92671</td>\n      <td>Gasoline</td>\n      <td>Noise</td>\n      <td>5-Speed M/T</td>\n      <td>Blue</td>\n      <td>Beige</td>\n      <td>At least 1 accident or damage reported</td>\n      <td>1</td>\n      <td>305.0</td>\n      <td>3.6</td>\n      <td>6</td>\n    </tr>\n  </tbody>\n</table>\n</div>"
          },
          "metadata": {}
        }
      ]
    },
    {
      "cell_type": "code",
      "source": [
        "test_ds.shape[0]"
      ],
      "metadata": {
        "execution": {
          "iopub.status.busy": "2024-09-21T19:41:42.346742Z",
          "iopub.execute_input": "2024-09-21T19:41:42.347202Z",
          "iopub.status.idle": "2024-09-21T19:41:42.354564Z",
          "shell.execute_reply.started": "2024-09-21T19:41:42.34716Z",
          "shell.execute_reply": "2024-09-21T19:41:42.353366Z"
        },
        "trusted": true,
        "id": "hA2C_MwQKNfU",
        "outputId": "e886177a-9a25-4d0a-ccd2-4566d7d3d18b"
      },
      "execution_count": null,
      "outputs": [
        {
          "execution_count": 337,
          "output_type": "execute_result",
          "data": {
            "text/plain": "121681"
          },
          "metadata": {}
        }
      ]
    },
    {
      "cell_type": "code",
      "source": [
        "submission = pd.read_csv('/kaggle/input/playground-series-s4e9/sample_submission.csv')\n",
        "submission.shape[0]"
      ],
      "metadata": {
        "execution": {
          "iopub.status.busy": "2024-09-21T19:41:34.088928Z",
          "iopub.execute_input": "2024-09-21T19:41:34.089405Z",
          "iopub.status.idle": "2024-09-21T19:41:34.140552Z",
          "shell.execute_reply.started": "2024-09-21T19:41:34.089363Z",
          "shell.execute_reply": "2024-09-21T19:41:34.139071Z"
        },
        "trusted": true,
        "id": "a6h0Wq2sKNfU",
        "outputId": "6185d80a-8ab6-40f3-b653-7490d88d0e5a"
      },
      "execution_count": null,
      "outputs": [
        {
          "execution_count": 336,
          "output_type": "execute_result",
          "data": {
            "text/plain": "125690"
          },
          "metadata": {}
        }
      ]
    },
    {
      "cell_type": "code",
      "source": [
        "pred = clf_catboost.predict(test_ds)\n",
        "submission = pd.read_csv('/kaggle/input/playground-series-s4e9/sample_submission.csv')\n",
        "to_submit = pd.DataFrame({\n",
        "    'id': submission.id,\n",
        "    'price': pred\n",
        "})\n",
        "\n",
        "to_submission.to_csv('submission.csv', index=False)"
      ],
      "metadata": {
        "execution": {
          "iopub.status.busy": "2024-09-21T19:41:00.919495Z",
          "iopub.execute_input": "2024-09-21T19:41:00.920115Z",
          "iopub.status.idle": "2024-09-21T19:41:02.074544Z",
          "shell.execute_reply.started": "2024-09-21T19:41:00.920053Z",
          "shell.execute_reply": "2024-09-21T19:41:02.072529Z"
        },
        "trusted": true,
        "id": "qg-pFrltKNfU",
        "outputId": "2110c821-fd0c-4dc4-c35b-01aed652d20e"
      },
      "execution_count": null,
      "outputs": [
        {
          "traceback": [
            "\u001b[0;31m---------------------------------------------------------------------------\u001b[0m",
            "\u001b[0;31mValueError\u001b[0m                                Traceback (most recent call last)",
            "Cell \u001b[0;32mIn[335], line 3\u001b[0m\n\u001b[1;32m      1\u001b[0m pred \u001b[38;5;241m=\u001b[39m clf_catboost\u001b[38;5;241m.\u001b[39mpredict(test_ds)\n\u001b[1;32m      2\u001b[0m submission \u001b[38;5;241m=\u001b[39m pd\u001b[38;5;241m.\u001b[39mread_csv(\u001b[38;5;124m'\u001b[39m\u001b[38;5;124m/kaggle/input/playground-series-s4e9/sample_submission.csv\u001b[39m\u001b[38;5;124m'\u001b[39m)\n\u001b[0;32m----> 3\u001b[0m to_submit \u001b[38;5;241m=\u001b[39m \u001b[43mpd\u001b[49m\u001b[38;5;241;43m.\u001b[39;49m\u001b[43mDataFrame\u001b[49m\u001b[43m(\u001b[49m\u001b[43m{\u001b[49m\n\u001b[1;32m      4\u001b[0m \u001b[43m    \u001b[49m\u001b[38;5;124;43m'\u001b[39;49m\u001b[38;5;124;43mid\u001b[39;49m\u001b[38;5;124;43m'\u001b[39;49m\u001b[43m:\u001b[49m\u001b[43m \u001b[49m\u001b[43msubmission\u001b[49m\u001b[38;5;241;43m.\u001b[39;49m\u001b[43mid\u001b[49m\u001b[43m,\u001b[49m\n\u001b[1;32m      5\u001b[0m \u001b[43m    \u001b[49m\u001b[38;5;124;43m'\u001b[39;49m\u001b[38;5;124;43mprice\u001b[39;49m\u001b[38;5;124;43m'\u001b[39;49m\u001b[43m:\u001b[49m\u001b[43m \u001b[49m\u001b[43mpred\u001b[49m\n\u001b[1;32m      6\u001b[0m \u001b[43m}\u001b[49m\u001b[43m)\u001b[49m\n\u001b[1;32m      8\u001b[0m to_submission\u001b[38;5;241m.\u001b[39mto_csv(\u001b[38;5;124m'\u001b[39m\u001b[38;5;124msubmission.csv\u001b[39m\u001b[38;5;124m'\u001b[39m, index\u001b[38;5;241m=\u001b[39m\u001b[38;5;28;01mFalse\u001b[39;00m)\n",
            "File \u001b[0;32m/opt/conda/lib/python3.10/site-packages/pandas/core/frame.py:778\u001b[0m, in \u001b[0;36mDataFrame.__init__\u001b[0;34m(self, data, index, columns, dtype, copy)\u001b[0m\n\u001b[1;32m    772\u001b[0m     mgr \u001b[38;5;241m=\u001b[39m \u001b[38;5;28mself\u001b[39m\u001b[38;5;241m.\u001b[39m_init_mgr(\n\u001b[1;32m    773\u001b[0m         data, axes\u001b[38;5;241m=\u001b[39m{\u001b[38;5;124m\"\u001b[39m\u001b[38;5;124mindex\u001b[39m\u001b[38;5;124m\"\u001b[39m: index, \u001b[38;5;124m\"\u001b[39m\u001b[38;5;124mcolumns\u001b[39m\u001b[38;5;124m\"\u001b[39m: columns}, dtype\u001b[38;5;241m=\u001b[39mdtype, copy\u001b[38;5;241m=\u001b[39mcopy\n\u001b[1;32m    774\u001b[0m     )\n\u001b[1;32m    776\u001b[0m \u001b[38;5;28;01melif\u001b[39;00m \u001b[38;5;28misinstance\u001b[39m(data, \u001b[38;5;28mdict\u001b[39m):\n\u001b[1;32m    777\u001b[0m     \u001b[38;5;66;03m# GH#38939 de facto copy defaults to False only in non-dict cases\u001b[39;00m\n\u001b[0;32m--> 778\u001b[0m     mgr \u001b[38;5;241m=\u001b[39m \u001b[43mdict_to_mgr\u001b[49m\u001b[43m(\u001b[49m\u001b[43mdata\u001b[49m\u001b[43m,\u001b[49m\u001b[43m \u001b[49m\u001b[43mindex\u001b[49m\u001b[43m,\u001b[49m\u001b[43m \u001b[49m\u001b[43mcolumns\u001b[49m\u001b[43m,\u001b[49m\u001b[43m \u001b[49m\u001b[43mdtype\u001b[49m\u001b[38;5;241;43m=\u001b[39;49m\u001b[43mdtype\u001b[49m\u001b[43m,\u001b[49m\u001b[43m \u001b[49m\u001b[43mcopy\u001b[49m\u001b[38;5;241;43m=\u001b[39;49m\u001b[43mcopy\u001b[49m\u001b[43m,\u001b[49m\u001b[43m \u001b[49m\u001b[43mtyp\u001b[49m\u001b[38;5;241;43m=\u001b[39;49m\u001b[43mmanager\u001b[49m\u001b[43m)\u001b[49m\n\u001b[1;32m    779\u001b[0m \u001b[38;5;28;01melif\u001b[39;00m \u001b[38;5;28misinstance\u001b[39m(data, ma\u001b[38;5;241m.\u001b[39mMaskedArray):\n\u001b[1;32m    780\u001b[0m     \u001b[38;5;28;01mfrom\u001b[39;00m \u001b[38;5;21;01mnumpy\u001b[39;00m\u001b[38;5;21;01m.\u001b[39;00m\u001b[38;5;21;01mma\u001b[39;00m \u001b[38;5;28;01mimport\u001b[39;00m mrecords\n",
            "File \u001b[0;32m/opt/conda/lib/python3.10/site-packages/pandas/core/internals/construction.py:503\u001b[0m, in \u001b[0;36mdict_to_mgr\u001b[0;34m(data, index, columns, dtype, typ, copy)\u001b[0m\n\u001b[1;32m    499\u001b[0m     \u001b[38;5;28;01melse\u001b[39;00m:\n\u001b[1;32m    500\u001b[0m         \u001b[38;5;66;03m# dtype check to exclude e.g. range objects, scalars\u001b[39;00m\n\u001b[1;32m    501\u001b[0m         arrays \u001b[38;5;241m=\u001b[39m [x\u001b[38;5;241m.\u001b[39mcopy() \u001b[38;5;28;01mif\u001b[39;00m \u001b[38;5;28mhasattr\u001b[39m(x, \u001b[38;5;124m\"\u001b[39m\u001b[38;5;124mdtype\u001b[39m\u001b[38;5;124m\"\u001b[39m) \u001b[38;5;28;01melse\u001b[39;00m x \u001b[38;5;28;01mfor\u001b[39;00m x \u001b[38;5;129;01min\u001b[39;00m arrays]\n\u001b[0;32m--> 503\u001b[0m \u001b[38;5;28;01mreturn\u001b[39;00m \u001b[43marrays_to_mgr\u001b[49m\u001b[43m(\u001b[49m\u001b[43marrays\u001b[49m\u001b[43m,\u001b[49m\u001b[43m \u001b[49m\u001b[43mcolumns\u001b[49m\u001b[43m,\u001b[49m\u001b[43m \u001b[49m\u001b[43mindex\u001b[49m\u001b[43m,\u001b[49m\u001b[43m \u001b[49m\u001b[43mdtype\u001b[49m\u001b[38;5;241;43m=\u001b[39;49m\u001b[43mdtype\u001b[49m\u001b[43m,\u001b[49m\u001b[43m \u001b[49m\u001b[43mtyp\u001b[49m\u001b[38;5;241;43m=\u001b[39;49m\u001b[43mtyp\u001b[49m\u001b[43m,\u001b[49m\u001b[43m \u001b[49m\u001b[43mconsolidate\u001b[49m\u001b[38;5;241;43m=\u001b[39;49m\u001b[43mcopy\u001b[49m\u001b[43m)\u001b[49m\n",
            "File \u001b[0;32m/opt/conda/lib/python3.10/site-packages/pandas/core/internals/construction.py:114\u001b[0m, in \u001b[0;36marrays_to_mgr\u001b[0;34m(arrays, columns, index, dtype, verify_integrity, typ, consolidate)\u001b[0m\n\u001b[1;32m    111\u001b[0m \u001b[38;5;28;01mif\u001b[39;00m verify_integrity:\n\u001b[1;32m    112\u001b[0m     \u001b[38;5;66;03m# figure out the index, if necessary\u001b[39;00m\n\u001b[1;32m    113\u001b[0m     \u001b[38;5;28;01mif\u001b[39;00m index \u001b[38;5;129;01mis\u001b[39;00m \u001b[38;5;28;01mNone\u001b[39;00m:\n\u001b[0;32m--> 114\u001b[0m         index \u001b[38;5;241m=\u001b[39m \u001b[43m_extract_index\u001b[49m\u001b[43m(\u001b[49m\u001b[43marrays\u001b[49m\u001b[43m)\u001b[49m\n\u001b[1;32m    115\u001b[0m     \u001b[38;5;28;01melse\u001b[39;00m:\n\u001b[1;32m    116\u001b[0m         index \u001b[38;5;241m=\u001b[39m ensure_index(index)\n",
            "File \u001b[0;32m/opt/conda/lib/python3.10/site-packages/pandas/core/internals/construction.py:690\u001b[0m, in \u001b[0;36m_extract_index\u001b[0;34m(data)\u001b[0m\n\u001b[1;32m    685\u001b[0m     \u001b[38;5;28;01mif\u001b[39;00m lengths[\u001b[38;5;241m0\u001b[39m] \u001b[38;5;241m!=\u001b[39m \u001b[38;5;28mlen\u001b[39m(index):\n\u001b[1;32m    686\u001b[0m         msg \u001b[38;5;241m=\u001b[39m (\n\u001b[1;32m    687\u001b[0m             \u001b[38;5;124mf\u001b[39m\u001b[38;5;124m\"\u001b[39m\u001b[38;5;124marray length \u001b[39m\u001b[38;5;132;01m{\u001b[39;00mlengths[\u001b[38;5;241m0\u001b[39m]\u001b[38;5;132;01m}\u001b[39;00m\u001b[38;5;124m does not match index \u001b[39m\u001b[38;5;124m\"\u001b[39m\n\u001b[1;32m    688\u001b[0m             \u001b[38;5;124mf\u001b[39m\u001b[38;5;124m\"\u001b[39m\u001b[38;5;124mlength \u001b[39m\u001b[38;5;132;01m{\u001b[39;00m\u001b[38;5;28mlen\u001b[39m(index)\u001b[38;5;132;01m}\u001b[39;00m\u001b[38;5;124m\"\u001b[39m\n\u001b[1;32m    689\u001b[0m         )\n\u001b[0;32m--> 690\u001b[0m         \u001b[38;5;28;01mraise\u001b[39;00m \u001b[38;5;167;01mValueError\u001b[39;00m(msg)\n\u001b[1;32m    691\u001b[0m \u001b[38;5;28;01melse\u001b[39;00m:\n\u001b[1;32m    692\u001b[0m     index \u001b[38;5;241m=\u001b[39m default_index(lengths[\u001b[38;5;241m0\u001b[39m])\n",
            "\u001b[0;31mValueError\u001b[0m: array length 121681 does not match index length 125690"
          ],
          "ename": "ValueError",
          "evalue": "array length 121681 does not match index length 125690",
          "output_type": "error"
        }
      ]
    },
    {
      "cell_type": "code",
      "source": [
        "test_id = pd.read_csv('/kaggle/input/playground-series-s4e9/sample_submission.csv')\n",
        "predictions = clf_catboost.predict(test_X_encoded)\n",
        "test_id['price'] = predictions\n",
        "test_id.to_csv('submission_cbe_.csv', index=False)"
      ],
      "metadata": {
        "execution": {
          "iopub.status.busy": "2024-09-18T19:09:05.60445Z",
          "iopub.execute_input": "2024-09-18T19:09:05.604931Z",
          "iopub.status.idle": "2024-09-18T19:09:06.142456Z",
          "shell.execute_reply.started": "2024-09-18T19:09:05.60489Z",
          "shell.execute_reply": "2024-09-18T19:09:06.1409Z"
        },
        "trusted": true,
        "id": "0vCAuGK7KNfU"
      },
      "execution_count": null,
      "outputs": []
    },
    {
      "cell_type": "code",
      "source": [
        "test_id"
      ],
      "metadata": {
        "execution": {
          "iopub.status.busy": "2024-09-18T19:09:09.686459Z",
          "iopub.execute_input": "2024-09-18T19:09:09.686933Z",
          "iopub.status.idle": "2024-09-18T19:09:09.701774Z",
          "shell.execute_reply.started": "2024-09-18T19:09:09.686891Z",
          "shell.execute_reply": "2024-09-18T19:09:09.700375Z"
        },
        "trusted": true,
        "id": "qRCiqewMKNfU",
        "outputId": "38098b0e-cffe-49fa-acb7-a96b9ee1d043"
      },
      "execution_count": null,
      "outputs": [
        {
          "execution_count": 64,
          "output_type": "execute_result",
          "data": {
            "text/plain": "            id         price\n0       188533  17463.823341\n1       188534  77728.837914\n2       188535  54119.280931\n3       188536  26081.315140\n4       188537  29285.772148\n...        ...           ...\n125685  314218  25518.299224\n125686  314219  49264.698477\n125687  314220  21626.606331\n125688  314221  16260.800361\n125689  314222  38349.347130\n\n[125690 rows x 2 columns]",
            "text/html": "<div>\n<style scoped>\n    .dataframe tbody tr th:only-of-type {\n        vertical-align: middle;\n    }\n\n    .dataframe tbody tr th {\n        vertical-align: top;\n    }\n\n    .dataframe thead th {\n        text-align: right;\n    }\n</style>\n<table border=\"1\" class=\"dataframe\">\n  <thead>\n    <tr style=\"text-align: right;\">\n      <th></th>\n      <th>id</th>\n      <th>price</th>\n    </tr>\n  </thead>\n  <tbody>\n    <tr>\n      <th>0</th>\n      <td>188533</td>\n      <td>17463.823341</td>\n    </tr>\n    <tr>\n      <th>1</th>\n      <td>188534</td>\n      <td>77728.837914</td>\n    </tr>\n    <tr>\n      <th>2</th>\n      <td>188535</td>\n      <td>54119.280931</td>\n    </tr>\n    <tr>\n      <th>3</th>\n      <td>188536</td>\n      <td>26081.315140</td>\n    </tr>\n    <tr>\n      <th>4</th>\n      <td>188537</td>\n      <td>29285.772148</td>\n    </tr>\n    <tr>\n      <th>...</th>\n      <td>...</td>\n      <td>...</td>\n    </tr>\n    <tr>\n      <th>125685</th>\n      <td>314218</td>\n      <td>25518.299224</td>\n    </tr>\n    <tr>\n      <th>125686</th>\n      <td>314219</td>\n      <td>49264.698477</td>\n    </tr>\n    <tr>\n      <th>125687</th>\n      <td>314220</td>\n      <td>21626.606331</td>\n    </tr>\n    <tr>\n      <th>125688</th>\n      <td>314221</td>\n      <td>16260.800361</td>\n    </tr>\n    <tr>\n      <th>125689</th>\n      <td>314222</td>\n      <td>38349.347130</td>\n    </tr>\n  </tbody>\n</table>\n<p>125690 rows × 2 columns</p>\n</div>"
          },
          "metadata": {}
        }
      ]
    },
    {
      "cell_type": "code",
      "source": [
        "y_hat = clf_catboost.predict(X_encoded)[:10]\n",
        "inv_boxcox(y_hat, price_lambda)"
      ],
      "metadata": {
        "execution": {
          "iopub.status.busy": "2024-09-21T19:37:16.287314Z",
          "iopub.status.idle": "2024-09-21T19:37:16.287955Z",
          "shell.execute_reply.started": "2024-09-21T19:37:16.287618Z",
          "shell.execute_reply": "2024-09-21T19:37:16.28765Z"
        },
        "trusted": true,
        "id": "51IHiC5dKNfU"
      },
      "execution_count": null,
      "outputs": []
    },
    {
      "cell_type": "code",
      "source": [
        "train_df['price'].head(10)"
      ],
      "metadata": {
        "execution": {
          "iopub.status.busy": "2024-09-15T20:43:46.874161Z",
          "iopub.execute_input": "2024-09-15T20:43:46.874664Z",
          "iopub.status.idle": "2024-09-15T20:43:46.888078Z",
          "shell.execute_reply.started": "2024-09-15T20:43:46.874619Z",
          "shell.execute_reply": "2024-09-15T20:43:46.886801Z"
        },
        "trusted": true,
        "id": "hAOSFj1xKNfU"
      },
      "execution_count": null,
      "outputs": []
    },
    {
      "cell_type": "code",
      "source": [
        "from xgboost import XGBRegressor\n",
        "from sklearn.model_selection import KFold, cross_val_score\n",
        "import numpy as np\n",
        "\n",
        "# Define the XGBoost regressor\n",
        "xgboost_regressor = XGBRegressor(n_estimators=1000,\n",
        "                           learning_rate=0.01,\n",
        "                           max_depth=6,\n",
        "                           reg_alpha=3,\n",
        "                           n_jobs=-1,  # Use all available cores\n",
        "                           verbose=0)  # Suppress output during cross-validation\n",
        "\n",
        "# Define k-fold cross-validation\n",
        "n_splits = 5  # number of folds\n",
        "kf = KFold(n_splits=n_splits, shuffle=True, random_state=42)\n",
        "\n",
        "# Perform cross-validation and evaluate RMSE\n",
        "rmse_scores = -cross_val_score(xgboost_regressor, X_encoded, y, scoring='neg_root_mean_squared_error', cv=kf)\n",
        "\n",
        "# Calculate mean and standard deviation of RMSE\n",
        "mean_rmse = np.mean(rmse_scores)\n",
        "std_rmse = np.std(rmse_scores)\n",
        "\n",
        "print(f\"Mean RMSE: {mean_rmse:.4f}\")\n",
        "print(f\"Standard Deviation of RMSE: {std_rmse:.4f}\")\n",
        "\n",
        "# Fit the model on the entire dataset\n",
        "clf_xgboost.fit(X_encoded, y)\n"
      ],
      "metadata": {
        "execution": {
          "iopub.status.busy": "2024-09-21T19:37:16.284706Z",
          "iopub.status.idle": "2024-09-21T19:37:16.285352Z",
          "shell.execute_reply.started": "2024-09-21T19:37:16.285039Z",
          "shell.execute_reply": "2024-09-21T19:37:16.28507Z"
        },
        "trusted": true,
        "id": "60E1aXwuKNfU"
      },
      "execution_count": null,
      "outputs": []
    },
    {
      "cell_type": "code",
      "source": [
        "y_xgb = clf_xgboost.predict(X_encoded)\n",
        "inv_boxcox(y_xgb[:10], price_lambda)"
      ],
      "metadata": {
        "execution": {
          "iopub.status.busy": "2024-09-16T13:20:23.542247Z",
          "iopub.execute_input": "2024-09-16T13:20:23.542713Z",
          "iopub.status.idle": "2024-09-16T13:20:28.669752Z",
          "shell.execute_reply.started": "2024-09-16T13:20:23.542672Z",
          "shell.execute_reply": "2024-09-16T13:20:28.668759Z"
        },
        "trusted": true,
        "id": "WIbvLKfFKNfV"
      },
      "execution_count": null,
      "outputs": []
    },
    {
      "cell_type": "code",
      "source": [
        "train_df['price'].head(10)"
      ],
      "metadata": {
        "execution": {
          "iopub.status.busy": "2024-09-15T19:47:17.291402Z",
          "iopub.execute_input": "2024-09-15T19:47:17.291823Z",
          "iopub.status.idle": "2024-09-15T19:47:17.301453Z",
          "shell.execute_reply.started": "2024-09-15T19:47:17.291786Z",
          "shell.execute_reply": "2024-09-15T19:47:17.300309Z"
        },
        "trusted": true,
        "id": "NBdJKX4tKNfV"
      },
      "execution_count": null,
      "outputs": []
    },
    {
      "cell_type": "code",
      "source": [
        "test_id = pd.read_csv('/kaggle/input/playground-series-s4e9/sample_submission.csv')\n",
        "predictions_xgb = clf_xgboost.predict(test_X_encoded)\n",
        "test_id['price'] = inv_boxcox(predictions_xgb, price_lambda)\n",
        "test_id.to_csv('submission_FE_xgb.csv', index=False)"
      ],
      "metadata": {
        "execution": {
          "iopub.status.busy": "2024-09-16T13:27:40.035327Z",
          "iopub.execute_input": "2024-09-16T13:27:40.035828Z",
          "iopub.status.idle": "2024-09-16T13:27:53.921975Z",
          "shell.execute_reply.started": "2024-09-16T13:27:40.035783Z",
          "shell.execute_reply": "2024-09-16T13:27:53.920699Z"
        },
        "trusted": true,
        "id": "XUMz6hHAKNfV"
      },
      "execution_count": null,
      "outputs": []
    },
    {
      "cell_type": "code",
      "source": [
        "test_id.head()"
      ],
      "metadata": {
        "execution": {
          "iopub.status.busy": "2024-09-16T13:28:16.412325Z",
          "iopub.execute_input": "2024-09-16T13:28:16.412902Z",
          "iopub.status.idle": "2024-09-16T13:28:16.425746Z",
          "shell.execute_reply.started": "2024-09-16T13:28:16.412856Z",
          "shell.execute_reply": "2024-09-16T13:28:16.424373Z"
        },
        "trusted": true,
        "id": "XLBM8FZ2KNfV"
      },
      "execution_count": null,
      "outputs": []
    }
  ]
}